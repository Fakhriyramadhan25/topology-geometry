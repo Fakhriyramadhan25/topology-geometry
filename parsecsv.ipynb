{
 "cells": [
  {
   "cell_type": "code",
   "execution_count": 98,
   "id": "31f48db7",
   "metadata": {},
   "outputs": [
    {
     "name": "stdout",
     "output_type": "stream",
     "text": [
      "Requirement already satisfied: plotly in c:\\users\\user\\appdata\\roaming\\python\\python39\\site-packages (5.20.0)\n",
      "Requirement already satisfied: packaging in c:\\users\\user\\appdata\\roaming\\python\\python39\\site-packages (from plotly) (21.3)\n",
      "Requirement already satisfied: tenacity>=6.2.0 in c:\\users\\user\\appdata\\roaming\\python\\python39\\site-packages (from plotly) (8.2.3)\n",
      "Requirement already satisfied: pyparsing!=3.0.5,>=2.0.2 in c:\\users\\user\\appdata\\roaming\\python\\python39\\site-packages (from packaging->plotly) (3.0.9)\n",
      "\n",
      "[notice] A new release of pip available: 22.2 -> 24.0\n",
      "[notice] To update, run: C:\\Python39\\python.exe -m pip install --upgrade pip\n"
     ]
    },
    {
     "name": "stderr",
     "output_type": "stream",
     "text": [
      "WARNING: Ignoring invalid distribution -ip (c:\\python39\\lib\\site-packages)\n",
      "WARNING: Ignoring invalid distribution -ip (c:\\python39\\lib\\site-packages)\n"
     ]
    },
    {
     "name": "stdout",
     "output_type": "stream",
     "text": [
      "Requirement already satisfied: plotly in c:\\users\\user\\appdata\\roaming\\python\\python39\\site-packages (5.20.0)\n",
      "Requirement already satisfied: packaging in c:\\users\\user\\appdata\\roaming\\python\\python39\\site-packages (from plotly) (21.3)\n",
      "Requirement already satisfied: tenacity>=6.2.0 in c:\\users\\user\\appdata\\roaming\\python\\python39\\site-packages (from plotly) (8.2.3)\n",
      "Requirement already satisfied: pyparsing!=3.0.5,>=2.0.2 in c:\\users\\user\\appdata\\roaming\\python\\python39\\site-packages (from packaging->plotly) (3.0.9)\n",
      "\n",
      "[notice] A new release of pip available: 22.2 -> 24.0\n",
      "[notice] To update, run: C:\\Python39\\python.exe -m pip install --upgrade pip\n"
     ]
    },
    {
     "name": "stderr",
     "output_type": "stream",
     "text": [
      "WARNING: Ignoring invalid distribution -ip (c:\\python39\\lib\\site-packages)\n",
      "WARNING: Ignoring invalid distribution -ip (c:\\python39\\lib\\site-packages)\n"
     ]
    },
    {
     "name": "stdout",
     "output_type": "stream",
     "text": [
      "Defaulting to user installation because normal site-packages is not writeable\n",
      "Collecting plotly\n",
      "  Downloading plotly-5.20.0-py3-none-any.whl (15.7 MB)\n",
      "     ---------------------------------------- 15.7/15.7 MB 8.1 MB/s eta 0:00:00\n",
      "Requirement already satisfied: packaging in c:\\users\\user\\appdata\\roaming\\python\\python39\\site-packages (from plotly) (21.3)\n",
      "Collecting tenacity>=6.2.0\n",
      "  Using cached tenacity-8.2.3-py3-none-any.whl (24 kB)\n",
      "Requirement already satisfied: pyparsing!=3.0.5,>=2.0.2 in c:\\users\\user\\appdata\\roaming\\python\\python39\\site-packages (from packaging->plotly) (3.0.9)\n",
      "Installing collected packages: tenacity, plotly\n",
      "Successfully installed plotly-5.20.0 tenacity-8.2.3\n",
      "\n",
      "[notice] A new release of pip available: 22.2 -> 24.0\n",
      "[notice] To update, run: python.exe -m pip install --upgrade pip\n"
     ]
    }
   ],
   "source": [
    "# Install a pip package in the current Jupyter kernel\n",
    "import sys\n",
    "!{sys.executable} -m pip install plotly"
   ]
  },
  {
   "cell_type": "code",
   "execution_count": 1,
   "id": "c63f4e15",
   "metadata": {},
   "outputs": [
    {
     "data": {
      "text/plain": [
       "<sqlite3.Cursor at 0x225c9d5f960>"
      ]
     },
     "execution_count": 1,
     "metadata": {},
     "output_type": "execute_result"
    }
   ],
   "source": [
    "import sqlite3\n",
    "import os\n",
    "import pandas as pd\n",
    "from shapely.geometry import LineString\n",
    "from shapely.geometry.polygon import Polygon\n",
    "from shapely.geometry import Point\n",
    "import geopandas as gpd\n",
    "from shapely import wkt\n",
    "import folium\n",
    "\n",
    "from shapely.geometry import MultiPolygon, Polygon\n",
    "from shapely.wkt import loads\n",
    "import re\n",
    "\n",
    "import numpy as np\n",
    "import matplotlib.pyplot as plt\n",
    "\n",
    "\n",
    "spatialite_path = \"C:/Users/user/Documents/mod_spatialite-5.1.0-win-amd64\"\n",
    "os.environ[\"PATH\"] = spatialite_path + \";\" + os.environ[\"PATH\"]\n",
    "\n",
    "# create a new sqlite data base\n",
    "conn = sqlite3.connect(\"BPN_1.sqlite\")\n",
    "conn.enable_load_extension(True)\n",
    "conn.load_extension(\"mod_spatialite\")\n",
    "\n",
    "# mod_spatialite (recommended)\n",
    "conn.execute('SELECT load_extension(\"mod_spatialite\")')\n",
    "\n",
    "# Create a cursor object to execute SQL queries\n",
    "cursor = conn.cursor()\n",
    "\n",
    "# initiate a spatial metadata for the sqlite database \n",
    "cursor.execute(\"SELECT InitSpatialMetadata(1);\")\n",
    "\n"
   ]
  },
  {
   "cell_type": "code",
   "execution_count": 2,
   "id": "7878a4e1",
   "metadata": {},
   "outputs": [
    {
     "name": "stdout",
     "output_type": "stream",
     "text": [
      "('5.1.0',)\n",
      "('3.45.1',)\n"
     ]
    }
   ],
   "source": [
    "# Checking spatialite version \n",
    "res = cursor.execute(\"SELECT spatialite_version()\")\n",
    "print(res.fetchone())\n",
    "\n",
    "# Checking Sqlite Version\n",
    "res1 = cursor.execute(\"SELECT sqlite_version()\")\n",
    "print(res1.fetchone())"
   ]
  },
  {
   "cell_type": "code",
   "execution_count": 82,
   "id": "a1b6d112",
   "metadata": {},
   "outputs": [],
   "source": [
    "# import pandas module  \n",
    "import pandas as pd \n",
    "import ast\n",
    "\n",
    "\n",
    "def csv2coord(file):\n",
    "    result = []\n",
    "    # making dataframe  \n",
    "    df = pd.read_csv(file)  \n",
    "    vertices = df.vertices_str \n",
    "    \n",
    "    for x in vertices:\n",
    "        temp = ast.literal_eval(x)\n",
    "        templist = []\n",
    "        for y in temp:\n",
    "            templist.append([y[0], y[1]])\n",
    "        result.append(templist)\n",
    "    \n",
    "    return result\n",
    "\n",
    "# Example = csv2coord(\"dataRekap.csv\")\n",
    "# Example = csv2coord(\"testtopo.csv\")\n",
    "\n",
    "# print(Example)"
   ]
  },
  {
   "cell_type": "code",
   "execution_count": 83,
   "id": "b3fca34c",
   "metadata": {},
   "outputs": [],
   "source": [
    "import matplotlib.pyplot as plt\n",
    "import re\n",
    "\n",
    "def customQuery(Query):\n",
    "    database = sqlite3.connect('BPN_1.sqlite')\n",
    "    dataframe = pd.read_sql_query(Query, database)\n",
    "#     print(dataframe)\n",
    "    return dataframe\n",
    "    \n",
    "# second = customQuery(\"select ST_Intersects(r1.geom, r2.geom) as check1 from spatial_data r1 cross join spatial_data r2 where r1.id = 4 and r2.id = 2;\")\n",
    "\n",
    "def customFetch(Fetch):\n",
    "    Fetch = Fetch\n",
    "    cursor.execute(Fetch)\n",
    "    res = cursor.fetchone()\n",
    "    return res[0]\n",
    "\n",
    "def customFetchAll(Fetch):\n",
    "#     cursor.execute(\"select ST_Touches(r1.geom, r2.geom) as check1 from spatial_data r1 cross join spatial_data r2 where r1.id = 4 and r2.id = 2;\")\n",
    "    cursor.execute(Fetch)\n",
    "    res = cursor.fetchall()\n",
    "#     print(res)\n",
    "    return res\n",
    "\n",
    "\n",
    "def plotpolygon(data, figsize=(10, 10), point_size=100):\n",
    "    plt.figure(figsize=figsize)\n",
    "    \n",
    "    # Initialize plot limits\n",
    "    x_min, x_max, y_min, y_max = float('inf'), float('-inf'), float('inf'), float('-inf')\n",
    "\n",
    "    for item in data:\n",
    "        # Extract the polygon points from the item\n",
    "        polygon_string = item[2]\n",
    "        # Use regular expressions to find all numbers in the string\n",
    "        numbers = re.findall(r'[-+]?\\d*\\.\\d+|\\d+', polygon_string)\n",
    "        # Convert the string numbers to floats and pair them as points\n",
    "        points = [(float(numbers[i]), float(numbers[i + 1])) for i in range(0, len(numbers), 2)]\n",
    "        \n",
    "        # Separate the x and y coordinates for plotting\n",
    "        x = [point[0] for point in points]\n",
    "        y = [point[1] for point in points]\n",
    "        \n",
    "        # Update plot limits\n",
    "        x_min, x_max = min(x_min, min(x)), max(x_max, max(x))\n",
    "        y_min, y_max = min(y_min, min(y)), max(y_max, max(y))\n",
    "\n",
    "        # Plot the polygon\n",
    "        plt.fill(x, y, alpha=0)  # Fill the polygon with half transparency\n",
    "        plt.plot(x, y, 'r-')  # Outline the polygon in red\n",
    "        \n",
    "        # Plot the points with increased size\n",
    "        plt.scatter(x, y, color='yellow', edgecolor='black', s=point_size, zorder=5)\n",
    "        \n",
    "        # Annotate points with their coordinates\n",
    "#         for i, txt in enumerate(points):\n",
    "#             plt.annotate(f'({txt[0]}, {txt[1]})', (txt[0], txt[1]), textcoords=\"offset points\", xytext=(0,10), ha='center')\n",
    "\n",
    "    plt.xlim(x_min - 1, x_max + 1)\n",
    "    plt.ylim(y_min - 1, y_max + 1)\n",
    "    plt.xlabel('X')\n",
    "    plt.ylabel('Y')\n",
    "    plt.title('Multiple Polygons Plot with Points')\n",
    "    plt.grid(True)\n",
    "    plt.show()\n",
    "\n",
    "# Example usage with multiple polygon data\n",
    "data = [\n",
    "    (1, 4.0, 'POLYGON((10 10, 12 10, 12 12, 10 12, 10 10))'),\n",
    "    (2, 4.0, 'POLYGON((13 10, 15 10, 15 12, 13 12, 13 10))')  # Example of another polygon\n",
    "]\n",
    "\n",
    "# plotpolygon(data, figsize=(10, 10), point_size=200)\n"
   ]
  },
  {
   "cell_type": "code",
   "execution_count": 84,
   "id": "e599a035",
   "metadata": {},
   "outputs": [],
   "source": [
    "import plotly.graph_objects as go\n",
    "import re\n",
    "\n",
    "# Your data\n",
    "data2 = [\n",
    "    [[170046.656369714, 538690.0459865994], [170066.58773438, 538688.1754761626], [170070.8320303895, 538723.1804464505], [170050.4496688225, 538724.8305879902], [170046.656369714, 538690.0459865994]],\n",
    "    [[171100.9989847714, 538247.1770387553], [171100.7881967803, 538254.0738183243]],\n",
    "    [[171199.819632471, 538405.9068421484], [171224.6684580127, 538406.148439336]],\n",
    "    [[171224.6684580127, 538406.148439336], [171224.2794046072, 538420.8933075093], [171199.5805551606, 538420.6549044631], [171199.819632471, 538405.9068421484]],\n",
    "    [[171199.819632471, 538405.9068421484], [171200.0628073911, 538391.2588605142], [171225.061608282, 538391.5037156149], [171224.6684580127, 538406.148439336]],\n",
    "    [[170183.1671263177, 538714.0709656392], [170204.063814195, 538712.3992879571], [170201.7357373573, 538683.79386787], [170198.3503241029, 538649.9125828154], [170186.160369056, 538651.2286435228], [170182.4075368875, 538652.1321094693], [170176.1497665878, 538656.6250519279], [170180.7916553698, 538691.3877633462], [170181.8964477109, 538700.7010195751], [170183.1671263177, 538714.0709656392], [170204.063814195, 538712.3992879571]],\n",
    "    [[170293.5604201219, 538643.7706410174], [170309.1592909582, 538643.5829480983], [170309.201128984, 538655.6793454782], [170293.7094431325, 538655.1717339354], [170293.5604201219, 538643.7706410174]]\n",
    "]\n",
    "\n",
    "def plotBefore(data, point_size=5):\n",
    "    fig = go.Figure()\n",
    "\n",
    "    for polygon in data:\n",
    "        x, y = zip(*polygon)\n",
    "        fig.add_trace(go.Scatter(x=x, y=y, fill='toself', mode='lines+markers', line_color='red', marker=dict(size=point_size, color='yellow', line=dict(color='black', width=2))))\n",
    "\n",
    "    # Update layout for black axis lines\n",
    "    fig.update_layout(\n",
    "        title='Parcels BEFORE cleaning',\n",
    "        plot_bgcolor='rgba(0,0,0,0)',  # Transparent background\n",
    "        xaxis_title='X',\n",
    "        yaxis_title='Y',\n",
    "        showlegend=False,\n",
    "        xaxis=dict(showline=True, linewidth=2, linecolor='black', mirror=True),\n",
    "        yaxis=dict(showline=True, linewidth=2, linecolor='black', mirror=True)\n",
    "    )\n",
    "\n",
    "    fig.show()\n",
    "\n",
    "\n",
    "def plotAfter(data, point_size=5):\n",
    "    fig = go.Figure()\n",
    "\n",
    "    for item in data:\n",
    "        # Extract the polygon points from the item\n",
    "        polygon_string = item[2]\n",
    "        # Use regular expressions to find all numbers in the string\n",
    "        numbers = re.findall(r'[-+]?\\d*\\.\\d+|\\d+', polygon_string)\n",
    "        # Convert the string numbers to floats and pair them as points\n",
    "        points = [(float(numbers[i]), float(numbers[i + 1])) for i in range(0, len(numbers), 2)]\n",
    "        x, y = zip(*points)\n",
    "\n",
    "        # Plot the polygon\n",
    "        fig.add_trace(go.Scatter(x=x, y=y, fill=\"toself\", mode='lines+markers', line_color='red', marker=dict(size=point_size, color='yellow', line=dict(color='black', width=2))))\n",
    "\n",
    "    fig.update_layout(\n",
    "        title='Parcels AFTER cleaning',\n",
    "        xaxis_title='X',\n",
    "        yaxis_title='Y',\n",
    "        showlegend=False,\n",
    "        plot_bgcolor='rgba(0,0,0,0)',\n",
    "        xaxis=dict(showline=True, linewidth=2, linecolor='black', mirror=True),\n",
    "        yaxis=dict(showline=True, linewidth=2, linecolor='black', mirror=True)\n",
    "    )\n",
    "\n",
    "    fig.show()\n",
    "\n",
    "# Example usage with multiple polygon data\n",
    "data = [\n",
    "    (1, 4.0, 'POLYGON((10 10, 12 10, 12 12, 10 12, 10 10))'),\n",
    "    (2, 4.0, 'POLYGON((13 10, 15 10, 15 12, 13 12, 13 10))')\n",
    "]\n",
    "\n"
   ]
  },
  {
   "cell_type": "code",
   "execution_count": 156,
   "id": "1ad417ea",
   "metadata": {},
   "outputs": [],
   "source": [
    "# this is the class for geometry\n",
    "class Geometry:\n",
    "###     Phase initialization \n",
    "#     constructor for geometry\n",
    "    def __init__(self, tableName, Coords, SRID):\n",
    "        self.Coords = Coords\n",
    "        self.SRID = SRID\n",
    "        self.tableName = tableName\n",
    "    \n",
    "    def initTable(self):\n",
    "        cursor.execute(f\"CREATE TABLE IF NOT EXISTS {self.tableName} (id INTEGER PRIMARY KEY, geotypes VARCHAR, geom BLOB, geom2 BLOB);\")\n",
    "        conn.commit()\n",
    "        print(f'Table successfully created with name {self.tableName} and SRID {self.SRID}')\n",
    "\n",
    "###     Phase creating point, line, and polygon\n",
    "    def convertPoint(self):\n",
    "        Point = ['Point({} {})'.format(x, y) for sublist in self.Coords for x, y in sublist]\n",
    "        for x in Point:\n",
    "            print(f\"INSERT INTO {self.tableName} (geotypes, geom) VALUES ('Point', ST_GeomFromText('{x}',{self.SRID}));\")\n",
    "#             cursor.execute(f\"INSERT INTO {self.tableName} (geotypes, geom) VALUES ('Point', ST_GeomFromText('{x}',{self.SRID}));\")\n",
    "        conn.commit()\n",
    "        print(f\"Point successfully inserted into {self.tableName}\")\n",
    "        return self\n",
    "\n",
    "    def convertLinestring(self):\n",
    "        Line = [LineString(points) for points in self.Coords]\n",
    "        for x in Line:\n",
    "            print(f\"INSERT INTO {self.tableName} (geotypes, geom) VALUES ('Linestring', ST_GeomFromText('{x}',{self.SRID}));\")\n",
    "            cursor.execute(f\"INSERT INTO {self.tableName} (geotypes, geom) VALUES ('Linestring', ST_GeomFromText('{x}',{self.SRID}));\")\n",
    "        conn.commit()\n",
    "        print(f\"LineString successfully inserted into {self.tableName}\")\n",
    "        return self\n",
    "\n",
    "    def convertPolygon(self):\n",
    "        failpolygons = [points for points in self.Coords if len(points) <= 2]\n",
    "        Poly = [Polygon(points) for points in self.Coords if len(points) > 2]\n",
    "        Line = [LineString(points) for points in self.Coords if len(points) > 2]\n",
    "#         print(Poly)\n",
    "        for x in range(0, len(Poly)):\n",
    "#             print(f\"INSERT INTO {self.tableName} (geotypes, geom, geom2) VALUES ('Polygon', ST_GeomFromText('{Poly[x]}',{self.SRID}), ST_GeomFromText('{Line[x]}',{self.SRID}));\")\n",
    "            cursor.execute(f\"INSERT INTO {self.tableName} (geotypes, geom, geom2) VALUES ('Polygon', ST_GeomFromText('{Poly[x]}',{self.SRID}), ST_GeomFromText('{Line[x]}',{self.SRID}));\")\n",
    "#         for x in Poly:\n",
    "#             print(f\"INSERT INTO {self.tableName} (geotypes, geom, geom2) VALUES ('Polygon', ST_GeomFromText('{x}',{self.SRID}), ST_GeomFromText('{x}',{self.SRID}));\")\n",
    "#             cursor.execute(f\"INSERT INTO {self.tableName} (geotypes, geom, geom2) VALUES ('Polygon', ST_GeomFromText('{x}',{self.SRID}));\")\n",
    "        conn.commit()\n",
    "        print(f\"Polygon successfully inserted into {self.tableName}\")\n",
    "        return self\n",
    "    \n",
    "###     Custom Query and Fetch        \n",
    "    def customQuery(self, Query): \n",
    "        self.Query = Query\n",
    "        database = sqlite3.connect('BPN_1.sqlite')\n",
    "        dataframe = pd.read_sql_query(self.Query, database)\n",
    "        return dataframe\n",
    "    \n",
    "    def customFetchOne(self, Fetch):\n",
    "        self.Fetch = Fetch\n",
    "        cursor.execute(self.Fetch)\n",
    "        res = cursor.fetchone()\n",
    "        return res[0]\n",
    "    \n",
    "    def customFetchAll(self, Fetch):\n",
    "        self.Fetch = Fetch\n",
    "        cursor.execute(self.Fetch)\n",
    "        self.res = cursor.fetchall()\n",
    "        return self.res\n",
    "\n",
    "\n",
    "###     Phase geometry analysis \n",
    "    #     method to check duplicate and return the location and value of the duplicate data \n",
    "    def conv2coor(self, data):\n",
    "        Coords = [\n",
    "            [[int(coord) for coord in point.split()] \n",
    "             for point in re.findall(r'(\\d+ \\d+)', polygon[0])] \n",
    "            for polygon in data\n",
    "        ]\n",
    "        return Coords\n",
    "\n",
    "    \n",
    "    def checkDuplicate(self, Coords):\n",
    "        duplicate = []\n",
    "    #       to store the unique value \n",
    "        seen_elements = set()\n",
    "    #     accessing the index through enumerate\n",
    "        for i, sublist in enumerate(Coords):\n",
    "            for j, element in enumerate(sublist):\n",
    "                if tuple(element) in seen_elements and tuple(element) != tuple(sublist[len(sublist)-1]):\n",
    "#                     print(f'Duplicate found at location ({i}, {j}): {element}')\n",
    "                    duplicate.append(tuple(element))\n",
    "                else:\n",
    "                    seen_elements.add(tuple(element))\n",
    "        Lduplicate= len(duplicate)\n",
    "        return [duplicate, Lduplicate]\n",
    "\n",
    "    # resDuplicate = checkDuplicate(Coords)\n",
    "\n",
    "    def resDuplicate(self):\n",
    "        singleData = self.customFetchAll(f\"select id from {self.tableName}\")\n",
    "        totalDupl = 0\n",
    "        resDuplicate = []\n",
    "        for x in singleData: \n",
    "            singleResult = self.customFetchAll(f\"select ST_AsText(geom) from {self.tableName} where id={x[0]}\")\n",
    "            singleCoords = self.conv2coor(singleResult)\n",
    "            tempDuplicate = self.checkDuplicate(singleCoords)\n",
    "            if tempDuplicate[1] == 1:\n",
    "                totalDupl = totalDupl+1\n",
    "                resDuplicate.append(tempDuplicate[0])\n",
    "#         print(totalDupl)\n",
    "#         print(resDuplicate)\n",
    "        \n",
    "        return [resDuplicate, totalDupl]\n",
    "    \n",
    "\n",
    "    def checkCrosses(self, types): \n",
    "        self.resCrosses = []\n",
    "        self.result_geom = []\n",
    "        self.dataCross = []\n",
    "        df = self.customQuery(f\"select id from {self.tableName} where geotypes='{types}'\")\n",
    "        col_list = df[\"id\"].values.tolist()\n",
    "        for i in range(len(col_list)):\n",
    "            for j in range(i + 1, len(col_list)):\n",
    "                test = self.customFetchOne(f\"select ST_Overlaps(r1.geom, r2.geom) as check1 from {self.tableName} r1 cross join {self.tableName} r2 where r1.id = {col_list[i]} and r2.id = {col_list[j]};\")\n",
    "                if test == 1:\n",
    "#                     print(\"intersect in polygon id\")\n",
    "#                     print(col_list[i], col_list[j])\n",
    "                    data_intersect = tuple((col_list[i], col_list[j]))\n",
    "                    self.dataCross.append(data_intersect)\n",
    "                    self.resCrosses.append(col_list[i])\n",
    "\n",
    "        for i in self.resCrosses:      \n",
    "            dataFetch = self.customFetchOne(f\"select asText(geom) from {self.tableName} where id={i}\")\n",
    "            self.result_geom.append(dataFetch)\n",
    "#         print(\"objects that are crossed:\")\n",
    "#         print(self.result_geom)\n",
    "#         print(self.dataCross)\n",
    "        self.LcheckCrosses= len(self.dataCross)\n",
    "\n",
    "        return [self.result_geom, self.dataCross, self.LcheckCrosses]\n",
    "    \n",
    "\n",
    "    def checkIsclosed(self):\n",
    "        dataList = self.customFetchAll(f\"SELECT id, ST_IsClosed(geom) as close, asText(geom) from {self.tableName} where geotypes='Linestring'\")\n",
    "        self.resClose = []\n",
    "        self.resCpoint = []\n",
    "         # Iterate over each tuple in the list\n",
    "        for item in dataList:\n",
    "            # Check if the second value (index 1) is less than 1\n",
    "            if item[1] == 0:\n",
    "                # If it is, append the entire tuple to the result list\n",
    "                self.resClose.append(item)\n",
    "#         print(\"The line is not closed, possibility for short or over degenerate\")\n",
    "#         print(self.resClose)\n",
    "\n",
    "        # Iterate over each tuple in the list\n",
    "        for item in self.resClose:\n",
    "            # Extract the LINESTRING string\n",
    "            linestring = item[2]\n",
    "\n",
    "            # Remove the 'LINESTRING(' and ')' parts from the string\n",
    "            coordinates_part = linestring.replace('LINESTRING(', '').replace(')', '')\n",
    "\n",
    "            # Split the string by commas and spaces to get coordinates\n",
    "            coordinates = coordinates_part.split(', ')\n",
    "\n",
    "            # Take the last coordinate and split it to get x and y\n",
    "            x, y = map(float, coordinates[-1].split())\n",
    "\n",
    "            # Create a Point object\n",
    "            point = Point(x, y)\n",
    "\n",
    "            # Append the Point object to the list\n",
    "            self.resCpoint.append(point)\n",
    "            \n",
    "        self.LcheckIsclosed= len(self.resCpoint)\n",
    "#         print(\"The end points of each unclose linestring:\")\n",
    "#         print(self.resCpoint)\n",
    "        return self.resCpoint, self.LcheckIsclosed\n",
    "            \n",
    "            \n",
    "    def checkIsValid(self, geotypes):\n",
    "        dataList = self.customFetchAll(f\"SELECT id, ST_IsValid(geom), ST_IsValidReason(geom), ST_AsText(geom) FROM {self.tableName} where geotypes='{geotypes}';\")\n",
    "        resValid = []\n",
    "        points = []\n",
    "        self.return_data = []\n",
    "        for item in dataList:\n",
    "            if item[1] == 0:\n",
    "                resValid.append((item))\n",
    "                self.return_data.append(tuple((item[0], item[3])))\n",
    "#         print(\"Polygon that has error\")\n",
    "#         print(resValid)\n",
    "\n",
    "        # Iterate over each tuple in the list\n",
    "        for item in resValid:\n",
    "            # Extract the polygon string\n",
    "            polygon_string = item[3]\n",
    "            # Remove the 'POLYGON((' and '))' parts from the string\n",
    "            coordinates_part = polygon_string.replace('POLYGON((', '').replace('))', '')\n",
    "            # Split the string by commas and spaces to get coordinates\n",
    "            coordinates = coordinates_part.split(', ')\n",
    "            # Take the last coordinate and split it to get x and y\n",
    "            x, y = map(float, coordinates[-1].split())\n",
    "            # Create a Point object\n",
    "            point = Point(x, y)\n",
    "            # Append the Point object to the list\n",
    "            points.append(point)\n",
    "        \n",
    "        self.LcheckIscloseds= len(self.return_data)\n",
    "#         print(\"The end points of each unclose polygon:\")\n",
    "#         print(points)\n",
    "        return self.return_data, self.LcheckIscloseds\n",
    "    \n",
    "    \n",
    "    def checkShortlength(self):\n",
    "        dataList = self.customFetchAll(f\"SELECT id, ST_Length(ST_Transform(geom2, {self.SRID})) as length from {self.tableName}\")    \n",
    "        # Initialize an empty list to store the tuples\n",
    "        self.resLength = []\n",
    "        # Iterate over each tuple in the list\n",
    "        for item in dataList:\n",
    "            # Check if the second value (index 1) is less than 1\n",
    "            if item[1] < 10:\n",
    "                # If it is, append the entire tuple to the result list\n",
    "                self.resLength.append(item[0])\n",
    "                \n",
    "        self.LcheckShortlength = len(self.resLength)\n",
    "#         print(\"List of Linestring that is below 1 meter\")\n",
    "#         print(self.resLength)\n",
    "        return self.resLength, self.LcheckShortlength\n",
    "\n",
    "\n",
    "    def checkShortArea(self):\n",
    "        dataList = self.customFetchAll(f\"SELECT id, ST_Area(ST_Transform(ST_GeomFromText(ST_AsText(geom), {self.SRID}), {self.SRID})) as area, asText(geom) from {self.tableName} where geotypes='Polygon'\")    \n",
    "#         print(dataList)\n",
    "        # Initialize an empty list to store the tuples\n",
    "        self.resArea = []\n",
    "        # Iterate over each tuple in the list\n",
    "        for item in dataList:\n",
    "            # Check if the second value (index 1) is less than 1\n",
    "#             print(item)\n",
    "            if item[1] < 20:\n",
    "#                 # If it is, append the entire tuple to the result list\n",
    "                self.resArea.append(item[0])\n",
    "        self.LcheckShortArea = len(self.resArea)\n",
    "#         print(\"List of Polygon that is below 1 sqm\")\n",
    "#         print(self.resArea)\n",
    "        return [self.resArea, self.LcheckShortArea]\n",
    "    \n",
    "    def checkCluster(self):\n",
    "        cluster_data = self.customFetchAll(f\"SELECT a.id AS point_id, b.id AS cluster_id, ST_Distance(a.geom, b.geom) AS distance FROM {self.tableName} AS a, {self.tableName} AS b WHERE a.id != b.id AND ST_Distance(a.geom, b.geom) < 1 AND ST_Distance(a.geom, b.geom) > 0.1\")\n",
    "        # Create a set to store unique tuples\n",
    "        unique_tuples = set()\n",
    "\n",
    "        # Iterate over the input data\n",
    "        for tuple_value in cluster_data:\n",
    "            # Check if the tuple meets the condition\n",
    "            if (tuple_value[0], tuple_value[1], tuple_value[2]) not in unique_tuples and \\\n",
    "               (tuple_value[1], tuple_value[0], tuple_value[2]) not in unique_tuples:\n",
    "                # Add the tuple to the set\n",
    "                unique_tuples.add((tuple_value[0], tuple_value[1], tuple_value[2]))\n",
    "\n",
    "        # Convert the set back to a list\n",
    "        self.unique_data = list(unique_tuples)\n",
    "        \n",
    "#         print(\"Object in a cluster within 1m: \", self.unique_data)\n",
    "        LcheckCluster = len(self.unique_data)\n",
    "        return [self.unique_data, LcheckCluster]\n",
    "    \n",
    "    \n",
    "    # Function to calculate the angle between three points\n",
    "    def calculate_angle(self, p1, p2, p3):\n",
    "        # Create vectors\n",
    "        v1 = (p1[0] - p2[0], p1[1] - p2[1])\n",
    "        v2 = (p3[0] - p2[0], p3[1] - p2[1])\n",
    "        # Calculate dot product and magnitudes\n",
    "        dot_product = np.dot(v1, v2)\n",
    "        magnitude_v1 = np.linalg.norm(v1)\n",
    "        magnitude_v2 = np.linalg.norm(v2)\n",
    "\n",
    "        # Check if magnitudes are zero to avoid division by zero\n",
    "        if magnitude_v1 == 0 or magnitude_v2 == 0:\n",
    "            return np.nan  # Return NaN or some other value indicating undefined angle\n",
    "\n",
    "        # Calculate the angle\n",
    "        cos_angle = dot_product / (magnitude_v1 * magnitude_v2)\n",
    "        # Avoid numerical issues due to floating-point arithmetic\n",
    "        cos_angle = np.clip(cos_angle, -1.0, 1.0)\n",
    "        angle = np.arccos(cos_angle)\n",
    "        return np.degrees(angle)\n",
    "\n",
    "\n",
    "    def parse_wkt(self, wkt_polygon):\n",
    "\n",
    "        # Regular expression to extract coordinates from WKT polygon\n",
    "        coord_pattern = re.compile(r'(\\d+(\\.\\d+)?)\\s+(\\d+(\\.\\d+)?)')\n",
    "\n",
    "        # Find all matches of the coordinate pattern in the WKT polygon\n",
    "        matches = coord_pattern.findall(wkt_polygon)\n",
    "\n",
    "        # Convert each match to a tuple of numerical values (x, y)\n",
    "        points = [(float(x), float(y)) for x, _, y, _ in matches]\n",
    "\n",
    "        return points\n",
    "\n",
    "    def pseudo_node(self, geotypes):\n",
    "        selected_data = self.customFetchAll(f\"select id, AsText(geom) from {self.tableName} where geotypes='{geotypes}'\")\n",
    "        # Assuming you have a table \"polygons\" with a geometry column \"geom\"\n",
    "        polygon_pseudo = []\n",
    "        pseudo_nodes = []\n",
    "\n",
    "        # Fetch the WKT representation of the polygon\n",
    "        for wkt in selected_data: \n",
    "            # # Assuming you have a function to parse WKT and extract points\n",
    "            # # This needs to be implemented based on your specific WKT format\n",
    "            points = self.parse_wkt(wkt[1])  # Implement this function to extract points from WKT\n",
    "\n",
    "            pseudo_node_count = 0\n",
    "            # Adjust the angle threshold to detect angles significantly less than 180 degrees\n",
    "            angle_threshold = 10  # Degrees\n",
    "\n",
    "            # Initialize a list to store the indices of pseudo nodes\n",
    "            \n",
    "            \n",
    "\n",
    "            # Calculate angles and identify pseudo nodes\n",
    "            for i in range(len(points)):\n",
    "                p1 = points[i - 1]  # Previous point\n",
    "                p2 = points[i]      # Current point\n",
    "                p3 = points[(i + 1) % len(points)]  # Next point, wrapping around using modulo\n",
    "\n",
    "                angle = self.calculate_angle(p1, p2, p3)\n",
    "                # Look for angles significantly less than 180 degrees\n",
    "#                 print(angle)\n",
    "                if angle < angle_threshold or angle == 180:\n",
    "                    pseudo_nodes.append(i)\n",
    "                    polygon_pseudo.append(wkt)\n",
    "\n",
    "            # The count of pseudo nodes is the length of the pseudo_nodes list\n",
    "\n",
    "#             print(\"Indices of pseudo nodes:\", pseudo_nodes)\n",
    "#             print(\"Number of pseudo nodes:\", pseudo_node_count)\n",
    "        \n",
    "        self.Lpseudo_node = len(pseudo_nodes)\n",
    "        return [self.Lpseudo_node, polygon_pseudo]\n",
    "\n",
    "    \n",
    "## Phase: Cleaning\n",
    "    \n",
    "    def removeShortArea(self,data):\n",
    "        for x in data:\n",
    "            cursor.execute(f\"delete from {self.tableName} where id={x[0]}\")\n",
    "        conn.commit()\n",
    "        print(\"The polygon that below 10sqm has been deleted\")\n",
    "        \n",
    "    def removeShortLength(self,data):\n",
    "        for x in data:\n",
    "            cursor.execute(f\"delete from {self.tableName} where id={x[0]}\")\n",
    "        conn.commit()\n",
    "        print(\"The polygon that below 10sqm has been deleted\")\n",
    "    \n",
    "    def splitPolygons(self,data):\n",
    "        for r1_id, r2_id in data:\n",
    "            split_data = self.customFetchOne(f\"SELECT ST_AsText(ST_Intersection(r1.geom, r2.geom)) FROM {self.tableName} r1 CROSS JOIN {self.tableName} r2 WHERE r1.id = {r1_id} AND r2.id = {r2_id};\")\n",
    "            remain_data1 = self.customFetchOne(f\"select ST_AsText(ST_Difference(r2.geom, r1.geom)) from {self.tableName} r1 cross join {self.tableName} r2 where r1.id = {r1_id} and r2.id = {r2_id};\")\n",
    "            remain_data2 = self.customFetchOne(f\"select ST_AsText(ST_Difference(r1.geom, r2.geom)) from {self.tableName} r1 cross join {self.tableName} r2 where r1.id = {r1_id} and r2.id = {r2_id};\")\n",
    "    \n",
    "#             insert into the table\n",
    "            cursor.execute(f\"INSERT INTO {self.tableName} (geotypes, geom) VALUES ('Polygon', ST_GeomFromText('{split_data[0]}', {self.SRID}));\")\n",
    "            cursor.execute(f\"INSERT INTO {self.tableName} (geotypes, geom) VALUES ('Polygon', ST_GeomFromText('{remain_data1[0]}', {self.SRID}));\")\n",
    "            cursor.execute(f\"INSERT INTO {self.tableName} (geotypes, geom) VALUES ('Polygon', ST_GeomFromText('{remain_data2[0]}', {self.SRID}));\") \n",
    "        conn.commit()\n",
    "        print(\"Polygon successfully splitted\") \n",
    "        return self\n",
    "        \n",
    "    def sanitizeGeom(self, data):\n",
    "        for identity in data:\n",
    "            sanitize_data = self.customFetchOne(f\"select ST_AsText(SanitizeGeometry(geom)) from {self.tableName} where id={identity}\")\n",
    "    #         new_geom = self.customFetchOne(f\"INSERT INTO spatial_data (geotypes, geom) VALUES ('Polygon', ST_GeomFromText('{sanitize_data}',4326));\")\n",
    "            conn.commit()(f\"UPDATE {self.tableName} SET geom=ST_GeomFromText('{sanitize_data}', {self.SRID}) WHERE id={identity}\")\n",
    "        \n",
    "    def closingRing(self,data):\n",
    "        for identity in data:\n",
    "            closing_data = self.customFetchOne(f\"select ST_AsText(EnsureClosedRings(geom)) from {self.tableName} where id={identity}\")\n",
    "    #         self.customFetchOne(f\"INSERT INTO spatial_data (geotypes, geom) VALUES ('Polygon', ST_GeomFromText('{closing_data}',4326));\")\n",
    "            conn.commit()(f\"UPDATE {self.tableName} SET geom=ST_GeomFromText('{closing_data}', {self.SRID}) WHERE id={identity}\")\n",
    "    \n",
    "    def repeatPoints(self):\n",
    "        df_id = self.customQuery(f\"select id from {self.tableName}\")\n",
    "        l_id = df_id['id'].tolist()\n",
    "        for item in l_id:\n",
    "            repeated = self.customFetchOne(f\"select ST_AsText(RemoveRepeatedPoints(geom)) from {self.tableName} where id={item}\")\n",
    "#             print(f\"UPDATE {self.tableName} SET geom=ST_GeomFromText('{repeated}', {self.SRID}) WHERE id={item}\")\n",
    "            cursor.execute(f\"UPDATE {self.tableName} SET geom=ST_GeomFromText('{repeated}', {self.SRID}) WHERE id={item}\")\n",
    "            conn.commit()\n",
    "        print(\"all the duplicate point has been removed\") \n",
    "        \n",
    "    def parseMulti2Poly(self, Data):\n",
    "        # Define the multipolygon string\n",
    "        multipolygon_str = str(Data)\n",
    "        # Parse the multipolygon string into a Shapely geometry object\n",
    "        multipolygon = loads(multipolygon_str)\n",
    "        # Get the first polygon from the multipolygon\n",
    "        first_polygon = list(multipolygon.geoms)[0]  # Access the first geometry object within the MultiPolygon\n",
    "        return first_polygon\n",
    "\n",
    "    def selfIntersect(self):\n",
    "        short_degenarate = []\n",
    "        self_int = []\n",
    "        all_poly = self.customFetchAll(f\"select id, ST_AsText(EnsureClosedRings(geom)) as CloseGeom from {self.tableName} where geotypes='Polygon'\")\n",
    "        for x in all_poly:\n",
    "            C_short_inter = self.customFetchOne(f\"SELECT ST_AsText(ST_IsValidDetail(ST_GeomFromText('{x[1]}'))) as selfinter;\")\n",
    "            if C_short_inter is None:\n",
    "                short_degenarate.append(x)\n",
    "            else: \n",
    "                self_int.append(x)\n",
    "        ## this section repair the self intersect polygon \n",
    "        for y in self_int:\n",
    "            closing_data = self.customFetchOne(f\"select ST_AsText(EnsureClosedRings(ST_GeomFromText('{y[1]}'))) as closeRing\")\n",
    "            makevalid_Test = self.customFetchOne(f\"SELECT ST_AsText(ST_MakeValid(ST_GeomFromText('{closing_data}'))) AS split_result\")\n",
    "            one_poly = self.parseMulti2Poly(makevalid_Test)\n",
    "            cursor.execute(f\"UPDATE {self.tableName} SET geom=ST_GeomFromText('{one_poly}',{self.SRID}) WHERE id={y[0]}\")\n",
    "    \n",
    "        ## this section repair the short degenerate\n",
    "        for z in short_degenarate:\n",
    "            sanitize_data = self.customFetchOne(f\"select ST_AsText(SanitizeGeometry(ST_GeomFromText('{z[1]}'))) as sanitizeRing\")\n",
    "    #         update data\n",
    "            cursor.execute(f\"UPDATE {self.tableName} SET geom=ST_GeomFromText('{sanitize_data}', {self.SRID}) WHERE id={z[0]}\")\n",
    "\n",
    "        conn.commit()\n",
    "        print(\"all the short degenerate and self intersect has been solved\")\n",
    "    \n",
    "    def cleanPseudoNode(self, geotypes):\n",
    "        selecteddata = self.customFetchAll(f\"select id from {self.tableName} where geotypes= '{geotypes}'\")\n",
    "        for i in selecteddata:\n",
    "            fix_data = self.customFetchOne(f\"SELECT AsText(ST_SimplifyPreserveTopology(geom, 0.5)) FROM {self.tableName} where id={i[0]}\")\n",
    "            cursor.execute(f\"update {self.tableName} set geom = ST_GeomFromText('{fix_data}',{self.SRID}) where id={i[0]};\")\n",
    "        conn.commit()\n",
    "#             print(fix_data)\n",
    "        print(\"all data which contain pseudo node has been fixed\")\n",
    "\n",
    "\n",
    "###     Phase checking result and delete\n",
    "    def inspectTable(self, data):\n",
    "        self.data = data\n",
    "        print(self.data)\n",
    "        \n",
    "    def deleteTable(self):\n",
    "        cursor.execute(f\"DROP TABLE IF EXISTS {self.tableName}\")\n",
    "        conn.commit()\n",
    "        print(f'{self.tableName} table successfully delete')\n",
    "        return self\n",
    "    \n",
    "    def wkt2map(self, resultQuery):\n",
    "#         data = self.customFetchAll(f\"select id, geotypes, ST_AsText(geom) as geometry from {self.tableName} where geotypes='{geotypes}'\")\n",
    "        data = resultQuery\n",
    "        # Fix WKT strings to ensure polygons are properly closed\n",
    "        data = [(id, typ, wkt_string.rstrip(')') + ', {})'.format(wkt_string.split('((')[-1])) for id, typ, wkt_string in data]\n",
    "        # Parse WKT strings and create Shapely geometry objects\n",
    "        geometries = [wkt.loads(wkt_string) for _, _, wkt_string in data]\n",
    "        # Create GeoDataFrame\n",
    "        gdf = gpd.GeoDataFrame(data, columns=['ID', 'Type', 'WKT'], geometry=geometries, crs='EPSG:4326')\n",
    "        # Create a Folium map centered at a specific location\n",
    "        m = folium.Map(location=[15, 20], zoom_start=4)\n",
    "        # Add GeoDataFrame to the map\n",
    "        folium.GeoJson(gdf).add_to(m)\n",
    "        # Display the map\n",
    "        return m\n",
    "    \n",
    "    "
   ]
  },
  {
   "cell_type": "code",
   "execution_count": 258,
   "id": "75b65f9a",
   "metadata": {},
   "outputs": [
    {
     "name": "stdout",
     "output_type": "stream",
     "text": [
      "[(1,), (2,), (3,), (4,), (5,), (6,), (7,), (8,), (9,), (10,), (11,), (12,), (13,), (14,)]\n"
     ]
    }
   ],
   "source": [
    "def initiateBundle():\n",
    "    BPNGeom_Poly = Geometry(\"BPN_Test\",Example,\"32748\")\n",
    "    BPNGeom_Poly = BPNGeom_Poly.initTable()\n",
    "    \n",
    "def convertBundle():\n",
    "    BPNGeom_Poly = Geometry(\"BPN_Test\",Example,\"32748\")\n",
    "    BPNPoly = BPNGeom_Poly.convertPolygon()\n",
    "\n",
    "def deleteBundle():\n",
    "    BPNGeom_Poly = Geometry(\"BPN_Test\",Example,\"32748\")\n",
    "    BPNGeom_Poly.deleteTable()\n",
    "    \n",
    "def testBundle():\n",
    "    BPNGeom_Poly = Geometry(\"BPN_Test\",Example,\"32748\")\n",
    "    ldup = BPNGeom_Poly.resDuplicate()\n",
    "    lclose = BPNGeom_Poly.checkIsclosed()\n",
    "    larea = BPNGeom_Poly.checkShortArea()\n",
    "    lvalid = BPNGeom_Poly.checkIsValid(\"Polygon\")\n",
    "    lcross = BPNGeom_Poly.checkCrosses(\"Polygon\")\n",
    "    lpseudo = BPNGeom_Poly.pseudo_node('Polygon')\n",
    "    lcluster = BPNGeom_Poly.checkCluster()\n",
    "    llength = BPNGeom_Poly.checkShortlength()\n",
    "    \n",
    "#     print result\n",
    "    print(\"Short Degenerate: \", llength[1])\n",
    "    print(\"Short Entities: \", llength[1])\n",
    "    print(\"Short segments: \", larea[1])\n",
    "    print(\"Cross: \", lcross[2])\n",
    "    print(\"Undershoot segment: \", lvalid[1])\n",
    "    print(\"Undershoot vertex: \", lvalid[1])\n",
    "    print(\"Duplicates: \", ldup[1])\n",
    "    print(\"Cluster: \", lcluster[1])\n",
    "    print(\"Pseudo nodes: \", lpseudo[0])\n",
    "    print(\"Dangles: \", lclose[1])\n",
    "    print(\"Silver Poligon: \", larea[1])\n",
    "    \n",
    "    \n",
    "def cleanBundle():\n",
    "    BPNGeom_Poly = Geometry(\"BPN_Test\",Example,\"32748\")\n",
    "#     larea = BPNGeom_Poly.checkShortArea()\n",
    "#     llength = BPNGeom_Poly.checkShortlength()\n",
    "    resultCrosses = BPNGeom_Poly.checkCrosses(\"Polygon\")\n",
    "    ## these part are for analysis implementation(cleaning)\n",
    "    # to clean the LineString that has length below 1m\n",
    "#     BPNGeom_Poly.removeShortLength(llength[0])\n",
    "    \n",
    "    # to remove duplicate point \n",
    "    BPNGeom_Poly.repeatPoints()\n",
    "    \n",
    "    # to clean pseudonode\n",
    "    BPNGeom_Poly.cleanPseudoNode(\"Polygon\")\n",
    "    \n",
    "    # to resolve short degenerate and self intersect \n",
    "    BPNGeom_Poly.selfIntersect()\n",
    "    \n",
    "    # to clean the polygon that has area below 1sqm\n",
    "#     BPNGeom_Poly.removeShortArea(larea[0])\n",
    "    \n",
    "    # to split intersect polygon\n",
    "    BPNGeom_Poly.splitPolygons(resultCrosses[1])\n",
    "\n",
    "# Example = csv2coord(\"dataRekap.csv\")\n",
    "Example = csv2coord(\"braga3.csv\")   \n",
    "\n",
    "# Example = [\n",
    "#     [[10, 10], [20,10], [20, 0], [11, 0], [11,11]]\n",
    "# ]\n",
    "    \n",
    "# deleteBundle()\n",
    "# initiateBundle()\n",
    "# convertBundle()\n",
    "# testBundle()\n",
    "# cleanBundle()\n",
    "\n",
    "\n",
    "# cursor.execute(f\"INSERT INTO BPN_Test (geotypes, geom) VALUES ('Polygon', ST_GeomFromText('POLYGON((10 10, 20 10, 20 0, 10 0))',32857));\")\n",
    "# conn.commit()\n",
    "\n",
    "BPNGeom_Poly = Geometry(\"BPN_Test\",Example,\"32748\")\n",
    "# BPNGeom_Poly.cleanPseudoNode(\"Polygon\")\n",
    "\n",
    "# print(customFetchAll(f\"SELECT id, ST_Area(ST_Transform(ST_GeomFromText(ST_AsText(geom), 32748), 32748)) as area from BPN_Test where geotypes='Polygon'\"))\n",
    "# print(customFetchAll(f\"SELECT ST_Area(ST_Transform(geom, 32748)) as area from BPN_Test\"))\n",
    "\n",
    "# data = BPNGeom_Poly.customFetchAll(\"select id from BPN_Test\")\n",
    "# print(data)\n",
    "\n",
    "# data = BPNGeom_Poly.customFetchAll(\"select ST_AsText(geom) from BPN_Test\")\n",
    "# print(data)\n",
    "\n",
    "\n",
    "# print(len(Example))\n",
    "\n"
   ]
  },
  {
   "cell_type": "code",
   "execution_count": 259,
   "id": "004781e9",
   "metadata": {},
   "outputs": [
    {
     "data": {
      "application/vnd.plotly.v1+json": {
       "config": {
        "plotlyServerURL": "https://plot.ly"
       },
       "data": [
        {
         "fill": "toself",
         "line": {
          "color": "red"
         },
         "marker": {
          "color": "yellow",
          "line": {
           "color": "black",
           "width": 2
          },
          "size": 5
         },
         "mode": "lines+markers",
         "type": "scatter",
         "x": [
          170046.656369714,
          170066.58773438,
          170070.8320303895,
          170050.4496688225,
          170046.656369714
         ],
         "y": [
          538690.0459865994,
          538688.1754761626,
          538723.1804464505,
          538724.8305879902,
          538690.0459865994
         ]
        },
        {
         "fill": "toself",
         "line": {
          "color": "red"
         },
         "marker": {
          "color": "yellow",
          "line": {
           "color": "black",
           "width": 2
          },
          "size": 5
         },
         "mode": "lines+markers",
         "type": "scatter",
         "x": [
          171100.9989847714,
          171100.7881967803
         ],
         "y": [
          538247.1770387553,
          538254.0738183243
         ]
        },
        {
         "fill": "toself",
         "line": {
          "color": "red"
         },
         "marker": {
          "color": "yellow",
          "line": {
           "color": "black",
           "width": 2
          },
          "size": 5
         },
         "mode": "lines+markers",
         "type": "scatter",
         "x": [
          171199.819632471,
          171224.6684580127
         ],
         "y": [
          538405.9068421484,
          538406.148439336
         ]
        },
        {
         "fill": "toself",
         "line": {
          "color": "red"
         },
         "marker": {
          "color": "yellow",
          "line": {
           "color": "black",
           "width": 2
          },
          "size": 5
         },
         "mode": "lines+markers",
         "type": "scatter",
         "x": [
          171224.6684580127,
          171224.2794046072,
          171199.5805551606,
          171199.819632471
         ],
         "y": [
          538406.148439336,
          538420.8933075093,
          538420.6549044631,
          538405.9068421484
         ]
        },
        {
         "fill": "toself",
         "line": {
          "color": "red"
         },
         "marker": {
          "color": "yellow",
          "line": {
           "color": "black",
           "width": 2
          },
          "size": 5
         },
         "mode": "lines+markers",
         "type": "scatter",
         "x": [
          171199.819632471,
          171200.0628073911,
          171225.061608282,
          171224.6684580127
         ],
         "y": [
          538405.9068421484,
          538391.2588605142,
          538391.5037156149,
          538406.148439336
         ]
        },
        {
         "fill": "toself",
         "line": {
          "color": "red"
         },
         "marker": {
          "color": "yellow",
          "line": {
           "color": "black",
           "width": 2
          },
          "size": 5
         },
         "mode": "lines+markers",
         "type": "scatter",
         "x": [
          170183.1671263177,
          170204.063814195,
          170201.7357373573,
          170198.3503241029,
          170186.160369056,
          170182.4075368875,
          170176.1497665878,
          170180.7916553698,
          170181.8964477109,
          170183.1671263177,
          170204.063814195
         ],
         "y": [
          538714.0709656392,
          538712.3992879571,
          538683.79386787,
          538649.9125828154,
          538651.2286435228,
          538652.1321094693,
          538656.6250519279,
          538691.3877633462,
          538700.7010195751,
          538714.0709656392,
          538712.3992879571
         ]
        },
        {
         "fill": "toself",
         "line": {
          "color": "red"
         },
         "marker": {
          "color": "yellow",
          "line": {
           "color": "black",
           "width": 2
          },
          "size": 5
         },
         "mode": "lines+markers",
         "type": "scatter",
         "x": [
          170293.5604201219,
          170309.1592909582,
          170309.201128984,
          170293.7094431325,
          170293.5604201219
         ],
         "y": [
          538643.7706410174,
          538643.5829480983,
          538655.6793454782,
          538655.1717339354,
          538643.7706410174
         ]
        },
        {
         "fill": "toself",
         "line": {
          "color": "red"
         },
         "marker": {
          "color": "yellow",
          "line": {
           "color": "black",
           "width": 2
          },
          "size": 5
         },
         "mode": "lines+markers",
         "type": "scatter",
         "x": [
          170071.3406758397,
          170070.8308880876,
          170051.3945509989,
          170051.9041521359
         ],
         "y": [
          538742.4283368137,
          538733.1673573056,
          538734.7417780159,
          538743.9993674128
         ]
        },
        {
         "fill": "toself",
         "line": {
          "color": "red"
         },
         "marker": {
          "color": "yellow",
          "line": {
           "color": "black",
           "width": 2
          },
          "size": 5
         },
         "mode": "lines+markers",
         "type": "scatter",
         "x": [
          170071.3406758397,
          170071.8504635917,
          170052.414126503,
          170051.9041521359
         ],
         "y": [
          538742.4283368137,
          538751.6893163217,
          538753.263737032,
          538743.9993674128
         ]
        },
        {
         "fill": "toself",
         "line": {
          "color": "red"
         },
         "marker": {
          "color": "yellow",
          "line": {
           "color": "black",
           "width": 2
          },
          "size": 5
         },
         "mode": "lines+markers",
         "type": "scatter",
         "x": [
          170051.9041521359,
          170071.3406758397
         ],
         "y": [
          538743.9993674128,
          538742.4283368137
         ]
        },
        {
         "fill": "toself",
         "line": {
          "color": "red"
         },
         "marker": {
          "color": "yellow",
          "line": {
           "color": "black",
           "width": 2
          },
          "size": 5
         },
         "mode": "lines+markers",
         "type": "scatter",
         "x": [
          170051.6590804218,
          170037.6460251955,
          170031.0633800359,
          170031.1421285969,
          170050.8132920193,
          170051.6590804218
         ],
         "y": [
          538743.2644924652,
          538744.2827179938,
          538744.7610303418,
          538732.9112920044,
          538731.8457735362,
          538743.2644924652
         ]
        },
        {
         "fill": "toself",
         "line": {
          "color": "red"
         },
         "marker": {
          "color": "yellow",
          "line": {
           "color": "black",
           "width": 2
          },
          "size": 5
         },
         "mode": "lines+markers",
         "type": "scatter",
         "x": [
          170204.8263201975,
          170183.3527578702,
          170183.2637109087,
          170183.1671263177,
          170204.063814195,
          170204.8263201975
         ],
         "y": [
          538721.7683105634,
          538723.5263968421,
          538715.0663634167,
          538714.0709656392,
          538712.3992879571,
          538721.7683105634
         ]
        },
        {
         "fill": "toself",
         "line": {
          "color": "red"
         },
         "marker": {
          "color": "yellow",
          "line": {
           "color": "black",
           "width": 2
          },
          "size": 5
         },
         "mode": "lines+markers",
         "type": "scatter",
         "x": [
          171379.758,
          171404.252
         ],
         "y": [
          538363.303,
          538363.875
         ]
        },
        {
         "fill": "toself",
         "line": {
          "color": "red"
         },
         "marker": {
          "color": "yellow",
          "line": {
           "color": "black",
           "width": 2
          },
          "size": 5
         },
         "mode": "lines+markers",
         "type": "scatter",
         "x": [
          171402.867,
          171378.378
         ],
         "y": [
          538404.051,
          538403.279
         ]
        },
        {
         "fill": "toself",
         "line": {
          "color": "red"
         },
         "marker": {
          "color": "yellow",
          "line": {
           "color": "black",
           "width": 2
          },
          "size": 5
         },
         "mode": "lines+markers",
         "type": "scatter",
         "x": [
          171404.252,
          171402.867
         ],
         "y": [
          538363.875,
          538404.051
         ]
        },
        {
         "fill": "toself",
         "line": {
          "color": "red"
         },
         "marker": {
          "color": "yellow",
          "line": {
           "color": "black",
           "width": 2
          },
          "size": 5
         },
         "mode": "lines+markers",
         "type": "scatter",
         "x": [
          171419.677,
          171418.293
         ],
         "y": [
          538364.236,
          538404.412
         ]
        },
        {
         "fill": "toself",
         "line": {
          "color": "red"
         },
         "marker": {
          "color": "yellow",
          "line": {
           "color": "black",
           "width": 2
          },
          "size": 5
         },
         "mode": "lines+markers",
         "type": "scatter",
         "x": [
          171378.378,
          171379.758
         ],
         "y": [
          538403.279,
          538363.303
         ]
        },
        {
         "fill": "toself",
         "line": {
          "color": "red"
         },
         "marker": {
          "color": "yellow",
          "line": {
           "color": "black",
           "width": 2
          },
          "size": 5
         },
         "mode": "lines+markers",
         "type": "scatter",
         "x": [
          171402.867,
          171418.293
         ],
         "y": [
          538404.051,
          538404.412
         ]
        },
        {
         "fill": "toself",
         "line": {
          "color": "red"
         },
         "marker": {
          "color": "yellow",
          "line": {
           "color": "black",
           "width": 2
          },
          "size": 5
         },
         "mode": "lines+markers",
         "type": "scatter",
         "x": [
          171419.677,
          171430.911
         ],
         "y": [
          538364.236,
          538364.826
         ]
        },
        {
         "fill": "toself",
         "line": {
          "color": "red"
         },
         "marker": {
          "color": "yellow",
          "line": {
           "color": "black",
           "width": 2
          },
          "size": 5
         },
         "mode": "lines+markers",
         "type": "scatter",
         "x": [
          171430.911,
          171464.24
         ],
         "y": [
          538364.826,
          538366.025
         ]
        },
        {
         "fill": "toself",
         "line": {
          "color": "red"
         },
         "marker": {
          "color": "yellow",
          "line": {
           "color": "black",
           "width": 2
          },
          "size": 5
         },
         "mode": "lines+markers",
         "type": "scatter",
         "x": [
          171464.24,
          171465.634
         ],
         "y": [
          538366.025,
          538385.575
         ]
        },
        {
         "fill": "toself",
         "line": {
          "color": "red"
         },
         "marker": {
          "color": "yellow",
          "line": {
           "color": "black",
           "width": 2
          },
          "size": 5
         },
         "mode": "lines+markers",
         "type": "scatter",
         "x": [
          171465.634,
          171465.793
         ],
         "y": [
          538385.575,
          538400.075
         ]
        },
        {
         "fill": "toself",
         "line": {
          "color": "red"
         },
         "marker": {
          "color": "yellow",
          "line": {
           "color": "black",
           "width": 2
          },
          "size": 5
         },
         "mode": "lines+markers",
         "type": "scatter",
         "x": [
          171465.793,
          171465.249
         ],
         "y": [
          538400.075,
          538406.401
         ]
        },
        {
         "fill": "toself",
         "line": {
          "color": "red"
         },
         "marker": {
          "color": "yellow",
          "line": {
           "color": "black",
           "width": 2
          },
          "size": 5
         },
         "mode": "lines+markers",
         "type": "scatter",
         "x": [
          171465.249,
          171452.0886432255
         ],
         "y": [
          538406.401,
          538405.8858586279
         ]
        },
        {
         "fill": "toself",
         "line": {
          "color": "red"
         },
         "marker": {
          "color": "yellow",
          "line": {
           "color": "black",
           "width": 2
          },
          "size": 5
         },
         "mode": "lines+markers",
         "type": "scatter",
         "x": [
          171442.9272856592,
          171429.527
         ],
         "y": [
          538405.526685462,
          538405.001
         ]
        },
        {
         "fill": "toself",
         "line": {
          "color": "red"
         },
         "marker": {
          "color": "yellow",
          "line": {
           "color": "black",
           "width": 2
          },
          "size": 5
         },
         "mode": "lines+markers",
         "type": "scatter",
         "x": [
          171429.527,
          171419.041
         ],
         "y": [
          538405.001,
          538404.451
         ]
        },
        {
         "fill": "toself",
         "line": {
          "color": "red"
         },
         "marker": {
          "color": "yellow",
          "line": {
           "color": "black",
           "width": 2
          },
          "size": 5
         },
         "mode": "lines+markers",
         "type": "scatter",
         "x": [
          171419.041,
          171418.293
         ],
         "y": [
          538404.451,
          538404.412
         ]
        },
        {
         "fill": "toself",
         "line": {
          "color": "red"
         },
         "marker": {
          "color": "yellow",
          "line": {
           "color": "black",
           "width": 2
          },
          "size": 5
         },
         "mode": "lines+markers",
         "type": "scatter",
         "x": [
          171378.378,
          171350.883
         ],
         "y": [
          538403.279,
          538402.741
         ]
        },
        {
         "fill": "toself",
         "line": {
          "color": "red"
         },
         "marker": {
          "color": "yellow",
          "line": {
           "color": "black",
           "width": 2
          },
          "size": 5
         },
         "mode": "lines+markers",
         "type": "scatter",
         "x": [
          171350.883,
          171352.263
         ],
         "y": [
          538402.741,
          538362.764
         ]
        },
        {
         "fill": "toself",
         "line": {
          "color": "red"
         },
         "marker": {
          "color": "yellow",
          "line": {
           "color": "black",
           "width": 2
          },
          "size": 5
         },
         "mode": "lines+markers",
         "type": "scatter",
         "x": [
          171352.263,
          171379.758
         ],
         "y": [
          538362.764,
          538363.303
         ]
        },
        {
         "fill": "toself",
         "line": {
          "color": "red"
         },
         "marker": {
          "color": "yellow",
          "line": {
           "color": "black",
           "width": 2
          },
          "size": 5
         },
         "mode": "lines+markers",
         "type": "scatter",
         "x": [
          171674.1970542085,
          171614.8389004402,
          171611.7604072756,
          171674.1970542085
         ],
         "y": [
          537153.7682694179,
          537130.8309384444,
          537116.4334211097,
          537153.7682694179
         ]
        },
        {
         "fill": "toself",
         "line": {
          "color": "red"
         },
         "marker": {
          "color": "yellow",
          "line": {
           "color": "black",
           "width": 2
          },
          "size": 5
         },
         "mode": "lines+markers",
         "type": "scatter",
         "x": [
          171830.6869280816,
          171837.1328957806,
          171832.5683185397,
          171826.2762989003,
          171830.6869280816
         ],
         "y": [
          538170.0928600614,
          538169.2052281937,
          538145.8356922154,
          538146.9328604464,
          538170.0928600614
         ]
        },
        {
         "fill": "toself",
         "line": {
          "color": "red"
         },
         "marker": {
          "color": "yellow",
          "line": {
           "color": "black",
           "width": 2
          },
          "size": 5
         },
         "mode": "lines+markers",
         "type": "scatter",
         "x": [
          171786.6404289049,
          171790.4521599475,
          171797.6507365225,
          171793.6068661197,
          171786.6404289049
         ],
         "y": [
          538154.0334195037,
          538174.6190514498,
          538173.8978172943,
          538152.7695449592,
          538154.0334195037
         ]
        },
        {
         "fill": "toself",
         "line": {
          "color": "red"
         },
         "marker": {
          "color": "yellow",
          "line": {
           "color": "black",
           "width": 2
          },
          "size": 5
         },
         "mode": "lines+markers",
         "type": "scatter",
         "x": [
          171804.691558477,
          171811.5317900711
         ],
         "y": [
          538172.983035241,
          538172.0768168684
         ]
        },
        {
         "fill": "toself",
         "line": {
          "color": "red"
         },
         "marker": {
          "color": "yellow",
          "line": {
           "color": "black",
           "width": 2
          },
          "size": 5
         },
         "mode": "lines+markers",
         "type": "scatter",
         "x": [
          171804.691558477,
          171800.4165042634
         ],
         "y": [
          538172.983035241,
          538151.5087470469
         ]
        },
        {
         "fill": "toself",
         "line": {
          "color": "red"
         },
         "marker": {
          "color": "yellow",
          "line": {
           "color": "black",
           "width": 2
          },
          "size": 5
         },
         "mode": "lines+markers",
         "type": "scatter",
         "x": [
          171800.4165042634,
          171807.2420911946
         ],
         "y": [
          538151.5087470469,
          538150.1814914612
         ]
        },
        {
         "fill": "toself",
         "line": {
          "color": "red"
         },
         "marker": {
          "color": "yellow",
          "line": {
           "color": "black",
           "width": 2
          },
          "size": 5
         },
         "mode": "lines+markers",
         "type": "scatter",
         "x": [
          171732.0235514469,
          171740.1747233899,
          171744.6766969538,
          171736.448467997,
          171732.0235514469
         ],
         "y": [
          538163.852699972,
          538162.307249347,
          538180.6632356737,
          538181.7523859089,
          538163.852699972
         ]
        },
        {
         "fill": "toself",
         "line": {
          "color": "red"
         },
         "marker": {
          "color": "yellow",
          "line": {
           "color": "black",
           "width": 2
          },
          "size": 5
         },
         "mode": "lines+markers",
         "type": "scatter",
         "x": [
          171723.7054708845,
          171732.0235514469,
          171736.448467997,
          171728.3193743289,
          171723.7054708845
         ],
         "y": [
          538165.4297962345,
          538163.852699972,
          538181.7523859089,
          538182.828413852,
          538165.4297962345
         ]
        },
        {
         "fill": "toself",
         "line": {
          "color": "red"
         },
         "marker": {
          "color": "yellow",
          "line": {
           "color": "black",
           "width": 2
          },
          "size": 5
         },
         "mode": "lines+markers",
         "type": "scatter",
         "x": [
          171744.6766969538,
          171736.448467997
         ],
         "y": [
          538180.6632356737,
          538181.7523859089
         ]
        },
        {
         "fill": "toself",
         "line": {
          "color": "red"
         },
         "marker": {
          "color": "yellow",
          "line": {
           "color": "black",
           "width": 2
          },
          "size": 5
         },
         "mode": "lines+markers",
         "type": "scatter",
         "x": [
          171740.1747233899,
          171744.6766969538
         ],
         "y": [
          538162.307249347,
          538180.6632356737
         ]
        }
       ],
       "layout": {
        "plot_bgcolor": "rgba(0,0,0,0)",
        "showlegend": false,
        "template": {
         "data": {
          "bar": [
           {
            "error_x": {
             "color": "#2a3f5f"
            },
            "error_y": {
             "color": "#2a3f5f"
            },
            "marker": {
             "line": {
              "color": "#E5ECF6",
              "width": 0.5
             },
             "pattern": {
              "fillmode": "overlay",
              "size": 10,
              "solidity": 0.2
             }
            },
            "type": "bar"
           }
          ],
          "barpolar": [
           {
            "marker": {
             "line": {
              "color": "#E5ECF6",
              "width": 0.5
             },
             "pattern": {
              "fillmode": "overlay",
              "size": 10,
              "solidity": 0.2
             }
            },
            "type": "barpolar"
           }
          ],
          "carpet": [
           {
            "aaxis": {
             "endlinecolor": "#2a3f5f",
             "gridcolor": "white",
             "linecolor": "white",
             "minorgridcolor": "white",
             "startlinecolor": "#2a3f5f"
            },
            "baxis": {
             "endlinecolor": "#2a3f5f",
             "gridcolor": "white",
             "linecolor": "white",
             "minorgridcolor": "white",
             "startlinecolor": "#2a3f5f"
            },
            "type": "carpet"
           }
          ],
          "choropleth": [
           {
            "colorbar": {
             "outlinewidth": 0,
             "ticks": ""
            },
            "type": "choropleth"
           }
          ],
          "contour": [
           {
            "colorbar": {
             "outlinewidth": 0,
             "ticks": ""
            },
            "colorscale": [
             [
              0,
              "#0d0887"
             ],
             [
              0.1111111111111111,
              "#46039f"
             ],
             [
              0.2222222222222222,
              "#7201a8"
             ],
             [
              0.3333333333333333,
              "#9c179e"
             ],
             [
              0.4444444444444444,
              "#bd3786"
             ],
             [
              0.5555555555555556,
              "#d8576b"
             ],
             [
              0.6666666666666666,
              "#ed7953"
             ],
             [
              0.7777777777777778,
              "#fb9f3a"
             ],
             [
              0.8888888888888888,
              "#fdca26"
             ],
             [
              1,
              "#f0f921"
             ]
            ],
            "type": "contour"
           }
          ],
          "contourcarpet": [
           {
            "colorbar": {
             "outlinewidth": 0,
             "ticks": ""
            },
            "type": "contourcarpet"
           }
          ],
          "heatmap": [
           {
            "colorbar": {
             "outlinewidth": 0,
             "ticks": ""
            },
            "colorscale": [
             [
              0,
              "#0d0887"
             ],
             [
              0.1111111111111111,
              "#46039f"
             ],
             [
              0.2222222222222222,
              "#7201a8"
             ],
             [
              0.3333333333333333,
              "#9c179e"
             ],
             [
              0.4444444444444444,
              "#bd3786"
             ],
             [
              0.5555555555555556,
              "#d8576b"
             ],
             [
              0.6666666666666666,
              "#ed7953"
             ],
             [
              0.7777777777777778,
              "#fb9f3a"
             ],
             [
              0.8888888888888888,
              "#fdca26"
             ],
             [
              1,
              "#f0f921"
             ]
            ],
            "type": "heatmap"
           }
          ],
          "heatmapgl": [
           {
            "colorbar": {
             "outlinewidth": 0,
             "ticks": ""
            },
            "colorscale": [
             [
              0,
              "#0d0887"
             ],
             [
              0.1111111111111111,
              "#46039f"
             ],
             [
              0.2222222222222222,
              "#7201a8"
             ],
             [
              0.3333333333333333,
              "#9c179e"
             ],
             [
              0.4444444444444444,
              "#bd3786"
             ],
             [
              0.5555555555555556,
              "#d8576b"
             ],
             [
              0.6666666666666666,
              "#ed7953"
             ],
             [
              0.7777777777777778,
              "#fb9f3a"
             ],
             [
              0.8888888888888888,
              "#fdca26"
             ],
             [
              1,
              "#f0f921"
             ]
            ],
            "type": "heatmapgl"
           }
          ],
          "histogram": [
           {
            "marker": {
             "pattern": {
              "fillmode": "overlay",
              "size": 10,
              "solidity": 0.2
             }
            },
            "type": "histogram"
           }
          ],
          "histogram2d": [
           {
            "colorbar": {
             "outlinewidth": 0,
             "ticks": ""
            },
            "colorscale": [
             [
              0,
              "#0d0887"
             ],
             [
              0.1111111111111111,
              "#46039f"
             ],
             [
              0.2222222222222222,
              "#7201a8"
             ],
             [
              0.3333333333333333,
              "#9c179e"
             ],
             [
              0.4444444444444444,
              "#bd3786"
             ],
             [
              0.5555555555555556,
              "#d8576b"
             ],
             [
              0.6666666666666666,
              "#ed7953"
             ],
             [
              0.7777777777777778,
              "#fb9f3a"
             ],
             [
              0.8888888888888888,
              "#fdca26"
             ],
             [
              1,
              "#f0f921"
             ]
            ],
            "type": "histogram2d"
           }
          ],
          "histogram2dcontour": [
           {
            "colorbar": {
             "outlinewidth": 0,
             "ticks": ""
            },
            "colorscale": [
             [
              0,
              "#0d0887"
             ],
             [
              0.1111111111111111,
              "#46039f"
             ],
             [
              0.2222222222222222,
              "#7201a8"
             ],
             [
              0.3333333333333333,
              "#9c179e"
             ],
             [
              0.4444444444444444,
              "#bd3786"
             ],
             [
              0.5555555555555556,
              "#d8576b"
             ],
             [
              0.6666666666666666,
              "#ed7953"
             ],
             [
              0.7777777777777778,
              "#fb9f3a"
             ],
             [
              0.8888888888888888,
              "#fdca26"
             ],
             [
              1,
              "#f0f921"
             ]
            ],
            "type": "histogram2dcontour"
           }
          ],
          "mesh3d": [
           {
            "colorbar": {
             "outlinewidth": 0,
             "ticks": ""
            },
            "type": "mesh3d"
           }
          ],
          "parcoords": [
           {
            "line": {
             "colorbar": {
              "outlinewidth": 0,
              "ticks": ""
             }
            },
            "type": "parcoords"
           }
          ],
          "pie": [
           {
            "automargin": true,
            "type": "pie"
           }
          ],
          "scatter": [
           {
            "fillpattern": {
             "fillmode": "overlay",
             "size": 10,
             "solidity": 0.2
            },
            "type": "scatter"
           }
          ],
          "scatter3d": [
           {
            "line": {
             "colorbar": {
              "outlinewidth": 0,
              "ticks": ""
             }
            },
            "marker": {
             "colorbar": {
              "outlinewidth": 0,
              "ticks": ""
             }
            },
            "type": "scatter3d"
           }
          ],
          "scattercarpet": [
           {
            "marker": {
             "colorbar": {
              "outlinewidth": 0,
              "ticks": ""
             }
            },
            "type": "scattercarpet"
           }
          ],
          "scattergeo": [
           {
            "marker": {
             "colorbar": {
              "outlinewidth": 0,
              "ticks": ""
             }
            },
            "type": "scattergeo"
           }
          ],
          "scattergl": [
           {
            "marker": {
             "colorbar": {
              "outlinewidth": 0,
              "ticks": ""
             }
            },
            "type": "scattergl"
           }
          ],
          "scattermapbox": [
           {
            "marker": {
             "colorbar": {
              "outlinewidth": 0,
              "ticks": ""
             }
            },
            "type": "scattermapbox"
           }
          ],
          "scatterpolar": [
           {
            "marker": {
             "colorbar": {
              "outlinewidth": 0,
              "ticks": ""
             }
            },
            "type": "scatterpolar"
           }
          ],
          "scatterpolargl": [
           {
            "marker": {
             "colorbar": {
              "outlinewidth": 0,
              "ticks": ""
             }
            },
            "type": "scatterpolargl"
           }
          ],
          "scatterternary": [
           {
            "marker": {
             "colorbar": {
              "outlinewidth": 0,
              "ticks": ""
             }
            },
            "type": "scatterternary"
           }
          ],
          "surface": [
           {
            "colorbar": {
             "outlinewidth": 0,
             "ticks": ""
            },
            "colorscale": [
             [
              0,
              "#0d0887"
             ],
             [
              0.1111111111111111,
              "#46039f"
             ],
             [
              0.2222222222222222,
              "#7201a8"
             ],
             [
              0.3333333333333333,
              "#9c179e"
             ],
             [
              0.4444444444444444,
              "#bd3786"
             ],
             [
              0.5555555555555556,
              "#d8576b"
             ],
             [
              0.6666666666666666,
              "#ed7953"
             ],
             [
              0.7777777777777778,
              "#fb9f3a"
             ],
             [
              0.8888888888888888,
              "#fdca26"
             ],
             [
              1,
              "#f0f921"
             ]
            ],
            "type": "surface"
           }
          ],
          "table": [
           {
            "cells": {
             "fill": {
              "color": "#EBF0F8"
             },
             "line": {
              "color": "white"
             }
            },
            "header": {
             "fill": {
              "color": "#C8D4E3"
             },
             "line": {
              "color": "white"
             }
            },
            "type": "table"
           }
          ]
         },
         "layout": {
          "annotationdefaults": {
           "arrowcolor": "#2a3f5f",
           "arrowhead": 0,
           "arrowwidth": 1
          },
          "autotypenumbers": "strict",
          "coloraxis": {
           "colorbar": {
            "outlinewidth": 0,
            "ticks": ""
           }
          },
          "colorscale": {
           "diverging": [
            [
             0,
             "#8e0152"
            ],
            [
             0.1,
             "#c51b7d"
            ],
            [
             0.2,
             "#de77ae"
            ],
            [
             0.3,
             "#f1b6da"
            ],
            [
             0.4,
             "#fde0ef"
            ],
            [
             0.5,
             "#f7f7f7"
            ],
            [
             0.6,
             "#e6f5d0"
            ],
            [
             0.7,
             "#b8e186"
            ],
            [
             0.8,
             "#7fbc41"
            ],
            [
             0.9,
             "#4d9221"
            ],
            [
             1,
             "#276419"
            ]
           ],
           "sequential": [
            [
             0,
             "#0d0887"
            ],
            [
             0.1111111111111111,
             "#46039f"
            ],
            [
             0.2222222222222222,
             "#7201a8"
            ],
            [
             0.3333333333333333,
             "#9c179e"
            ],
            [
             0.4444444444444444,
             "#bd3786"
            ],
            [
             0.5555555555555556,
             "#d8576b"
            ],
            [
             0.6666666666666666,
             "#ed7953"
            ],
            [
             0.7777777777777778,
             "#fb9f3a"
            ],
            [
             0.8888888888888888,
             "#fdca26"
            ],
            [
             1,
             "#f0f921"
            ]
           ],
           "sequentialminus": [
            [
             0,
             "#0d0887"
            ],
            [
             0.1111111111111111,
             "#46039f"
            ],
            [
             0.2222222222222222,
             "#7201a8"
            ],
            [
             0.3333333333333333,
             "#9c179e"
            ],
            [
             0.4444444444444444,
             "#bd3786"
            ],
            [
             0.5555555555555556,
             "#d8576b"
            ],
            [
             0.6666666666666666,
             "#ed7953"
            ],
            [
             0.7777777777777778,
             "#fb9f3a"
            ],
            [
             0.8888888888888888,
             "#fdca26"
            ],
            [
             1,
             "#f0f921"
            ]
           ]
          },
          "colorway": [
           "#636efa",
           "#EF553B",
           "#00cc96",
           "#ab63fa",
           "#FFA15A",
           "#19d3f3",
           "#FF6692",
           "#B6E880",
           "#FF97FF",
           "#FECB52"
          ],
          "font": {
           "color": "#2a3f5f"
          },
          "geo": {
           "bgcolor": "white",
           "lakecolor": "white",
           "landcolor": "#E5ECF6",
           "showlakes": true,
           "showland": true,
           "subunitcolor": "white"
          },
          "hoverlabel": {
           "align": "left"
          },
          "hovermode": "closest",
          "mapbox": {
           "style": "light"
          },
          "paper_bgcolor": "white",
          "plot_bgcolor": "#E5ECF6",
          "polar": {
           "angularaxis": {
            "gridcolor": "white",
            "linecolor": "white",
            "ticks": ""
           },
           "bgcolor": "#E5ECF6",
           "radialaxis": {
            "gridcolor": "white",
            "linecolor": "white",
            "ticks": ""
           }
          },
          "scene": {
           "xaxis": {
            "backgroundcolor": "#E5ECF6",
            "gridcolor": "white",
            "gridwidth": 2,
            "linecolor": "white",
            "showbackground": true,
            "ticks": "",
            "zerolinecolor": "white"
           },
           "yaxis": {
            "backgroundcolor": "#E5ECF6",
            "gridcolor": "white",
            "gridwidth": 2,
            "linecolor": "white",
            "showbackground": true,
            "ticks": "",
            "zerolinecolor": "white"
           },
           "zaxis": {
            "backgroundcolor": "#E5ECF6",
            "gridcolor": "white",
            "gridwidth": 2,
            "linecolor": "white",
            "showbackground": true,
            "ticks": "",
            "zerolinecolor": "white"
           }
          },
          "shapedefaults": {
           "line": {
            "color": "#2a3f5f"
           }
          },
          "ternary": {
           "aaxis": {
            "gridcolor": "white",
            "linecolor": "white",
            "ticks": ""
           },
           "baxis": {
            "gridcolor": "white",
            "linecolor": "white",
            "ticks": ""
           },
           "bgcolor": "#E5ECF6",
           "caxis": {
            "gridcolor": "white",
            "linecolor": "white",
            "ticks": ""
           }
          },
          "title": {
           "x": 0.05
          },
          "xaxis": {
           "automargin": true,
           "gridcolor": "white",
           "linecolor": "white",
           "ticks": "",
           "title": {
            "standoff": 15
           },
           "zerolinecolor": "white",
           "zerolinewidth": 2
          },
          "yaxis": {
           "automargin": true,
           "gridcolor": "white",
           "linecolor": "white",
           "ticks": "",
           "title": {
            "standoff": 15
           },
           "zerolinecolor": "white",
           "zerolinewidth": 2
          }
         }
        },
        "title": {
         "text": "Parcels BEFORE cleaning"
        },
        "xaxis": {
         "linecolor": "black",
         "linewidth": 2,
         "mirror": true,
         "showline": true,
         "title": {
          "text": "X"
         }
        },
        "yaxis": {
         "linecolor": "black",
         "linewidth": 2,
         "mirror": true,
         "showline": true,
         "title": {
          "text": "Y"
         }
        }
       }
      },
      "text/html": [
       "<div>                            <div id=\"ea371bf3-5d1c-4c99-9d12-0d7b14630cb1\" class=\"plotly-graph-div\" style=\"height:525px; width:100%;\"></div>            <script type=\"text/javascript\">                require([\"plotly\"], function(Plotly) {                    window.PLOTLYENV=window.PLOTLYENV || {};                                    if (document.getElementById(\"ea371bf3-5d1c-4c99-9d12-0d7b14630cb1\")) {                    Plotly.newPlot(                        \"ea371bf3-5d1c-4c99-9d12-0d7b14630cb1\",                        [{\"fill\":\"toself\",\"line\":{\"color\":\"red\"},\"marker\":{\"color\":\"yellow\",\"line\":{\"color\":\"black\",\"width\":2},\"size\":5},\"mode\":\"lines+markers\",\"x\":[170046.656369714,170066.58773438,170070.8320303895,170050.4496688225,170046.656369714],\"y\":[538690.0459865994,538688.1754761626,538723.1804464505,538724.8305879902,538690.0459865994],\"type\":\"scatter\"},{\"fill\":\"toself\",\"line\":{\"color\":\"red\"},\"marker\":{\"color\":\"yellow\",\"line\":{\"color\":\"black\",\"width\":2},\"size\":5},\"mode\":\"lines+markers\",\"x\":[171100.9989847714,171100.7881967803],\"y\":[538247.1770387553,538254.0738183243],\"type\":\"scatter\"},{\"fill\":\"toself\",\"line\":{\"color\":\"red\"},\"marker\":{\"color\":\"yellow\",\"line\":{\"color\":\"black\",\"width\":2},\"size\":5},\"mode\":\"lines+markers\",\"x\":[171199.819632471,171224.6684580127],\"y\":[538405.9068421484,538406.148439336],\"type\":\"scatter\"},{\"fill\":\"toself\",\"line\":{\"color\":\"red\"},\"marker\":{\"color\":\"yellow\",\"line\":{\"color\":\"black\",\"width\":2},\"size\":5},\"mode\":\"lines+markers\",\"x\":[171224.6684580127,171224.2794046072,171199.5805551606,171199.819632471],\"y\":[538406.148439336,538420.8933075093,538420.6549044631,538405.9068421484],\"type\":\"scatter\"},{\"fill\":\"toself\",\"line\":{\"color\":\"red\"},\"marker\":{\"color\":\"yellow\",\"line\":{\"color\":\"black\",\"width\":2},\"size\":5},\"mode\":\"lines+markers\",\"x\":[171199.819632471,171200.0628073911,171225.061608282,171224.6684580127],\"y\":[538405.9068421484,538391.2588605142,538391.5037156149,538406.148439336],\"type\":\"scatter\"},{\"fill\":\"toself\",\"line\":{\"color\":\"red\"},\"marker\":{\"color\":\"yellow\",\"line\":{\"color\":\"black\",\"width\":2},\"size\":5},\"mode\":\"lines+markers\",\"x\":[170183.1671263177,170204.063814195,170201.7357373573,170198.3503241029,170186.160369056,170182.4075368875,170176.1497665878,170180.7916553698,170181.8964477109,170183.1671263177,170204.063814195],\"y\":[538714.0709656392,538712.3992879571,538683.79386787,538649.9125828154,538651.2286435228,538652.1321094693,538656.6250519279,538691.3877633462,538700.7010195751,538714.0709656392,538712.3992879571],\"type\":\"scatter\"},{\"fill\":\"toself\",\"line\":{\"color\":\"red\"},\"marker\":{\"color\":\"yellow\",\"line\":{\"color\":\"black\",\"width\":2},\"size\":5},\"mode\":\"lines+markers\",\"x\":[170293.5604201219,170309.1592909582,170309.201128984,170293.7094431325,170293.5604201219],\"y\":[538643.7706410174,538643.5829480983,538655.6793454782,538655.1717339354,538643.7706410174],\"type\":\"scatter\"},{\"fill\":\"toself\",\"line\":{\"color\":\"red\"},\"marker\":{\"color\":\"yellow\",\"line\":{\"color\":\"black\",\"width\":2},\"size\":5},\"mode\":\"lines+markers\",\"x\":[170071.3406758397,170070.8308880876,170051.3945509989,170051.9041521359],\"y\":[538742.4283368137,538733.1673573056,538734.7417780159,538743.9993674128],\"type\":\"scatter\"},{\"fill\":\"toself\",\"line\":{\"color\":\"red\"},\"marker\":{\"color\":\"yellow\",\"line\":{\"color\":\"black\",\"width\":2},\"size\":5},\"mode\":\"lines+markers\",\"x\":[170071.3406758397,170071.8504635917,170052.414126503,170051.9041521359],\"y\":[538742.4283368137,538751.6893163217,538753.263737032,538743.9993674128],\"type\":\"scatter\"},{\"fill\":\"toself\",\"line\":{\"color\":\"red\"},\"marker\":{\"color\":\"yellow\",\"line\":{\"color\":\"black\",\"width\":2},\"size\":5},\"mode\":\"lines+markers\",\"x\":[170051.9041521359,170071.3406758397],\"y\":[538743.9993674128,538742.4283368137],\"type\":\"scatter\"},{\"fill\":\"toself\",\"line\":{\"color\":\"red\"},\"marker\":{\"color\":\"yellow\",\"line\":{\"color\":\"black\",\"width\":2},\"size\":5},\"mode\":\"lines+markers\",\"x\":[170051.6590804218,170037.6460251955,170031.0633800359,170031.1421285969,170050.8132920193,170051.6590804218],\"y\":[538743.2644924652,538744.2827179938,538744.7610303418,538732.9112920044,538731.8457735362,538743.2644924652],\"type\":\"scatter\"},{\"fill\":\"toself\",\"line\":{\"color\":\"red\"},\"marker\":{\"color\":\"yellow\",\"line\":{\"color\":\"black\",\"width\":2},\"size\":5},\"mode\":\"lines+markers\",\"x\":[170204.8263201975,170183.3527578702,170183.2637109087,170183.1671263177,170204.063814195,170204.8263201975],\"y\":[538721.7683105634,538723.5263968421,538715.0663634167,538714.0709656392,538712.3992879571,538721.7683105634],\"type\":\"scatter\"},{\"fill\":\"toself\",\"line\":{\"color\":\"red\"},\"marker\":{\"color\":\"yellow\",\"line\":{\"color\":\"black\",\"width\":2},\"size\":5},\"mode\":\"lines+markers\",\"x\":[171379.758,171404.252],\"y\":[538363.303,538363.875],\"type\":\"scatter\"},{\"fill\":\"toself\",\"line\":{\"color\":\"red\"},\"marker\":{\"color\":\"yellow\",\"line\":{\"color\":\"black\",\"width\":2},\"size\":5},\"mode\":\"lines+markers\",\"x\":[171402.867,171378.378],\"y\":[538404.051,538403.279],\"type\":\"scatter\"},{\"fill\":\"toself\",\"line\":{\"color\":\"red\"},\"marker\":{\"color\":\"yellow\",\"line\":{\"color\":\"black\",\"width\":2},\"size\":5},\"mode\":\"lines+markers\",\"x\":[171404.252,171402.867],\"y\":[538363.875,538404.051],\"type\":\"scatter\"},{\"fill\":\"toself\",\"line\":{\"color\":\"red\"},\"marker\":{\"color\":\"yellow\",\"line\":{\"color\":\"black\",\"width\":2},\"size\":5},\"mode\":\"lines+markers\",\"x\":[171419.677,171418.293],\"y\":[538364.236,538404.412],\"type\":\"scatter\"},{\"fill\":\"toself\",\"line\":{\"color\":\"red\"},\"marker\":{\"color\":\"yellow\",\"line\":{\"color\":\"black\",\"width\":2},\"size\":5},\"mode\":\"lines+markers\",\"x\":[171378.378,171379.758],\"y\":[538403.279,538363.303],\"type\":\"scatter\"},{\"fill\":\"toself\",\"line\":{\"color\":\"red\"},\"marker\":{\"color\":\"yellow\",\"line\":{\"color\":\"black\",\"width\":2},\"size\":5},\"mode\":\"lines+markers\",\"x\":[171402.867,171418.293],\"y\":[538404.051,538404.412],\"type\":\"scatter\"},{\"fill\":\"toself\",\"line\":{\"color\":\"red\"},\"marker\":{\"color\":\"yellow\",\"line\":{\"color\":\"black\",\"width\":2},\"size\":5},\"mode\":\"lines+markers\",\"x\":[171419.677,171430.911],\"y\":[538364.236,538364.826],\"type\":\"scatter\"},{\"fill\":\"toself\",\"line\":{\"color\":\"red\"},\"marker\":{\"color\":\"yellow\",\"line\":{\"color\":\"black\",\"width\":2},\"size\":5},\"mode\":\"lines+markers\",\"x\":[171430.911,171464.24],\"y\":[538364.826,538366.025],\"type\":\"scatter\"},{\"fill\":\"toself\",\"line\":{\"color\":\"red\"},\"marker\":{\"color\":\"yellow\",\"line\":{\"color\":\"black\",\"width\":2},\"size\":5},\"mode\":\"lines+markers\",\"x\":[171464.24,171465.634],\"y\":[538366.025,538385.575],\"type\":\"scatter\"},{\"fill\":\"toself\",\"line\":{\"color\":\"red\"},\"marker\":{\"color\":\"yellow\",\"line\":{\"color\":\"black\",\"width\":2},\"size\":5},\"mode\":\"lines+markers\",\"x\":[171465.634,171465.793],\"y\":[538385.575,538400.075],\"type\":\"scatter\"},{\"fill\":\"toself\",\"line\":{\"color\":\"red\"},\"marker\":{\"color\":\"yellow\",\"line\":{\"color\":\"black\",\"width\":2},\"size\":5},\"mode\":\"lines+markers\",\"x\":[171465.793,171465.249],\"y\":[538400.075,538406.401],\"type\":\"scatter\"},{\"fill\":\"toself\",\"line\":{\"color\":\"red\"},\"marker\":{\"color\":\"yellow\",\"line\":{\"color\":\"black\",\"width\":2},\"size\":5},\"mode\":\"lines+markers\",\"x\":[171465.249,171452.0886432255],\"y\":[538406.401,538405.8858586279],\"type\":\"scatter\"},{\"fill\":\"toself\",\"line\":{\"color\":\"red\"},\"marker\":{\"color\":\"yellow\",\"line\":{\"color\":\"black\",\"width\":2},\"size\":5},\"mode\":\"lines+markers\",\"x\":[171442.9272856592,171429.527],\"y\":[538405.526685462,538405.001],\"type\":\"scatter\"},{\"fill\":\"toself\",\"line\":{\"color\":\"red\"},\"marker\":{\"color\":\"yellow\",\"line\":{\"color\":\"black\",\"width\":2},\"size\":5},\"mode\":\"lines+markers\",\"x\":[171429.527,171419.041],\"y\":[538405.001,538404.451],\"type\":\"scatter\"},{\"fill\":\"toself\",\"line\":{\"color\":\"red\"},\"marker\":{\"color\":\"yellow\",\"line\":{\"color\":\"black\",\"width\":2},\"size\":5},\"mode\":\"lines+markers\",\"x\":[171419.041,171418.293],\"y\":[538404.451,538404.412],\"type\":\"scatter\"},{\"fill\":\"toself\",\"line\":{\"color\":\"red\"},\"marker\":{\"color\":\"yellow\",\"line\":{\"color\":\"black\",\"width\":2},\"size\":5},\"mode\":\"lines+markers\",\"x\":[171378.378,171350.883],\"y\":[538403.279,538402.741],\"type\":\"scatter\"},{\"fill\":\"toself\",\"line\":{\"color\":\"red\"},\"marker\":{\"color\":\"yellow\",\"line\":{\"color\":\"black\",\"width\":2},\"size\":5},\"mode\":\"lines+markers\",\"x\":[171350.883,171352.263],\"y\":[538402.741,538362.764],\"type\":\"scatter\"},{\"fill\":\"toself\",\"line\":{\"color\":\"red\"},\"marker\":{\"color\":\"yellow\",\"line\":{\"color\":\"black\",\"width\":2},\"size\":5},\"mode\":\"lines+markers\",\"x\":[171352.263,171379.758],\"y\":[538362.764,538363.303],\"type\":\"scatter\"},{\"fill\":\"toself\",\"line\":{\"color\":\"red\"},\"marker\":{\"color\":\"yellow\",\"line\":{\"color\":\"black\",\"width\":2},\"size\":5},\"mode\":\"lines+markers\",\"x\":[171674.1970542085,171614.8389004402,171611.7604072756,171674.1970542085],\"y\":[537153.7682694179,537130.8309384444,537116.4334211097,537153.7682694179],\"type\":\"scatter\"},{\"fill\":\"toself\",\"line\":{\"color\":\"red\"},\"marker\":{\"color\":\"yellow\",\"line\":{\"color\":\"black\",\"width\":2},\"size\":5},\"mode\":\"lines+markers\",\"x\":[171830.6869280816,171837.1328957806,171832.5683185397,171826.2762989003,171830.6869280816],\"y\":[538170.0928600614,538169.2052281937,538145.8356922154,538146.9328604464,538170.0928600614],\"type\":\"scatter\"},{\"fill\":\"toself\",\"line\":{\"color\":\"red\"},\"marker\":{\"color\":\"yellow\",\"line\":{\"color\":\"black\",\"width\":2},\"size\":5},\"mode\":\"lines+markers\",\"x\":[171786.6404289049,171790.4521599475,171797.6507365225,171793.6068661197,171786.6404289049],\"y\":[538154.0334195037,538174.6190514498,538173.8978172943,538152.7695449592,538154.0334195037],\"type\":\"scatter\"},{\"fill\":\"toself\",\"line\":{\"color\":\"red\"},\"marker\":{\"color\":\"yellow\",\"line\":{\"color\":\"black\",\"width\":2},\"size\":5},\"mode\":\"lines+markers\",\"x\":[171804.691558477,171811.5317900711],\"y\":[538172.983035241,538172.0768168684],\"type\":\"scatter\"},{\"fill\":\"toself\",\"line\":{\"color\":\"red\"},\"marker\":{\"color\":\"yellow\",\"line\":{\"color\":\"black\",\"width\":2},\"size\":5},\"mode\":\"lines+markers\",\"x\":[171804.691558477,171800.4165042634],\"y\":[538172.983035241,538151.5087470469],\"type\":\"scatter\"},{\"fill\":\"toself\",\"line\":{\"color\":\"red\"},\"marker\":{\"color\":\"yellow\",\"line\":{\"color\":\"black\",\"width\":2},\"size\":5},\"mode\":\"lines+markers\",\"x\":[171800.4165042634,171807.2420911946],\"y\":[538151.5087470469,538150.1814914612],\"type\":\"scatter\"},{\"fill\":\"toself\",\"line\":{\"color\":\"red\"},\"marker\":{\"color\":\"yellow\",\"line\":{\"color\":\"black\",\"width\":2},\"size\":5},\"mode\":\"lines+markers\",\"x\":[171732.0235514469,171740.1747233899,171744.6766969538,171736.448467997,171732.0235514469],\"y\":[538163.852699972,538162.307249347,538180.6632356737,538181.7523859089,538163.852699972],\"type\":\"scatter\"},{\"fill\":\"toself\",\"line\":{\"color\":\"red\"},\"marker\":{\"color\":\"yellow\",\"line\":{\"color\":\"black\",\"width\":2},\"size\":5},\"mode\":\"lines+markers\",\"x\":[171723.7054708845,171732.0235514469,171736.448467997,171728.3193743289,171723.7054708845],\"y\":[538165.4297962345,538163.852699972,538181.7523859089,538182.828413852,538165.4297962345],\"type\":\"scatter\"},{\"fill\":\"toself\",\"line\":{\"color\":\"red\"},\"marker\":{\"color\":\"yellow\",\"line\":{\"color\":\"black\",\"width\":2},\"size\":5},\"mode\":\"lines+markers\",\"x\":[171744.6766969538,171736.448467997],\"y\":[538180.6632356737,538181.7523859089],\"type\":\"scatter\"},{\"fill\":\"toself\",\"line\":{\"color\":\"red\"},\"marker\":{\"color\":\"yellow\",\"line\":{\"color\":\"black\",\"width\":2},\"size\":5},\"mode\":\"lines+markers\",\"x\":[171740.1747233899,171744.6766969538],\"y\":[538162.307249347,538180.6632356737],\"type\":\"scatter\"}],                        {\"template\":{\"data\":{\"histogram2dcontour\":[{\"type\":\"histogram2dcontour\",\"colorbar\":{\"outlinewidth\":0,\"ticks\":\"\"},\"colorscale\":[[0.0,\"#0d0887\"],[0.1111111111111111,\"#46039f\"],[0.2222222222222222,\"#7201a8\"],[0.3333333333333333,\"#9c179e\"],[0.4444444444444444,\"#bd3786\"],[0.5555555555555556,\"#d8576b\"],[0.6666666666666666,\"#ed7953\"],[0.7777777777777778,\"#fb9f3a\"],[0.8888888888888888,\"#fdca26\"],[1.0,\"#f0f921\"]]}],\"choropleth\":[{\"type\":\"choropleth\",\"colorbar\":{\"outlinewidth\":0,\"ticks\":\"\"}}],\"histogram2d\":[{\"type\":\"histogram2d\",\"colorbar\":{\"outlinewidth\":0,\"ticks\":\"\"},\"colorscale\":[[0.0,\"#0d0887\"],[0.1111111111111111,\"#46039f\"],[0.2222222222222222,\"#7201a8\"],[0.3333333333333333,\"#9c179e\"],[0.4444444444444444,\"#bd3786\"],[0.5555555555555556,\"#d8576b\"],[0.6666666666666666,\"#ed7953\"],[0.7777777777777778,\"#fb9f3a\"],[0.8888888888888888,\"#fdca26\"],[1.0,\"#f0f921\"]]}],\"heatmap\":[{\"type\":\"heatmap\",\"colorbar\":{\"outlinewidth\":0,\"ticks\":\"\"},\"colorscale\":[[0.0,\"#0d0887\"],[0.1111111111111111,\"#46039f\"],[0.2222222222222222,\"#7201a8\"],[0.3333333333333333,\"#9c179e\"],[0.4444444444444444,\"#bd3786\"],[0.5555555555555556,\"#d8576b\"],[0.6666666666666666,\"#ed7953\"],[0.7777777777777778,\"#fb9f3a\"],[0.8888888888888888,\"#fdca26\"],[1.0,\"#f0f921\"]]}],\"heatmapgl\":[{\"type\":\"heatmapgl\",\"colorbar\":{\"outlinewidth\":0,\"ticks\":\"\"},\"colorscale\":[[0.0,\"#0d0887\"],[0.1111111111111111,\"#46039f\"],[0.2222222222222222,\"#7201a8\"],[0.3333333333333333,\"#9c179e\"],[0.4444444444444444,\"#bd3786\"],[0.5555555555555556,\"#d8576b\"],[0.6666666666666666,\"#ed7953\"],[0.7777777777777778,\"#fb9f3a\"],[0.8888888888888888,\"#fdca26\"],[1.0,\"#f0f921\"]]}],\"contourcarpet\":[{\"type\":\"contourcarpet\",\"colorbar\":{\"outlinewidth\":0,\"ticks\":\"\"}}],\"contour\":[{\"type\":\"contour\",\"colorbar\":{\"outlinewidth\":0,\"ticks\":\"\"},\"colorscale\":[[0.0,\"#0d0887\"],[0.1111111111111111,\"#46039f\"],[0.2222222222222222,\"#7201a8\"],[0.3333333333333333,\"#9c179e\"],[0.4444444444444444,\"#bd3786\"],[0.5555555555555556,\"#d8576b\"],[0.6666666666666666,\"#ed7953\"],[0.7777777777777778,\"#fb9f3a\"],[0.8888888888888888,\"#fdca26\"],[1.0,\"#f0f921\"]]}],\"surface\":[{\"type\":\"surface\",\"colorbar\":{\"outlinewidth\":0,\"ticks\":\"\"},\"colorscale\":[[0.0,\"#0d0887\"],[0.1111111111111111,\"#46039f\"],[0.2222222222222222,\"#7201a8\"],[0.3333333333333333,\"#9c179e\"],[0.4444444444444444,\"#bd3786\"],[0.5555555555555556,\"#d8576b\"],[0.6666666666666666,\"#ed7953\"],[0.7777777777777778,\"#fb9f3a\"],[0.8888888888888888,\"#fdca26\"],[1.0,\"#f0f921\"]]}],\"mesh3d\":[{\"type\":\"mesh3d\",\"colorbar\":{\"outlinewidth\":0,\"ticks\":\"\"}}],\"scatter\":[{\"fillpattern\":{\"fillmode\":\"overlay\",\"size\":10,\"solidity\":0.2},\"type\":\"scatter\"}],\"parcoords\":[{\"type\":\"parcoords\",\"line\":{\"colorbar\":{\"outlinewidth\":0,\"ticks\":\"\"}}}],\"scatterpolargl\":[{\"type\":\"scatterpolargl\",\"marker\":{\"colorbar\":{\"outlinewidth\":0,\"ticks\":\"\"}}}],\"bar\":[{\"error_x\":{\"color\":\"#2a3f5f\"},\"error_y\":{\"color\":\"#2a3f5f\"},\"marker\":{\"line\":{\"color\":\"#E5ECF6\",\"width\":0.5},\"pattern\":{\"fillmode\":\"overlay\",\"size\":10,\"solidity\":0.2}},\"type\":\"bar\"}],\"scattergeo\":[{\"type\":\"scattergeo\",\"marker\":{\"colorbar\":{\"outlinewidth\":0,\"ticks\":\"\"}}}],\"scatterpolar\":[{\"type\":\"scatterpolar\",\"marker\":{\"colorbar\":{\"outlinewidth\":0,\"ticks\":\"\"}}}],\"histogram\":[{\"marker\":{\"pattern\":{\"fillmode\":\"overlay\",\"size\":10,\"solidity\":0.2}},\"type\":\"histogram\"}],\"scattergl\":[{\"type\":\"scattergl\",\"marker\":{\"colorbar\":{\"outlinewidth\":0,\"ticks\":\"\"}}}],\"scatter3d\":[{\"type\":\"scatter3d\",\"line\":{\"colorbar\":{\"outlinewidth\":0,\"ticks\":\"\"}},\"marker\":{\"colorbar\":{\"outlinewidth\":0,\"ticks\":\"\"}}}],\"scattermapbox\":[{\"type\":\"scattermapbox\",\"marker\":{\"colorbar\":{\"outlinewidth\":0,\"ticks\":\"\"}}}],\"scatterternary\":[{\"type\":\"scatterternary\",\"marker\":{\"colorbar\":{\"outlinewidth\":0,\"ticks\":\"\"}}}],\"scattercarpet\":[{\"type\":\"scattercarpet\",\"marker\":{\"colorbar\":{\"outlinewidth\":0,\"ticks\":\"\"}}}],\"carpet\":[{\"aaxis\":{\"endlinecolor\":\"#2a3f5f\",\"gridcolor\":\"white\",\"linecolor\":\"white\",\"minorgridcolor\":\"white\",\"startlinecolor\":\"#2a3f5f\"},\"baxis\":{\"endlinecolor\":\"#2a3f5f\",\"gridcolor\":\"white\",\"linecolor\":\"white\",\"minorgridcolor\":\"white\",\"startlinecolor\":\"#2a3f5f\"},\"type\":\"carpet\"}],\"table\":[{\"cells\":{\"fill\":{\"color\":\"#EBF0F8\"},\"line\":{\"color\":\"white\"}},\"header\":{\"fill\":{\"color\":\"#C8D4E3\"},\"line\":{\"color\":\"white\"}},\"type\":\"table\"}],\"barpolar\":[{\"marker\":{\"line\":{\"color\":\"#E5ECF6\",\"width\":0.5},\"pattern\":{\"fillmode\":\"overlay\",\"size\":10,\"solidity\":0.2}},\"type\":\"barpolar\"}],\"pie\":[{\"automargin\":true,\"type\":\"pie\"}]},\"layout\":{\"autotypenumbers\":\"strict\",\"colorway\":[\"#636efa\",\"#EF553B\",\"#00cc96\",\"#ab63fa\",\"#FFA15A\",\"#19d3f3\",\"#FF6692\",\"#B6E880\",\"#FF97FF\",\"#FECB52\"],\"font\":{\"color\":\"#2a3f5f\"},\"hovermode\":\"closest\",\"hoverlabel\":{\"align\":\"left\"},\"paper_bgcolor\":\"white\",\"plot_bgcolor\":\"#E5ECF6\",\"polar\":{\"bgcolor\":\"#E5ECF6\",\"angularaxis\":{\"gridcolor\":\"white\",\"linecolor\":\"white\",\"ticks\":\"\"},\"radialaxis\":{\"gridcolor\":\"white\",\"linecolor\":\"white\",\"ticks\":\"\"}},\"ternary\":{\"bgcolor\":\"#E5ECF6\",\"aaxis\":{\"gridcolor\":\"white\",\"linecolor\":\"white\",\"ticks\":\"\"},\"baxis\":{\"gridcolor\":\"white\",\"linecolor\":\"white\",\"ticks\":\"\"},\"caxis\":{\"gridcolor\":\"white\",\"linecolor\":\"white\",\"ticks\":\"\"}},\"coloraxis\":{\"colorbar\":{\"outlinewidth\":0,\"ticks\":\"\"}},\"colorscale\":{\"sequential\":[[0.0,\"#0d0887\"],[0.1111111111111111,\"#46039f\"],[0.2222222222222222,\"#7201a8\"],[0.3333333333333333,\"#9c179e\"],[0.4444444444444444,\"#bd3786\"],[0.5555555555555556,\"#d8576b\"],[0.6666666666666666,\"#ed7953\"],[0.7777777777777778,\"#fb9f3a\"],[0.8888888888888888,\"#fdca26\"],[1.0,\"#f0f921\"]],\"sequentialminus\":[[0.0,\"#0d0887\"],[0.1111111111111111,\"#46039f\"],[0.2222222222222222,\"#7201a8\"],[0.3333333333333333,\"#9c179e\"],[0.4444444444444444,\"#bd3786\"],[0.5555555555555556,\"#d8576b\"],[0.6666666666666666,\"#ed7953\"],[0.7777777777777778,\"#fb9f3a\"],[0.8888888888888888,\"#fdca26\"],[1.0,\"#f0f921\"]],\"diverging\":[[0,\"#8e0152\"],[0.1,\"#c51b7d\"],[0.2,\"#de77ae\"],[0.3,\"#f1b6da\"],[0.4,\"#fde0ef\"],[0.5,\"#f7f7f7\"],[0.6,\"#e6f5d0\"],[0.7,\"#b8e186\"],[0.8,\"#7fbc41\"],[0.9,\"#4d9221\"],[1,\"#276419\"]]},\"xaxis\":{\"gridcolor\":\"white\",\"linecolor\":\"white\",\"ticks\":\"\",\"title\":{\"standoff\":15},\"zerolinecolor\":\"white\",\"automargin\":true,\"zerolinewidth\":2},\"yaxis\":{\"gridcolor\":\"white\",\"linecolor\":\"white\",\"ticks\":\"\",\"title\":{\"standoff\":15},\"zerolinecolor\":\"white\",\"automargin\":true,\"zerolinewidth\":2},\"scene\":{\"xaxis\":{\"backgroundcolor\":\"#E5ECF6\",\"gridcolor\":\"white\",\"linecolor\":\"white\",\"showbackground\":true,\"ticks\":\"\",\"zerolinecolor\":\"white\",\"gridwidth\":2},\"yaxis\":{\"backgroundcolor\":\"#E5ECF6\",\"gridcolor\":\"white\",\"linecolor\":\"white\",\"showbackground\":true,\"ticks\":\"\",\"zerolinecolor\":\"white\",\"gridwidth\":2},\"zaxis\":{\"backgroundcolor\":\"#E5ECF6\",\"gridcolor\":\"white\",\"linecolor\":\"white\",\"showbackground\":true,\"ticks\":\"\",\"zerolinecolor\":\"white\",\"gridwidth\":2}},\"shapedefaults\":{\"line\":{\"color\":\"#2a3f5f\"}},\"annotationdefaults\":{\"arrowcolor\":\"#2a3f5f\",\"arrowhead\":0,\"arrowwidth\":1},\"geo\":{\"bgcolor\":\"white\",\"landcolor\":\"#E5ECF6\",\"subunitcolor\":\"white\",\"showland\":true,\"showlakes\":true,\"lakecolor\":\"white\"},\"title\":{\"x\":0.05},\"mapbox\":{\"style\":\"light\"}}},\"xaxis\":{\"title\":{\"text\":\"X\"},\"showline\":true,\"linewidth\":2,\"linecolor\":\"black\",\"mirror\":true},\"yaxis\":{\"title\":{\"text\":\"Y\"},\"showline\":true,\"linewidth\":2,\"linecolor\":\"black\",\"mirror\":true},\"title\":{\"text\":\"Parcels BEFORE cleaning\"},\"plot_bgcolor\":\"rgba(0,0,0,0)\",\"showlegend\":false},                        {\"responsive\": true}                    ).then(function(){\n",
       "                            \n",
       "var gd = document.getElementById('ea371bf3-5d1c-4c99-9d12-0d7b14630cb1');\n",
       "var x = new MutationObserver(function (mutations, observer) {{\n",
       "        var display = window.getComputedStyle(gd).display;\n",
       "        if (!display || display === 'none') {{\n",
       "            console.log([gd, 'removed!']);\n",
       "            Plotly.purge(gd);\n",
       "            observer.disconnect();\n",
       "        }}\n",
       "}});\n",
       "\n",
       "// Listen for the removal of the full notebook cells\n",
       "var notebookContainer = gd.closest('#notebook-container');\n",
       "if (notebookContainer) {{\n",
       "    x.observe(notebookContainer, {childList: true});\n",
       "}}\n",
       "\n",
       "// Listen for the clearing of the current output cell\n",
       "var outputEl = gd.closest('.output');\n",
       "if (outputEl) {{\n",
       "    x.observe(outputEl, {childList: true});\n",
       "}}\n",
       "\n",
       "                        })                };                });            </script>        </div>"
      ]
     },
     "metadata": {},
     "output_type": "display_data"
    }
   ],
   "source": [
    "# print(Example)\n",
    "plotBefore(Example)"
   ]
  },
  {
   "cell_type": "code",
   "execution_count": 260,
   "id": "081d00b4",
   "metadata": {},
   "outputs": [
    {
     "data": {
      "application/vnd.plotly.v1+json": {
       "config": {
        "plotlyServerURL": "https://plot.ly"
       },
       "data": [
        {
         "fill": "toself",
         "line": {
          "color": "red"
         },
         "marker": {
          "color": "yellow",
          "line": {
           "color": "black",
           "width": 2
          },
          "size": 5
         },
         "mode": "lines+markers",
         "type": "scatter",
         "x": [
          170046.65637,
          170066.587734,
          170070.83203,
          170050.449669,
          170046.65637
         ],
         "y": [
          538690.045987,
          538688.175476,
          538723.180446,
          538724.830588,
          538690.045987
         ]
        },
        {
         "fill": "toself",
         "line": {
          "color": "red"
         },
         "marker": {
          "color": "yellow",
          "line": {
           "color": "black",
           "width": 2
          },
          "size": 5
         },
         "mode": "lines+markers",
         "type": "scatter",
         "x": [
          171224.668458,
          171224.279405,
          171199.580555,
          171199.819632,
          171224.668458
         ],
         "y": [
          538406.148439,
          538420.893308,
          538420.654904,
          538405.906842,
          538406.148439
         ]
        },
        {
         "fill": "toself",
         "line": {
          "color": "red"
         },
         "marker": {
          "color": "yellow",
          "line": {
           "color": "black",
           "width": 2
          },
          "size": 5
         },
         "mode": "lines+markers",
         "type": "scatter",
         "x": [
          171199.819632,
          171200.062807,
          171225.061608,
          171224.668458,
          171199.819632
         ],
         "y": [
          538405.906842,
          538391.258861,
          538391.503716,
          538406.148439,
          538405.906842
         ]
        },
        {
         "fill": "toself",
         "line": {
          "color": "red"
         },
         "marker": {
          "color": "yellow",
          "line": {
           "color": "black",
           "width": 2
          },
          "size": 5
         },
         "mode": "lines+markers",
         "type": "scatter",
         "x": [
          170183.167126,
          170204.063814,
          170198.350324,
          170182.407537,
          170176.149767,
          170183.167126
         ],
         "y": [
          538714.070966,
          538712.399288,
          538649.912583,
          538652.132109,
          538656.625052,
          538714.070966
         ]
        },
        {
         "fill": "toself",
         "line": {
          "color": "red"
         },
         "marker": {
          "color": "yellow",
          "line": {
           "color": "black",
           "width": 2
          },
          "size": 5
         },
         "mode": "lines+markers",
         "type": "scatter",
         "x": [
          170293.56042,
          170309.159291,
          170309.201129,
          170293.709443,
          170293.56042
         ],
         "y": [
          538643.770641,
          538643.582948,
          538655.679345,
          538655.171734,
          538643.770641
         ]
        },
        {
         "fill": "toself",
         "line": {
          "color": "red"
         },
         "marker": {
          "color": "yellow",
          "line": {
           "color": "black",
           "width": 2
          },
          "size": 5
         },
         "mode": "lines+markers",
         "type": "scatter",
         "x": [
          170071.340676,
          170070.830888,
          170051.394551,
          170051.904152,
          170071.340676
         ],
         "y": [
          538742.428337,
          538733.167357,
          538734.741778,
          538743.999367,
          538742.428337
         ]
        },
        {
         "fill": "toself",
         "line": {
          "color": "red"
         },
         "marker": {
          "color": "yellow",
          "line": {
           "color": "black",
           "width": 2
          },
          "size": 5
         },
         "mode": "lines+markers",
         "type": "scatter",
         "x": [
          170071.340676,
          170071.850464,
          170052.414127,
          170051.904152,
          170071.340676
         ],
         "y": [
          538742.428337,
          538751.689316,
          538753.263737,
          538743.999367,
          538742.428337
         ]
        },
        {
         "fill": "toself",
         "line": {
          "color": "red"
         },
         "marker": {
          "color": "yellow",
          "line": {
           "color": "black",
           "width": 2
          },
          "size": 5
         },
         "mode": "lines+markers",
         "type": "scatter",
         "x": [
          170051.65908,
          170031.06338,
          170031.142129,
          170050.813292,
          170051.65908
         ],
         "y": [
          538743.264492,
          538744.76103,
          538732.911292,
          538731.845774,
          538743.264492
         ]
        },
        {
         "fill": "toself",
         "line": {
          "color": "red"
         },
         "marker": {
          "color": "yellow",
          "line": {
           "color": "black",
           "width": 2
          },
          "size": 5
         },
         "mode": "lines+markers",
         "type": "scatter",
         "x": [
          170204.82632,
          170183.352758,
          170183.167126,
          170204.063814,
          170204.82632
         ],
         "y": [
          538721.768311,
          538723.526397,
          538714.070966,
          538712.399288,
          538721.768311
         ]
        },
        {
         "fill": "toself",
         "line": {
          "color": "red"
         },
         "marker": {
          "color": "yellow",
          "line": {
           "color": "black",
           "width": 2
          },
          "size": 5
         },
         "mode": "lines+markers",
         "type": "scatter",
         "x": [
          171674.197054,
          171614.8389,
          171611.760407,
          171674.197054
         ],
         "y": [
          537153.768269,
          537130.830938,
          537116.433421,
          537153.768269
         ]
        },
        {
         "fill": "toself",
         "line": {
          "color": "red"
         },
         "marker": {
          "color": "yellow",
          "line": {
           "color": "black",
           "width": 2
          },
          "size": 5
         },
         "mode": "lines+markers",
         "type": "scatter",
         "x": [
          171830.686928,
          171837.132896,
          171832.568319,
          171826.276299,
          171830.686928
         ],
         "y": [
          538170.09286,
          538169.205228,
          538145.835692,
          538146.93286,
          538170.09286
         ]
        },
        {
         "fill": "toself",
         "line": {
          "color": "red"
         },
         "marker": {
          "color": "yellow",
          "line": {
           "color": "black",
           "width": 2
          },
          "size": 5
         },
         "mode": "lines+markers",
         "type": "scatter",
         "x": [
          171786.640429,
          171790.45216,
          171797.650737,
          171793.606866,
          171786.640429
         ],
         "y": [
          538154.03342,
          538174.619051,
          538173.897817,
          538152.769545,
          538154.03342
         ]
        },
        {
         "fill": "toself",
         "line": {
          "color": "red"
         },
         "marker": {
          "color": "yellow",
          "line": {
           "color": "black",
           "width": 2
          },
          "size": 5
         },
         "mode": "lines+markers",
         "type": "scatter",
         "x": [
          171732.023551,
          171740.174723,
          171744.676697,
          171736.448468,
          171732.023551
         ],
         "y": [
          538163.8527,
          538162.307249,
          538180.663236,
          538181.752386,
          538163.8527
         ]
        },
        {
         "fill": "toself",
         "line": {
          "color": "red"
         },
         "marker": {
          "color": "yellow",
          "line": {
           "color": "black",
           "width": 2
          },
          "size": 5
         },
         "mode": "lines+markers",
         "type": "scatter",
         "x": [
          171723.705471,
          171732.023551,
          171736.448468,
          171728.319374,
          171723.705471
         ],
         "y": [
          538165.429796,
          538163.8527,
          538181.752386,
          538182.828414,
          538165.429796
         ]
        }
       ],
       "layout": {
        "plot_bgcolor": "rgba(0,0,0,0)",
        "showlegend": false,
        "template": {
         "data": {
          "bar": [
           {
            "error_x": {
             "color": "#2a3f5f"
            },
            "error_y": {
             "color": "#2a3f5f"
            },
            "marker": {
             "line": {
              "color": "#E5ECF6",
              "width": 0.5
             },
             "pattern": {
              "fillmode": "overlay",
              "size": 10,
              "solidity": 0.2
             }
            },
            "type": "bar"
           }
          ],
          "barpolar": [
           {
            "marker": {
             "line": {
              "color": "#E5ECF6",
              "width": 0.5
             },
             "pattern": {
              "fillmode": "overlay",
              "size": 10,
              "solidity": 0.2
             }
            },
            "type": "barpolar"
           }
          ],
          "carpet": [
           {
            "aaxis": {
             "endlinecolor": "#2a3f5f",
             "gridcolor": "white",
             "linecolor": "white",
             "minorgridcolor": "white",
             "startlinecolor": "#2a3f5f"
            },
            "baxis": {
             "endlinecolor": "#2a3f5f",
             "gridcolor": "white",
             "linecolor": "white",
             "minorgridcolor": "white",
             "startlinecolor": "#2a3f5f"
            },
            "type": "carpet"
           }
          ],
          "choropleth": [
           {
            "colorbar": {
             "outlinewidth": 0,
             "ticks": ""
            },
            "type": "choropleth"
           }
          ],
          "contour": [
           {
            "colorbar": {
             "outlinewidth": 0,
             "ticks": ""
            },
            "colorscale": [
             [
              0,
              "#0d0887"
             ],
             [
              0.1111111111111111,
              "#46039f"
             ],
             [
              0.2222222222222222,
              "#7201a8"
             ],
             [
              0.3333333333333333,
              "#9c179e"
             ],
             [
              0.4444444444444444,
              "#bd3786"
             ],
             [
              0.5555555555555556,
              "#d8576b"
             ],
             [
              0.6666666666666666,
              "#ed7953"
             ],
             [
              0.7777777777777778,
              "#fb9f3a"
             ],
             [
              0.8888888888888888,
              "#fdca26"
             ],
             [
              1,
              "#f0f921"
             ]
            ],
            "type": "contour"
           }
          ],
          "contourcarpet": [
           {
            "colorbar": {
             "outlinewidth": 0,
             "ticks": ""
            },
            "type": "contourcarpet"
           }
          ],
          "heatmap": [
           {
            "colorbar": {
             "outlinewidth": 0,
             "ticks": ""
            },
            "colorscale": [
             [
              0,
              "#0d0887"
             ],
             [
              0.1111111111111111,
              "#46039f"
             ],
             [
              0.2222222222222222,
              "#7201a8"
             ],
             [
              0.3333333333333333,
              "#9c179e"
             ],
             [
              0.4444444444444444,
              "#bd3786"
             ],
             [
              0.5555555555555556,
              "#d8576b"
             ],
             [
              0.6666666666666666,
              "#ed7953"
             ],
             [
              0.7777777777777778,
              "#fb9f3a"
             ],
             [
              0.8888888888888888,
              "#fdca26"
             ],
             [
              1,
              "#f0f921"
             ]
            ],
            "type": "heatmap"
           }
          ],
          "heatmapgl": [
           {
            "colorbar": {
             "outlinewidth": 0,
             "ticks": ""
            },
            "colorscale": [
             [
              0,
              "#0d0887"
             ],
             [
              0.1111111111111111,
              "#46039f"
             ],
             [
              0.2222222222222222,
              "#7201a8"
             ],
             [
              0.3333333333333333,
              "#9c179e"
             ],
             [
              0.4444444444444444,
              "#bd3786"
             ],
             [
              0.5555555555555556,
              "#d8576b"
             ],
             [
              0.6666666666666666,
              "#ed7953"
             ],
             [
              0.7777777777777778,
              "#fb9f3a"
             ],
             [
              0.8888888888888888,
              "#fdca26"
             ],
             [
              1,
              "#f0f921"
             ]
            ],
            "type": "heatmapgl"
           }
          ],
          "histogram": [
           {
            "marker": {
             "pattern": {
              "fillmode": "overlay",
              "size": 10,
              "solidity": 0.2
             }
            },
            "type": "histogram"
           }
          ],
          "histogram2d": [
           {
            "colorbar": {
             "outlinewidth": 0,
             "ticks": ""
            },
            "colorscale": [
             [
              0,
              "#0d0887"
             ],
             [
              0.1111111111111111,
              "#46039f"
             ],
             [
              0.2222222222222222,
              "#7201a8"
             ],
             [
              0.3333333333333333,
              "#9c179e"
             ],
             [
              0.4444444444444444,
              "#bd3786"
             ],
             [
              0.5555555555555556,
              "#d8576b"
             ],
             [
              0.6666666666666666,
              "#ed7953"
             ],
             [
              0.7777777777777778,
              "#fb9f3a"
             ],
             [
              0.8888888888888888,
              "#fdca26"
             ],
             [
              1,
              "#f0f921"
             ]
            ],
            "type": "histogram2d"
           }
          ],
          "histogram2dcontour": [
           {
            "colorbar": {
             "outlinewidth": 0,
             "ticks": ""
            },
            "colorscale": [
             [
              0,
              "#0d0887"
             ],
             [
              0.1111111111111111,
              "#46039f"
             ],
             [
              0.2222222222222222,
              "#7201a8"
             ],
             [
              0.3333333333333333,
              "#9c179e"
             ],
             [
              0.4444444444444444,
              "#bd3786"
             ],
             [
              0.5555555555555556,
              "#d8576b"
             ],
             [
              0.6666666666666666,
              "#ed7953"
             ],
             [
              0.7777777777777778,
              "#fb9f3a"
             ],
             [
              0.8888888888888888,
              "#fdca26"
             ],
             [
              1,
              "#f0f921"
             ]
            ],
            "type": "histogram2dcontour"
           }
          ],
          "mesh3d": [
           {
            "colorbar": {
             "outlinewidth": 0,
             "ticks": ""
            },
            "type": "mesh3d"
           }
          ],
          "parcoords": [
           {
            "line": {
             "colorbar": {
              "outlinewidth": 0,
              "ticks": ""
             }
            },
            "type": "parcoords"
           }
          ],
          "pie": [
           {
            "automargin": true,
            "type": "pie"
           }
          ],
          "scatter": [
           {
            "fillpattern": {
             "fillmode": "overlay",
             "size": 10,
             "solidity": 0.2
            },
            "type": "scatter"
           }
          ],
          "scatter3d": [
           {
            "line": {
             "colorbar": {
              "outlinewidth": 0,
              "ticks": ""
             }
            },
            "marker": {
             "colorbar": {
              "outlinewidth": 0,
              "ticks": ""
             }
            },
            "type": "scatter3d"
           }
          ],
          "scattercarpet": [
           {
            "marker": {
             "colorbar": {
              "outlinewidth": 0,
              "ticks": ""
             }
            },
            "type": "scattercarpet"
           }
          ],
          "scattergeo": [
           {
            "marker": {
             "colorbar": {
              "outlinewidth": 0,
              "ticks": ""
             }
            },
            "type": "scattergeo"
           }
          ],
          "scattergl": [
           {
            "marker": {
             "colorbar": {
              "outlinewidth": 0,
              "ticks": ""
             }
            },
            "type": "scattergl"
           }
          ],
          "scattermapbox": [
           {
            "marker": {
             "colorbar": {
              "outlinewidth": 0,
              "ticks": ""
             }
            },
            "type": "scattermapbox"
           }
          ],
          "scatterpolar": [
           {
            "marker": {
             "colorbar": {
              "outlinewidth": 0,
              "ticks": ""
             }
            },
            "type": "scatterpolar"
           }
          ],
          "scatterpolargl": [
           {
            "marker": {
             "colorbar": {
              "outlinewidth": 0,
              "ticks": ""
             }
            },
            "type": "scatterpolargl"
           }
          ],
          "scatterternary": [
           {
            "marker": {
             "colorbar": {
              "outlinewidth": 0,
              "ticks": ""
             }
            },
            "type": "scatterternary"
           }
          ],
          "surface": [
           {
            "colorbar": {
             "outlinewidth": 0,
             "ticks": ""
            },
            "colorscale": [
             [
              0,
              "#0d0887"
             ],
             [
              0.1111111111111111,
              "#46039f"
             ],
             [
              0.2222222222222222,
              "#7201a8"
             ],
             [
              0.3333333333333333,
              "#9c179e"
             ],
             [
              0.4444444444444444,
              "#bd3786"
             ],
             [
              0.5555555555555556,
              "#d8576b"
             ],
             [
              0.6666666666666666,
              "#ed7953"
             ],
             [
              0.7777777777777778,
              "#fb9f3a"
             ],
             [
              0.8888888888888888,
              "#fdca26"
             ],
             [
              1,
              "#f0f921"
             ]
            ],
            "type": "surface"
           }
          ],
          "table": [
           {
            "cells": {
             "fill": {
              "color": "#EBF0F8"
             },
             "line": {
              "color": "white"
             }
            },
            "header": {
             "fill": {
              "color": "#C8D4E3"
             },
             "line": {
              "color": "white"
             }
            },
            "type": "table"
           }
          ]
         },
         "layout": {
          "annotationdefaults": {
           "arrowcolor": "#2a3f5f",
           "arrowhead": 0,
           "arrowwidth": 1
          },
          "autotypenumbers": "strict",
          "coloraxis": {
           "colorbar": {
            "outlinewidth": 0,
            "ticks": ""
           }
          },
          "colorscale": {
           "diverging": [
            [
             0,
             "#8e0152"
            ],
            [
             0.1,
             "#c51b7d"
            ],
            [
             0.2,
             "#de77ae"
            ],
            [
             0.3,
             "#f1b6da"
            ],
            [
             0.4,
             "#fde0ef"
            ],
            [
             0.5,
             "#f7f7f7"
            ],
            [
             0.6,
             "#e6f5d0"
            ],
            [
             0.7,
             "#b8e186"
            ],
            [
             0.8,
             "#7fbc41"
            ],
            [
             0.9,
             "#4d9221"
            ],
            [
             1,
             "#276419"
            ]
           ],
           "sequential": [
            [
             0,
             "#0d0887"
            ],
            [
             0.1111111111111111,
             "#46039f"
            ],
            [
             0.2222222222222222,
             "#7201a8"
            ],
            [
             0.3333333333333333,
             "#9c179e"
            ],
            [
             0.4444444444444444,
             "#bd3786"
            ],
            [
             0.5555555555555556,
             "#d8576b"
            ],
            [
             0.6666666666666666,
             "#ed7953"
            ],
            [
             0.7777777777777778,
             "#fb9f3a"
            ],
            [
             0.8888888888888888,
             "#fdca26"
            ],
            [
             1,
             "#f0f921"
            ]
           ],
           "sequentialminus": [
            [
             0,
             "#0d0887"
            ],
            [
             0.1111111111111111,
             "#46039f"
            ],
            [
             0.2222222222222222,
             "#7201a8"
            ],
            [
             0.3333333333333333,
             "#9c179e"
            ],
            [
             0.4444444444444444,
             "#bd3786"
            ],
            [
             0.5555555555555556,
             "#d8576b"
            ],
            [
             0.6666666666666666,
             "#ed7953"
            ],
            [
             0.7777777777777778,
             "#fb9f3a"
            ],
            [
             0.8888888888888888,
             "#fdca26"
            ],
            [
             1,
             "#f0f921"
            ]
           ]
          },
          "colorway": [
           "#636efa",
           "#EF553B",
           "#00cc96",
           "#ab63fa",
           "#FFA15A",
           "#19d3f3",
           "#FF6692",
           "#B6E880",
           "#FF97FF",
           "#FECB52"
          ],
          "font": {
           "color": "#2a3f5f"
          },
          "geo": {
           "bgcolor": "white",
           "lakecolor": "white",
           "landcolor": "#E5ECF6",
           "showlakes": true,
           "showland": true,
           "subunitcolor": "white"
          },
          "hoverlabel": {
           "align": "left"
          },
          "hovermode": "closest",
          "mapbox": {
           "style": "light"
          },
          "paper_bgcolor": "white",
          "plot_bgcolor": "#E5ECF6",
          "polar": {
           "angularaxis": {
            "gridcolor": "white",
            "linecolor": "white",
            "ticks": ""
           },
           "bgcolor": "#E5ECF6",
           "radialaxis": {
            "gridcolor": "white",
            "linecolor": "white",
            "ticks": ""
           }
          },
          "scene": {
           "xaxis": {
            "backgroundcolor": "#E5ECF6",
            "gridcolor": "white",
            "gridwidth": 2,
            "linecolor": "white",
            "showbackground": true,
            "ticks": "",
            "zerolinecolor": "white"
           },
           "yaxis": {
            "backgroundcolor": "#E5ECF6",
            "gridcolor": "white",
            "gridwidth": 2,
            "linecolor": "white",
            "showbackground": true,
            "ticks": "",
            "zerolinecolor": "white"
           },
           "zaxis": {
            "backgroundcolor": "#E5ECF6",
            "gridcolor": "white",
            "gridwidth": 2,
            "linecolor": "white",
            "showbackground": true,
            "ticks": "",
            "zerolinecolor": "white"
           }
          },
          "shapedefaults": {
           "line": {
            "color": "#2a3f5f"
           }
          },
          "ternary": {
           "aaxis": {
            "gridcolor": "white",
            "linecolor": "white",
            "ticks": ""
           },
           "baxis": {
            "gridcolor": "white",
            "linecolor": "white",
            "ticks": ""
           },
           "bgcolor": "#E5ECF6",
           "caxis": {
            "gridcolor": "white",
            "linecolor": "white",
            "ticks": ""
           }
          },
          "title": {
           "x": 0.05
          },
          "xaxis": {
           "automargin": true,
           "gridcolor": "white",
           "linecolor": "white",
           "ticks": "",
           "title": {
            "standoff": 15
           },
           "zerolinecolor": "white",
           "zerolinewidth": 2
          },
          "yaxis": {
           "automargin": true,
           "gridcolor": "white",
           "linecolor": "white",
           "ticks": "",
           "title": {
            "standoff": 15
           },
           "zerolinecolor": "white",
           "zerolinewidth": 2
          }
         }
        },
        "title": {
         "text": "Parcels AFTER cleaning"
        },
        "xaxis": {
         "linecolor": "black",
         "linewidth": 2,
         "mirror": true,
         "showline": true,
         "title": {
          "text": "X"
         }
        },
        "yaxis": {
         "linecolor": "black",
         "linewidth": 2,
         "mirror": true,
         "showline": true,
         "title": {
          "text": "Y"
         }
        }
       }
      },
      "text/html": [
       "<div>                            <div id=\"d02c142f-fcc2-4d76-a2e2-a286644573e8\" class=\"plotly-graph-div\" style=\"height:525px; width:100%;\"></div>            <script type=\"text/javascript\">                require([\"plotly\"], function(Plotly) {                    window.PLOTLYENV=window.PLOTLYENV || {};                                    if (document.getElementById(\"d02c142f-fcc2-4d76-a2e2-a286644573e8\")) {                    Plotly.newPlot(                        \"d02c142f-fcc2-4d76-a2e2-a286644573e8\",                        [{\"fill\":\"toself\",\"line\":{\"color\":\"red\"},\"marker\":{\"color\":\"yellow\",\"line\":{\"color\":\"black\",\"width\":2},\"size\":5},\"mode\":\"lines+markers\",\"x\":[170046.65637,170066.587734,170070.83203,170050.449669,170046.65637],\"y\":[538690.045987,538688.175476,538723.180446,538724.830588,538690.045987],\"type\":\"scatter\"},{\"fill\":\"toself\",\"line\":{\"color\":\"red\"},\"marker\":{\"color\":\"yellow\",\"line\":{\"color\":\"black\",\"width\":2},\"size\":5},\"mode\":\"lines+markers\",\"x\":[171224.668458,171224.279405,171199.580555,171199.819632,171224.668458],\"y\":[538406.148439,538420.893308,538420.654904,538405.906842,538406.148439],\"type\":\"scatter\"},{\"fill\":\"toself\",\"line\":{\"color\":\"red\"},\"marker\":{\"color\":\"yellow\",\"line\":{\"color\":\"black\",\"width\":2},\"size\":5},\"mode\":\"lines+markers\",\"x\":[171199.819632,171200.062807,171225.061608,171224.668458,171199.819632],\"y\":[538405.906842,538391.258861,538391.503716,538406.148439,538405.906842],\"type\":\"scatter\"},{\"fill\":\"toself\",\"line\":{\"color\":\"red\"},\"marker\":{\"color\":\"yellow\",\"line\":{\"color\":\"black\",\"width\":2},\"size\":5},\"mode\":\"lines+markers\",\"x\":[170183.167126,170204.063814,170198.350324,170182.407537,170176.149767,170183.167126],\"y\":[538714.070966,538712.399288,538649.912583,538652.132109,538656.625052,538714.070966],\"type\":\"scatter\"},{\"fill\":\"toself\",\"line\":{\"color\":\"red\"},\"marker\":{\"color\":\"yellow\",\"line\":{\"color\":\"black\",\"width\":2},\"size\":5},\"mode\":\"lines+markers\",\"x\":[170293.56042,170309.159291,170309.201129,170293.709443,170293.56042],\"y\":[538643.770641,538643.582948,538655.679345,538655.171734,538643.770641],\"type\":\"scatter\"},{\"fill\":\"toself\",\"line\":{\"color\":\"red\"},\"marker\":{\"color\":\"yellow\",\"line\":{\"color\":\"black\",\"width\":2},\"size\":5},\"mode\":\"lines+markers\",\"x\":[170071.340676,170070.830888,170051.394551,170051.904152,170071.340676],\"y\":[538742.428337,538733.167357,538734.741778,538743.999367,538742.428337],\"type\":\"scatter\"},{\"fill\":\"toself\",\"line\":{\"color\":\"red\"},\"marker\":{\"color\":\"yellow\",\"line\":{\"color\":\"black\",\"width\":2},\"size\":5},\"mode\":\"lines+markers\",\"x\":[170071.340676,170071.850464,170052.414127,170051.904152,170071.340676],\"y\":[538742.428337,538751.689316,538753.263737,538743.999367,538742.428337],\"type\":\"scatter\"},{\"fill\":\"toself\",\"line\":{\"color\":\"red\"},\"marker\":{\"color\":\"yellow\",\"line\":{\"color\":\"black\",\"width\":2},\"size\":5},\"mode\":\"lines+markers\",\"x\":[170051.65908,170031.06338,170031.142129,170050.813292,170051.65908],\"y\":[538743.264492,538744.76103,538732.911292,538731.845774,538743.264492],\"type\":\"scatter\"},{\"fill\":\"toself\",\"line\":{\"color\":\"red\"},\"marker\":{\"color\":\"yellow\",\"line\":{\"color\":\"black\",\"width\":2},\"size\":5},\"mode\":\"lines+markers\",\"x\":[170204.82632,170183.352758,170183.167126,170204.063814,170204.82632],\"y\":[538721.768311,538723.526397,538714.070966,538712.399288,538721.768311],\"type\":\"scatter\"},{\"fill\":\"toself\",\"line\":{\"color\":\"red\"},\"marker\":{\"color\":\"yellow\",\"line\":{\"color\":\"black\",\"width\":2},\"size\":5},\"mode\":\"lines+markers\",\"x\":[171674.197054,171614.8389,171611.760407,171674.197054],\"y\":[537153.768269,537130.830938,537116.433421,537153.768269],\"type\":\"scatter\"},{\"fill\":\"toself\",\"line\":{\"color\":\"red\"},\"marker\":{\"color\":\"yellow\",\"line\":{\"color\":\"black\",\"width\":2},\"size\":5},\"mode\":\"lines+markers\",\"x\":[171830.686928,171837.132896,171832.568319,171826.276299,171830.686928],\"y\":[538170.09286,538169.205228,538145.835692,538146.93286,538170.09286],\"type\":\"scatter\"},{\"fill\":\"toself\",\"line\":{\"color\":\"red\"},\"marker\":{\"color\":\"yellow\",\"line\":{\"color\":\"black\",\"width\":2},\"size\":5},\"mode\":\"lines+markers\",\"x\":[171786.640429,171790.45216,171797.650737,171793.606866,171786.640429],\"y\":[538154.03342,538174.619051,538173.897817,538152.769545,538154.03342],\"type\":\"scatter\"},{\"fill\":\"toself\",\"line\":{\"color\":\"red\"},\"marker\":{\"color\":\"yellow\",\"line\":{\"color\":\"black\",\"width\":2},\"size\":5},\"mode\":\"lines+markers\",\"x\":[171732.023551,171740.174723,171744.676697,171736.448468,171732.023551],\"y\":[538163.8527,538162.307249,538180.663236,538181.752386,538163.8527],\"type\":\"scatter\"},{\"fill\":\"toself\",\"line\":{\"color\":\"red\"},\"marker\":{\"color\":\"yellow\",\"line\":{\"color\":\"black\",\"width\":2},\"size\":5},\"mode\":\"lines+markers\",\"x\":[171723.705471,171732.023551,171736.448468,171728.319374,171723.705471],\"y\":[538165.429796,538163.8527,538181.752386,538182.828414,538165.429796],\"type\":\"scatter\"}],                        {\"template\":{\"data\":{\"histogram2dcontour\":[{\"type\":\"histogram2dcontour\",\"colorbar\":{\"outlinewidth\":0,\"ticks\":\"\"},\"colorscale\":[[0.0,\"#0d0887\"],[0.1111111111111111,\"#46039f\"],[0.2222222222222222,\"#7201a8\"],[0.3333333333333333,\"#9c179e\"],[0.4444444444444444,\"#bd3786\"],[0.5555555555555556,\"#d8576b\"],[0.6666666666666666,\"#ed7953\"],[0.7777777777777778,\"#fb9f3a\"],[0.8888888888888888,\"#fdca26\"],[1.0,\"#f0f921\"]]}],\"choropleth\":[{\"type\":\"choropleth\",\"colorbar\":{\"outlinewidth\":0,\"ticks\":\"\"}}],\"histogram2d\":[{\"type\":\"histogram2d\",\"colorbar\":{\"outlinewidth\":0,\"ticks\":\"\"},\"colorscale\":[[0.0,\"#0d0887\"],[0.1111111111111111,\"#46039f\"],[0.2222222222222222,\"#7201a8\"],[0.3333333333333333,\"#9c179e\"],[0.4444444444444444,\"#bd3786\"],[0.5555555555555556,\"#d8576b\"],[0.6666666666666666,\"#ed7953\"],[0.7777777777777778,\"#fb9f3a\"],[0.8888888888888888,\"#fdca26\"],[1.0,\"#f0f921\"]]}],\"heatmap\":[{\"type\":\"heatmap\",\"colorbar\":{\"outlinewidth\":0,\"ticks\":\"\"},\"colorscale\":[[0.0,\"#0d0887\"],[0.1111111111111111,\"#46039f\"],[0.2222222222222222,\"#7201a8\"],[0.3333333333333333,\"#9c179e\"],[0.4444444444444444,\"#bd3786\"],[0.5555555555555556,\"#d8576b\"],[0.6666666666666666,\"#ed7953\"],[0.7777777777777778,\"#fb9f3a\"],[0.8888888888888888,\"#fdca26\"],[1.0,\"#f0f921\"]]}],\"heatmapgl\":[{\"type\":\"heatmapgl\",\"colorbar\":{\"outlinewidth\":0,\"ticks\":\"\"},\"colorscale\":[[0.0,\"#0d0887\"],[0.1111111111111111,\"#46039f\"],[0.2222222222222222,\"#7201a8\"],[0.3333333333333333,\"#9c179e\"],[0.4444444444444444,\"#bd3786\"],[0.5555555555555556,\"#d8576b\"],[0.6666666666666666,\"#ed7953\"],[0.7777777777777778,\"#fb9f3a\"],[0.8888888888888888,\"#fdca26\"],[1.0,\"#f0f921\"]]}],\"contourcarpet\":[{\"type\":\"contourcarpet\",\"colorbar\":{\"outlinewidth\":0,\"ticks\":\"\"}}],\"contour\":[{\"type\":\"contour\",\"colorbar\":{\"outlinewidth\":0,\"ticks\":\"\"},\"colorscale\":[[0.0,\"#0d0887\"],[0.1111111111111111,\"#46039f\"],[0.2222222222222222,\"#7201a8\"],[0.3333333333333333,\"#9c179e\"],[0.4444444444444444,\"#bd3786\"],[0.5555555555555556,\"#d8576b\"],[0.6666666666666666,\"#ed7953\"],[0.7777777777777778,\"#fb9f3a\"],[0.8888888888888888,\"#fdca26\"],[1.0,\"#f0f921\"]]}],\"surface\":[{\"type\":\"surface\",\"colorbar\":{\"outlinewidth\":0,\"ticks\":\"\"},\"colorscale\":[[0.0,\"#0d0887\"],[0.1111111111111111,\"#46039f\"],[0.2222222222222222,\"#7201a8\"],[0.3333333333333333,\"#9c179e\"],[0.4444444444444444,\"#bd3786\"],[0.5555555555555556,\"#d8576b\"],[0.6666666666666666,\"#ed7953\"],[0.7777777777777778,\"#fb9f3a\"],[0.8888888888888888,\"#fdca26\"],[1.0,\"#f0f921\"]]}],\"mesh3d\":[{\"type\":\"mesh3d\",\"colorbar\":{\"outlinewidth\":0,\"ticks\":\"\"}}],\"scatter\":[{\"fillpattern\":{\"fillmode\":\"overlay\",\"size\":10,\"solidity\":0.2},\"type\":\"scatter\"}],\"parcoords\":[{\"type\":\"parcoords\",\"line\":{\"colorbar\":{\"outlinewidth\":0,\"ticks\":\"\"}}}],\"scatterpolargl\":[{\"type\":\"scatterpolargl\",\"marker\":{\"colorbar\":{\"outlinewidth\":0,\"ticks\":\"\"}}}],\"bar\":[{\"error_x\":{\"color\":\"#2a3f5f\"},\"error_y\":{\"color\":\"#2a3f5f\"},\"marker\":{\"line\":{\"color\":\"#E5ECF6\",\"width\":0.5},\"pattern\":{\"fillmode\":\"overlay\",\"size\":10,\"solidity\":0.2}},\"type\":\"bar\"}],\"scattergeo\":[{\"type\":\"scattergeo\",\"marker\":{\"colorbar\":{\"outlinewidth\":0,\"ticks\":\"\"}}}],\"scatterpolar\":[{\"type\":\"scatterpolar\",\"marker\":{\"colorbar\":{\"outlinewidth\":0,\"ticks\":\"\"}}}],\"histogram\":[{\"marker\":{\"pattern\":{\"fillmode\":\"overlay\",\"size\":10,\"solidity\":0.2}},\"type\":\"histogram\"}],\"scattergl\":[{\"type\":\"scattergl\",\"marker\":{\"colorbar\":{\"outlinewidth\":0,\"ticks\":\"\"}}}],\"scatter3d\":[{\"type\":\"scatter3d\",\"line\":{\"colorbar\":{\"outlinewidth\":0,\"ticks\":\"\"}},\"marker\":{\"colorbar\":{\"outlinewidth\":0,\"ticks\":\"\"}}}],\"scattermapbox\":[{\"type\":\"scattermapbox\",\"marker\":{\"colorbar\":{\"outlinewidth\":0,\"ticks\":\"\"}}}],\"scatterternary\":[{\"type\":\"scatterternary\",\"marker\":{\"colorbar\":{\"outlinewidth\":0,\"ticks\":\"\"}}}],\"scattercarpet\":[{\"type\":\"scattercarpet\",\"marker\":{\"colorbar\":{\"outlinewidth\":0,\"ticks\":\"\"}}}],\"carpet\":[{\"aaxis\":{\"endlinecolor\":\"#2a3f5f\",\"gridcolor\":\"white\",\"linecolor\":\"white\",\"minorgridcolor\":\"white\",\"startlinecolor\":\"#2a3f5f\"},\"baxis\":{\"endlinecolor\":\"#2a3f5f\",\"gridcolor\":\"white\",\"linecolor\":\"white\",\"minorgridcolor\":\"white\",\"startlinecolor\":\"#2a3f5f\"},\"type\":\"carpet\"}],\"table\":[{\"cells\":{\"fill\":{\"color\":\"#EBF0F8\"},\"line\":{\"color\":\"white\"}},\"header\":{\"fill\":{\"color\":\"#C8D4E3\"},\"line\":{\"color\":\"white\"}},\"type\":\"table\"}],\"barpolar\":[{\"marker\":{\"line\":{\"color\":\"#E5ECF6\",\"width\":0.5},\"pattern\":{\"fillmode\":\"overlay\",\"size\":10,\"solidity\":0.2}},\"type\":\"barpolar\"}],\"pie\":[{\"automargin\":true,\"type\":\"pie\"}]},\"layout\":{\"autotypenumbers\":\"strict\",\"colorway\":[\"#636efa\",\"#EF553B\",\"#00cc96\",\"#ab63fa\",\"#FFA15A\",\"#19d3f3\",\"#FF6692\",\"#B6E880\",\"#FF97FF\",\"#FECB52\"],\"font\":{\"color\":\"#2a3f5f\"},\"hovermode\":\"closest\",\"hoverlabel\":{\"align\":\"left\"},\"paper_bgcolor\":\"white\",\"plot_bgcolor\":\"#E5ECF6\",\"polar\":{\"bgcolor\":\"#E5ECF6\",\"angularaxis\":{\"gridcolor\":\"white\",\"linecolor\":\"white\",\"ticks\":\"\"},\"radialaxis\":{\"gridcolor\":\"white\",\"linecolor\":\"white\",\"ticks\":\"\"}},\"ternary\":{\"bgcolor\":\"#E5ECF6\",\"aaxis\":{\"gridcolor\":\"white\",\"linecolor\":\"white\",\"ticks\":\"\"},\"baxis\":{\"gridcolor\":\"white\",\"linecolor\":\"white\",\"ticks\":\"\"},\"caxis\":{\"gridcolor\":\"white\",\"linecolor\":\"white\",\"ticks\":\"\"}},\"coloraxis\":{\"colorbar\":{\"outlinewidth\":0,\"ticks\":\"\"}},\"colorscale\":{\"sequential\":[[0.0,\"#0d0887\"],[0.1111111111111111,\"#46039f\"],[0.2222222222222222,\"#7201a8\"],[0.3333333333333333,\"#9c179e\"],[0.4444444444444444,\"#bd3786\"],[0.5555555555555556,\"#d8576b\"],[0.6666666666666666,\"#ed7953\"],[0.7777777777777778,\"#fb9f3a\"],[0.8888888888888888,\"#fdca26\"],[1.0,\"#f0f921\"]],\"sequentialminus\":[[0.0,\"#0d0887\"],[0.1111111111111111,\"#46039f\"],[0.2222222222222222,\"#7201a8\"],[0.3333333333333333,\"#9c179e\"],[0.4444444444444444,\"#bd3786\"],[0.5555555555555556,\"#d8576b\"],[0.6666666666666666,\"#ed7953\"],[0.7777777777777778,\"#fb9f3a\"],[0.8888888888888888,\"#fdca26\"],[1.0,\"#f0f921\"]],\"diverging\":[[0,\"#8e0152\"],[0.1,\"#c51b7d\"],[0.2,\"#de77ae\"],[0.3,\"#f1b6da\"],[0.4,\"#fde0ef\"],[0.5,\"#f7f7f7\"],[0.6,\"#e6f5d0\"],[0.7,\"#b8e186\"],[0.8,\"#7fbc41\"],[0.9,\"#4d9221\"],[1,\"#276419\"]]},\"xaxis\":{\"gridcolor\":\"white\",\"linecolor\":\"white\",\"ticks\":\"\",\"title\":{\"standoff\":15},\"zerolinecolor\":\"white\",\"automargin\":true,\"zerolinewidth\":2},\"yaxis\":{\"gridcolor\":\"white\",\"linecolor\":\"white\",\"ticks\":\"\",\"title\":{\"standoff\":15},\"zerolinecolor\":\"white\",\"automargin\":true,\"zerolinewidth\":2},\"scene\":{\"xaxis\":{\"backgroundcolor\":\"#E5ECF6\",\"gridcolor\":\"white\",\"linecolor\":\"white\",\"showbackground\":true,\"ticks\":\"\",\"zerolinecolor\":\"white\",\"gridwidth\":2},\"yaxis\":{\"backgroundcolor\":\"#E5ECF6\",\"gridcolor\":\"white\",\"linecolor\":\"white\",\"showbackground\":true,\"ticks\":\"\",\"zerolinecolor\":\"white\",\"gridwidth\":2},\"zaxis\":{\"backgroundcolor\":\"#E5ECF6\",\"gridcolor\":\"white\",\"linecolor\":\"white\",\"showbackground\":true,\"ticks\":\"\",\"zerolinecolor\":\"white\",\"gridwidth\":2}},\"shapedefaults\":{\"line\":{\"color\":\"#2a3f5f\"}},\"annotationdefaults\":{\"arrowcolor\":\"#2a3f5f\",\"arrowhead\":0,\"arrowwidth\":1},\"geo\":{\"bgcolor\":\"white\",\"landcolor\":\"#E5ECF6\",\"subunitcolor\":\"white\",\"showland\":true,\"showlakes\":true,\"lakecolor\":\"white\"},\"title\":{\"x\":0.05},\"mapbox\":{\"style\":\"light\"}}},\"xaxis\":{\"title\":{\"text\":\"X\"},\"showline\":true,\"linewidth\":2,\"linecolor\":\"black\",\"mirror\":true},\"yaxis\":{\"title\":{\"text\":\"Y\"},\"showline\":true,\"linewidth\":2,\"linecolor\":\"black\",\"mirror\":true},\"title\":{\"text\":\"Parcels AFTER cleaning\"},\"showlegend\":false,\"plot_bgcolor\":\"rgba(0,0,0,0)\"},                        {\"responsive\": true}                    ).then(function(){\n",
       "                            \n",
       "var gd = document.getElementById('d02c142f-fcc2-4d76-a2e2-a286644573e8');\n",
       "var x = new MutationObserver(function (mutations, observer) {{\n",
       "        var display = window.getComputedStyle(gd).display;\n",
       "        if (!display || display === 'none') {{\n",
       "            console.log([gd, 'removed!']);\n",
       "            Plotly.purge(gd);\n",
       "            observer.disconnect();\n",
       "        }}\n",
       "}});\n",
       "\n",
       "// Listen for the removal of the full notebook cells\n",
       "var notebookContainer = gd.closest('#notebook-container');\n",
       "if (notebookContainer) {{\n",
       "    x.observe(notebookContainer, {childList: true});\n",
       "}}\n",
       "\n",
       "// Listen for the clearing of the current output cell\n",
       "var outputEl = gd.closest('.output');\n",
       "if (outputEl) {{\n",
       "    x.observe(outputEl, {childList: true});\n",
       "}}\n",
       "\n",
       "                        })                };                });            </script>        </div>"
      ]
     },
     "metadata": {},
     "output_type": "display_data"
    }
   ],
   "source": [
    "data5 = customFetchAll(\"SELECT id, geotypes, ST_AsText(geom) as geometry from BPN_Test\")\n",
    "# print(data5)\n",
    "plotAfter(data5)\n"
   ]
  },
  {
   "cell_type": "code",
   "execution_count": 123,
   "id": "b2b40f6e",
   "metadata": {},
   "outputs": [],
   "source": [
    "# instanciate the class and methods of geometry  Class\n",
    "\n",
    "### first instanciate the geometry class by filling up the constructor\n",
    "## the sequence is name of the table, coordinate, and the SRID \n",
    "# BPNGeom_line = Geometry(\"BPN\",EgLinestring,\"4326\")\n",
    "# BPNGeom_Poly = Geometry(\"BragaTest\",EgPolygon2,\"4326\")\n",
    "BPNGeom_Poly = Geometry(\"BPN_Test\",Example,\"32748\")\n",
    "\n",
    "\n",
    "## initiate the table \n",
    "# BPNGeom_line = BPNGeom_line.initTable()\n",
    "# BPNGeom_Poly = BPNGeom_Poly.initTable()\n",
    " \n",
    "## delete the current table \n",
    "# BPNGeom_line.deleteTable()\n",
    "# BPNGeom_Poly.deleteTable()\n",
    "\n",
    "## convert the coordinate into Point and insert the each line into the database\n",
    "# BPNPoint = BPNGeom_line.convertPoint()\n",
    "\n",
    "## convert the coordinate into linestring and insert the each line into the database\n",
    "# BPNLine = BPNGeom_line.convertLinestring()\n",
    "\n",
    "## convert the coordinate into Polygon and insert the each line into the database\n",
    "# it only applied when all the coordinate inside the list is morethan 4 \n",
    "# BPNPoly = BPNGeom_Poly.convertPolygon()\n",
    "\n",
    "### Analysis part \n",
    "\n",
    "## these analysis are merely for linestring\n",
    "## to check if there is any duplicate data point\n",
    "# BPNGeom_line.checkDuplicate()\n",
    "\n",
    "## to check the minimum length\n",
    "# BPNGeom_line.checkShortlength()\n",
    "## check if the linestring is not closed\n",
    "# BPNGeom_line.checkIsclosed()\n",
    "## to check if there is intersection between linestring \n",
    "# BPNGeom_line.checkCrosses(\"Linestring\")\n",
    "\n",
    "### these analysis are merely for Polygon\n",
    "## to check if there is any duplicate data point\n",
    "# BPNGeom_Poly.checkDuplicate()\n",
    "\n",
    "## to check the mininmum area\n",
    "# BPNGeom_Poly.checkShortArea()\n",
    "\n",
    "## to check whether the polygon close properly or not (if short degenerate or intersect or over degenerate) will return the last point \n",
    "# BPNGeom_Poly.checkIsValid(\"Polygon\")\n",
    "\n",
    "## to check if there is intersection between polygon \n",
    "# resultCrosses = BPNGeom_Poly.checkCrosses(\"Polygon\")\n",
    "# resultCrosses[1]\n",
    "\n",
    "## to check if there is pseudo node\n",
    "# BPNGeom_Poly.pseudo_node('Polygon')\n",
    "\n",
    "## to check if there is object in a cluster within 1 meter \n",
    "# BPNGeom_Poly.checkCluster()\n",
    "\n",
    "\n",
    "### these part are for analysis implementation(cleaning)\n",
    "## to split intersect polygon\n",
    "# BPNGeom_Poly.splitPolygons(resultCrosses[1])\n",
    "\n",
    "## to resolve short degenerate and self intersect \n",
    "# BPNGeom_Poly.selfIntersect()\n",
    "\n",
    "## to remove duplicate point \n",
    "# BPNGeom_Poly.repeatPoints()\n",
    "\n",
    "## to clean pseudonode\n",
    "# BPNGeom_Poly.cleanPseudoNode(\"Polygon\")\n",
    "\n",
    "## to clean the polygon that has area below 1sqm\n",
    "# BPNGeom_Poly.removeShortArea\n",
    "\n",
    "## to clean the LineString that has length below 1m\n",
    "# BPNGeom_line.removeShortLength\n",
    "\n",
    "\n",
    "# # inspect.table and visualization\n",
    "# BPNGeom_line.inspectTable(BPNGeom_line.customQuery(f\"SELECT * from BPN\"))\n",
    "\n",
    "\n",
    "# BPNGeom_Poly.inspectTable(BPNGeom_Poly.customQuery(f\"SELECT * from BPN\"))\n",
    "\n",
    "# data = BPNGeom_Poly.customFetchAll(\"select id, geotypes, ST_AsText(geom) as geometry from BPNUTM where geotypes='Polygon'\")\n",
    "# print(data)\n",
    "\n",
    "# data2 = BPNGeom_Poly.customFetchAll(\"select id, ST_Area(ST_Transform(geom, 32748),32748) as geometry from BPNUTM \")\n",
    "# print(data2)\n",
    "\n",
    "# data3 = BPNGeom_Poly.customFetchAll(\"SELECT ST_Area(ST_Transform(ST_GeomFromText(ST_AsText(geom), 32748), 32748)) as area from BPNUTM\")\n",
    "# print(data3)\n",
    "\n",
    "\n",
    "# BPNGeom_Poly.wkt2map(data)\n",
    "\n",
    "# data =[(1, 2), (1, 5)]\n",
    "# for r1_id, r2_id in data:\n",
    "#     print(r1_id, r2_id)\n",
    "\n",
    "# cursor.execute(\"INSERT INTO BPN (geotypes, geom) VALUES ('Polygon', ST_GeomFromText('POLYGON((0 10, 0 20, 10 20, 10 10, 0 10))', 4326));\")\n",
    "# conn.commit()\n",
    "\n",
    "# data = BPNGeom_Poly.customFetchAll(\"select id from BPN_Test\")\n",
    "# print(data)\n",
    "\n",
    "# print(\"\")\n",
    "\n",
    "# data4 = BPNGeom_Poly.customFetchAll(\"SELECT ST_Area(ST_Transform(geom, 32748)) as area from BPNUTM where id=1\")\n",
    "# print(data4)\n",
    "\n",
    "# print(\"\")\n",
    "\n",
    "# data5 = BPNGeom_Poly.customFetchAll(\"SELECT ST_Area(ST_Transform(geom, 4326)) as area from BPNUTM where id=3\")\n",
    "# print(data5)\n",
    "\n"
   ]
  }
 ],
 "metadata": {
  "kernelspec": {
   "display_name": "Python 3 (ipykernel)",
   "language": "python",
   "name": "python3"
  },
  "language_info": {
   "codemirror_mode": {
    "name": "ipython",
    "version": 3
   },
   "file_extension": ".py",
   "mimetype": "text/x-python",
   "name": "python",
   "nbconvert_exporter": "python",
   "pygments_lexer": "ipython3",
   "version": "3.9.2"
  }
 },
 "nbformat": 4,
 "nbformat_minor": 5
}
