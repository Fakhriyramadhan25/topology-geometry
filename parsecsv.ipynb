{
 "cells": [
  {
   "cell_type": "code",
   "execution_count": 296,
   "id": "31f48db7",
   "metadata": {},
   "outputs": [
    {
     "name": "stdout",
     "output_type": "stream",
     "text": [
      "Requirement already satisfied: plotly in c:\\users\\user\\appdata\\roaming\\python\\python39\\site-packages (5.20.0)\n",
      "Requirement already satisfied: tenacity>=6.2.0 in c:\\users\\user\\appdata\\roaming\\python\\python39\\site-packages (from plotly) (8.2.3)\n",
      "Requirement already satisfied: packaging in c:\\users\\user\\appdata\\roaming\\python\\python39\\site-packages (from plotly) (21.3)\n",
      "Requirement already satisfied: pyparsing!=3.0.5,>=2.0.2 in c:\\users\\user\\appdata\\roaming\\python\\python39\\site-packages (from packaging->plotly) (3.0.9)\n",
      "\n",
      "[notice] A new release of pip available: 22.2 -> 24.0\n",
      "[notice] To update, run: C:\\Python39\\python.exe -m pip install --upgrade pip\n"
     ]
    },
    {
     "name": "stderr",
     "output_type": "stream",
     "text": [
      "WARNING: Ignoring invalid distribution -ip (c:\\python39\\lib\\site-packages)\n",
      "WARNING: Ignoring invalid distribution -ip (c:\\python39\\lib\\site-packages)\n"
     ]
    }
   ],
   "source": [
    "# Install a pip package in the current Jupyter kernel\n",
    "import sys\n",
    "!{sys.executable} -m pip install plotly"
   ]
  },
  {
   "cell_type": "code",
   "execution_count": 32,
   "id": "c63f4e15",
   "metadata": {},
   "outputs": [
    {
     "data": {
      "text/plain": [
       "<sqlite3.Cursor at 0x22673d68e30>"
      ]
     },
     "execution_count": 32,
     "metadata": {},
     "output_type": "execute_result"
    }
   ],
   "source": [
    "import sqlite3\n",
    "import os\n",
    "import pandas as pd\n",
    "from shapely.geometry import LineString\n",
    "from shapely.geometry.polygon import Polygon\n",
    "from shapely.geometry import Point\n",
    "import geopandas as gpd\n",
    "from shapely import wkt\n",
    "import folium\n",
    "\n",
    "from shapely.geometry import MultiPolygon, Polygon\n",
    "from shapely.wkt import loads\n",
    "import re\n",
    "\n",
    "import numpy as np\n",
    "import matplotlib.pyplot as plt\n",
    "\n",
    "import geopandas as gpd\n",
    "\n",
    "\n",
    "spatialite_path = \"C:/Users/user/Documents/mod_spatialite-5.1.0-win-amd64\"\n",
    "os.environ[\"PATH\"] = spatialite_path + \";\" + os.environ[\"PATH\"]\n",
    "\n",
    "# create a new sqlite data base\n",
    "conn = sqlite3.connect(\"BPN_1.sqlite\")\n",
    "conn.enable_load_extension(True)\n",
    "conn.load_extension(\"mod_spatialite\")\n",
    "\n",
    "# mod_spatialite (recommended)\n",
    "conn.execute('SELECT load_extension(\"mod_spatialite\")')\n",
    "\n",
    "# Create a cursor object to execute SQL queries\n",
    "cursor = conn.cursor()\n",
    "\n",
    "# initiate a spatial metadata for the sqlite database \n",
    "cursor.execute(\"SELECT InitSpatialMetadata(1);\")\n",
    "\n"
   ]
  },
  {
   "cell_type": "code",
   "execution_count": 33,
   "id": "7878a4e1",
   "metadata": {},
   "outputs": [
    {
     "name": "stdout",
     "output_type": "stream",
     "text": [
      "('5.1.0',)\n",
      "('3.45.1',)\n"
     ]
    }
   ],
   "source": [
    "# Checking spatialite version \n",
    "res = cursor.execute(\"SELECT spatialite_version()\")\n",
    "print(res.fetchone())\n",
    "\n",
    "# Checking Sqlite Version\n",
    "res1 = cursor.execute(\"SELECT sqlite_version()\")\n",
    "print(res1.fetchone())"
   ]
  },
  {
   "cell_type": "code",
   "execution_count": 34,
   "id": "a1b6d112",
   "metadata": {},
   "outputs": [],
   "source": [
    "# import pandas module  \n",
    "import pandas as pd \n",
    "import ast\n",
    "\n",
    "\n",
    "def csv2coord(file):\n",
    "    result = []\n",
    "    # making dataframe  \n",
    "    df = pd.read_csv(file)  \n",
    "    vertices = df.vertices_str \n",
    "    \n",
    "    for x in vertices:\n",
    "        temp = ast.literal_eval(x)\n",
    "        templist = []\n",
    "        for y in temp:\n",
    "            templist.append([y[0], y[1]])\n",
    "        result.append(templist)\n",
    "    \n",
    "    return result\n",
    "\n",
    "# Example = csv2coord(\"dataRekap.csv\")\n",
    "# Example = csv2coord(\"testtopo.csv\")\n",
    "\n",
    "# print(Example)"
   ]
  },
  {
   "cell_type": "code",
   "execution_count": 35,
   "id": "b3fca34c",
   "metadata": {},
   "outputs": [],
   "source": [
    "import matplotlib.pyplot as plt\n",
    "import re\n",
    "\n",
    "def customQuery(Query):\n",
    "    database = sqlite3.connect('BPN_1.sqlite')\n",
    "    dataframe = pd.read_sql_query(Query, database)\n",
    "#     print(dataframe)\n",
    "    return dataframe\n",
    "    \n",
    "# second = customQuery(\"select ST_Intersects(r1.geom, r2.geom) as check1 from spatial_data r1 cross join spatial_data r2 where r1.id = 4 and r2.id = 2;\")\n",
    "\n",
    "def customFetch(Fetch):\n",
    "    Fetch = Fetch\n",
    "    cursor.execute(Fetch)\n",
    "    res = cursor.fetchone()\n",
    "    return res[0]\n",
    "\n",
    "def customFetchAll(Fetch):\n",
    "#     cursor.execute(\"select ST_Touches(r1.geom, r2.geom) as check1 from spatial_data r1 cross join spatial_data r2 where r1.id = 4 and r2.id = 2;\")\n",
    "    cursor.execute(Fetch)\n",
    "    res = cursor.fetchall()\n",
    "#     print(res)\n",
    "    return res\n",
    "\n",
    "\n",
    "def plotpolygon(data, figsize=(10, 10), point_size=100):\n",
    "    plt.figure(figsize=figsize)\n",
    "    \n",
    "    # Initialize plot limits\n",
    "    x_min, x_max, y_min, y_max = float('inf'), float('-inf'), float('inf'), float('-inf')\n",
    "\n",
    "    for item in data:\n",
    "        # Extract the polygon points from the item\n",
    "        polygon_string = item[2]\n",
    "        # Use regular expressions to find all numbers in the string\n",
    "        numbers = re.findall(r'[-+]?\\d*\\.\\d+|\\d+', polygon_string)\n",
    "        # Convert the string numbers to floats and pair them as points\n",
    "        points = [(float(numbers[i]), float(numbers[i + 1])) for i in range(0, len(numbers), 2)]\n",
    "        \n",
    "        # Separate the x and y coordinates for plotting\n",
    "        x = [point[0] for point in points]\n",
    "        y = [point[1] for point in points]\n",
    "        \n",
    "        # Update plot limits\n",
    "        x_min, x_max = min(x_min, min(x)), max(x_max, max(x))\n",
    "        y_min, y_max = min(y_min, min(y)), max(y_max, max(y))\n",
    "\n",
    "        # Plot the polygon\n",
    "        plt.fill(x, y, alpha=0)  # Fill the polygon with half transparency\n",
    "        plt.plot(x, y, 'r-')  # Outline the polygon in red\n",
    "        \n",
    "        # Plot the points with increased size\n",
    "        plt.scatter(x, y, color='yellow', edgecolor='black', s=point_size, zorder=5)\n",
    "        \n",
    "        # Annotate points with their coordinates\n",
    "#         for i, txt in enumerate(points):\n",
    "#             plt.annotate(f'({txt[0]}, {txt[1]})', (txt[0], txt[1]), textcoords=\"offset points\", xytext=(0,10), ha='center')\n",
    "\n",
    "    plt.xlim(x_min - 1, x_max + 1)\n",
    "    plt.ylim(y_min - 1, y_max + 1)\n",
    "    plt.xlabel('X')\n",
    "    plt.ylabel('Y')\n",
    "    plt.title('Multiple Polygons Plot with Points')\n",
    "    plt.grid(True)\n",
    "    plt.show()\n",
    "\n",
    "# Example usage with multiple polygon data\n",
    "data = [\n",
    "    (1, 4.0, 'POLYGON((10 10, 12 10, 12 12, 10 12, 10 10))'),\n",
    "    (2, 4.0, 'POLYGON((13 10, 15 10, 15 12, 13 12, 13 10))')  # Example of another polygon\n",
    "]\n",
    "\n",
    "# plotpolygon(data, figsize=(10, 10), point_size=200)\n"
   ]
  },
  {
   "cell_type": "code",
   "execution_count": 36,
   "id": "e599a035",
   "metadata": {},
   "outputs": [],
   "source": [
    "import plotly.graph_objects as go\n",
    "import re\n",
    "\n",
    "# Your data\n",
    "data2 = [\n",
    "    [[170046.656369714, 538690.0459865994], [170066.58773438, 538688.1754761626], [170070.8320303895, 538723.1804464505], [170050.4496688225, 538724.8305879902], [170046.656369714, 538690.0459865994]],\n",
    "    [[171100.9989847714, 538247.1770387553], [171100.7881967803, 538254.0738183243]],\n",
    "    [[171199.819632471, 538405.9068421484], [171224.6684580127, 538406.148439336]],\n",
    "    [[171224.6684580127, 538406.148439336], [171224.2794046072, 538420.8933075093], [171199.5805551606, 538420.6549044631], [171199.819632471, 538405.9068421484]],\n",
    "    [[171199.819632471, 538405.9068421484], [171200.0628073911, 538391.2588605142], [171225.061608282, 538391.5037156149], [171224.6684580127, 538406.148439336]],\n",
    "    [[170183.1671263177, 538714.0709656392], [170204.063814195, 538712.3992879571], [170201.7357373573, 538683.79386787], [170198.3503241029, 538649.9125828154], [170186.160369056, 538651.2286435228], [170182.4075368875, 538652.1321094693], [170176.1497665878, 538656.6250519279], [170180.7916553698, 538691.3877633462], [170181.8964477109, 538700.7010195751], [170183.1671263177, 538714.0709656392], [170204.063814195, 538712.3992879571]],\n",
    "    [[170293.5604201219, 538643.7706410174], [170309.1592909582, 538643.5829480983], [170309.201128984, 538655.6793454782], [170293.7094431325, 538655.1717339354], [170293.5604201219, 538643.7706410174]]\n",
    "]\n",
    "\n",
    "def plotBefore(data, point_size=5):\n",
    "    fig = go.Figure()\n",
    "\n",
    "    for polygon in data:\n",
    "        x, y = zip(*polygon)\n",
    "        fig.add_trace(go.Scatter(x=x, y=y, fill='toself', mode='lines+markers', line_color='red', marker=dict(size=point_size, color='yellow', line=dict(color='black', width=2))))\n",
    "\n",
    "    # Update layout for black axis lines\n",
    "    fig.update_layout(\n",
    "        title='Parcels BEFORE cleaning',\n",
    "        plot_bgcolor='rgba(0,0,0,0)',  # Transparent background\n",
    "        xaxis_title='X',\n",
    "        yaxis_title='Y',\n",
    "        showlegend=False,\n",
    "        xaxis=dict(showline=True, linewidth=2, linecolor='black', mirror=True),\n",
    "        yaxis=dict(showline=True, linewidth=2, linecolor='black', mirror=True)\n",
    "    )\n",
    "\n",
    "    fig.show()\n",
    "\n",
    "\n",
    "def plotAfter(data, point_size=5):\n",
    "    fig = go.Figure()\n",
    "\n",
    "    for item in data:\n",
    "        # Extract the polygon points from the item\n",
    "        polygon_string = item[2]\n",
    "        # Use regular expressions to find all numbers in the string\n",
    "        numbers = re.findall(r'[-+]?\\d*\\.\\d+|\\d+', polygon_string)\n",
    "        # Convert the string numbers to floats and pair them as points\n",
    "        points = [(float(numbers[i]), float(numbers[i + 1])) for i in range(0, len(numbers), 2)]\n",
    "        x, y = zip(*points)\n",
    "\n",
    "        # Plot the polygon\n",
    "        fig.add_trace(go.Scatter(x=x, y=y, fill=\"toself\", mode='lines+markers', line_color='red', marker=dict(size=point_size, color='yellow', line=dict(color='black', width=2))))\n",
    "\n",
    "    fig.update_layout(\n",
    "        title='Parcels AFTER cleaning',\n",
    "        xaxis_title='X',\n",
    "        yaxis_title='Y',\n",
    "        showlegend=False,\n",
    "        plot_bgcolor='rgba(0,0,0,0)',\n",
    "        xaxis=dict(showline=True, linewidth=2, linecolor='black', mirror=True),\n",
    "        yaxis=dict(showline=True, linewidth=2, linecolor='black', mirror=True)\n",
    "    )\n",
    "\n",
    "    fig.show()\n",
    "\n",
    "# Example usage with multiple polygon data\n",
    "data = [\n",
    "    (1, 4.0, 'POLYGON((10 10, 12 10, 12 12, 10 12, 10 10))'),\n",
    "    (2, 4.0, 'POLYGON((13 10, 15 10, 15 12, 13 12, 13 10))')\n",
    "]\n",
    "\n"
   ]
  },
  {
   "cell_type": "code",
   "execution_count": 37,
   "id": "1ad417ea",
   "metadata": {},
   "outputs": [],
   "source": [
    "# this is the class for geometry\n",
    "class Geometry:\n",
    "###     Phase initialization \n",
    "#     constructor for geometry\n",
    "    def __init__(self, tableName, Coords, SRID):\n",
    "        self.Coords = Coords\n",
    "        self.SRID = SRID\n",
    "        self.tableName = tableName\n",
    "    \n",
    "    def initTable(self):\n",
    "        cursor.execute(f\"CREATE TABLE IF NOT EXISTS {self.tableName} (id INTEGER PRIMARY KEY, geotypes VARCHAR, geom BLOB, geom2 BLOB);\")\n",
    "        conn.commit()\n",
    "        print(f'Table successfully created with name {self.tableName} and SRID {self.SRID}')\n",
    "\n",
    "###     Phase creating point, line, and polygon\n",
    "    def convertPoint(self):\n",
    "        Point = ['Point({} {})'.format(x, y) for sublist in self.Coords for x, y in sublist]\n",
    "        for x in Point:\n",
    "            print(f\"INSERT INTO {self.tableName} (geotypes, geom) VALUES ('Point', ST_GeomFromText('{x}',{self.SRID}));\")\n",
    "#             cursor.execute(f\"INSERT INTO {self.tableName} (geotypes, geom) VALUES ('Point', ST_GeomFromText('{x}',{self.SRID}));\")\n",
    "        conn.commit()\n",
    "        print(f\"Point successfully inserted into {self.tableName}\")\n",
    "        return self\n",
    "\n",
    "    def convertLinestring(self):\n",
    "        Line = [LineString(points) for points in self.Coords]\n",
    "        for x in Line:\n",
    "            print(f\"INSERT INTO {self.tableName} (geotypes, geom) VALUES ('Linestring', ST_GeomFromText('{x}',{self.SRID}));\")\n",
    "            cursor.execute(f\"INSERT INTO {self.tableName} (geotypes, geom) VALUES ('Linestring', ST_GeomFromText('{x}',{self.SRID}));\")\n",
    "        conn.commit()\n",
    "        print(f\"LineString successfully inserted into {self.tableName}\")\n",
    "        return self\n",
    "\n",
    "    def convertPolygon(self):\n",
    "        failpolygons = [points for points in self.Coords if len(points) <= 2]\n",
    "        Poly = [Polygon(points) for points in self.Coords if len(points) > 2]\n",
    "        Line = [LineString(points) for points in self.Coords if len(points) > 2]\n",
    "#         print(Poly)\n",
    "        for x in range(0, len(Poly)):\n",
    "#             print(f\"INSERT INTO {self.tableName} (geotypes, geom, geom2) VALUES ('Polygon', ST_GeomFromText('{Poly[x]}',{self.SRID}), ST_GeomFromText('{Line[x]}',{self.SRID}));\")\n",
    "            cursor.execute(f\"INSERT INTO {self.tableName} (geotypes, geom, geom2) VALUES ('Polygon', ST_GeomFromText('{Poly[x]}',{self.SRID}), ST_GeomFromText('{Line[x]}',{self.SRID}));\")\n",
    "#         for x in Poly:\n",
    "#             print(f\"INSERT INTO {self.tableName} (geotypes, geom, geom2) VALUES ('Polygon', ST_GeomFromText('{x}',{self.SRID}), ST_GeomFromText('{x}',{self.SRID}));\")\n",
    "#             cursor.execute(f\"INSERT INTO {self.tableName} (geotypes, geom, geom2) VALUES ('Polygon', ST_GeomFromText('{x}',{self.SRID}));\")\n",
    "        conn.commit()\n",
    "        print(f\"Polygon successfully inserted into {self.tableName}\")\n",
    "        return self\n",
    "    \n",
    "###     Custom Query and Fetch        \n",
    "    def customQuery(self, Query): \n",
    "        self.Query = Query\n",
    "        database = sqlite3.connect('BPN_1.sqlite')\n",
    "        dataframe = pd.read_sql_query(self.Query, database)\n",
    "        return dataframe\n",
    "    \n",
    "    def customFetchOne(self, Fetch):\n",
    "        self.Fetch = Fetch\n",
    "        cursor.execute(self.Fetch)\n",
    "        res = cursor.fetchone()\n",
    "        return res[0]\n",
    "    \n",
    "    def customFetchAll(self, Fetch):\n",
    "        self.Fetch = Fetch\n",
    "        cursor.execute(self.Fetch)\n",
    "        self.res = cursor.fetchall()\n",
    "        return self.res\n",
    "\n",
    "\n",
    "###     Phase geometry analysis \n",
    "    #     method to check duplicate and return the location and value of the duplicate data \n",
    "    def conv2coor(self, data):\n",
    "        Coords = [\n",
    "            [[int(coord) for coord in point.split()] \n",
    "             for point in re.findall(r'(\\d+ \\d+)', polygon[0])] \n",
    "            for polygon in data\n",
    "        ]\n",
    "        return Coords\n",
    "\n",
    "    \n",
    "    def checkDuplicate(self, Coords):\n",
    "        duplicate = []\n",
    "    #       to store the unique value \n",
    "        seen_elements = set()\n",
    "    #     accessing the index through enumerate\n",
    "        for i, sublist in enumerate(Coords):\n",
    "            for j, element in enumerate(sublist):\n",
    "                if tuple(element) in seen_elements and tuple(element) != tuple(sublist[len(sublist)-1]):\n",
    "#                     print(f'Duplicate found at location ({i}, {j}): {element}')\n",
    "                    duplicate.append(tuple(element))\n",
    "                else:\n",
    "                    seen_elements.add(tuple(element))\n",
    "        Lduplicate= len(duplicate)\n",
    "        return [duplicate, Lduplicate]\n",
    "\n",
    "    # resDuplicate = checkDuplicate(Coords)\n",
    "\n",
    "    def resDuplicate(self):\n",
    "        singleData = self.customFetchAll(f\"select id from {self.tableName}\")\n",
    "        totalDupl = 0\n",
    "        resDuplicate = []\n",
    "        for x in singleData: \n",
    "            singleResult = self.customFetchAll(f\"select ST_AsText(geom) from {self.tableName} where id={x[0]}\")\n",
    "            singleCoords = self.conv2coor(singleResult)\n",
    "            tempDuplicate = self.checkDuplicate(singleCoords)\n",
    "            if tempDuplicate[1] == 1:\n",
    "                totalDupl = totalDupl+1\n",
    "                resDuplicate.append(tempDuplicate[0])\n",
    "#         print(totalDupl)\n",
    "#         print(resDuplicate)\n",
    "        \n",
    "        return [resDuplicate, totalDupl]\n",
    "    \n",
    "\n",
    "    def checkCrosses(self, types): \n",
    "        self.resCrosses = []\n",
    "        self.result_geom = []\n",
    "        self.dataCross = []\n",
    "        df = self.customQuery(f\"select id from {self.tableName} where geotypes='{types}'\")\n",
    "        col_list = df[\"id\"].values.tolist()\n",
    "        for i in range(len(col_list)):\n",
    "            for j in range(i + 1, len(col_list)):\n",
    "                test = self.customFetchOne(f\"select ST_Overlaps(r1.geom, r2.geom) as check1 from {self.tableName} r1 cross join {self.tableName} r2 where r1.id = {col_list[i]} and r2.id = {col_list[j]};\")\n",
    "                if test == 1:\n",
    "#                     print(\"intersect in polygon id\")\n",
    "#                     print(col_list[i], col_list[j])\n",
    "                    data_intersect = tuple((col_list[i], col_list[j]))\n",
    "                    self.dataCross.append(data_intersect)\n",
    "                    self.resCrosses.append(col_list[i])\n",
    "\n",
    "        for i in self.resCrosses:      \n",
    "            dataFetch = self.customFetchOne(f\"select asText(geom) from {self.tableName} where id={i}\")\n",
    "            self.result_geom.append(dataFetch)\n",
    "#         print(\"objects that are crossed:\")\n",
    "#         print(self.result_geom)\n",
    "#         print(self.dataCross)\n",
    "        self.LcheckCrosses= len(self.dataCross)\n",
    "\n",
    "        return [self.result_geom, self.dataCross, self.LcheckCrosses]\n",
    "    \n",
    "\n",
    "    def checkIsclosed(self):\n",
    "        dataList = self.customFetchAll(f\"SELECT id, ST_IsClosed(geom) as close, asText(geom) from {self.tableName} where geotypes='Linestring'\")\n",
    "        self.resClose = []\n",
    "        self.resCpoint = []\n",
    "         # Iterate over each tuple in the list\n",
    "        for item in dataList:\n",
    "            # Check if the second value (index 1) is less than 1\n",
    "            if item[1] == 0:\n",
    "                # If it is, append the entire tuple to the result list\n",
    "                self.resClose.append(item)\n",
    "#         print(\"The line is not closed, possibility for short or over degenerate\")\n",
    "#         print(self.resClose)\n",
    "\n",
    "        # Iterate over each tuple in the list\n",
    "        for item in self.resClose:\n",
    "            # Extract the LINESTRING string\n",
    "            linestring = item[2]\n",
    "\n",
    "            # Remove the 'LINESTRING(' and ')' parts from the string\n",
    "            coordinates_part = linestring.replace('LINESTRING(', '').replace(')', '')\n",
    "\n",
    "            # Split the string by commas and spaces to get coordinates\n",
    "            coordinates = coordinates_part.split(', ')\n",
    "\n",
    "            # Take the last coordinate and split it to get x and y\n",
    "            x, y = map(float, coordinates[-1].split())\n",
    "\n",
    "            # Create a Point object\n",
    "            point = Point(x, y)\n",
    "\n",
    "            # Append the Point object to the list\n",
    "            self.resCpoint.append(point)\n",
    "            \n",
    "        self.LcheckIsclosed= len(self.resCpoint)\n",
    "#         print(\"The end points of each unclose linestring:\")\n",
    "#         print(self.resCpoint)\n",
    "        return self.resCpoint, self.LcheckIsclosed\n",
    "            \n",
    "            \n",
    "    def checkIsValid(self, geotypes):\n",
    "        dataList = self.customFetchAll(f\"SELECT id, ST_IsValid(geom), ST_IsValidReason(geom), ST_AsText(geom) FROM {self.tableName} where geotypes='{geotypes}';\")\n",
    "        resValid = []\n",
    "        points = []\n",
    "        self.return_data = []\n",
    "        for item in dataList:\n",
    "            if item[1] == 0:\n",
    "                resValid.append((item))\n",
    "                self.return_data.append(tuple((item[0], item[3])))\n",
    "#         print(\"Polygon that has error\")\n",
    "#         print(resValid)\n",
    "\n",
    "        # Iterate over each tuple in the list\n",
    "        for item in resValid:\n",
    "            # Extract the polygon string\n",
    "            polygon_string = item[3]\n",
    "            # Remove the 'POLYGON((' and '))' parts from the string\n",
    "            coordinates_part = polygon_string.replace('POLYGON((', '').replace('))', '')\n",
    "            # Split the string by commas and spaces to get coordinates\n",
    "            coordinates = coordinates_part.split(', ')\n",
    "            # Take the last coordinate and split it to get x and y\n",
    "            x, y = map(float, coordinates[-1].split())\n",
    "            # Create a Point object\n",
    "            point = Point(x, y)\n",
    "            # Append the Point object to the list\n",
    "            points.append(point)\n",
    "        \n",
    "        self.LcheckIscloseds= len(self.return_data)\n",
    "#         print(\"The end points of each unclose polygon:\")\n",
    "#         print(points)\n",
    "        return self.return_data, self.LcheckIscloseds\n",
    "    \n",
    "    \n",
    "    def checkShortlength(self):\n",
    "        dataList = self.customFetchAll(f\"SELECT id, ST_Length(ST_Transform(geom2, {self.SRID})) as length from {self.tableName}\")    \n",
    "        # Initialize an empty list to store the tuples\n",
    "        self.resLength = []\n",
    "        # Iterate over each tuple in the list\n",
    "        for item in dataList:\n",
    "            # Check if the second value (index 1) is less than 1\n",
    "            if item[1] < 10:\n",
    "                # If it is, append the entire tuple to the result list\n",
    "                self.resLength.append(item[0])\n",
    "                \n",
    "        self.LcheckShortlength = len(self.resLength)\n",
    "#         print(\"List of Linestring that is below 1 meter\")\n",
    "#         print(self.resLength)\n",
    "        return self.resLength, self.LcheckShortlength\n",
    "\n",
    "\n",
    "    def checkShortArea(self):\n",
    "        dataList = self.customFetchAll(f\"SELECT id, ST_Area(ST_Transform(ST_GeomFromText(ST_AsText(geom), {self.SRID}), {self.SRID})) as area, asText(geom) from {self.tableName} where geotypes='Polygon'\")    \n",
    "#         print(dataList)\n",
    "        # Initialize an empty list to store the tuples\n",
    "        self.resArea = []\n",
    "        # Iterate over each tuple in the list\n",
    "        for item in dataList:\n",
    "            # Check if the second value (index 1) is less than 1\n",
    "#             print(item)\n",
    "            if item[1] < 20:\n",
    "#                 # If it is, append the entire tuple to the result list\n",
    "                self.resArea.append(item[0])\n",
    "        self.LcheckShortArea = len(self.resArea)\n",
    "#         print(\"List of Polygon that is below 1 sqm\")\n",
    "#         print(self.resArea)\n",
    "        return [self.resArea, self.LcheckShortArea]\n",
    "    \n",
    "    def checkCluster(self):\n",
    "        cluster_data = self.customFetchAll(f\"SELECT a.id AS point_id, b.id AS cluster_id, ST_Distance(a.geom, b.geom) AS distance FROM {self.tableName} AS a, {self.tableName} AS b WHERE a.id != b.id AND ST_Distance(a.geom, b.geom) < 1 AND ST_Distance(a.geom, b.geom) > 0.1\")\n",
    "        # Create a set to store unique tuples\n",
    "        unique_tuples = set()\n",
    "\n",
    "        # Iterate over the input data\n",
    "        for tuple_value in cluster_data:\n",
    "            # Check if the tuple meets the condition\n",
    "            if (tuple_value[0], tuple_value[1], tuple_value[2]) not in unique_tuples and \\\n",
    "               (tuple_value[1], tuple_value[0], tuple_value[2]) not in unique_tuples:\n",
    "                # Add the tuple to the set\n",
    "                unique_tuples.add((tuple_value[0], tuple_value[1], tuple_value[2]))\n",
    "\n",
    "        # Convert the set back to a list\n",
    "        self.unique_data = list(unique_tuples)\n",
    "        \n",
    "#         print(\"Object in a cluster within 1m: \", self.unique_data)\n",
    "        LcheckCluster = len(self.unique_data)\n",
    "        return [self.unique_data, LcheckCluster]\n",
    "    \n",
    "    \n",
    "    # Function to calculate the angle between three points\n",
    "    def calculate_angle(self, p1, p2, p3):\n",
    "        # Create vectors\n",
    "        v1 = (p1[0] - p2[0], p1[1] - p2[1])\n",
    "        v2 = (p3[0] - p2[0], p3[1] - p2[1])\n",
    "        # Calculate dot product and magnitudes\n",
    "        dot_product = np.dot(v1, v2)\n",
    "        magnitude_v1 = np.linalg.norm(v1)\n",
    "        magnitude_v2 = np.linalg.norm(v2)\n",
    "\n",
    "        # Check if magnitudes are zero to avoid division by zero\n",
    "        if magnitude_v1 == 0 or magnitude_v2 == 0:\n",
    "            return np.nan  # Return NaN or some other value indicating undefined angle\n",
    "\n",
    "        # Calculate the angle\n",
    "        cos_angle = dot_product / (magnitude_v1 * magnitude_v2)\n",
    "        # Avoid numerical issues due to floating-point arithmetic\n",
    "        cos_angle = np.clip(cos_angle, -1.0, 1.0)\n",
    "        angle = np.arccos(cos_angle)\n",
    "        return np.degrees(angle)\n",
    "\n",
    "\n",
    "    def parse_wkt(self, wkt_polygon):\n",
    "\n",
    "        # Regular expression to extract coordinates from WKT polygon\n",
    "        coord_pattern = re.compile(r'(\\d+(\\.\\d+)?)\\s+(\\d+(\\.\\d+)?)')\n",
    "\n",
    "        # Find all matches of the coordinate pattern in the WKT polygon\n",
    "        matches = coord_pattern.findall(wkt_polygon)\n",
    "\n",
    "        # Convert each match to a tuple of numerical values (x, y)\n",
    "        points = [(float(x), float(y)) for x, _, y, _ in matches]\n",
    "\n",
    "        return points\n",
    "\n",
    "    def pseudo_node(self, geotypes):\n",
    "        selected_data = self.customFetchAll(f\"select id, AsText(geom) from {self.tableName} where geotypes='{geotypes}'\")\n",
    "        # Assuming you have a table \"polygons\" with a geometry column \"geom\"\n",
    "        polygon_pseudo = []\n",
    "        pseudo_nodes = []\n",
    "\n",
    "        # Fetch the WKT representation of the polygon\n",
    "        for wkt in selected_data: \n",
    "            # # Assuming you have a function to parse WKT and extract points\n",
    "            # # This needs to be implemented based on your specific WKT format\n",
    "            points = self.parse_wkt(wkt[1])  # Implement this function to extract points from WKT\n",
    "\n",
    "            pseudo_node_count = 0\n",
    "            # Adjust the angle threshold to detect angles significantly less than 180 degrees\n",
    "            angle_threshold = 10  # Degrees\n",
    "\n",
    "            # Initialize a list to store the indices of pseudo nodes\n",
    "            \n",
    "            \n",
    "\n",
    "            # Calculate angles and identify pseudo nodes\n",
    "            for i in range(len(points)):\n",
    "                p1 = points[i - 1]  # Previous point\n",
    "                p2 = points[i]      # Current point\n",
    "                p3 = points[(i + 1) % len(points)]  # Next point, wrapping around using modulo\n",
    "\n",
    "                angle = self.calculate_angle(p1, p2, p3)\n",
    "                # Look for angles significantly less than 180 degrees\n",
    "#                 print(angle)\n",
    "                if angle < angle_threshold or angle == 180:\n",
    "                    pseudo_nodes.append(i)\n",
    "                    polygon_pseudo.append(wkt)\n",
    "\n",
    "            # The count of pseudo nodes is the length of the pseudo_nodes list\n",
    "\n",
    "#             print(\"Indices of pseudo nodes:\", pseudo_nodes)\n",
    "#             print(\"Number of pseudo nodes:\", pseudo_node_count)\n",
    "        \n",
    "        self.Lpseudo_node = len(pseudo_nodes)\n",
    "        return [self.Lpseudo_node, polygon_pseudo]\n",
    "\n",
    "    \n",
    "## Phase: Cleaning\n",
    "    \n",
    "    def removeShortArea(self,data):\n",
    "        for x in data:\n",
    "            cursor.execute(f\"delete from {self.tableName} where id={x[0]}\")\n",
    "        conn.commit()\n",
    "        print(\"The polygon that below 10sqm has been deleted\")\n",
    "        \n",
    "    def removeShortLength(self,data):\n",
    "        for x in data:\n",
    "            cursor.execute(f\"delete from {self.tableName} where id={x[0]}\")\n",
    "        conn.commit()\n",
    "        print(\"The polygon that below 10sqm has been deleted\")\n",
    "    \n",
    "    def splitPolygons(self,data):\n",
    "        for r1_id, r2_id in data:\n",
    "            split_data = self.customFetchOne(f\"SELECT ST_AsText(ST_Intersection(r1.geom, r2.geom)) FROM {self.tableName} r1 CROSS JOIN {self.tableName} r2 WHERE r1.id = {r1_id} AND r2.id = {r2_id};\")\n",
    "            remain_data1 = self.customFetchOne(f\"select ST_AsText(ST_Difference(r2.geom, r1.geom)) from {self.tableName} r1 cross join {self.tableName} r2 where r1.id = {r1_id} and r2.id = {r2_id};\")\n",
    "            remain_data2 = self.customFetchOne(f\"select ST_AsText(ST_Difference(r1.geom, r2.geom)) from {self.tableName} r1 cross join {self.tableName} r2 where r1.id = {r1_id} and r2.id = {r2_id};\")\n",
    "    \n",
    "#             insert into the table\n",
    "            cursor.execute(f\"INSERT INTO {self.tableName} (geotypes, geom) VALUES ('Polygon', ST_GeomFromText('{split_data[0]}', {self.SRID}));\")\n",
    "            cursor.execute(f\"INSERT INTO {self.tableName} (geotypes, geom) VALUES ('Polygon', ST_GeomFromText('{remain_data1[0]}', {self.SRID}));\")\n",
    "            cursor.execute(f\"INSERT INTO {self.tableName} (geotypes, geom) VALUES ('Polygon', ST_GeomFromText('{remain_data2[0]}', {self.SRID}));\") \n",
    "        conn.commit()\n",
    "        print(\"Polygon successfully splitted\") \n",
    "        return self\n",
    "        \n",
    "    def sanitizeGeom(self, data):\n",
    "        for identity in data:\n",
    "            sanitize_data = self.customFetchOne(f\"select ST_AsText(SanitizeGeometry(geom)) from {self.tableName} where id={identity}\")\n",
    "    #         new_geom = self.customFetchOne(f\"INSERT INTO spatial_data (geotypes, geom) VALUES ('Polygon', ST_GeomFromText('{sanitize_data}',4326));\")\n",
    "            conn.commit()(f\"UPDATE {self.tableName} SET geom=ST_GeomFromText('{sanitize_data}', {self.SRID}) WHERE id={identity}\")\n",
    "        \n",
    "    def closingRing(self,data):\n",
    "        for identity in data:\n",
    "            closing_data = self.customFetchOne(f\"select ST_AsText(EnsureClosedRings(geom)) from {self.tableName} where id={identity}\")\n",
    "    #         self.customFetchOne(f\"INSERT INTO spatial_data (geotypes, geom) VALUES ('Polygon', ST_GeomFromText('{closing_data}',4326));\")\n",
    "            conn.commit()(f\"UPDATE {self.tableName} SET geom=ST_GeomFromText('{closing_data}', {self.SRID}) WHERE id={identity}\")\n",
    "    \n",
    "    def repeatPoints(self):\n",
    "        df_id = self.customQuery(f\"select id from {self.tableName}\")\n",
    "        l_id = df_id['id'].tolist()\n",
    "        for item in l_id:\n",
    "            repeated = self.customFetchOne(f\"select ST_AsText(RemoveRepeatedPoints(geom)) from {self.tableName} where id={item}\")\n",
    "#             print(f\"UPDATE {self.tableName} SET geom=ST_GeomFromText('{repeated}', {self.SRID}) WHERE id={item}\")\n",
    "            cursor.execute(f\"UPDATE {self.tableName} SET geom=ST_GeomFromText('{repeated}', {self.SRID}) WHERE id={item}\")\n",
    "            conn.commit()\n",
    "        print(\"all the duplicate point has been removed\") \n",
    "        \n",
    "    def parseMulti2Poly(self, Data):\n",
    "        # Define the multipolygon string\n",
    "        multipolygon_str = str(Data)\n",
    "        # Parse the multipolygon string into a Shapely geometry object\n",
    "        multipolygon = loads(multipolygon_str)\n",
    "        # Get the first polygon from the multipolygon\n",
    "        first_polygon = list(multipolygon.geoms)[0]  # Access the first geometry object within the MultiPolygon\n",
    "        return first_polygon\n",
    "\n",
    "    def selfIntersect(self):\n",
    "        short_degenarate = []\n",
    "        self_int = []\n",
    "        all_poly = self.customFetchAll(f\"select id, ST_AsText(EnsureClosedRings(geom)) as CloseGeom from {self.tableName} where geotypes='Polygon'\")\n",
    "        for x in all_poly:\n",
    "            C_short_inter = self.customFetchOne(f\"SELECT ST_AsText(ST_IsValidDetail(ST_GeomFromText('{x[1]}'))) as selfinter;\")\n",
    "            if C_short_inter is None:\n",
    "                short_degenarate.append(x)\n",
    "            else: \n",
    "                self_int.append(x)\n",
    "        ## this section repair the self intersect polygon \n",
    "        for y in self_int:\n",
    "            closing_data = self.customFetchOne(f\"select ST_AsText(EnsureClosedRings(ST_GeomFromText('{y[1]}'))) as closeRing\")\n",
    "            makevalid_Test = self.customFetchOne(f\"SELECT ST_AsText(ST_MakeValid(ST_GeomFromText('{closing_data}'))) AS split_result\")\n",
    "            one_poly = self.parseMulti2Poly(makevalid_Test)\n",
    "            cursor.execute(f\"UPDATE {self.tableName} SET geom=ST_GeomFromText('{one_poly}',{self.SRID}) WHERE id={y[0]}\")\n",
    "    \n",
    "        ## this section repair the short degenerate\n",
    "        for z in short_degenarate:\n",
    "            sanitize_data = self.customFetchOne(f\"select ST_AsText(SanitizeGeometry(ST_GeomFromText('{z[1]}'))) as sanitizeRing\")\n",
    "    #         update data\n",
    "            cursor.execute(f\"UPDATE {self.tableName} SET geom=ST_GeomFromText('{sanitize_data}', {self.SRID}) WHERE id={z[0]}\")\n",
    "\n",
    "        conn.commit()\n",
    "        print(\"all the short degenerate and self intersect has been solved\")\n",
    "    \n",
    "    def cleanPseudoNode(self, geotypes):\n",
    "        selecteddata = self.customFetchAll(f\"select id from {self.tableName} where geotypes= '{geotypes}'\")\n",
    "        for i in selecteddata:\n",
    "            fix_data = self.customFetchOne(f\"SELECT AsText(ST_SimplifyPreserveTopology(geom, 0.5)) FROM {self.tableName} where id={i[0]}\")\n",
    "            cursor.execute(f\"update {self.tableName} set geom = ST_GeomFromText('{fix_data}',{self.SRID}) where id={i[0]};\")\n",
    "        conn.commit()\n",
    "#             print(fix_data)\n",
    "        print(\"all data which contain pseudo node has been fixed\")\n",
    "\n",
    "\n",
    "###     Phase checking result and delete\n",
    "    def inspectTable(self, data):\n",
    "        self.data = data\n",
    "        print(self.data)\n",
    "        \n",
    "    def deleteTable(self):\n",
    "        cursor.execute(f\"DROP TABLE IF EXISTS {self.tableName}\")\n",
    "        conn.commit()\n",
    "        print(f'{self.tableName} table successfully delete')\n",
    "        return self\n",
    "    \n",
    "    def wkt2map(self, resultQuery):\n",
    "#         data = self.customFetchAll(f\"select id, geotypes, ST_AsText(geom) as geometry from {self.tableName} where geotypes='{geotypes}'\")\n",
    "        data = resultQuery\n",
    "        # Fix WKT strings to ensure polygons are properly closed\n",
    "        data = [(id, typ, wkt_string.rstrip(')') + ', {})'.format(wkt_string.split('((')[-1])) for id, typ, wkt_string in data]\n",
    "        # Parse WKT strings and create Shapely geometry objects\n",
    "        geometries = [wkt.loads(wkt_string) for _, _, wkt_string in data]\n",
    "        # Create GeoDataFrame\n",
    "        gdf = gpd.GeoDataFrame(data, columns=['ID', 'Type', 'WKT'], geometry=geometries, crs='EPSG:4326')\n",
    "        # Create a Folium map centered at a specific location\n",
    "        m = folium.Map(location=[15, 20], zoom_start=4)\n",
    "        # Add GeoDataFrame to the map\n",
    "        folium.GeoJson(gdf).add_to(m)\n",
    "        # Display the map\n",
    "        return m\n",
    "\n",
    "    "
   ]
  },
  {
   "cell_type": "code",
   "execution_count": 31,
   "id": "6731d12d",
   "metadata": {},
   "outputs": [
    {
     "name": "stdout",
     "output_type": "stream",
     "text": [
      "                                             geometry\n",
      "0   POLYGON ((170046.656 538690.046, 170066.588 53...\n",
      "1   POLYGON ((171224.668 538406.148, 171224.279 53...\n",
      "2   POLYGON ((171199.820 538405.907, 171200.063 53...\n",
      "3   POLYGON ((170183.167 538714.071, 170204.064 53...\n",
      "4   POLYGON ((170293.560 538643.771, 170309.159 53...\n",
      "..                                                ...\n",
      "81  POLYGON ((171923.532 537606.198, 171923.528 53...\n",
      "82  POLYGON ((171930.281 537633.332, 171913.062 53...\n",
      "83  POLYGON ((171928.485 537653.681, 171928.557 53...\n",
      "84  POLYGON ((171939.883 537681.955, 171941.455 53...\n",
      "85  POLYGON ((171905.942 537679.081, 171906.500 53...\n",
      "\n",
      "[86 rows x 1 columns]\n"
     ]
    }
   ],
   "source": [
    "# # WKT data for a point\n",
    "# wkt_data = [('POLYGON((170046.65637 538690.045987, 170066.587734 538688.175476, 170070.83203 538723.180446, 170050.449669 538724.830588, 170046.65637 538690.045987))',), ('POLYGON((171224.668458 538406.148439, 171224.279405 538420.893308, 171199.580555 538420.654904, 171199.819632 538405.906842, 171224.668458 538406.148439))',)]\n",
    "\n",
    "def list2SHP(tableName, fileName):\n",
    "    getGeom = customFetchAll(f\"select ST_AsText(geom) from {tableName}\")\n",
    "\n",
    "    # Convert WKT strings to Shapely geometry objects\n",
    "    geometry = [wkt.loads(data[0]) for data in getGeom]\n",
    "\n",
    "    # Create a GeoDataFrame\n",
    "    gdf = gpd.GeoDataFrame(geometry=geometry)\n",
    "    print(gdf)\n",
    "\n",
    "    # Save the GeoDataFrame to a Shapefile\n",
    "    gdf.to_file(f'{fileName}.shp')\n"
   ]
  },
  {
   "cell_type": "code",
   "execution_count": 26,
   "id": "75b65f9a",
   "metadata": {},
   "outputs": [
    {
     "name": "stdout",
     "output_type": "stream",
     "text": [
      "Short Degenerate:  2\n",
      "Short Entities:  2\n",
      "Short segments:  10\n",
      "Cross:  7\n",
      "Undershoot segment:  3\n",
      "Undershoot vertex:  3\n",
      "Duplicates:  1\n",
      "Cluster:  3\n",
      "Pseudo nodes:  10\n",
      "Dangles:  0\n",
      "Silver Poligon:  10\n"
     ]
    }
   ],
   "source": [
    "def initiateBundle():\n",
    "    BPNGeom_Poly = Geometry(\"BPN_Test\",Example,\"32748\")\n",
    "    BPNGeom_Poly = BPNGeom_Poly.initTable()\n",
    "    \n",
    "def convertBundle():\n",
    "    BPNGeom_Poly = Geometry(\"BPN_Test\",Example,\"32748\")\n",
    "    BPNPoly = BPNGeom_Poly.convertPolygon()\n",
    "\n",
    "def deleteBundle():\n",
    "    BPNGeom_Poly = Geometry(\"BPN_Test\",Example,\"32748\")\n",
    "    BPNGeom_Poly.deleteTable()\n",
    "    \n",
    "def testBundle():\n",
    "    BPNGeom_Poly = Geometry(\"BPN_Test\",Example,\"32748\")\n",
    "    ldup = BPNGeom_Poly.resDuplicate()\n",
    "    lclose = BPNGeom_Poly.checkIsclosed()\n",
    "    larea = BPNGeom_Poly.checkShortArea()\n",
    "    lvalid = BPNGeom_Poly.checkIsValid(\"Polygon\")\n",
    "    lcross = BPNGeom_Poly.checkCrosses(\"Polygon\")\n",
    "    lpseudo = BPNGeom_Poly.pseudo_node('Polygon')\n",
    "    lcluster = BPNGeom_Poly.checkCluster()\n",
    "    llength = BPNGeom_Poly.checkShortlength()\n",
    "    \n",
    "#     print result\n",
    "    print(\"Short Degenerate: \", llength[1])\n",
    "    print(\"Short Entities: \", llength[1])\n",
    "    print(\"Short segments: \", larea[1])\n",
    "    print(\"Cross: \", lcross[2])\n",
    "    print(\"Undershoot segment: \", lvalid[1])\n",
    "    print(\"Undershoot vertex: \", lvalid[1])\n",
    "    print(\"Duplicates: \", ldup[1])\n",
    "    print(\"Cluster: \", lcluster[1])\n",
    "    print(\"Pseudo nodes: \", lpseudo[0])\n",
    "    print(\"Dangles: \", lclose[1])\n",
    "    print(\"Silver Poligon: \", larea[1])\n",
    "    \n",
    "    \n",
    "def cleanBundle():\n",
    "    BPNGeom_Poly = Geometry(\"BPN_Test\",Example,\"32748\")\n",
    "#     larea = BPNGeom_Poly.checkShortArea()\n",
    "#     llength = BPNGeom_Poly.checkShortlength()\n",
    "    resultCrosses = BPNGeom_Poly.checkCrosses(\"Polygon\")\n",
    "    ## these part are for analysis implementation(cleaning)\n",
    "    # to clean the LineString that has length below 1m\n",
    "#     BPNGeom_Poly.removeShortLength(llength[0])\n",
    "    \n",
    "    # to remove duplicate point \n",
    "    BPNGeom_Poly.repeatPoints()\n",
    "    \n",
    "    # to clean pseudonode\n",
    "    BPNGeom_Poly.cleanPseudoNode(\"Polygon\")\n",
    "    \n",
    "    # to resolve short degenerate and self intersect \n",
    "    BPNGeom_Poly.selfIntersect()\n",
    "    \n",
    "    # to clean the polygon that has area below 1sqm\n",
    "#     BPNGeom_Poly.removeShortArea(larea[0])\n",
    "    \n",
    "    # to split intersect polygon\n",
    "    BPNGeom_Poly.splitPolygons(resultCrosses[1])\n",
    "\n",
    "# Example = csv2coord(\"dataRekap.csv\")\n",
    "Example = csv2coord(\"braga1.csv\")   \n",
    "\n",
    "# Example = [\n",
    "#     [[10, 10], [20,10], [20, 0], [11, 0], [11,11]]\n",
    "# ]\n",
    "    \n",
    "# deleteBundle()\n",
    "# initiateBundle()\n",
    "# convertBundle()\n",
    "# testBundle()\n",
    "# cleanBundle()\n",
    "\n",
    "\n",
    "# cursor.execute(f\"INSERT INTO BPN_Test (geotypes, geom) VALUES ('Polygon', ST_GeomFromText('POLYGON((10 10, 20 10, 20 0, 10 0))',32857));\")\n",
    "# conn.commit()\n",
    "\n",
    "BPNGeom_Poly = Geometry(\"BPN_Test\",Example,\"32748\")\n",
    "# BPNGeom_Poly.cleanPseudoNode(\"Polygon\")\n",
    "\n",
    "# print(customFetchAll(f\"SELECT id, ST_Area(ST_Transform(ST_GeomFromText(ST_AsText(geom), 32748), 32748)) as area from BPN_Test where geotypes='Polygon'\"))\n",
    "# print(customFetchAll(f\"SELECT ST_Area(ST_Transform(geom, 32748)) as area from BPN_Test\"))\n",
    "\n",
    "# data = BPNGeom_Poly.customFetchAll(\"select id from BPN_Test\")\n",
    "# print(data)\n",
    "\n",
    "# data = BPNGeom_Poly.customFetchAll(\"select ST_AsText(geom) from BPN_Test where id=1 or id=2\")\n",
    "# print(data)\n",
    "\n",
    "\n",
    "# print(len(Example))\n",
    "\n",
    "# export to SHP\n",
    "# list2SHP(tableName, fileName)\n",
    "# list2SHP(\"BPN_Test\", \"CleanTopology\")\n",
    "\n"
   ]
  },
  {
   "cell_type": "code",
   "execution_count": 21,
   "id": "004781e9",
   "metadata": {},
   "outputs": [
    {
     "data": {
      "application/vnd.plotly.v1+json": {
       "config": {
        "plotlyServerURL": "https://plot.ly"
       },
       "data": [
        {
         "fill": "toself",
         "line": {
          "color": "red"
         },
         "marker": {
          "color": "yellow",
          "line": {
           "color": "black",
           "width": 2
          },
          "size": 5
         },
         "mode": "lines+markers",
         "type": "scatter",
         "x": [
          170046.656369714,
          170066.58773438,
          170070.8320303895,
          170050.4496688225,
          170046.656369714
         ],
         "y": [
          538690.0459865994,
          538688.1754761626,
          538723.1804464505,
          538724.8305879902,
          538690.0459865994
         ]
        },
        {
         "fill": "toself",
         "line": {
          "color": "red"
         },
         "marker": {
          "color": "yellow",
          "line": {
           "color": "black",
           "width": 2
          },
          "size": 5
         },
         "mode": "lines+markers",
         "type": "scatter",
         "x": [
          171100.9989847714,
          171100.7881967803
         ],
         "y": [
          538247.1770387553,
          538254.0738183243
         ]
        },
        {
         "fill": "toself",
         "line": {
          "color": "red"
         },
         "marker": {
          "color": "yellow",
          "line": {
           "color": "black",
           "width": 2
          },
          "size": 5
         },
         "mode": "lines+markers",
         "type": "scatter",
         "x": [
          171199.819632471,
          171224.6684580127
         ],
         "y": [
          538405.9068421484,
          538406.148439336
         ]
        },
        {
         "fill": "toself",
         "line": {
          "color": "red"
         },
         "marker": {
          "color": "yellow",
          "line": {
           "color": "black",
           "width": 2
          },
          "size": 5
         },
         "mode": "lines+markers",
         "type": "scatter",
         "x": [
          171224.6684580127,
          171224.2794046072,
          171199.5805551606,
          171199.819632471
         ],
         "y": [
          538406.148439336,
          538420.8933075093,
          538420.6549044631,
          538405.9068421484
         ]
        },
        {
         "fill": "toself",
         "line": {
          "color": "red"
         },
         "marker": {
          "color": "yellow",
          "line": {
           "color": "black",
           "width": 2
          },
          "size": 5
         },
         "mode": "lines+markers",
         "type": "scatter",
         "x": [
          171199.819632471,
          171200.0628073911,
          171225.061608282,
          171224.6684580127
         ],
         "y": [
          538405.9068421484,
          538391.2588605142,
          538391.5037156149,
          538406.148439336
         ]
        },
        {
         "fill": "toself",
         "line": {
          "color": "red"
         },
         "marker": {
          "color": "yellow",
          "line": {
           "color": "black",
           "width": 2
          },
          "size": 5
         },
         "mode": "lines+markers",
         "type": "scatter",
         "x": [
          170183.1671263177,
          170204.063814195,
          170201.7357373573,
          170198.3503241029,
          170186.160369056,
          170182.4075368875,
          170176.1497665878,
          170180.7916553698,
          170181.8964477109,
          170183.1671263177,
          170204.063814195
         ],
         "y": [
          538714.0709656392,
          538712.3992879571,
          538683.79386787,
          538649.9125828154,
          538651.2286435228,
          538652.1321094693,
          538656.6250519279,
          538691.3877633462,
          538700.7010195751,
          538714.0709656392,
          538712.3992879571
         ]
        },
        {
         "fill": "toself",
         "line": {
          "color": "red"
         },
         "marker": {
          "color": "yellow",
          "line": {
           "color": "black",
           "width": 2
          },
          "size": 5
         },
         "mode": "lines+markers",
         "type": "scatter",
         "x": [
          170293.5604201219,
          170309.1592909582,
          170309.201128984,
          170293.7094431325,
          170293.5604201219
         ],
         "y": [
          538643.7706410174,
          538643.5829480983,
          538655.6793454782,
          538655.1717339354,
          538643.7706410174
         ]
        },
        {
         "fill": "toself",
         "line": {
          "color": "red"
         },
         "marker": {
          "color": "yellow",
          "line": {
           "color": "black",
           "width": 2
          },
          "size": 5
         },
         "mode": "lines+markers",
         "type": "scatter",
         "x": [
          170071.3406758397,
          170070.8308880876,
          170051.3945509989,
          170051.9041521359
         ],
         "y": [
          538742.4283368137,
          538733.1673573056,
          538734.7417780159,
          538743.9993674128
         ]
        },
        {
         "fill": "toself",
         "line": {
          "color": "red"
         },
         "marker": {
          "color": "yellow",
          "line": {
           "color": "black",
           "width": 2
          },
          "size": 5
         },
         "mode": "lines+markers",
         "type": "scatter",
         "x": [
          170071.3406758397,
          170071.8504635917,
          170052.414126503,
          170051.9041521359
         ],
         "y": [
          538742.4283368137,
          538751.6893163217,
          538753.263737032,
          538743.9993674128
         ]
        },
        {
         "fill": "toself",
         "line": {
          "color": "red"
         },
         "marker": {
          "color": "yellow",
          "line": {
           "color": "black",
           "width": 2
          },
          "size": 5
         },
         "mode": "lines+markers",
         "type": "scatter",
         "x": [
          170051.9041521359,
          170071.3406758397
         ],
         "y": [
          538743.9993674128,
          538742.4283368137
         ]
        },
        {
         "fill": "toself",
         "line": {
          "color": "red"
         },
         "marker": {
          "color": "yellow",
          "line": {
           "color": "black",
           "width": 2
          },
          "size": 5
         },
         "mode": "lines+markers",
         "type": "scatter",
         "x": [
          170051.6590804218,
          170037.6460251955,
          170031.0633800359,
          170031.1421285969,
          170050.8132920193,
          170051.6590804218
         ],
         "y": [
          538743.2644924652,
          538744.2827179938,
          538744.7610303418,
          538732.9112920044,
          538731.8457735362,
          538743.2644924652
         ]
        },
        {
         "fill": "toself",
         "line": {
          "color": "red"
         },
         "marker": {
          "color": "yellow",
          "line": {
           "color": "black",
           "width": 2
          },
          "size": 5
         },
         "mode": "lines+markers",
         "type": "scatter",
         "x": [
          170204.8263201975,
          170183.3527578702,
          170183.2637109087,
          170183.1671263177,
          170204.063814195,
          170204.8263201975
         ],
         "y": [
          538721.7683105634,
          538723.5263968421,
          538715.0663634167,
          538714.0709656392,
          538712.3992879571,
          538721.7683105634
         ]
        },
        {
         "fill": "toself",
         "line": {
          "color": "red"
         },
         "marker": {
          "color": "yellow",
          "line": {
           "color": "black",
           "width": 2
          },
          "size": 5
         },
         "mode": "lines+markers",
         "type": "scatter",
         "x": [
          171379.758,
          171404.252
         ],
         "y": [
          538363.303,
          538363.875
         ]
        },
        {
         "fill": "toself",
         "line": {
          "color": "red"
         },
         "marker": {
          "color": "yellow",
          "line": {
           "color": "black",
           "width": 2
          },
          "size": 5
         },
         "mode": "lines+markers",
         "type": "scatter",
         "x": [
          171402.867,
          171378.378
         ],
         "y": [
          538404.051,
          538403.279
         ]
        },
        {
         "fill": "toself",
         "line": {
          "color": "red"
         },
         "marker": {
          "color": "yellow",
          "line": {
           "color": "black",
           "width": 2
          },
          "size": 5
         },
         "mode": "lines+markers",
         "type": "scatter",
         "x": [
          171404.252,
          171402.867
         ],
         "y": [
          538363.875,
          538404.051
         ]
        },
        {
         "fill": "toself",
         "line": {
          "color": "red"
         },
         "marker": {
          "color": "yellow",
          "line": {
           "color": "black",
           "width": 2
          },
          "size": 5
         },
         "mode": "lines+markers",
         "type": "scatter",
         "x": [
          171419.677,
          171418.293
         ],
         "y": [
          538364.236,
          538404.412
         ]
        },
        {
         "fill": "toself",
         "line": {
          "color": "red"
         },
         "marker": {
          "color": "yellow",
          "line": {
           "color": "black",
           "width": 2
          },
          "size": 5
         },
         "mode": "lines+markers",
         "type": "scatter",
         "x": [
          171378.378,
          171379.758
         ],
         "y": [
          538403.279,
          538363.303
         ]
        },
        {
         "fill": "toself",
         "line": {
          "color": "red"
         },
         "marker": {
          "color": "yellow",
          "line": {
           "color": "black",
           "width": 2
          },
          "size": 5
         },
         "mode": "lines+markers",
         "type": "scatter",
         "x": [
          171402.867,
          171418.293
         ],
         "y": [
          538404.051,
          538404.412
         ]
        },
        {
         "fill": "toself",
         "line": {
          "color": "red"
         },
         "marker": {
          "color": "yellow",
          "line": {
           "color": "black",
           "width": 2
          },
          "size": 5
         },
         "mode": "lines+markers",
         "type": "scatter",
         "x": [
          171419.677,
          171430.911
         ],
         "y": [
          538364.236,
          538364.826
         ]
        },
        {
         "fill": "toself",
         "line": {
          "color": "red"
         },
         "marker": {
          "color": "yellow",
          "line": {
           "color": "black",
           "width": 2
          },
          "size": 5
         },
         "mode": "lines+markers",
         "type": "scatter",
         "x": [
          171430.911,
          171464.24
         ],
         "y": [
          538364.826,
          538366.025
         ]
        },
        {
         "fill": "toself",
         "line": {
          "color": "red"
         },
         "marker": {
          "color": "yellow",
          "line": {
           "color": "black",
           "width": 2
          },
          "size": 5
         },
         "mode": "lines+markers",
         "type": "scatter",
         "x": [
          171464.24,
          171465.634
         ],
         "y": [
          538366.025,
          538385.575
         ]
        },
        {
         "fill": "toself",
         "line": {
          "color": "red"
         },
         "marker": {
          "color": "yellow",
          "line": {
           "color": "black",
           "width": 2
          },
          "size": 5
         },
         "mode": "lines+markers",
         "type": "scatter",
         "x": [
          171465.634,
          171465.793
         ],
         "y": [
          538385.575,
          538400.075
         ]
        },
        {
         "fill": "toself",
         "line": {
          "color": "red"
         },
         "marker": {
          "color": "yellow",
          "line": {
           "color": "black",
           "width": 2
          },
          "size": 5
         },
         "mode": "lines+markers",
         "type": "scatter",
         "x": [
          171465.793,
          171465.249
         ],
         "y": [
          538400.075,
          538406.401
         ]
        },
        {
         "fill": "toself",
         "line": {
          "color": "red"
         },
         "marker": {
          "color": "yellow",
          "line": {
           "color": "black",
           "width": 2
          },
          "size": 5
         },
         "mode": "lines+markers",
         "type": "scatter",
         "x": [
          171465.249,
          171452.0886432255
         ],
         "y": [
          538406.401,
          538405.8858586279
         ]
        },
        {
         "fill": "toself",
         "line": {
          "color": "red"
         },
         "marker": {
          "color": "yellow",
          "line": {
           "color": "black",
           "width": 2
          },
          "size": 5
         },
         "mode": "lines+markers",
         "type": "scatter",
         "x": [
          171442.9272856592,
          171429.527
         ],
         "y": [
          538405.526685462,
          538405.001
         ]
        },
        {
         "fill": "toself",
         "line": {
          "color": "red"
         },
         "marker": {
          "color": "yellow",
          "line": {
           "color": "black",
           "width": 2
          },
          "size": 5
         },
         "mode": "lines+markers",
         "type": "scatter",
         "x": [
          171429.527,
          171419.041
         ],
         "y": [
          538405.001,
          538404.451
         ]
        },
        {
         "fill": "toself",
         "line": {
          "color": "red"
         },
         "marker": {
          "color": "yellow",
          "line": {
           "color": "black",
           "width": 2
          },
          "size": 5
         },
         "mode": "lines+markers",
         "type": "scatter",
         "x": [
          171419.041,
          171418.293
         ],
         "y": [
          538404.451,
          538404.412
         ]
        },
        {
         "fill": "toself",
         "line": {
          "color": "red"
         },
         "marker": {
          "color": "yellow",
          "line": {
           "color": "black",
           "width": 2
          },
          "size": 5
         },
         "mode": "lines+markers",
         "type": "scatter",
         "x": [
          171378.378,
          171350.883
         ],
         "y": [
          538403.279,
          538402.741
         ]
        },
        {
         "fill": "toself",
         "line": {
          "color": "red"
         },
         "marker": {
          "color": "yellow",
          "line": {
           "color": "black",
           "width": 2
          },
          "size": 5
         },
         "mode": "lines+markers",
         "type": "scatter",
         "x": [
          171350.883,
          171352.263
         ],
         "y": [
          538402.741,
          538362.764
         ]
        },
        {
         "fill": "toself",
         "line": {
          "color": "red"
         },
         "marker": {
          "color": "yellow",
          "line": {
           "color": "black",
           "width": 2
          },
          "size": 5
         },
         "mode": "lines+markers",
         "type": "scatter",
         "x": [
          171352.263,
          171379.758
         ],
         "y": [
          538362.764,
          538363.303
         ]
        },
        {
         "fill": "toself",
         "line": {
          "color": "red"
         },
         "marker": {
          "color": "yellow",
          "line": {
           "color": "black",
           "width": 2
          },
          "size": 5
         },
         "mode": "lines+markers",
         "type": "scatter",
         "x": [
          171674.1970542085,
          171614.8389004402,
          171611.7604072756,
          171674.1970542085
         ],
         "y": [
          537153.7682694179,
          537130.8309384444,
          537116.4334211097,
          537153.7682694179
         ]
        },
        {
         "fill": "toself",
         "line": {
          "color": "red"
         },
         "marker": {
          "color": "yellow",
          "line": {
           "color": "black",
           "width": 2
          },
          "size": 5
         },
         "mode": "lines+markers",
         "type": "scatter",
         "x": [
          171830.6869280816,
          171837.1328957806,
          171832.5683185397,
          171826.2762989003,
          171830.6869280816
         ],
         "y": [
          538170.0928600614,
          538169.2052281937,
          538145.8356922154,
          538146.9328604464,
          538170.0928600614
         ]
        },
        {
         "fill": "toself",
         "line": {
          "color": "red"
         },
         "marker": {
          "color": "yellow",
          "line": {
           "color": "black",
           "width": 2
          },
          "size": 5
         },
         "mode": "lines+markers",
         "type": "scatter",
         "x": [
          171786.6404289049,
          171790.4521599475,
          171797.6507365225,
          171793.6068661197,
          171786.6404289049
         ],
         "y": [
          538154.0334195037,
          538174.6190514498,
          538173.8978172943,
          538152.7695449592,
          538154.0334195037
         ]
        },
        {
         "fill": "toself",
         "line": {
          "color": "red"
         },
         "marker": {
          "color": "yellow",
          "line": {
           "color": "black",
           "width": 2
          },
          "size": 5
         },
         "mode": "lines+markers",
         "type": "scatter",
         "x": [
          171804.691558477,
          171811.5317900711
         ],
         "y": [
          538172.983035241,
          538172.0768168684
         ]
        },
        {
         "fill": "toself",
         "line": {
          "color": "red"
         },
         "marker": {
          "color": "yellow",
          "line": {
           "color": "black",
           "width": 2
          },
          "size": 5
         },
         "mode": "lines+markers",
         "type": "scatter",
         "x": [
          171804.691558477,
          171800.4165042634
         ],
         "y": [
          538172.983035241,
          538151.5087470469
         ]
        },
        {
         "fill": "toself",
         "line": {
          "color": "red"
         },
         "marker": {
          "color": "yellow",
          "line": {
           "color": "black",
           "width": 2
          },
          "size": 5
         },
         "mode": "lines+markers",
         "type": "scatter",
         "x": [
          171800.4165042634,
          171807.2420911946
         ],
         "y": [
          538151.5087470469,
          538150.1814914612
         ]
        },
        {
         "fill": "toself",
         "line": {
          "color": "red"
         },
         "marker": {
          "color": "yellow",
          "line": {
           "color": "black",
           "width": 2
          },
          "size": 5
         },
         "mode": "lines+markers",
         "type": "scatter",
         "x": [
          171732.0235514469,
          171740.1747233899,
          171744.6766969538,
          171736.448467997,
          171732.0235514469
         ],
         "y": [
          538163.852699972,
          538162.307249347,
          538180.6632356737,
          538181.7523859089,
          538163.852699972
         ]
        },
        {
         "fill": "toself",
         "line": {
          "color": "red"
         },
         "marker": {
          "color": "yellow",
          "line": {
           "color": "black",
           "width": 2
          },
          "size": 5
         },
         "mode": "lines+markers",
         "type": "scatter",
         "x": [
          171723.7054708845,
          171732.0235514469,
          171736.448467997,
          171728.3193743289,
          171723.7054708845
         ],
         "y": [
          538165.4297962345,
          538163.852699972,
          538181.7523859089,
          538182.828413852,
          538165.4297962345
         ]
        },
        {
         "fill": "toself",
         "line": {
          "color": "red"
         },
         "marker": {
          "color": "yellow",
          "line": {
           "color": "black",
           "width": 2
          },
          "size": 5
         },
         "mode": "lines+markers",
         "type": "scatter",
         "x": [
          171744.6766969538,
          171736.448467997
         ],
         "y": [
          538180.6632356737,
          538181.7523859089
         ]
        },
        {
         "fill": "toself",
         "line": {
          "color": "red"
         },
         "marker": {
          "color": "yellow",
          "line": {
           "color": "black",
           "width": 2
          },
          "size": 5
         },
         "mode": "lines+markers",
         "type": "scatter",
         "x": [
          171740.1747233899,
          171744.6766969538
         ],
         "y": [
          538162.307249347,
          538180.6632356737
         ]
        },
        {
         "fill": "toself",
         "line": {
          "color": "red"
         },
         "marker": {
          "color": "yellow",
          "line": {
           "color": "black",
           "width": 2
          },
          "size": 5
         },
         "mode": "lines+markers",
         "type": "scatter",
         "x": [
          171736.448467997,
          171732.0235514469
         ],
         "y": [
          538181.7523859089,
          538163.852699972
         ]
        },
        {
         "fill": "toself",
         "line": {
          "color": "red"
         },
         "marker": {
          "color": "yellow",
          "line": {
           "color": "black",
           "width": 2
          },
          "size": 5
         },
         "mode": "lines+markers",
         "type": "scatter",
         "x": [
          171736.448467997,
          171728.3193743289,
          171723.7054708845,
          171732.0235514469
         ],
         "y": [
          538181.7523859089,
          538182.828413852,
          538165.4297962345,
          538163.852699972
         ]
        },
        {
         "fill": "toself",
         "line": {
          "color": "red"
         },
         "marker": {
          "color": "yellow",
          "line": {
           "color": "black",
           "width": 2
          },
          "size": 5
         },
         "mode": "lines+markers",
         "type": "scatter",
         "x": [
          171732.0235514469,
          171740.1747233899
         ],
         "y": [
          538163.852699972,
          538162.307249347
         ]
        },
        {
         "fill": "toself",
         "line": {
          "color": "red"
         },
         "marker": {
          "color": "yellow",
          "line": {
           "color": "black",
           "width": 2
          },
          "size": 5
         },
         "mode": "lines+markers",
         "type": "scatter",
         "x": [
          171824.1833431855,
          171830.6869280816,
          171826.2762989003,
          171819.9048525677
         ],
         "y": [
          538170.9142027542,
          538170.0928600614,
          538146.9328604464,
          538148.0590633786
         ]
        },
        {
         "fill": "toself",
         "line": {
          "color": "red"
         },
         "marker": {
          "color": "yellow",
          "line": {
           "color": "black",
           "width": 2
          },
          "size": 5
         },
         "mode": "lines+markers",
         "type": "scatter",
         "x": [
          171824.1833431855,
          171817.9412504859,
          171813.7227297362,
          171819.9048525677
         ],
         "y": [
          538170.9142027542,
          538171.4878196856,
          538149.0952600439,
          538148.0590633786
         ]
        },
        {
         "fill": "toself",
         "line": {
          "color": "red"
         },
         "marker": {
          "color": "yellow",
          "line": {
           "color": "black",
           "width": 2
          },
          "size": 5
         },
         "mode": "lines+markers",
         "type": "scatter",
         "x": [
          171819.9048525677,
          171824.1833431855
         ],
         "y": [
          538148.0590633786,
          538170.9142027542
         ]
        },
        {
         "fill": "toself",
         "line": {
          "color": "red"
         },
         "marker": {
          "color": "yellow",
          "line": {
           "color": "black",
           "width": 2
          },
          "size": 5
         },
         "mode": "lines+markers",
         "type": "scatter",
         "x": [
          171764.4548423216,
          171768.0717184139,
          171775.9165549461,
          171772.1116071601,
          171764.4548423216
         ],
         "y": [
          538158.0987621396,
          538177.147407645,
          538176.4238595614,
          538156.6973582999,
          538158.0987621396
         ]
        },
        {
         "fill": "toself",
         "line": {
          "color": "red"
         },
         "marker": {
          "color": "yellow",
          "line": {
           "color": "black",
           "width": 2
          },
          "size": 5
         },
         "mode": "lines+markers",
         "type": "scatter",
         "x": [
          171636.0663166203,
          171625.9813166203,
          171629.832303967,
          171639.9197967193,
          171636.0663166203
         ],
         "y": [
          537793.2269040109,
          537795.766904011,
          537809.6839258368,
          537807.1536118462,
          537793.2269040109
         ]
        },
        {
         "fill": "toself",
         "line": {
          "color": "red"
         },
         "marker": {
          "color": "yellow",
          "line": {
           "color": "black",
           "width": 2
          },
          "size": 5
         },
         "mode": "lines+markers",
         "type": "scatter",
         "x": [
          171616.0069131397,
          171619.732743627
         ],
         "y": [
          537813.1331847236,
          537797.5572491026
         ]
        },
        {
         "fill": "toself",
         "line": {
          "color": "red"
         },
         "marker": {
          "color": "yellow",
          "line": {
           "color": "black",
           "width": 2
          },
          "size": 5
         },
         "mode": "lines+markers",
         "type": "scatter",
         "x": [
          171625.9813166203,
          171629.832303913,
          171639.9197967158,
          171636.0663166203,
          171625.9813166203
         ],
         "y": [
          537795.766904011,
          537809.6839258502,
          537807.1536118472,
          537793.226904011,
          537795.766904011
         ]
        },
        {
         "fill": "toself",
         "line": {
          "color": "red"
         },
         "marker": {
          "color": "yellow",
          "line": {
           "color": "black",
           "width": 2
          },
          "size": 5
         },
         "mode": "lines+markers",
         "type": "scatter",
         "x": [
          171625.9813166203,
          171619.732743627
         ],
         "y": [
          537795.766904011,
          537797.5572491026
         ]
        },
        {
         "fill": "toself",
         "line": {
          "color": "red"
         },
         "marker": {
          "color": "yellow",
          "line": {
           "color": "black",
           "width": 2
          },
          "size": 5
         },
         "mode": "lines+markers",
         "type": "scatter",
         "x": [
          171616.0069131397,
          171629.8323039132
         ],
         "y": [
          537813.1331847236,
          537809.6839258501
         ]
        },
        {
         "fill": "toself",
         "line": {
          "color": "red"
         },
         "marker": {
          "color": "yellow",
          "line": {
           "color": "black",
           "width": 2
          },
          "size": 5
         },
         "mode": "lines+markers",
         "type": "scatter",
         "x": [
          171622.8244493251,
          171623.0874765059
         ],
         "y": [
          537784.7759493692,
          537780.1975362493
         ]
        },
        {
         "fill": "toself",
         "line": {
          "color": "red"
         },
         "marker": {
          "color": "yellow",
          "line": {
           "color": "black",
           "width": 2
          },
          "size": 5
         },
         "mode": "lines+markers",
         "type": "scatter",
         "x": [
          171654.9137230888,
          171648.4525168699
         ],
         "y": [
          537775.4684841994,
          537777.3438835872
         ]
        },
        {
         "fill": "toself",
         "line": {
          "color": "red"
         },
         "marker": {
          "color": "yellow",
          "line": {
           "color": "black",
           "width": 2
          },
          "size": 5
         },
         "mode": "lines+markers",
         "type": "scatter",
         "x": [
          171672.5518691675,
          171667.7488976363
         ],
         "y": [
          537770.5902193694,
          537771.9830438636
         ]
        },
        {
         "fill": "toself",
         "line": {
          "color": "red"
         },
         "marker": {
          "color": "yellow",
          "line": {
           "color": "black",
           "width": 2
          },
          "size": 5
         },
         "mode": "lines+markers",
         "type": "scatter",
         "x": [
          171657.4802679473,
          171670.6576402478,
          171667.7488976363,
          171654.9137230888,
          171657.4802679473
         ],
         "y": [
          537786.4731580924,
          537783.1091041015,
          537771.9830438636,
          537775.4684841994,
          537786.4731580924
         ]
        },
        {
         "fill": "toself",
         "line": {
          "color": "red"
         },
         "marker": {
          "color": "yellow",
          "line": {
           "color": "black",
           "width": 2
          },
          "size": 5
         },
         "mode": "lines+markers",
         "type": "scatter",
         "x": [
          171667.7488983388,
          171654.9137237913,
          171657.4802686498,
          171670.6576409503,
          171667.7488983388
         ],
         "y": [
          537771.9830437265,
          537775.4684840626,
          537786.4731579555,
          537783.1091039646,
          537771.9830437265
         ]
        },
        {
         "fill": "toself",
         "line": {
          "color": "red"
         },
         "marker": {
          "color": "yellow",
          "line": {
           "color": "black",
           "width": 2
          },
          "size": 5
         },
         "mode": "lines+markers",
         "type": "scatter",
         "x": [
          171636.0663168228,
          171639.9524819978,
          171650.025948832,
          171646.4475883339,
          171636.0663168228
         ],
         "y": [
          537793.2269039599,
          537807.0010292773,
          537804.2498377508,
          537790.6059407358,
          537793.2269039599
         ]
        },
        {
         "fill": "toself",
         "line": {
          "color": "red"
         },
         "marker": {
          "color": "yellow",
          "line": {
           "color": "black",
           "width": 2
          },
          "size": 5
         },
         "mode": "lines+markers",
         "type": "scatter",
         "x": [
          171636.3490056544,
          171646.0761079421,
          171649.6681978519,
          171639.6310496241,
          171636.3490056544
         ],
         "y": [
          537812.5524481952,
          537809.9486293156,
          537825.2967084281,
          537827.4449730889,
          537812.5524481952
         ]
        },
        {
         "fill": "toself",
         "line": {
          "color": "red"
         },
         "marker": {
          "color": "yellow",
          "line": {
           "color": "black",
           "width": 2
          },
          "size": 5
         },
         "mode": "lines+markers",
         "type": "scatter",
         "x": [
          171616.0069131397,
          171629.832303913,
          171625.9813166203,
          171619.732743627,
          171616.0069131397
         ],
         "y": [
          537813.1331847236,
          537809.6839258503,
          537795.766904011,
          537797.5572491026,
          537813.1331847236
         ]
        },
        {
         "fill": "toself",
         "line": {
          "color": "red"
         },
         "marker": {
          "color": "yellow",
          "line": {
           "color": "black",
           "width": 2
          },
          "size": 5
         },
         "mode": "lines+markers",
         "type": "scatter",
         "x": [
          171692.611088193,
          171695.6154167234
         ],
         "y": [
          537764.9254390999,
          537777.0148800266
         ]
        },
        {
         "fill": "toself",
         "line": {
          "color": "red"
         },
         "marker": {
          "color": "yellow",
          "line": {
           "color": "black",
           "width": 2
          },
          "size": 5
         },
         "mode": "lines+markers",
         "type": "scatter",
         "x": [
          171667.7489007401,
          171670.6576433517
         ],
         "y": [
          537771.9830394837,
          537783.1090997218
         ]
        },
        {
         "fill": "toself",
         "line": {
          "color": "red"
         },
         "marker": {
          "color": "yellow",
          "line": {
           "color": "black",
           "width": 2
          },
          "size": 5
         },
         "mode": "lines+markers",
         "type": "scatter",
         "x": [
          171670.6576433517,
          171683.5413594671
         ],
         "y": [
          537783.1090997218,
          537779.9537759388
         ]
        },
        {
         "fill": "toself",
         "line": {
          "color": "red"
         },
         "marker": {
          "color": "yellow",
          "line": {
           "color": "black",
           "width": 2
          },
          "size": 5
         },
         "mode": "lines+markers",
         "type": "scatter",
         "x": [
          171680.5138852718,
          171667.7489007401
         ],
         "y": [
          537768.2812927923,
          537771.9830394837
         ]
        },
        {
         "fill": "toself",
         "line": {
          "color": "red"
         },
         "marker": {
          "color": "yellow",
          "line": {
           "color": "black",
           "width": 2
          },
          "size": 5
         },
         "mode": "lines+markers",
         "type": "scatter",
         "x": [
          171683.5599415256,
          171695.5961985378,
          171692.6110881944,
          171680.4733743771,
          171683.5599415256
         ],
         "y": [
          537780.0451332355,
          537777.063771611,
          537764.9254390963,
          537768.3071403382,
          537780.0451332355
         ]
        },
        {
         "fill": "toself",
         "line": {
          "color": "red"
         },
         "marker": {
          "color": "yellow",
          "line": {
           "color": "black",
           "width": 2
          },
          "size": 5
         },
         "mode": "lines+markers",
         "type": "scatter",
         "x": [
          171260.8460877772,
          171273.3115538991,
          171273.7501937009,
          171261.1802326361,
          171260.8460877772
         ],
         "y": [
          538421.601947107,
          538421.8539166178,
          538402.2148760522,
          538401.8444814726,
          538421.601947107
         ]
        },
        {
         "fill": "toself",
         "line": {
          "color": "red"
         },
         "marker": {
          "color": "yellow",
          "line": {
           "color": "black",
           "width": 2
          },
          "size": 5
         },
         "mode": "lines+markers",
         "type": "scatter",
         "x": [
          171681.0565658203,
          171677.3593229495,
          171688.7686058327,
          171692.1665368243,
          171681.0565658203
         ],
         "y": [
          537796.1786805523,
          537782.6894793512,
          537779.6993008093,
          537793.1590547233,
          537796.1786805523
         ]
        },
        {
         "fill": "toself",
         "line": {
          "color": "red"
         },
         "marker": {
          "color": "yellow",
          "line": {
           "color": "black",
           "width": 2
          },
          "size": 5
         },
         "mode": "lines+markers",
         "type": "scatter",
         "x": [
          171806.185847698,
          171801.2014292479
         ],
         "y": [
          537602.6340185279,
          537580.0880756199
         ]
        },
        {
         "fill": "toself",
         "line": {
          "color": "red"
         },
         "marker": {
          "color": "yellow",
          "line": {
           "color": "black",
           "width": 2
          },
          "size": 5
         },
         "mode": "lines+markers",
         "type": "scatter",
         "x": [
          171806.185847698,
          171818.9203858627,
          171813.8961995332
         ],
         "y": [
          537602.6340185279,
          537600.2815649722,
          537577.5296957806
         ]
        },
        {
         "fill": "toself",
         "line": {
          "color": "red"
         },
         "marker": {
          "color": "yellow",
          "line": {
           "color": "black",
           "width": 2
          },
          "size": 5
         },
         "mode": "lines+markers",
         "type": "scatter",
         "x": [
          171801.2014292479,
          171813.8961995332
         ],
         "y": [
          537580.0880756199,
          537577.5296957806
         ]
        },
        {
         "fill": "toself",
         "line": {
          "color": "red"
         },
         "marker": {
          "color": "yellow",
          "line": {
           "color": "black",
           "width": 2
          },
          "size": 5
         },
         "mode": "lines+markers",
         "type": "scatter",
         "x": [
          171801.2014292479,
          171794.9765804982
         ],
         "y": [
          537580.0880756199,
          537581.3425707544
         ]
        },
        {
         "fill": "toself",
         "line": {
          "color": "red"
         },
         "marker": {
          "color": "yellow",
          "line": {
           "color": "black",
           "width": 2
          },
          "size": 5
         },
         "mode": "lines+markers",
         "type": "scatter",
         "x": [
          171794.9765804982,
          171800.2365074744,
          171806.185847698
         ],
         "y": [
          537581.3425707544,
          537603.7330412319,
          537602.6340185279
         ]
        },
        {
         "fill": "toself",
         "line": {
          "color": "red"
         },
         "marker": {
          "color": "yellow",
          "line": {
           "color": "black",
           "width": 2
          },
          "size": 5
         },
         "mode": "lines+markers",
         "type": "scatter",
         "x": [
          171744.6766969538,
          171752.6854502563,
          171748.1329466754,
          171740.1747233899,
          171744.6766969538
         ],
         "y": [
          538180.6632356737,
          538179.4508534981,
          538160.7983815133,
          538162.307249347,
          538180.6632356737
         ]
        },
        {
         "fill": "toself",
         "line": {
          "color": "red"
         },
         "marker": {
          "color": "yellow",
          "line": {
           "color": "black",
           "width": 2
          },
          "size": 5
         },
         "mode": "lines+markers",
         "type": "scatter",
         "x": [
          171775.9165549461,
          171783.2417093378,
          171779.5000577386,
          171772.1116071601,
          171775.9165549461
         ],
         "y": [
          538176.4238595614,
          538175.4983275947,
          538155.3532697612,
          538156.6973582999,
          538176.4238595614
         ]
        },
        {
         "fill": "toself",
         "line": {
          "color": "red"
         },
         "marker": {
          "color": "yellow",
          "line": {
           "color": "black",
           "width": 2
          },
          "size": 5
         },
         "mode": "lines+markers",
         "type": "scatter",
         "x": [
          171670.2073418357,
          171681.0565658203,
          171677.3593229495,
          171666.5069018378,
          171670.2073418357
         ],
         "y": [
          537799.17659965,
          537796.1786805523,
          537782.6894793512,
          537785.5312060411,
          537799.17659965
         ]
        },
        {
         "fill": "toself",
         "line": {
          "color": "red"
         },
         "marker": {
          "color": "yellow",
          "line": {
           "color": "black",
           "width": 2
          },
          "size": 5
         },
         "mode": "lines+markers",
         "type": "scatter",
         "x": [
          171659.7213086766,
          171669.1414791844,
          171665.2040039524,
          171655.7515916057,
          171659.7213086766
         ],
         "y": [
          537823.4469195983,
          537820.9389752827,
          537804.8437289734,
          537807.575414803,
          537823.4469195983
         ]
        },
        {
         "fill": "toself",
         "line": {
          "color": "red"
         },
         "marker": {
          "color": "yellow",
          "line": {
           "color": "black",
           "width": 2
          },
          "size": 5
         },
         "mode": "lines+markers",
         "type": "scatter",
         "x": [
          171050.9225908213,
          171050.0118538314
         ],
         "y": [
          537514.5152778049,
          537515.0378274547
         ]
        },
        {
         "fill": "toself",
         "line": {
          "color": "red"
         },
         "marker": {
          "color": "yellow",
          "line": {
           "color": "black",
           "width": 2
          },
          "size": 5
         },
         "mode": "lines+markers",
         "type": "scatter",
         "x": [
          171806.3454939584,
          171798.8589374855,
          171780.5887966455,
          171787.4560393429
         ],
         "y": [
          537544.8328548751,
          537514.4928817014,
          537518.9248060787,
          537549.4109255059
         ]
        },
        {
         "fill": "toself",
         "line": {
          "color": "red"
         },
         "marker": {
          "color": "yellow",
          "line": {
           "color": "black",
           "width": 2
          },
          "size": 5
         },
         "mode": "lines+markers",
         "type": "scatter",
         "x": [
          171806.3454939584,
          171809.4479229608,
          171790.3018247168,
          171787.4560393429
         ],
         "y": [
          537544.8328548751,
          537557.4057397583,
          537562.0443733966,
          537549.4109255059
         ]
        },
        {
         "fill": "toself",
         "line": {
          "color": "red"
         },
         "marker": {
          "color": "yellow",
          "line": {
           "color": "black",
           "width": 2
          },
          "size": 5
         },
         "mode": "lines+markers",
         "type": "scatter",
         "x": [
          171806.3454939584,
          171787.4560393429
         ],
         "y": [
          537544.8328548751,
          537549.4109255059
         ]
        },
        {
         "fill": "toself",
         "line": {
          "color": "red"
         },
         "marker": {
          "color": "yellow",
          "line": {
           "color": "black",
           "width": 2
          },
          "size": 5
         },
         "mode": "lines+markers",
         "type": "scatter",
         "x": [
          171780.5887966455,
          171777.9473484014,
          171795.9752440507,
          171798.8589374855,
          171780.5887966455
         ],
         "y": [
          537518.9248060787,
          537503.0531068848,
          537499.371398252,
          537514.4928817014,
          537518.9248060787
         ]
        },
        {
         "fill": "toself",
         "line": {
          "color": "red"
         },
         "marker": {
          "color": "yellow",
          "line": {
           "color": "black",
           "width": 2
          },
          "size": 5
         },
         "mode": "lines+markers",
         "type": "scatter",
         "x": [
          171281.8495126735,
          171273.7501937009,
          171273.3036224627,
          171281.4029302113
         ],
         "y": [
          538402.3199102338,
          538402.2148760522,
          538422.2090275703,
          538422.3149237148
         ]
        },
        {
         "fill": "toself",
         "line": {
          "color": "red"
         },
         "marker": {
          "color": "yellow",
          "line": {
           "color": "black",
           "width": 2
          },
          "size": 5
         },
         "mode": "lines+markers",
         "type": "scatter",
         "x": [
          171281.4029302113,
          171289.6022294136,
          171289.8488400539,
          171281.8495126735
         ],
         "y": [
          538422.3149237148,
          538422.4221272191,
          538402.4236476971,
          538402.3199102338
         ]
        },
        {
         "fill": "toself",
         "line": {
          "color": "red"
         },
         "marker": {
          "color": "yellow",
          "line": {
           "color": "black",
           "width": 2
          },
          "size": 5
         },
         "mode": "lines+markers",
         "type": "scatter",
         "x": [
          171281.8495126735,
          171281.4029302113
         ],
         "y": [
          538402.3199102338,
          538422.3149237148
         ]
        },
        {
         "fill": "toself",
         "line": {
          "color": "red"
         },
         "marker": {
          "color": "yellow",
          "line": {
           "color": "black",
           "width": 2
          },
          "size": 5
         },
         "mode": "lines+markers",
         "type": "scatter",
         "x": [
          171928.4949116991,
          171934.0221731918,
          171939.8215703511,
          171932.4411593148,
          171928.4949116991
         ],
         "y": [
          537525.0625299317,
          537526.8201932643,
          537569.1245310156,
          537573.1058458304,
          537525.0625299317
         ]
        },
        {
         "fill": "toself",
         "line": {
          "color": "red"
         },
         "marker": {
          "color": "yellow",
          "line": {
           "color": "black",
           "width": 2
          },
          "size": 5
         },
         "mode": "lines+markers",
         "type": "scatter",
         "x": [
          171928.4949116991,
          171920.299317072,
          171925.1450710049,
          171932.4411593146,
          171928.4949116991
         ],
         "y": [
          537525.0625299314,
          537522.4563394726,
          537577.0416732979,
          537573.1058458304,
          537525.0625299314
         ]
        },
        {
         "fill": "toself",
         "line": {
          "color": "red"
         },
         "marker": {
          "color": "yellow",
          "line": {
           "color": "black",
           "width": 2
          },
          "size": 5
         },
         "mode": "lines+markers",
         "type": "scatter",
         "x": [
          171889.0331184882,
          171890.5923848503,
          171879.3837517687,
          171877.595783258,
          171889.0331184882
         ],
         "y": [
          537649.0431734168,
          537661.9914654781,
          537662.5895801836,
          537649.4533601358,
          537649.0431734168
         ]
        },
        {
         "fill": "toself",
         "line": {
          "color": "red"
         },
         "marker": {
          "color": "yellow",
          "line": {
           "color": "black",
           "width": 2
          },
          "size": 5
         },
         "mode": "lines+markers",
         "type": "scatter",
         "x": [
          171874.7573575114,
          171877.595783258,
          171889.0331184882,
          171886.25575542,
          171874.7573575114
         ],
         "y": [
          537628.6722236047,
          537649.4533601358,
          537649.0431734168,
          537626.6099789105,
          537628.6722236047
         ]
        },
        {
         "fill": "toself",
         "line": {
          "color": "red"
         },
         "marker": {
          "color": "yellow",
          "line": {
           "color": "black",
           "width": 2
          },
          "size": 5
         },
         "mode": "lines+markers",
         "type": "scatter",
         "x": [
          171908.0135226939,
          171930.9483037853,
          171929.9056258504,
          171908.9241178432,
          171908.0135226939
         ],
         "y": [
          537632.4080833888,
          537631.7483135245,
          537619.1430703513,
          537621.6981321173,
          537632.4080833888
         ]
        },
        {
         "fill": "toself",
         "line": {
          "color": "red"
         },
         "marker": {
          "color": "yellow",
          "line": {
           "color": "black",
           "width": 2
          },
          "size": 5
         },
         "mode": "lines+markers",
         "type": "scatter",
         "x": [
          171858.6558073436,
          171884.8054185463,
          171891.5634124913,
          171867.999292395,
          171858.6558073436
         ],
         "y": [
          537498.7151647785,
          537508.0121700134,
          537586.6869412513,
          537589.8141643361,
          537498.7151647785
         ]
        },
        {
         "fill": "toself",
         "line": {
          "color": "red"
         },
         "marker": {
          "color": "yellow",
          "line": {
           "color": "black",
           "width": 2
          },
          "size": 5
         },
         "mode": "lines+markers",
         "type": "scatter",
         "x": [
          170135.0056067773,
          170087.5136292638
         ],
         "y": [
          537756.2150649366,
          537745.0854979699
         ]
        },
        {
         "fill": "toself",
         "line": {
          "color": "red"
         },
         "marker": {
          "color": "yellow",
          "line": {
           "color": "black",
           "width": 2
          },
          "size": 5
         },
         "mode": "lines+markers",
         "type": "scatter",
         "x": [
          171442.2309502612,
          171442.9272856592,
          171452.0886432255,
          171451.8051611615,
          171442.2309502612
         ],
         "y": [
          538424.5895818865,
          538405.526685462,
          538405.8858586279,
          538424.7027561953,
          538424.5895818865
         ]
        },
        {
         "fill": "toself",
         "line": {
          "color": "red"
         },
         "marker": {
          "color": "yellow",
          "line": {
           "color": "black",
           "width": 2
          },
          "size": 5
         },
         "mode": "lines+markers",
         "type": "scatter",
         "x": [
          170080.2618322026,
          170083.4362040065
         ],
         "y": [
          538681.843258496,
          538677.6666086254
         ]
        },
        {
         "fill": "toself",
         "line": {
          "color": "red"
         },
         "marker": {
          "color": "yellow",
          "line": {
           "color": "black",
           "width": 2
          },
          "size": 5
         },
         "mode": "lines+markers",
         "type": "scatter",
         "x": [
          169966.056082227,
          169986.1984049833
         ],
         "y": [
          538009.6472239416,
          538006.9763075745
         ]
        },
        {
         "fill": "toself",
         "line": {
          "color": "red"
         },
         "marker": {
          "color": "yellow",
          "line": {
           "color": "black",
           "width": 2
          },
          "size": 5
         },
         "mode": "lines+markers",
         "type": "scatter",
         "x": [
          170091.1729197728,
          170092.3401182484
         ],
         "y": [
          538708.7302948066,
          538716.432356071
         ]
        },
        {
         "fill": "toself",
         "line": {
          "color": "red"
         },
         "marker": {
          "color": "yellow",
          "line": {
           "color": "black",
           "width": 2
          },
          "size": 5
         },
         "mode": "lines+markers",
         "type": "scatter",
         "x": [
          170073.7275823184,
          170072.8612979623
         ],
         "y": [
          538722.9845691855,
          538715.2428864606
         ]
        },
        {
         "fill": "toself",
         "line": {
          "color": "red"
         },
         "marker": {
          "color": "yellow",
          "line": {
           "color": "black",
           "width": 2
          },
          "size": 5
         },
         "mode": "lines+markers",
         "type": "scatter",
         "x": [
          171817.9412504859,
          171811.5317900711,
          171807.2420911946,
          171813.7227297362,
          171817.9412504859
         ],
         "y": [
          538171.4878196856,
          538172.0768168684,
          538150.1814914612,
          538149.0952600439,
          538171.4878196856
         ]
        },
        {
         "fill": "toself",
         "line": {
          "color": "red"
         },
         "marker": {
          "color": "yellow",
          "line": {
           "color": "black",
           "width": 2
          },
          "size": 5
         },
         "mode": "lines+markers",
         "type": "scatter",
         "x": [
          171644.2698722725,
          171657.4802710512
         ],
         "y": [
          537789.6939340461,
          537786.4731537126
         ]
        },
        {
         "fill": "toself",
         "line": {
          "color": "red"
         },
         "marker": {
          "color": "yellow",
          "line": {
           "color": "black",
           "width": 2
          },
          "size": 5
         },
         "mode": "lines+markers",
         "type": "scatter",
         "x": [
          171657.4802710512,
          171654.9137261926
         ],
         "y": [
          537786.4731537126,
          537775.4684798197
         ]
        },
        {
         "fill": "toself",
         "line": {
          "color": "red"
         },
         "marker": {
          "color": "yellow",
          "line": {
           "color": "black",
           "width": 2
          },
          "size": 5
         },
         "mode": "lines+markers",
         "type": "scatter",
         "x": [
          171654.9137261926,
          171641.9913130524
         ],
         "y": [
          537775.4684798197,
          537779.219278732
         ]
        },
        {
         "fill": "toself",
         "line": {
          "color": "red"
         },
         "marker": {
          "color": "yellow",
          "line": {
           "color": "black",
           "width": 2
          },
          "size": 5
         },
         "mode": "lines+markers",
         "type": "scatter",
         "x": [
          171641.9913130524,
          171644.2698722725
         ],
         "y": [
          537779.219278732,
          537789.6939340461
         ]
        },
        {
         "fill": "toself",
         "line": {
          "color": "red"
         },
         "marker": {
          "color": "yellow",
          "line": {
           "color": "black",
           "width": 2
          },
          "size": 5
         },
         "mode": "lines+markers",
         "type": "scatter",
         "x": [
          171641.8757926999,
          171644.2698722725,
          171619.9110112647,
          171622.8244493251,
          171641.8757926999
         ],
         "y": [
          537779.200061774,
          537789.6939340461,
          537796.310895311,
          537784.7759493692,
          537779.200061774
         ]
        },
        {
         "fill": "toself",
         "line": {
          "color": "red"
         },
         "marker": {
          "color": "yellow",
          "line": {
           "color": "black",
           "width": 2
          },
          "size": 5
         },
         "mode": "lines+markers",
         "type": "scatter",
         "x": [
          171797.6507365225,
          171804.691558477,
          171800.4165042634,
          171793.6068661197,
          171797.6507365225
         ],
         "y": [
          538173.8978172943,
          538172.983035241,
          538151.5087470469,
          538152.7695449592,
          538173.8978172943
         ]
        },
        {
         "fill": "toself",
         "line": {
          "color": "red"
         },
         "marker": {
          "color": "yellow",
          "line": {
           "color": "black",
           "width": 2
          },
          "size": 5
         },
         "mode": "lines+markers",
         "type": "scatter",
         "x": [
          169999.6890906147,
          169999.2965330103,
          169924.0746642271,
          169918.6666731472,
          169999.6890906147
         ],
         "y": [
          538743.5419723716,
          538708.7477719835,
          538711.8562012449,
          538738.6926228532,
          538743.5419723716
         ]
        },
        {
         "fill": "toself",
         "line": {
          "color": "red"
         },
         "marker": {
          "color": "yellow",
          "line": {
           "color": "black",
           "width": 2
          },
          "size": 5
         },
         "mode": "lines+markers",
         "type": "scatter",
         "x": [
          171906.9122326343,
          171890.1350068713,
          171888.1726710169,
          171908.9241178432,
          171908.0135226939,
          171906.9122326343
         ],
         "y": [
          537640.510019172,
          537640.2503836133,
          537624.3071416896,
          537621.6981321173,
          537632.4080833888,
          537640.510019172
         ]
        },
        {
         "fill": "toself",
         "line": {
          "color": "red"
         },
         "marker": {
          "color": "yellow",
          "line": {
           "color": "black",
           "width": 2
          },
          "size": 5
         },
         "mode": "lines+markers",
         "type": "scatter",
         "x": [
          172709.4453244548,
          172692.8596565674,
          172693.1463427526,
          172712.3801402712,
          172711.0057671079,
          172710.3927541053,
          172709.4453244548
         ],
         "y": [
          538110.1894872398,
          538107.3443964534,
          538096.0204492697,
          538099.1934729845,
          538104.538917628,
          538106.7469331918,
          538110.1894872398
         ]
        },
        {
         "fill": "toself",
         "line": {
          "color": "red"
         },
         "marker": {
          "color": "yellow",
          "line": {
           "color": "black",
           "width": 2
          },
          "size": 5
         },
         "mode": "lines+markers",
         "type": "scatter",
         "x": [
          173244.2890332457,
          173243.9292520003
         ],
         "y": [
          537973.912970332,
          537965.0783092369
         ]
        },
        {
         "fill": "toself",
         "line": {
          "color": "red"
         },
         "marker": {
          "color": "yellow",
          "line": {
           "color": "black",
           "width": 2
          },
          "size": 5
         },
         "mode": "lines+markers",
         "type": "scatter",
         "x": [
          173243.9292520003,
          173265.8573007961
         ],
         "y": [
          537965.0783092369,
          537962.513915837
         ]
        },
        {
         "fill": "toself",
         "line": {
          "color": "red"
         },
         "marker": {
          "color": "yellow",
          "line": {
           "color": "black",
           "width": 2
          },
          "size": 5
         },
         "mode": "lines+markers",
         "type": "scatter",
         "x": [
          173265.8573007961,
          173266.2007303923
         ],
         "y": [
          537962.513915837,
          537971.4412014049
         ]
        },
        {
         "fill": "toself",
         "line": {
          "color": "red"
         },
         "marker": {
          "color": "yellow",
          "line": {
           "color": "black",
           "width": 2
          },
          "size": 5
         },
         "mode": "lines+markers",
         "type": "scatter",
         "x": [
          173266.2007303923,
          173244.2890332457
         ],
         "y": [
          537971.4412014049,
          537973.912970332
         ]
        },
        {
         "fill": "toself",
         "line": {
          "color": "red"
         },
         "marker": {
          "color": "yellow",
          "line": {
           "color": "black",
           "width": 2
          },
          "size": 5
         },
         "mode": "lines+markers",
         "type": "scatter",
         "x": [
          173265.529818152,
          173265.8573007961
         ],
         "y": [
          537953.7848748409,
          537962.513915837
         ]
        },
        {
         "fill": "toself",
         "line": {
          "color": "red"
         },
         "marker": {
          "color": "yellow",
          "line": {
           "color": "black",
           "width": 2
          },
          "size": 5
         },
         "mode": "lines+markers",
         "type": "scatter",
         "x": [
          173243.9292520003,
          173243.594363149
         ],
         "y": [
          537965.0783092369,
          537956.2855203702
         ]
        },
        {
         "fill": "toself",
         "line": {
          "color": "red"
         },
         "marker": {
          "color": "yellow",
          "line": {
           "color": "black",
           "width": 2
          },
          "size": 5
         },
         "mode": "lines+markers",
         "type": "scatter",
         "x": [
          173265.529818152,
          173265.1835795753,
          173265.1735225419
         ],
         "y": [
          537953.7848748409,
          537944.8194233595,
          537944.8205350168
         ]
        },
        {
         "fill": "toself",
         "line": {
          "color": "red"
         },
         "marker": {
          "color": "yellow",
          "line": {
           "color": "black",
           "width": 2
          },
          "size": 5
         },
         "mode": "lines+markers",
         "type": "scatter",
         "x": [
          173265.529818152,
          173243.594363149
         ],
         "y": [
          537953.7848748409,
          537956.2855203702
         ]
        },
        {
         "fill": "toself",
         "line": {
          "color": "red"
         },
         "marker": {
          "color": "yellow",
          "line": {
           "color": "black",
           "width": 2
          },
          "size": 5
         },
         "mode": "lines+markers",
         "type": "scatter",
         "x": [
          173243.594363149,
          173243.231188324
         ],
         "y": [
          537956.2855203702,
          537947.2459540083
         ]
        },
        {
         "fill": "toself",
         "line": {
          "color": "red"
         },
         "marker": {
          "color": "yellow",
          "line": {
           "color": "black",
           "width": 2
          },
          "size": 5
         },
         "mode": "lines+markers",
         "type": "scatter",
         "x": [
          173245.2051481942,
          173246.3597707754,
          173256.656865926
         ],
         "y": [
          537992.3843348436,
          538011.9560092719,
          538010.2635567691
         ]
        },
        {
         "fill": "toself",
         "line": {
          "color": "red"
         },
         "marker": {
          "color": "yellow",
          "line": {
           "color": "black",
           "width": 2
          },
          "size": 5
         },
         "mode": "lines+markers",
         "type": "scatter",
         "x": [
          173266.3564560109,
          173267.4292639475,
          173256.656865926
         ],
         "y": [
          537990.2575040015,
          538008.4662449416,
          538010.2635567691
         ]
        },
        {
         "fill": "toself",
         "line": {
          "color": "red"
         },
         "marker": {
          "color": "yellow",
          "line": {
           "color": "black",
           "width": 2
          },
          "size": 5
         },
         "mode": "lines+markers",
         "type": "scatter",
         "x": [
          173256.656865926,
          173255.3131087605
         ],
         "y": [
          538010.2635567691,
          537991.2808785805
         ]
        },
        {
         "fill": "toself",
         "line": {
          "color": "red"
         },
         "marker": {
          "color": "yellow",
          "line": {
           "color": "black",
           "width": 2
          },
          "size": 5
         },
         "mode": "lines+markers",
         "type": "scatter",
         "x": [
          169919.0923240238,
          169918.6666731337,
          169999.689090661,
          169999.2965330184,
          169924.0746641885
         ],
         "y": [
          538736.5803881107,
          538738.6926228679,
          538743.5419723867,
          538708.7477719986,
          538711.8562014301
         ]
        },
        {
         "fill": "toself",
         "line": {
          "color": "red"
         },
         "marker": {
          "color": "yellow",
          "line": {
           "color": "black",
           "width": 2
          },
          "size": 5
         },
         "mode": "lines+markers",
         "type": "scatter",
         "x": [
          173266.3564560109,
          173255.3131087605
         ],
         "y": [
          537990.2575040015,
          537991.2808785805
         ]
        },
        {
         "fill": "toself",
         "line": {
          "color": "red"
         },
         "marker": {
          "color": "yellow",
          "line": {
           "color": "black",
           "width": 2
          },
          "size": 5
         },
         "mode": "lines+markers",
         "type": "scatter",
         "x": [
          173255.3131087605,
          173245.2051481942
         ],
         "y": [
          537991.2808785805,
          537992.3843348436
         ]
        },
        {
         "fill": "toself",
         "line": {
          "color": "red"
         },
         "marker": {
          "color": "yellow",
          "line": {
           "color": "black",
           "width": 2
          },
          "size": 5
         },
         "mode": "lines+markers",
         "type": "scatter",
         "x": [
          173245.2051481942,
          173244.2890332457
         ],
         "y": [
          537992.3843348436,
          537973.912970332
         ]
        },
        {
         "fill": "toself",
         "line": {
          "color": "red"
         },
         "marker": {
          "color": "yellow",
          "line": {
           "color": "black",
           "width": 2
          },
          "size": 5
         },
         "mode": "lines+markers",
         "type": "scatter",
         "x": [
          173266.2007303923,
          173266.3564560109
         ],
         "y": [
          537971.4412014049,
          537990.2575040015
         ]
        },
        {
         "fill": "toself",
         "line": {
          "color": "red"
         },
         "marker": {
          "color": "yellow",
          "line": {
           "color": "black",
           "width": 2
          },
          "size": 5
         },
         "mode": "lines+markers",
         "type": "scatter",
         "x": [
          173240.9161653065,
          173240.4552933268,
          173263.335932116,
          173263.6225631855,
          173240.9161653065
         ],
         "y": [
          537902.8890846324,
          537893.8863939444,
          537892.3599087563,
          537901.3084383336,
          537902.8890846324
         ]
        },
        {
         "fill": "toself",
         "line": {
          "color": "red"
         },
         "marker": {
          "color": "yellow",
          "line": {
           "color": "black",
           "width": 2
          },
          "size": 5
         },
         "mode": "lines+markers",
         "type": "scatter",
         "x": [
          173242.2376983708,
          173264.6919105081
         ],
         "y": [
          537929.1923075002,
          537927.2810814669
         ]
        },
        {
         "fill": "toself",
         "line": {
          "color": "red"
         },
         "marker": {
          "color": "yellow",
          "line": {
           "color": "black",
           "width": 2
          },
          "size": 5
         },
         "mode": "lines+markers",
         "type": "scatter",
         "x": [
          173264.6919105081,
          173265.1735225419
         ],
         "y": [
          537927.2810814669,
          537944.8205350168
         ]
        },
        {
         "fill": "toself",
         "line": {
          "color": "red"
         },
         "marker": {
          "color": "yellow",
          "line": {
           "color": "black",
           "width": 2
          },
          "size": 5
         },
         "mode": "lines+markers",
         "type": "scatter",
         "x": [
          173265.1735225419,
          173243.231188324
         ],
         "y": [
          537944.8205350168,
          537947.2459540083
         ]
        },
        {
         "fill": "toself",
         "line": {
          "color": "red"
         },
         "marker": {
          "color": "yellow",
          "line": {
           "color": "black",
           "width": 2
          },
          "size": 5
         },
         "mode": "lines+markers",
         "type": "scatter",
         "x": [
          173243.231188324,
          173242.2376983708
         ],
         "y": [
          537947.2459540083,
          537929.1923075002
         ]
        },
        {
         "fill": "toself",
         "line": {
          "color": "red"
         },
         "marker": {
          "color": "yellow",
          "line": {
           "color": "black",
           "width": 2
          },
          "size": 5
         },
         "mode": "lines+markers",
         "type": "scatter",
         "x": [
          173242.2376983708,
          173241.7932231668,
          173264.4000499118,
          173264.6919105081
         ],
         "y": [
          537929.1923075002,
          537920.471474415,
          537918.5721693196,
          537927.2810814669
         ]
        },
        {
         "fill": "toself",
         "line": {
          "color": "red"
         },
         "marker": {
          "color": "yellow",
          "line": {
           "color": "black",
           "width": 2
          },
          "size": 5
         },
         "mode": "lines+markers",
         "type": "scatter",
         "x": [
          169211.4209471847,
          169179.7234336543,
          169184.4340328335,
          169212.4412240071,
          169211.4209471847
         ],
         "y": [
          536992.5298001851,
          536991.7345931084,
          536890.7139726579,
          536893.0875631875,
          536992.5298001851
         ]
        },
        {
         "fill": "toself",
         "line": {
          "color": "red"
         },
         "marker": {
          "color": "yellow",
          "line": {
           "color": "black",
           "width": 2
          },
          "size": 5
         },
         "mode": "lines+markers",
         "type": "scatter",
         "x": [
          171923.0252564719,
          171923.2241181291
         ],
         "y": [
          537680.946895907,
          537697.6832650541
         ]
        },
        {
         "fill": "toself",
         "line": {
          "color": "red"
         },
         "marker": {
          "color": "yellow",
          "line": {
           "color": "black",
           "width": 2
          },
          "size": 5
         },
         "mode": "lines+markers",
         "type": "scatter",
         "x": [
          171923.2241181291,
          171918.4023001574
         ],
         "y": [
          537697.6832650541,
          537700.880829437
         ]
        },
        {
         "fill": "toself",
         "line": {
          "color": "red"
         },
         "marker": {
          "color": "yellow",
          "line": {
           "color": "black",
           "width": 2
          },
          "size": 5
         },
         "mode": "lines+markers",
         "type": "scatter",
         "x": [
          171905.9418605348,
          171904.9290863874,
          171902.7051765551
         ],
         "y": [
          537679.0810745013,
          537685.480252401,
          537699.5319484964
         ]
        },
        {
         "fill": "toself",
         "line": {
          "color": "red"
         },
         "marker": {
          "color": "yellow",
          "line": {
           "color": "black",
           "width": 2
          },
          "size": 5
         },
         "mode": "lines+markers",
         "type": "scatter",
         "x": [
          171923.0252564719,
          171939.8828099224
         ],
         "y": [
          537680.946895907,
          537681.9550368995
         ]
        },
        {
         "fill": "toself",
         "line": {
          "color": "red"
         },
         "marker": {
          "color": "yellow",
          "line": {
           "color": "black",
           "width": 2
          },
          "size": 5
         },
         "mode": "lines+markers",
         "type": "scatter",
         "x": [
          171923.2241181291,
          171923.3941885087,
          171923.5645022729,
          171923.7349182406,
          171923.9052952335,
          171924.0754920817,
          171924.2453679372,
          171924.4147817448,
          171924.5835934374,
          171924.7516629537,
          171924.9188512232,
          171925.0850195058,
          171925.2500302821,
          171925.4137467968,
          171925.5760334032,
          171925.7367556695,
          171925.8957803678,
          171926.0529758208,
          171926.2082116728,
          171926.3613594461,
          171926.5122921918,
          171926.6608847382,
          171926.8070142205,
          171926.950559428,
          171927.091401353,
          171927.2294234121,
          171927.3645112217,
          171927.4965529318,
          171927.6254389005,
          171927.7510626744,
          171927.8733200026,
          171927.9921094977,
          171928.1073328542,
          171928.2188946352,
          171928.3267023709,
          171928.4306666756,
          171928.5307015757,
          171928.6267239633,
          171928.7186544672,
          171928.8064168056,
          171928.8899383271,
          171928.9691499007,
          171929.043985698,
          171929.114383856,
          171929.1802860355,
          171929.24163763,
          171929.2983877891,
          171929.3504896107,
          171929.3978997243,
          171929.4405789404,
          171938.0027126087,
          171939.8828099224
         ],
         "y": [
          537697.6832650541,
          537697.6723058944,
          537697.6662707182,
          537697.6651645247,
          537697.6689882312,
          537697.6777386694,
          537697.6914085894,
          537697.7099866656,
          537697.7334575051,
          537697.7618016609,
          537697.7949956508,
          537697.833011973,
          537697.8758191259,
          537697.9233816476,
          537697.9756601276,
          537698.0326112537,
          537698.0941878392,
          537698.160338868,
          537698.2310095298,
          537698.3061412723,
          537698.3856718484,
          537698.4695353636,
          537698.5576623342,
          537698.6499797466,
          537698.7464111099,
          537698.8468765313,
          537698.9512927701,
          537699.0595733151,
          537699.1716284544,
          537699.287365345,
          537699.4066880959,
          537699.5294978466,
          537699.6556928433,
          537699.7851685325,
          537699.9178176372,
          537700.0535302572,
          537700.1921939465,
          537700.3336938223,
          537700.4779126463,
          537700.6247309293,
          537700.7740270281,
          537700.9256772461,
          537701.0795559377,
          537701.23553561,
          537701.3934870291,
          537701.5532793282,
          537701.7147801144,
          537701.8778555795,
          537702.0423706122,
          537702.208188905,
          537702.8764084987,
          537681.9550368995
         ]
        },
        {
         "fill": "toself",
         "line": {
          "color": "red"
         },
         "marker": {
          "color": "yellow",
          "line": {
           "color": "black",
           "width": 2
          },
          "size": 5
         },
         "mode": "lines+markers",
         "type": "scatter",
         "x": [
          171920.9823814634,
          171921.0851377653,
          171921.1888637184,
          171921.2935205136,
          171921.3990688815,
          171921.5054693253,
          171921.6126820313,
          171921.7206668438,
          171921.8293833826,
          171921.9387908412,
          171922.0488482924,
          171922.1595145927,
          171922.2707482595,
          171922.3825074931,
          171922.4947507059,
          171922.6074357558,
          171922.720520399,
          171922.8339623829,
          171922.9477191296,
          171923.0617480576,
          171923.1760065879,
          171923.2904518049,
          171923.405041022,
          171923.5197311041,
          171923.6344792513,
          171923.7492425432,
          171923.8639779604,
          171923.9786423655,
          171924.0931930659,
          171924.207587144,
          171924.3217816822,
          171924.4357338767,
          171924.549401136,
          171924.6627409858,
          171924.7757108336,
          171924.8882684251,
          171925.0003716032,
          171925.1119784487,
          171925.2230472403,
          171925.3335361639,
          171925.4434040542,
          171925.5526096394,
          171925.661112089,
          171925.7688707908,
          171925.8758453502,
          171925.9819958089,
          171926.0872822221,
          171926.1916653949,
          171926.2951061513,
          171926.3975657379,
          171937.7763516318,
          171936.6592752252
         ],
         "y": [
          537708.8815426605,
          537708.9329052733,
          537708.9822599753,
          537709.0295883007,
          537709.0748725263,
          537709.1180956964,
          537709.1592416256,
          537709.1982949094,
          537709.2352409253,
          537709.2700658373,
          537709.3027566059,
          537709.3333009933,
          537709.3616875581,
          537709.387905675,
          537709.4119455264,
          537709.4337981095,
          537709.4534552428,
          537709.4709095662,
          537709.4861545446,
          537709.4991844678,
          537709.5099944592,
          537709.5185804706,
          537709.5249392856,
          537709.5290685253,
          537709.5309666415,
          537709.5306329249,
          537709.5280675015,
          537709.5232713285,
          537709.5162462052,
          537709.5069947606,
          537709.4955204574,
          537709.4818275948,
          537709.4659212976,
          537709.4478075227,
          537709.4274930534,
          537709.4049854927,
          537709.3802932736,
          537709.3534256374,
          537709.3243926461,
          537709.29320517,
          537709.2598748875,
          537709.2244142777,
          537709.1868366188,
          537709.1471559814,
          537709.105387223,
          537709.0615459835,
          537709.0156486785,
          537708.9677124931,
          537708.9177553783,
          537708.8657960367,
          537709.844552055,
          537726.1774122174
         ]
        },
        {
         "fill": "toself",
         "line": {
          "color": "red"
         },
         "marker": {
          "color": "yellow",
          "line": {
           "color": "black",
           "width": 2
          },
          "size": 5
         },
         "mode": "lines+markers",
         "type": "scatter",
         "x": [
          171920.9823814634,
          171918.0286733956,
          171918.4023001574
         ],
         "y": [
          537708.8815426605,
          537705.4130301233,
          537700.880829437
         ]
        },
        {
         "fill": "toself",
         "line": {
          "color": "red"
         },
         "marker": {
          "color": "yellow",
          "line": {
           "color": "black",
           "width": 2
          },
          "size": 5
         },
         "mode": "lines+markers",
         "type": "scatter",
         "x": [
          171920.9823814634,
          171919.3657175131
         ],
         "y": [
          537708.8815426605,
          537725.7260169693
         ]
        },
        {
         "fill": "toself",
         "line": {
          "color": "red"
         },
         "marker": {
          "color": "yellow",
          "line": {
           "color": "black",
           "width": 2
          },
          "size": 5
         },
         "mode": "lines+markers",
         "type": "scatter",
         "x": [
          171919.3657175131,
          171916.6910502873
         ],
         "y": [
          537725.7260169693,
          537725.6562028737
         ]
        },
        {
         "fill": "toself",
         "line": {
          "color": "red"
         },
         "marker": {
          "color": "yellow",
          "line": {
           "color": "black",
           "width": 2
          },
          "size": 5
         },
         "mode": "lines+markers",
         "type": "scatter",
         "x": [
          171916.6910502873,
          171899.6272828853
         ],
         "y": [
          537725.6562028737,
          537725.2108054903
         ]
        },
        {
         "fill": "toself",
         "line": {
          "color": "red"
         },
         "marker": {
          "color": "yellow",
          "line": {
           "color": "black",
           "width": 2
          },
          "size": 5
         },
         "mode": "lines+markers",
         "type": "scatter",
         "x": [
          171899.6272828853,
          171902.7051765551
         ],
         "y": [
          537725.2108054903,
          537699.5319484964
         ]
        },
        {
         "fill": "toself",
         "line": {
          "color": "red"
         },
         "marker": {
          "color": "yellow",
          "line": {
           "color": "black",
           "width": 2
          },
          "size": 5
         },
         "mode": "lines+markers",
         "type": "scatter",
         "x": [
          171902.7051765551,
          171918.4023001574
         ],
         "y": [
          537699.5319484964,
          537700.880829437
         ]
        },
        {
         "fill": "toself",
         "line": {
          "color": "red"
         },
         "marker": {
          "color": "yellow",
          "line": {
           "color": "black",
           "width": 2
          },
          "size": 5
         },
         "mode": "lines+markers",
         "type": "scatter",
         "x": [
          171919.3657175131,
          171936.6592752252
         ],
         "y": [
          537725.7260169693,
          537726.1774122174
         ]
        },
        {
         "fill": "toself",
         "line": {
          "color": "red"
         },
         "marker": {
          "color": "yellow",
          "line": {
           "color": "black",
           "width": 2
          },
          "size": 5
         },
         "mode": "lines+markers",
         "type": "scatter",
         "x": [
          171936.6592752252,
          171937.5873589172,
          171917.8171131079
         ],
         "y": [
          537726.1774122174,
          537749.3812032233,
          537751.95822454
         ]
        },
        {
         "fill": "toself",
         "line": {
          "color": "red"
         },
         "marker": {
          "color": "yellow",
          "line": {
           "color": "black",
           "width": 2
          },
          "size": 5
         },
         "mode": "lines+markers",
         "type": "scatter",
         "x": [
          171917.8171131079,
          171916.6910502873
         ],
         "y": [
          537751.95822454,
          537725.6562028737
         ]
        },
        {
         "fill": "toself",
         "line": {
          "color": "red"
         },
         "marker": {
          "color": "yellow",
          "line": {
           "color": "black",
           "width": 2
          },
          "size": 5
         },
         "mode": "lines+markers",
         "type": "scatter",
         "x": [
          171917.8171131079,
          171888.6808183295
         ],
         "y": [
          537751.95822454,
          537755.096833429
         ]
        },
        {
         "fill": "toself",
         "line": {
          "color": "red"
         },
         "marker": {
          "color": "yellow",
          "line": {
           "color": "black",
           "width": 2
          },
          "size": 5
         },
         "mode": "lines+markers",
         "type": "scatter",
         "x": [
          171885.456736657,
          171899.6272828853
         ],
         "y": [
          537729.8003522218,
          537725.2108054903
         ]
        },
        {
         "fill": "toself",
         "line": {
          "color": "red"
         },
         "marker": {
          "color": "yellow",
          "line": {
           "color": "black",
           "width": 2
          },
          "size": 5
         },
         "mode": "lines+markers",
         "type": "scatter",
         "x": [
          171888.6808183295,
          171872.7613792006
         ],
         "y": [
          537755.096833429,
          537757.0598476754
         ]
        },
        {
         "fill": "toself",
         "line": {
          "color": "red"
         },
         "marker": {
          "color": "yellow",
          "line": {
           "color": "black",
           "width": 2
          },
          "size": 5
         },
         "mode": "lines+markers",
         "type": "scatter",
         "x": [
          171872.7613792006,
          171868.7142282604
         ],
         "y": [
          537757.0598476754,
          537731.984303875
         ]
        },
        {
         "fill": "toself",
         "line": {
          "color": "red"
         },
         "marker": {
          "color": "yellow",
          "line": {
           "color": "black",
           "width": 2
          },
          "size": 5
         },
         "mode": "lines+markers",
         "type": "scatter",
         "x": [
          171868.7142282604,
          171885.456736657
         ],
         "y": [
          537731.984303875,
          537729.8003522218
         ]
        },
        {
         "fill": "toself",
         "line": {
          "color": "red"
         },
         "marker": {
          "color": "yellow",
          "line": {
           "color": "black",
           "width": 2
          },
          "size": 5
         },
         "mode": "lines+markers",
         "type": "scatter",
         "x": [
          171885.456736657,
          171888.6808183295
         ],
         "y": [
          537729.8003522218,
          537755.096833429
         ]
        },
        {
         "fill": "toself",
         "line": {
          "color": "red"
         },
         "marker": {
          "color": "yellow",
          "line": {
           "color": "black",
           "width": 2
          },
          "size": 5
         },
         "mode": "lines+markers",
         "type": "scatter",
         "x": [
          171868.6535585353,
          171868.7142282604
         ],
         "y": [
          537731.6084033037,
          537731.984303875
         ]
        },
        {
         "fill": "toself",
         "line": {
          "color": "red"
         },
         "marker": {
          "color": "yellow",
          "line": {
           "color": "black",
           "width": 2
          },
          "size": 5
         },
         "mode": "lines+markers",
         "type": "scatter",
         "x": [
          171868.6535585353,
          171849.8525175313,
          171853.9924036345,
          171858.0811786577,
          171872.7613792006
         ],
         "y": [
          537731.6084033037,
          537735.2787890882,
          537761.7748979464,
          537760.0037845949,
          537757.0598476754
         ]
        },
        {
         "fill": "toself",
         "line": {
          "color": "red"
         },
         "marker": {
          "color": "yellow",
          "line": {
           "color": "black",
           "width": 2
          },
          "size": 5
         },
         "mode": "lines+markers",
         "type": "scatter",
         "x": [
          171874.5737287885,
          171878.4964484985
         ],
         "y": [
          537767.7133314695,
          537794.9369925766
         ]
        },
        {
         "fill": "toself",
         "line": {
          "color": "red"
         },
         "marker": {
          "color": "yellow",
          "line": {
           "color": "black",
           "width": 2
          },
          "size": 5
         },
         "mode": "lines+markers",
         "type": "scatter",
         "x": [
          171878.4964484985,
          171879.0608094198,
          171879.5019762747,
          171840.0642936705,
          171836.5354699907,
          171834.1458782832,
          171848.7120518391,
          171848.5294201804,
          171848.3894557457,
          171848.2928451302,
          171848.2400623472,
          171848.2313661048,
          171848.2667990985,
          171848.3461875945,
          171848.4691422739,
          171848.6350597759,
          171848.8431264284,
          171849.0923216424,
          171849.3814229732,
          171849.7090123734,
          171850.0734829066,
          171850.4730468665,
          171850.9057442599,
          171851.3694526851,
          171851.8618975693,
          171852.3806633798,
          171852.9232053885,
          171853.4868624418,
          171854.0688696015,
          171854.6663721036,
          171855.2764390312,
          171855.8960780186,
          171856.5222494693,
          171857.1518819528,
          171857.7818870458,
          171858.4091744308,
          171859.0306670549,
          171859.6433166752,
          171860.2441178012,
          171860.8301235773,
          171861.3984595083,
          171861.9463377954,
          171862.4710709673,
          171862.9700852096,
          171863.440932687,
          171863.881303768,
          171864.2890384746,
          171864.662136723,
          171864.9987684612,
          171865.2972823537,
          171865.5562142823,
          171865.7742939459,
          171865.950451799,
          171866.0838236956,
          171866.1737554007,
          171866.2198057635,
          171874.5737287885
         ],
         "y": [
          537794.9369925766,
          537798.8536553975,
          537801.7042038273,
          537807.2576599666,
          537784.7218146239,
          537769.9187422681,
          537767.2579358057,
          537767.864155026,
          537768.4817345492,
          537769.107645033,
          537769.7388162828,
          537770.3721522863,
          537771.0045464246,
          537771.6328966905,
          537772.2541209129,
          537772.8651718795,
          537773.4630522771,
          537774.0448293947,
          537774.6076495133,
          537775.1487519,
          537775.6654823521,
          537776.1553062119,
          537776.6158208092,
          537777.0447672383,
          537777.4400414347,
          537777.7997045136,
          537778.1219922617,
          537778.4053237996,
          537778.6483093353,
          537778.849756981,
          537779.0086786017,
          537779.1242946559,
          537779.1960380297,
          537779.2235568034,
          537779.2067159965,
          537779.1455982163,
          537779.0405032557,
          537778.8919466248,
          537778.7006570204,
          537778.4675727526,
          537778.1938371398,
          537777.8807929078,
          537777.5299755891,
          537777.1431060102,
          537776.722081835,
          537776.26896826,
          537775.7859878901,
          537775.2755098302,
          537774.7400380637,
          537774.1821991783,
          537773.6047294706,
          537773.0104615325,
          537772.4023103537,
          537771.7832590227,
          537771.1563440963,
          537769.2453223983,
          537767.7133314695
         ]
        },
        {
         "fill": "toself",
         "line": {
          "color": "red"
         },
         "marker": {
          "color": "yellow",
          "line": {
           "color": "black",
           "width": 2
          },
          "size": 5
         },
         "mode": "lines+markers",
         "type": "scatter",
         "x": [
          171874.5737287885,
          171930.0790362192
         ],
         "y": [
          537767.7133314695,
          537759.5302636164
         ]
        },
        {
         "fill": "toself",
         "line": {
          "color": "red"
         },
         "marker": {
          "color": "yellow",
          "line": {
           "color": "black",
           "width": 2
          },
          "size": 5
         },
         "mode": "lines+markers",
         "type": "scatter",
         "x": [
          171930.0790362192,
          171931.7582349416
         ],
         "y": [
          537759.5302636164,
          537790.6076206679
         ]
        },
        {
         "fill": "toself",
         "line": {
          "color": "red"
         },
         "marker": {
          "color": "yellow",
          "line": {
           "color": "black",
           "width": 2
          },
          "size": 5
         },
         "mode": "lines+markers",
         "type": "scatter",
         "x": [
          171930.0790362192,
          171943.4828677361,
          171944.7736546026,
          171931.7582349416
         ],
         "y": [
          537759.5302636164,
          537758.4678780218,
          537789.4729772711,
          537790.6076206679
         ]
        },
        {
         "fill": "toself",
         "line": {
          "color": "red"
         },
         "marker": {
          "color": "yellow",
          "line": {
           "color": "black",
           "width": 2
          },
          "size": 5
         },
         "mode": "lines+markers",
         "type": "scatter",
         "x": [
          171928.7943909947,
          171928.8504169267,
          171950.7608231994,
          171950.6754956964,
          171932.1506393403,
          171932.0961315191,
          171932.0403104752,
          171931.9832032605,
          171931.9248374705,
          171931.8652415886,
          171931.804444208,
          171931.7424750169,
          171931.6793640399,
          171931.615141851,
          171931.5498394612,
          171931.4834886605,
          171931.4161214465,
          171931.3477707104,
          171931.2784694474,
          171931.2082512049,
          171931.1371500795,
          171931.0652005016,
          171930.992437445,
          171930.9188960047,
          171930.8446120432,
          171930.7696213033,
          171930.693960315,
          171930.6176658131,
          171930.5407745471,
          171930.4633239167,
          171930.3853515488,
          171930.3068950651,
          171930.2279926398,
          171930.1486824557,
          171930.0690029037,
          171929.9889926075,
          171929.9086905076,
          171929.8281353353,
          171929.7473661528,
          171929.6664222385,
          171929.5853427594,
          171929.5041670005,
          171929.422934354,
          171929.3416841006,
          171929.2604557427,
          171929.1792885652,
          171929.0982218531,
          171929.0172949988,
          171928.9365472859,
          171928.8560176739,
          171928.7757453384,
          171928.6957692371,
          171928.6161278833,
          171928.5368601297
         ],
         "y": [
          537583.2527035887,
          537579.2351958201,
          537573.3467670388,
          537600.4725577425,
          537602.8712363696,
          537602.8106798346,
          537602.7513439882,
          537602.6932575898,
          537602.6364487933,
          537602.580945135,
          537602.526773517,
          537602.473960197,
          537602.4225307731,
          537602.3725101717,
          537602.3239226398,
          537602.2767917276,
          537602.2311402779,
          537602.1869904192,
          537602.1443635514,
          537602.1032803333,
          537602.0637606805,
          537602.025823747,
          537601.9894879218,
          537601.9547708145,
          537601.9216892554,
          537601.890259278,
          537601.8604961144,
          537601.8324141944,
          537601.806027126,
          537601.7813477013,
          537601.7583878812,
          537601.7371587952,
          537601.7176707324,
          537601.699933139,
          537601.6839546113,
          537601.6697428947,
          537601.6573048795,
          537601.6466465915,
          537601.6377731984,
          537601.6306890007,
          537601.625397432,
          537601.621901057,
          537601.6202015711,
          537601.6202997982,
          537601.6221956894,
          537601.6258883269,
          537601.6313759203,
          537601.6386558096,
          537601.6477244662,
          537601.6585774955,
          537601.6712096363,
          537601.6856147666,
          537601.7017859028,
          537601.7197152071
         ]
        },
        {
         "fill": "toself",
         "line": {
          "color": "red"
         },
         "marker": {
          "color": "yellow",
          "line": {
           "color": "black",
           "width": 2
          },
          "size": 5
         },
         "mode": "lines+markers",
         "type": "scatter",
         "x": [
          171966.0181068728,
          171961.1388415328,
          171977.8896204889,
          171977.9567972228,
          171978.0244912785,
          171978.092685479,
          171978.1613619954,
          171978.2305033268,
          171978.3000914234,
          171978.3701085604,
          171978.4405364701,
          171978.5113572127,
          171978.5825522968,
          171978.6541035646,
          171978.7259924132,
          171978.7982003546,
          171978.8707087893,
          171978.9434990113,
          171979.0165523039,
          171979.0898496339,
          171979.1633722905,
          171979.2371012383,
          171979.3110174337,
          171979.3851019537,
          171979.4593355339,
          171979.5336990332,
          171979.6081734118,
          171979.6827394086,
          171979.7573776621,
          171979.832069133,
          171979.9067943424,
          171979.981534148,
          171980.056269399,
          171980.1309805136,
          171980.2056484508,
          171980.2802539569,
          171980.3547776692,
          171980.4292003317,
          171980.5035030159,
          171980.5776662508,
          171980.6516711057,
          171980.725498552,
          171980.7991293376,
          171980.8725445296,
          171980.9457253242,
          171981.0186526768,
          171981.0913078962,
          171981.1636722714,
          171981.2357271001,
          171981.3074536832,
          171981.3788337556,
          171981.4498486129,
          171985.3381335756
         ],
         "y": [
          537596.9940190148,
          537614.6262638551,
          537616.000153444,
          537615.9672248083,
          537615.9353846001,
          537615.904641032,
          537615.8750020328,
          537615.846475244,
          537615.8190680242,
          537615.7927874407,
          537615.7676402726,
          537615.7436330025,
          537615.720771824,
          537615.6990626319,
          537615.678511025,
          537615.6591223036,
          537615.640901468,
          537615.6238532168,
          537615.6079819456,
          537615.5932917501,
          537615.5797864164,
          537615.5674694297,
          537615.5563439638,
          537615.546412889,
          537615.5376787682,
          537615.5301438505,
          537615.5238100818,
          537615.5186790952,
          537615.5147522129,
          537615.5120304486,
          537615.5105145031,
          537615.5102047675,
          537615.5111013228,
          537615.513203937,
          537615.5165120685,
          537615.521024863,
          537615.5267411581,
          537615.5336594781,
          537615.5417780393,
          537615.551094749,
          537615.5616072043,
          537615.5733126927,
          537615.5862081954,
          537615.6002903893,
          537615.6155556404,
          537615.6320000115,
          537615.6496192641,
          537615.6684088535,
          537615.6883639329,
          537615.7094793562,
          537615.7317496783,
          537615.755169155,
          537601.3341140111
         ]
        },
        {
         "fill": "toself",
         "line": {
          "color": "red"
         },
         "marker": {
          "color": "yellow",
          "line": {
           "color": "black",
           "width": 2
          },
          "size": 5
         },
         "mode": "lines+markers",
         "type": "scatter",
         "x": [
          171999.8113461184,
          171999.7423352685,
          172000.5891513869,
          172001.591752405,
          172002.485970788,
          172003.7691133501,
          171996.9713960077
         ],
         "y": [
          537603.9073029126,
          537605.9338482897,
          537608.1358476084,
          537609.2802462358,
          537609.5828668984,
          537609.6853894711,
          537624.8453498689
         ]
        },
        {
         "fill": "toself",
         "line": {
          "color": "red"
         },
         "marker": {
          "color": "yellow",
          "line": {
           "color": "black",
           "width": 2
          },
          "size": 5
         },
         "mode": "lines+markers",
         "type": "scatter",
         "x": [
          171983.8315990038,
          171985.3381335756
         ],
         "y": [
          537622.756450562,
          537601.3341140111
         ]
        },
        {
         "fill": "toself",
         "line": {
          "color": "red"
         },
         "marker": {
          "color": "yellow",
          "line": {
           "color": "black",
           "width": 2
          },
          "size": 5
         },
         "mode": "lines+markers",
         "type": "scatter",
         "x": [
          171985.3381335756,
          171999.8113461184
         ],
         "y": [
          537601.3341140111,
          537603.9073029126
         ]
        },
        {
         "fill": "toself",
         "line": {
          "color": "red"
         },
         "marker": {
          "color": "yellow",
          "line": {
           "color": "black",
           "width": 2
          },
          "size": 5
         },
         "mode": "lines+markers",
         "type": "scatter",
         "x": [
          171977.7254961324,
          171983.8315990038
         ],
         "y": [
          537624.2462055531,
          537622.756450562
         ]
        },
        {
         "fill": "toself",
         "line": {
          "color": "red"
         },
         "marker": {
          "color": "yellow",
          "line": {
           "color": "black",
           "width": 2
          },
          "size": 5
         },
         "mode": "lines+markers",
         "type": "scatter",
         "x": [
          171983.8315990038,
          171996.9713960077
         ],
         "y": [
          537622.756450562,
          537624.8453498689
         ]
        },
        {
         "fill": "toself",
         "line": {
          "color": "red"
         },
         "marker": {
          "color": "yellow",
          "line": {
           "color": "black",
           "width": 2
          },
          "size": 5
         },
         "mode": "lines+markers",
         "type": "scatter",
         "x": [
          171996.9713960077,
          171990.5405799962
         ],
         "y": [
          537624.8453498689,
          537643.4154668719
         ]
        },
        {
         "fill": "toself",
         "line": {
          "color": "red"
         },
         "marker": {
          "color": "yellow",
          "line": {
           "color": "black",
           "width": 2
          },
          "size": 5
         },
         "mode": "lines+markers",
         "type": "scatter",
         "x": [
          171985.3381335756,
          171966.0181068728
         ],
         "y": [
          537601.3341140111,
          537596.9940190148
         ]
        },
        {
         "fill": "toself",
         "line": {
          "color": "red"
         },
         "marker": {
          "color": "yellow",
          "line": {
           "color": "black",
           "width": 2
          },
          "size": 5
         },
         "mode": "lines+markers",
         "type": "scatter",
         "x": [
          171999.8113461184,
          171997.9114129885,
          171990.8266980339,
          171981.0892401713,
          171977.2571134362,
          171972.6563863678,
          171970.5006522832,
          171966.0181068728
         ],
         "y": [
          537603.9073029126,
          537598.2876535337,
          537576.3517481787,
          537574.092897322,
          537575.0968388044,
          537577.4427341857,
          537579.5958591552,
          537596.9940190148
         ]
        },
        {
         "fill": "toself",
         "line": {
          "color": "red"
         },
         "marker": {
          "color": "yellow",
          "line": {
           "color": "black",
           "width": 2
          },
          "size": 5
         },
         "mode": "lines+markers",
         "type": "scatter",
         "x": [
          171977.7254961324,
          171974.1292687081
         ],
         "y": [
          537624.2462055531,
          537641.7238599166
         ]
        },
        {
         "fill": "toself",
         "line": {
          "color": "red"
         },
         "marker": {
          "color": "yellow",
          "line": {
           "color": "black",
           "width": 2
          },
          "size": 5
         },
         "mode": "lines+markers",
         "type": "scatter",
         "x": [
          171974.1292687081,
          171956.442668297
         ],
         "y": [
          537641.7238599166,
          537640.3284645673
         ]
        },
        {
         "fill": "toself",
         "line": {
          "color": "red"
         },
         "marker": {
          "color": "yellow",
          "line": {
           "color": "black",
           "width": 2
          },
          "size": 5
         },
         "mode": "lines+markers",
         "type": "scatter",
         "x": [
          171956.442668297,
          171959.8786584824,
          171975.3125525471,
          171975.3109412788,
          171975.3116569372,
          171975.314699118,
          171975.3200663137,
          171975.327755813,
          171975.3377637956,
          171975.3500852374,
          171975.364713899,
          171975.3816425555,
          171975.4008625454,
          171975.4223642244,
          171975.4461370634,
          171975.4721687692,
          171975.5004466115,
          171975.5309561017,
          171975.5636821993,
          171975.5986083208,
          171975.6357170065,
          171975.6749894687,
          171975.7164062648,
          171975.7599464117,
          171975.8055881561,
          171975.8533085264,
          171975.9030836801,
          171975.9548884498,
          171976.008697007,
          171976.0644823105,
          171976.1222163361,
          171976.1818701685,
          171976.2434138004,
          171976.3068163391,
          171976.3720460094,
          171976.4390700531,
          171976.5078548181,
          171976.578365787,
          171976.6505676631,
          171976.7244241555,
          171976.7998981021,
          171976.8769517799,
          171976.9555464828,
          171977.0356427316,
          171977.1172002732,
          171977.2001783056,
          171977.2845351469,
          171977.3702283473,
          171977.4572151148,
          171977.5454515734,
          171977.6348935018,
          171977.7254961324
         ],
         "y": [
          537640.3284645673,
          537619.0163645184,
          537620.0317269136,
          537620.1361080855,
          537620.2404993249,
          537620.3448482413,
          537620.449102469,
          537620.5532096871,
          537620.6571176503,
          537620.760774212,
          537620.8641273525,
          537620.9671252043,
          537621.0697160783,
          537621.1718484885,
          537621.2734711824,
          537621.3745331573,
          537621.4749836972,
          537621.5747723914,
          537621.6738491594,
          537621.7721642817,
          537621.8696684191,
          537621.9663126381,
          537622.062048437,
          537622.156827772,
          537622.2506030805,
          537622.3433272982,
          537622.4349538933,
          537622.5254368816,
          537622.6147308549,
          537622.702791003,
          537622.7895731322,
          537622.875033689,
          537622.9591297865,
          537623.0418192218,
          537623.1230604966,
          537623.2028128403,
          537623.2810362285,
          537623.3576914064,
          537623.4327399035,
          537623.5061440585,
          537623.5778670311,
          537623.6478728291,
          537623.7161263193,
          537623.7825932489,
          537623.847240262,
          537623.9100349147,
          537623.9709456959,
          537624.0299420342,
          537624.0869943249,
          537624.1420739357,
          537624.1951532244,
          537624.2462055531
         ]
        },
        {
         "fill": "toself",
         "line": {
          "color": "red"
         },
         "marker": {
          "color": "yellow",
          "line": {
           "color": "black",
           "width": 2
          },
          "size": 5
         },
         "mode": "lines+markers",
         "type": "scatter",
         "x": [
          171974.1292687081,
          171990.5405799962
         ],
         "y": [
          537641.7238599166,
          537643.4154668719
         ]
        },
        {
         "fill": "toself",
         "line": {
          "color": "red"
         },
         "marker": {
          "color": "yellow",
          "line": {
           "color": "black",
           "width": 2
          },
          "size": 5
         },
         "mode": "lines+markers",
         "type": "scatter",
         "x": [
          171990.5405799962,
          171983.1067325604
         ],
         "y": [
          537643.4154668719,
          537664.8820143891
         ]
        },
        {
         "fill": "toself",
         "line": {
          "color": "red"
         },
         "marker": {
          "color": "yellow",
          "line": {
           "color": "black",
           "width": 2
          },
          "size": 5
         },
         "mode": "lines+markers",
         "type": "scatter",
         "x": [
          171983.1067325604,
          171953.5930016251
         ],
         "y": [
          537664.8820143891,
          537659.8454914696
         ]
        },
        {
         "fill": "toself",
         "line": {
          "color": "red"
         },
         "marker": {
          "color": "yellow",
          "line": {
           "color": "black",
           "width": 2
          },
          "size": 5
         },
         "mode": "lines+markers",
         "type": "scatter",
         "x": [
          171953.5930016251,
          171953.8725739837,
          171956.442668297
         ],
         "y": [
          537659.8454914696,
          537656.2697522237,
          537640.3284645673
         ]
        },
        {
         "fill": "toself",
         "line": {
          "color": "red"
         },
         "marker": {
          "color": "yellow",
          "line": {
           "color": "black",
           "width": 2
          },
          "size": 5
         },
         "mode": "lines+markers",
         "type": "scatter",
         "x": [
          171983.1067325604,
          171978.7715954406
         ],
         "y": [
          537664.8820143891,
          537682.8168297183
         ]
        },
        {
         "fill": "toself",
         "line": {
          "color": "red"
         },
         "marker": {
          "color": "yellow",
          "line": {
           "color": "black",
           "width": 2
          },
          "size": 5
         },
         "mode": "lines+markers",
         "type": "scatter",
         "x": [
          171952.0152420281,
          171953.5930016251
         ],
         "y": [
          537680.0250817441,
          537659.8454914696
         ]
        },
        {
         "fill": "toself",
         "line": {
          "color": "red"
         },
         "marker": {
          "color": "yellow",
          "line": {
           "color": "black",
           "width": 2
          },
          "size": 5
         },
         "mode": "lines+markers",
         "type": "scatter",
         "x": [
          171973.8432893871,
          171974.4261837035,
          171978.7715954406
         ],
         "y": [
          537703.8350075943,
          537700.7941521639,
          537682.8168297183
         ]
        },
        {
         "fill": "toself",
         "line": {
          "color": "red"
         },
         "marker": {
          "color": "yellow",
          "line": {
           "color": "black",
           "width": 2
          },
          "size": 5
         },
         "mode": "lines+markers",
         "type": "scatter",
         "x": [
          171950.1007128911,
          171950.2136395229,
          171951.2986303864,
          171952.0152420281
         ],
         "y": [
          537703.1022686545,
          537699.8482849279,
          537689.1905647118,
          537680.0250817441
         ]
        },
        {
         "fill": "toself",
         "line": {
          "color": "red"
         },
         "marker": {
          "color": "yellow",
          "line": {
           "color": "black",
           "width": 2
          },
          "size": 5
         },
         "mode": "lines+markers",
         "type": "scatter",
         "x": [
          171952.0152420281,
          171978.7715954406
         ],
         "y": [
          537680.0250817441,
          537682.8168297183
         ]
        },
        {
         "fill": "toself",
         "line": {
          "color": "red"
         },
         "marker": {
          "color": "yellow",
          "line": {
           "color": "black",
           "width": 2
          },
          "size": 5
         },
         "mode": "lines+markers",
         "type": "scatter",
         "x": [
          171950.1007128911,
          171973.8432893871
         ],
         "y": [
          537703.1022686545,
          537703.8350075943
         ]
        },
        {
         "fill": "toself",
         "line": {
          "color": "red"
         },
         "marker": {
          "color": "yellow",
          "line": {
           "color": "black",
           "width": 2
          },
          "size": 5
         },
         "mode": "lines+markers",
         "type": "scatter",
         "x": [
          171973.8432893871,
          171973.5066056461,
          171972.5252889184,
          171989.8505942513,
          171988.8699152804,
          171971.7429617945
         ],
         "y": [
          537703.8350075943,
          537705.5914263425,
          537717.6450772012,
          537717.6450772007,
          537723.8484782825,
          537723.848478283
         ]
        },
        {
         "fill": "toself",
         "line": {
          "color": "red"
         },
         "marker": {
          "color": "yellow",
          "line": {
           "color": "black",
           "width": 2
          },
          "size": 5
         },
         "mode": "lines+markers",
         "type": "scatter",
         "x": [
          171950.1007128911,
          171949.7885616593,
          171948.9189573823
         ],
         "y": [
          537703.1022686545,
          537712.0969185397,
          537724.5697662688
         ]
        },
        {
         "fill": "toself",
         "line": {
          "color": "red"
         },
         "marker": {
          "color": "yellow",
          "line": {
           "color": "black",
           "width": 2
          },
          "size": 5
         },
         "mode": "lines+markers",
         "type": "scatter",
         "x": [
          171948.9189573823,
          171948.9189573439,
          171948.918957351,
          171948.9550602793,
          171968.7046850039,
          171971.7429617945
         ],
         "y": [
          537724.5697662688,
          537732.0643208064,
          537735.9287760857,
          537745.1697346324,
          537745.0479682244,
          537723.848478283
         ]
        },
        {
         "fill": "toself",
         "line": {
          "color": "red"
         },
         "marker": {
          "color": "yellow",
          "line": {
           "color": "black",
           "width": 2
          },
          "size": 5
         },
         "mode": "lines+markers",
         "type": "scatter",
         "x": [
          171971.7429617945,
          171970.9243805844,
          171948.9189573823
         ],
         "y": [
          537723.848478283,
          537723.8484782825,
          537724.5697662688
         ]
        },
        {
         "fill": "toself",
         "line": {
          "color": "red"
         },
         "marker": {
          "color": "yellow",
          "line": {
           "color": "black",
           "width": 2
          },
          "size": 5
         },
         "mode": "lines+markers",
         "type": "scatter",
         "x": [
          171928.7943909947,
          171917.2527077274,
          171902.782467202,
          171905.1123983267
         ],
         "y": [
          537583.2527035887,
          537586.6342258668,
          537589.5043845366,
          537607.4617548948
         ]
        },
        {
         "fill": "toself",
         "line": {
          "color": "red"
         },
         "marker": {
          "color": "yellow",
          "line": {
           "color": "black",
           "width": 2
          },
          "size": 5
         },
         "mode": "lines+markers",
         "type": "scatter",
         "x": [
          171928.7943909947,
          171928.5417992918,
          171928.5368601297
         ],
         "y": [
          537583.2527035887,
          537601.3655386047,
          537601.7197152071
         ]
        },
        {
         "fill": "toself",
         "line": {
          "color": "red"
         },
         "marker": {
          "color": "yellow",
          "line": {
           "color": "black",
           "width": 2
          },
          "size": 5
         },
         "mode": "lines+markers",
         "type": "scatter",
         "x": [
          171928.5368601297,
          171923.5315114729
         ],
         "y": [
          537601.7197152071,
          537606.197500541
         ]
        },
        {
         "fill": "toself",
         "line": {
          "color": "red"
         },
         "marker": {
          "color": "yellow",
          "line": {
           "color": "black",
           "width": 2
          },
          "size": 5
         },
         "mode": "lines+markers",
         "type": "scatter",
         "x": [
          171923.5315114729,
          171905.1123983267
         ],
         "y": [
          537606.197500541,
          537607.4617548948
         ]
        },
        {
         "fill": "toself",
         "line": {
          "color": "red"
         },
         "marker": {
          "color": "yellow",
          "line": {
           "color": "black",
           "width": 2
          },
          "size": 5
         },
         "mode": "lines+markers",
         "type": "scatter",
         "x": [
          171923.5315114729,
          171923.5279812014,
          171923.5318547133,
          171923.5431263666,
          171923.5617795211,
          171923.5877867456,
          171923.6211096105,
          171923.6616990092,
          171923.7094951611,
          171923.7644276052,
          171923.8264153262,
          171923.8953670647,
          171923.971181211,
          171924.0537458238,
          171924.1429393725,
          171924.2386303164,
          171924.3406777573,
          171924.4489311059,
          171924.5632309689,
          171924.6834087124,
          171924.8092873236,
          171924.9406813155,
          171925.0773968417,
          171925.2192325555,
          171925.3659793047,
          171925.5174208814,
          171925.673334028,
          171925.8334889963,
          171925.9976496431,
          171926.1655741017,
          171926.3370148854,
          171926.5117191115,
          171926.6894294808,
          171926.8698840788,
          171927.0528167931,
          171927.2379579876,
          171927.4250349336,
          171927.6137718158,
          171927.8038905128,
          171927.995110673,
          171928.1871506328,
          171928.3797271785,
          171928.5725565375,
          171928.7653545995,
          171928.9578370225,
          171929.149720124,
          171929.3407212048,
          171929.5305587626,
          171929.7189528303,
          171929.9056258583,
          171929.9056258295,
          171906.7399292125,
          171905.1123983267
         ],
         "y": [
          537606.197500541,
          537606.3912893963,
          537606.5850715784,
          537606.77856147,
          537606.971473885,
          537607.1635244902,
          537607.3544302213,
          537607.543909702,
          537607.7316836569,
          537607.9174753255,
          537608.1010108683,
          537608.2820197735,
          537608.4602352494,
          537608.6353946237,
          537608.8072397277,
          537608.9755172799,
          537609.1399792559,
          537609.3003832517,
          537609.4564928489,
          537609.6080779566,
          537609.7549151538,
          537609.8967880163,
          537610.033487436,
          537610.1648119306,
          537610.2905679435,
          537610.4105701186,
          537610.5246415875,
          537610.6326142172,
          537610.7343288672,
          537610.8296356207,
          537610.9183940043,
          537611.000473196,
          537611.0757522195,
          537611.1441201208,
          537611.2054761321,
          537611.2597298207,
          537611.3068012199,
          537611.3466209547,
          537611.3791303313,
          537611.4042814357,
          537611.4220371973,
          537611.4323714445,
          537611.4352689486,
          537611.4307254356,
          537611.418747604,
          537611.3993531087,
          537611.3725705334,
          537611.3384393535,
          537611.2970098759,
          537611.2483431647,
          537619.1430703945,
          537621.9727428415,
          537607.4617548948
         ]
        },
        {
         "fill": "toself",
         "line": {
          "color": "red"
         },
         "marker": {
          "color": "yellow",
          "line": {
           "color": "black",
           "width": 2
          },
          "size": 5
         },
         "mode": "lines+markers",
         "type": "scatter",
         "x": [
          171930.2808850449,
          171928.4851419539
         ],
         "y": [
          537633.3317807778,
          537653.6805619264
         ]
        },
        {
         "fill": "toself",
         "line": {
          "color": "red"
         },
         "marker": {
          "color": "yellow",
          "line": {
           "color": "black",
           "width": 2
          },
          "size": 5
         },
         "mode": "lines+markers",
         "type": "scatter",
         "x": [
          171928.4851419539,
          171924.9200657907
         ],
         "y": [
          537653.6805619264,
          537659.1786774179
         ]
        },
        {
         "fill": "toself",
         "line": {
          "color": "red"
         },
         "marker": {
          "color": "yellow",
          "line": {
           "color": "black",
           "width": 2
          },
          "size": 5
         },
         "mode": "lines+markers",
         "type": "scatter",
         "x": [
          171924.9200657907,
          171909.1345018912
         ],
         "y": [
          537659.1786774179,
          537659.1786774184
         ]
        },
        {
         "fill": "toself",
         "line": {
          "color": "red"
         },
         "marker": {
          "color": "yellow",
          "line": {
           "color": "black",
           "width": 2
          },
          "size": 5
         },
         "mode": "lines+markers",
         "type": "scatter",
         "x": [
          171930.2808850449,
          171913.0622038196,
          171909.1345018912
         ],
         "y": [
          537633.3317807778,
          537632.2628469174,
          537659.1786774184
         ]
        },
        {
         "fill": "toself",
         "line": {
          "color": "red"
         },
         "marker": {
          "color": "yellow",
          "line": {
           "color": "black",
           "width": 2
          },
          "size": 5
         },
         "mode": "lines+markers",
         "type": "scatter",
         "x": [
          171928.4851419539,
          171928.5572340248,
          171928.6291612966,
          171928.7008960339,
          171928.7724102944,
          171928.8436764642,
          171928.9146668116,
          171928.9853539501,
          171929.0557104738,
          171929.1257091115,
          171929.1953225672,
          171929.2645240046,
          171929.3332866882,
          171929.401583774,
          171929.4693888633,
          171929.5366757707,
          171929.6034183167,
          171929.6695906495,
          171929.7351671364,
          171929.8001222625,
          171929.8644310534,
          171929.9280684289,
          171929.9910097542,
          171930.0532307195,
          171930.114707122,
          171930.1754151004,
          171930.2353312252,
          171930.2944321792,
          171930.352695194,
          171930.4100975046,
          171930.4666170097,
          171930.5222317063,
          171930.5769200453,
          171930.6306610182,
          171930.6834335132,
          171930.7352172979,
          171930.7859921347,
          171930.835738458,
          171930.8844370162,
          171930.9320687931,
          171930.9786154279,
          171931.0240587728,
          171931.0683814642,
          171931.1115660184,
          171931.1535959429,
          171931.1944547512,
          171931.2341267241,
          171931.2725965793,
          171931.3098491497,
          171931.3458701443,
          171942.8322367953,
          171947.0833305572,
          171930.2808850449
         ],
         "y": [
          537653.6805619264,
          537653.6882579644,
          537653.6973788632,
          537653.7079210847,
          537653.719880544,
          537653.7332526047,
          537653.7480320869,
          537653.7642132597,
          537653.7817898523,
          537653.8007550531,
          537653.821101511,
          537653.8428213396,
          537653.8659061218,
          537653.8903469101,
          537653.916134231,
          537653.943258091,
          537653.9717079763,
          537654.001472862,
          537654.0325412102,
          537654.0649009795,
          537654.0985396288,
          537654.13344412,
          537654.1696009248,
          537654.2069960298,
          537654.2456149416,
          537654.2854426916,
          537654.3264638437,
          537654.3686624995,
          537654.412022303,
          537654.4565264498,
          537654.5021576888,
          537654.5488983362,
          537654.5967302761,
          537654.6456349697,
          537654.6955934615,
          537654.7465863895,
          537654.7985939916,
          537654.851596107,
          537654.9055721952,
          537654.960501337,
          537655.0163622412,
          537655.0731332597,
          537655.1307923854,
          537655.189317275,
          537655.2486852426,
          537655.3088732798,
          537655.3698580582,
          537655.4316159412,
          537655.4941229942,
          537655.5573549891,
          537656.0226995872,
          537633.7746534639,
          537633.3317807778
         ]
        },
        {
         "fill": "toself",
         "line": {
          "color": "red"
         },
         "marker": {
          "color": "yellow",
          "line": {
           "color": "black",
           "width": 2
          },
          "size": 5
         },
         "mode": "lines+markers",
         "type": "scatter",
         "x": [
          171939.8828099224,
          171941.4548055722,
          171940.7168999426,
          171931.2123400641,
          171931.1604241208,
          171931.1065778365,
          171931.0508355754,
          171930.9932327981,
          171930.9338060709,
          171930.8725933846,
          171930.8096336165,
          171930.7449669539,
          171930.6786344709,
          171930.6106784501,
          171930.5411421649,
          171930.4700698761,
          171930.3975068321,
          171930.3234992716,
          171930.2480942109,
          171930.1713398609,
          171930.0932848884,
          171930.0139790479,
          171929.9334729755,
          171929.8518177514,
          171929.7690653284,
          171929.6852686552,
          171929.6004808953,
          171929.5147560902,
          171929.4281487314,
          171929.3407141717,
          171929.2525078919,
          171929.1635860185,
          171929.0740054525,
          171928.98382287,
          171928.8930959486,
          171928.801882348,
          171928.7102402868,
          171928.6182278764,
          171928.5259038737,
          171928.4333270489,
          171928.3405562745,
          171928.2476506406,
          171928.1546693481,
          171928.0616715998,
          171927.9687165948,
          171927.8758634189,
          171927.7831713811,
          171927.6906994589,
          171927.5985064022,
          171927.5066509736,
          171927.415191697,
          171927.3241867815,
          171927.2336942029
         ],
         "y": [
          537681.9550368995,
          537662.2617440539,
          537660.1273515242,
          537659.3655627972,
          537659.4431107951,
          537659.5193176168,
          537659.5941347425,
          537659.6675145313,
          537659.7394102623,
          537659.8097761584,
          537659.8785674146,
          537659.9457402297,
          537660.0112518342,
          537660.0750605147,
          537660.1371256439,
          537660.1974077016,
          537660.2558683064,
          537660.3124702334,
          537660.3671774447,
          537660.4199551059,
          537660.4707696115,
          537660.519588609,
          537660.5663810128,
          537660.6111170298,
          537660.6537681718,
          537660.6943072868,
          537660.7327085595,
          537660.7689475405,
          537660.8030011546,
          537660.8348477212,
          537660.86446696,
          537660.891840014,
          537660.9169494523,
          537660.9397792873,
          537660.9603149839,
          537660.9785434657,
          537660.9944531255,
          537661.0080338356,
          537661.0192769468,
          537661.0281752998,
          537661.034723232,
          537661.0389165712,
          537661.0407526486,
          537661.0402302954,
          537661.0373498425,
          537661.0321131254,
          537661.0245234789,
          537661.014585732,
          537661.002306218,
          537660.9876927529,
          537660.970754639,
          537660.9515026652,
          537660.9299490869
         ]
        },
        {
         "fill": "toself",
         "line": {
          "color": "red"
         },
         "marker": {
          "color": "yellow",
          "line": {
           "color": "black",
           "width": 2
          },
          "size": 5
         },
         "mode": "lines+markers",
         "type": "scatter",
         "x": [
          171923.0252564719,
          171927.2336942029
         ],
         "y": [
          537680.946895907,
          537660.9299490869
         ]
        },
        {
         "fill": "toself",
         "line": {
          "color": "red"
         },
         "marker": {
          "color": "yellow",
          "line": {
           "color": "black",
           "width": 2
          },
          "size": 5
         },
         "mode": "lines+markers",
         "type": "scatter",
         "x": [
          171923.0252564719,
          171905.9418605348
         ],
         "y": [
          537680.946895907,
          537679.0810745013
         ]
        },
        {
         "fill": "toself",
         "line": {
          "color": "red"
         },
         "marker": {
          "color": "yellow",
          "line": {
           "color": "black",
           "width": 2
          },
          "size": 5
         },
         "mode": "lines+markers",
         "type": "scatter",
         "x": [
          171905.9418605348,
          171906.4997666844,
          171909.1345018912
         ],
         "y": [
          537679.0810745013,
          537675.6031803801,
          537659.1786774184
         ]
        },
        {
         "fill": "toself",
         "line": {
          "color": "red"
         },
         "marker": {
          "color": "yellow",
          "line": {
           "color": "black",
           "width": 2
          },
          "size": 5
         },
         "mode": "lines+markers",
         "type": "scatter",
         "x": [
          171924.9200657907,
          171927.2336942029
         ],
         "y": [
          537659.1786774179,
          537660.9299490869
         ]
        }
       ],
       "layout": {
        "plot_bgcolor": "rgba(0,0,0,0)",
        "showlegend": false,
        "template": {
         "data": {
          "bar": [
           {
            "error_x": {
             "color": "#2a3f5f"
            },
            "error_y": {
             "color": "#2a3f5f"
            },
            "marker": {
             "line": {
              "color": "#E5ECF6",
              "width": 0.5
             },
             "pattern": {
              "fillmode": "overlay",
              "size": 10,
              "solidity": 0.2
             }
            },
            "type": "bar"
           }
          ],
          "barpolar": [
           {
            "marker": {
             "line": {
              "color": "#E5ECF6",
              "width": 0.5
             },
             "pattern": {
              "fillmode": "overlay",
              "size": 10,
              "solidity": 0.2
             }
            },
            "type": "barpolar"
           }
          ],
          "carpet": [
           {
            "aaxis": {
             "endlinecolor": "#2a3f5f",
             "gridcolor": "white",
             "linecolor": "white",
             "minorgridcolor": "white",
             "startlinecolor": "#2a3f5f"
            },
            "baxis": {
             "endlinecolor": "#2a3f5f",
             "gridcolor": "white",
             "linecolor": "white",
             "minorgridcolor": "white",
             "startlinecolor": "#2a3f5f"
            },
            "type": "carpet"
           }
          ],
          "choropleth": [
           {
            "colorbar": {
             "outlinewidth": 0,
             "ticks": ""
            },
            "type": "choropleth"
           }
          ],
          "contour": [
           {
            "colorbar": {
             "outlinewidth": 0,
             "ticks": ""
            },
            "colorscale": [
             [
              0,
              "#0d0887"
             ],
             [
              0.1111111111111111,
              "#46039f"
             ],
             [
              0.2222222222222222,
              "#7201a8"
             ],
             [
              0.3333333333333333,
              "#9c179e"
             ],
             [
              0.4444444444444444,
              "#bd3786"
             ],
             [
              0.5555555555555556,
              "#d8576b"
             ],
             [
              0.6666666666666666,
              "#ed7953"
             ],
             [
              0.7777777777777778,
              "#fb9f3a"
             ],
             [
              0.8888888888888888,
              "#fdca26"
             ],
             [
              1,
              "#f0f921"
             ]
            ],
            "type": "contour"
           }
          ],
          "contourcarpet": [
           {
            "colorbar": {
             "outlinewidth": 0,
             "ticks": ""
            },
            "type": "contourcarpet"
           }
          ],
          "heatmap": [
           {
            "colorbar": {
             "outlinewidth": 0,
             "ticks": ""
            },
            "colorscale": [
             [
              0,
              "#0d0887"
             ],
             [
              0.1111111111111111,
              "#46039f"
             ],
             [
              0.2222222222222222,
              "#7201a8"
             ],
             [
              0.3333333333333333,
              "#9c179e"
             ],
             [
              0.4444444444444444,
              "#bd3786"
             ],
             [
              0.5555555555555556,
              "#d8576b"
             ],
             [
              0.6666666666666666,
              "#ed7953"
             ],
             [
              0.7777777777777778,
              "#fb9f3a"
             ],
             [
              0.8888888888888888,
              "#fdca26"
             ],
             [
              1,
              "#f0f921"
             ]
            ],
            "type": "heatmap"
           }
          ],
          "heatmapgl": [
           {
            "colorbar": {
             "outlinewidth": 0,
             "ticks": ""
            },
            "colorscale": [
             [
              0,
              "#0d0887"
             ],
             [
              0.1111111111111111,
              "#46039f"
             ],
             [
              0.2222222222222222,
              "#7201a8"
             ],
             [
              0.3333333333333333,
              "#9c179e"
             ],
             [
              0.4444444444444444,
              "#bd3786"
             ],
             [
              0.5555555555555556,
              "#d8576b"
             ],
             [
              0.6666666666666666,
              "#ed7953"
             ],
             [
              0.7777777777777778,
              "#fb9f3a"
             ],
             [
              0.8888888888888888,
              "#fdca26"
             ],
             [
              1,
              "#f0f921"
             ]
            ],
            "type": "heatmapgl"
           }
          ],
          "histogram": [
           {
            "marker": {
             "pattern": {
              "fillmode": "overlay",
              "size": 10,
              "solidity": 0.2
             }
            },
            "type": "histogram"
           }
          ],
          "histogram2d": [
           {
            "colorbar": {
             "outlinewidth": 0,
             "ticks": ""
            },
            "colorscale": [
             [
              0,
              "#0d0887"
             ],
             [
              0.1111111111111111,
              "#46039f"
             ],
             [
              0.2222222222222222,
              "#7201a8"
             ],
             [
              0.3333333333333333,
              "#9c179e"
             ],
             [
              0.4444444444444444,
              "#bd3786"
             ],
             [
              0.5555555555555556,
              "#d8576b"
             ],
             [
              0.6666666666666666,
              "#ed7953"
             ],
             [
              0.7777777777777778,
              "#fb9f3a"
             ],
             [
              0.8888888888888888,
              "#fdca26"
             ],
             [
              1,
              "#f0f921"
             ]
            ],
            "type": "histogram2d"
           }
          ],
          "histogram2dcontour": [
           {
            "colorbar": {
             "outlinewidth": 0,
             "ticks": ""
            },
            "colorscale": [
             [
              0,
              "#0d0887"
             ],
             [
              0.1111111111111111,
              "#46039f"
             ],
             [
              0.2222222222222222,
              "#7201a8"
             ],
             [
              0.3333333333333333,
              "#9c179e"
             ],
             [
              0.4444444444444444,
              "#bd3786"
             ],
             [
              0.5555555555555556,
              "#d8576b"
             ],
             [
              0.6666666666666666,
              "#ed7953"
             ],
             [
              0.7777777777777778,
              "#fb9f3a"
             ],
             [
              0.8888888888888888,
              "#fdca26"
             ],
             [
              1,
              "#f0f921"
             ]
            ],
            "type": "histogram2dcontour"
           }
          ],
          "mesh3d": [
           {
            "colorbar": {
             "outlinewidth": 0,
             "ticks": ""
            },
            "type": "mesh3d"
           }
          ],
          "parcoords": [
           {
            "line": {
             "colorbar": {
              "outlinewidth": 0,
              "ticks": ""
             }
            },
            "type": "parcoords"
           }
          ],
          "pie": [
           {
            "automargin": true,
            "type": "pie"
           }
          ],
          "scatter": [
           {
            "fillpattern": {
             "fillmode": "overlay",
             "size": 10,
             "solidity": 0.2
            },
            "type": "scatter"
           }
          ],
          "scatter3d": [
           {
            "line": {
             "colorbar": {
              "outlinewidth": 0,
              "ticks": ""
             }
            },
            "marker": {
             "colorbar": {
              "outlinewidth": 0,
              "ticks": ""
             }
            },
            "type": "scatter3d"
           }
          ],
          "scattercarpet": [
           {
            "marker": {
             "colorbar": {
              "outlinewidth": 0,
              "ticks": ""
             }
            },
            "type": "scattercarpet"
           }
          ],
          "scattergeo": [
           {
            "marker": {
             "colorbar": {
              "outlinewidth": 0,
              "ticks": ""
             }
            },
            "type": "scattergeo"
           }
          ],
          "scattergl": [
           {
            "marker": {
             "colorbar": {
              "outlinewidth": 0,
              "ticks": ""
             }
            },
            "type": "scattergl"
           }
          ],
          "scattermapbox": [
           {
            "marker": {
             "colorbar": {
              "outlinewidth": 0,
              "ticks": ""
             }
            },
            "type": "scattermapbox"
           }
          ],
          "scatterpolar": [
           {
            "marker": {
             "colorbar": {
              "outlinewidth": 0,
              "ticks": ""
             }
            },
            "type": "scatterpolar"
           }
          ],
          "scatterpolargl": [
           {
            "marker": {
             "colorbar": {
              "outlinewidth": 0,
              "ticks": ""
             }
            },
            "type": "scatterpolargl"
           }
          ],
          "scatterternary": [
           {
            "marker": {
             "colorbar": {
              "outlinewidth": 0,
              "ticks": ""
             }
            },
            "type": "scatterternary"
           }
          ],
          "surface": [
           {
            "colorbar": {
             "outlinewidth": 0,
             "ticks": ""
            },
            "colorscale": [
             [
              0,
              "#0d0887"
             ],
             [
              0.1111111111111111,
              "#46039f"
             ],
             [
              0.2222222222222222,
              "#7201a8"
             ],
             [
              0.3333333333333333,
              "#9c179e"
             ],
             [
              0.4444444444444444,
              "#bd3786"
             ],
             [
              0.5555555555555556,
              "#d8576b"
             ],
             [
              0.6666666666666666,
              "#ed7953"
             ],
             [
              0.7777777777777778,
              "#fb9f3a"
             ],
             [
              0.8888888888888888,
              "#fdca26"
             ],
             [
              1,
              "#f0f921"
             ]
            ],
            "type": "surface"
           }
          ],
          "table": [
           {
            "cells": {
             "fill": {
              "color": "#EBF0F8"
             },
             "line": {
              "color": "white"
             }
            },
            "header": {
             "fill": {
              "color": "#C8D4E3"
             },
             "line": {
              "color": "white"
             }
            },
            "type": "table"
           }
          ]
         },
         "layout": {
          "annotationdefaults": {
           "arrowcolor": "#2a3f5f",
           "arrowhead": 0,
           "arrowwidth": 1
          },
          "autotypenumbers": "strict",
          "coloraxis": {
           "colorbar": {
            "outlinewidth": 0,
            "ticks": ""
           }
          },
          "colorscale": {
           "diverging": [
            [
             0,
             "#8e0152"
            ],
            [
             0.1,
             "#c51b7d"
            ],
            [
             0.2,
             "#de77ae"
            ],
            [
             0.3,
             "#f1b6da"
            ],
            [
             0.4,
             "#fde0ef"
            ],
            [
             0.5,
             "#f7f7f7"
            ],
            [
             0.6,
             "#e6f5d0"
            ],
            [
             0.7,
             "#b8e186"
            ],
            [
             0.8,
             "#7fbc41"
            ],
            [
             0.9,
             "#4d9221"
            ],
            [
             1,
             "#276419"
            ]
           ],
           "sequential": [
            [
             0,
             "#0d0887"
            ],
            [
             0.1111111111111111,
             "#46039f"
            ],
            [
             0.2222222222222222,
             "#7201a8"
            ],
            [
             0.3333333333333333,
             "#9c179e"
            ],
            [
             0.4444444444444444,
             "#bd3786"
            ],
            [
             0.5555555555555556,
             "#d8576b"
            ],
            [
             0.6666666666666666,
             "#ed7953"
            ],
            [
             0.7777777777777778,
             "#fb9f3a"
            ],
            [
             0.8888888888888888,
             "#fdca26"
            ],
            [
             1,
             "#f0f921"
            ]
           ],
           "sequentialminus": [
            [
             0,
             "#0d0887"
            ],
            [
             0.1111111111111111,
             "#46039f"
            ],
            [
             0.2222222222222222,
             "#7201a8"
            ],
            [
             0.3333333333333333,
             "#9c179e"
            ],
            [
             0.4444444444444444,
             "#bd3786"
            ],
            [
             0.5555555555555556,
             "#d8576b"
            ],
            [
             0.6666666666666666,
             "#ed7953"
            ],
            [
             0.7777777777777778,
             "#fb9f3a"
            ],
            [
             0.8888888888888888,
             "#fdca26"
            ],
            [
             1,
             "#f0f921"
            ]
           ]
          },
          "colorway": [
           "#636efa",
           "#EF553B",
           "#00cc96",
           "#ab63fa",
           "#FFA15A",
           "#19d3f3",
           "#FF6692",
           "#B6E880",
           "#FF97FF",
           "#FECB52"
          ],
          "font": {
           "color": "#2a3f5f"
          },
          "geo": {
           "bgcolor": "white",
           "lakecolor": "white",
           "landcolor": "#E5ECF6",
           "showlakes": true,
           "showland": true,
           "subunitcolor": "white"
          },
          "hoverlabel": {
           "align": "left"
          },
          "hovermode": "closest",
          "mapbox": {
           "style": "light"
          },
          "paper_bgcolor": "white",
          "plot_bgcolor": "#E5ECF6",
          "polar": {
           "angularaxis": {
            "gridcolor": "white",
            "linecolor": "white",
            "ticks": ""
           },
           "bgcolor": "#E5ECF6",
           "radialaxis": {
            "gridcolor": "white",
            "linecolor": "white",
            "ticks": ""
           }
          },
          "scene": {
           "xaxis": {
            "backgroundcolor": "#E5ECF6",
            "gridcolor": "white",
            "gridwidth": 2,
            "linecolor": "white",
            "showbackground": true,
            "ticks": "",
            "zerolinecolor": "white"
           },
           "yaxis": {
            "backgroundcolor": "#E5ECF6",
            "gridcolor": "white",
            "gridwidth": 2,
            "linecolor": "white",
            "showbackground": true,
            "ticks": "",
            "zerolinecolor": "white"
           },
           "zaxis": {
            "backgroundcolor": "#E5ECF6",
            "gridcolor": "white",
            "gridwidth": 2,
            "linecolor": "white",
            "showbackground": true,
            "ticks": "",
            "zerolinecolor": "white"
           }
          },
          "shapedefaults": {
           "line": {
            "color": "#2a3f5f"
           }
          },
          "ternary": {
           "aaxis": {
            "gridcolor": "white",
            "linecolor": "white",
            "ticks": ""
           },
           "baxis": {
            "gridcolor": "white",
            "linecolor": "white",
            "ticks": ""
           },
           "bgcolor": "#E5ECF6",
           "caxis": {
            "gridcolor": "white",
            "linecolor": "white",
            "ticks": ""
           }
          },
          "title": {
           "x": 0.05
          },
          "xaxis": {
           "automargin": true,
           "gridcolor": "white",
           "linecolor": "white",
           "ticks": "",
           "title": {
            "standoff": 15
           },
           "zerolinecolor": "white",
           "zerolinewidth": 2
          },
          "yaxis": {
           "automargin": true,
           "gridcolor": "white",
           "linecolor": "white",
           "ticks": "",
           "title": {
            "standoff": 15
           },
           "zerolinecolor": "white",
           "zerolinewidth": 2
          }
         }
        },
        "title": {
         "text": "Parcels BEFORE cleaning"
        },
        "xaxis": {
         "linecolor": "black",
         "linewidth": 2,
         "mirror": true,
         "showline": true,
         "title": {
          "text": "X"
         }
        },
        "yaxis": {
         "linecolor": "black",
         "linewidth": 2,
         "mirror": true,
         "showline": true,
         "title": {
          "text": "Y"
         }
        }
       }
      },
      "text/html": [
       "<div>                            <div id=\"ed9cf819-f007-4c00-aba2-c3dcd08c1c7b\" class=\"plotly-graph-div\" style=\"height:525px; width:100%;\"></div>            <script type=\"text/javascript\">                require([\"plotly\"], function(Plotly) {                    window.PLOTLYENV=window.PLOTLYENV || {};                                    if (document.getElementById(\"ed9cf819-f007-4c00-aba2-c3dcd08c1c7b\")) {                    Plotly.newPlot(                        \"ed9cf819-f007-4c00-aba2-c3dcd08c1c7b\",                        [{\"fill\":\"toself\",\"line\":{\"color\":\"red\"},\"marker\":{\"color\":\"yellow\",\"line\":{\"color\":\"black\",\"width\":2},\"size\":5},\"mode\":\"lines+markers\",\"x\":[170046.656369714,170066.58773438,170070.8320303895,170050.4496688225,170046.656369714],\"y\":[538690.0459865994,538688.1754761626,538723.1804464505,538724.8305879902,538690.0459865994],\"type\":\"scatter\"},{\"fill\":\"toself\",\"line\":{\"color\":\"red\"},\"marker\":{\"color\":\"yellow\",\"line\":{\"color\":\"black\",\"width\":2},\"size\":5},\"mode\":\"lines+markers\",\"x\":[171100.9989847714,171100.7881967803],\"y\":[538247.1770387553,538254.0738183243],\"type\":\"scatter\"},{\"fill\":\"toself\",\"line\":{\"color\":\"red\"},\"marker\":{\"color\":\"yellow\",\"line\":{\"color\":\"black\",\"width\":2},\"size\":5},\"mode\":\"lines+markers\",\"x\":[171199.819632471,171224.6684580127],\"y\":[538405.9068421484,538406.148439336],\"type\":\"scatter\"},{\"fill\":\"toself\",\"line\":{\"color\":\"red\"},\"marker\":{\"color\":\"yellow\",\"line\":{\"color\":\"black\",\"width\":2},\"size\":5},\"mode\":\"lines+markers\",\"x\":[171224.6684580127,171224.2794046072,171199.5805551606,171199.819632471],\"y\":[538406.148439336,538420.8933075093,538420.6549044631,538405.9068421484],\"type\":\"scatter\"},{\"fill\":\"toself\",\"line\":{\"color\":\"red\"},\"marker\":{\"color\":\"yellow\",\"line\":{\"color\":\"black\",\"width\":2},\"size\":5},\"mode\":\"lines+markers\",\"x\":[171199.819632471,171200.0628073911,171225.061608282,171224.6684580127],\"y\":[538405.9068421484,538391.2588605142,538391.5037156149,538406.148439336],\"type\":\"scatter\"},{\"fill\":\"toself\",\"line\":{\"color\":\"red\"},\"marker\":{\"color\":\"yellow\",\"line\":{\"color\":\"black\",\"width\":2},\"size\":5},\"mode\":\"lines+markers\",\"x\":[170183.1671263177,170204.063814195,170201.7357373573,170198.3503241029,170186.160369056,170182.4075368875,170176.1497665878,170180.7916553698,170181.8964477109,170183.1671263177,170204.063814195],\"y\":[538714.0709656392,538712.3992879571,538683.79386787,538649.9125828154,538651.2286435228,538652.1321094693,538656.6250519279,538691.3877633462,538700.7010195751,538714.0709656392,538712.3992879571],\"type\":\"scatter\"},{\"fill\":\"toself\",\"line\":{\"color\":\"red\"},\"marker\":{\"color\":\"yellow\",\"line\":{\"color\":\"black\",\"width\":2},\"size\":5},\"mode\":\"lines+markers\",\"x\":[170293.5604201219,170309.1592909582,170309.201128984,170293.7094431325,170293.5604201219],\"y\":[538643.7706410174,538643.5829480983,538655.6793454782,538655.1717339354,538643.7706410174],\"type\":\"scatter\"},{\"fill\":\"toself\",\"line\":{\"color\":\"red\"},\"marker\":{\"color\":\"yellow\",\"line\":{\"color\":\"black\",\"width\":2},\"size\":5},\"mode\":\"lines+markers\",\"x\":[170071.3406758397,170070.8308880876,170051.3945509989,170051.9041521359],\"y\":[538742.4283368137,538733.1673573056,538734.7417780159,538743.9993674128],\"type\":\"scatter\"},{\"fill\":\"toself\",\"line\":{\"color\":\"red\"},\"marker\":{\"color\":\"yellow\",\"line\":{\"color\":\"black\",\"width\":2},\"size\":5},\"mode\":\"lines+markers\",\"x\":[170071.3406758397,170071.8504635917,170052.414126503,170051.9041521359],\"y\":[538742.4283368137,538751.6893163217,538753.263737032,538743.9993674128],\"type\":\"scatter\"},{\"fill\":\"toself\",\"line\":{\"color\":\"red\"},\"marker\":{\"color\":\"yellow\",\"line\":{\"color\":\"black\",\"width\":2},\"size\":5},\"mode\":\"lines+markers\",\"x\":[170051.9041521359,170071.3406758397],\"y\":[538743.9993674128,538742.4283368137],\"type\":\"scatter\"},{\"fill\":\"toself\",\"line\":{\"color\":\"red\"},\"marker\":{\"color\":\"yellow\",\"line\":{\"color\":\"black\",\"width\":2},\"size\":5},\"mode\":\"lines+markers\",\"x\":[170051.6590804218,170037.6460251955,170031.0633800359,170031.1421285969,170050.8132920193,170051.6590804218],\"y\":[538743.2644924652,538744.2827179938,538744.7610303418,538732.9112920044,538731.8457735362,538743.2644924652],\"type\":\"scatter\"},{\"fill\":\"toself\",\"line\":{\"color\":\"red\"},\"marker\":{\"color\":\"yellow\",\"line\":{\"color\":\"black\",\"width\":2},\"size\":5},\"mode\":\"lines+markers\",\"x\":[170204.8263201975,170183.3527578702,170183.2637109087,170183.1671263177,170204.063814195,170204.8263201975],\"y\":[538721.7683105634,538723.5263968421,538715.0663634167,538714.0709656392,538712.3992879571,538721.7683105634],\"type\":\"scatter\"},{\"fill\":\"toself\",\"line\":{\"color\":\"red\"},\"marker\":{\"color\":\"yellow\",\"line\":{\"color\":\"black\",\"width\":2},\"size\":5},\"mode\":\"lines+markers\",\"x\":[171379.758,171404.252],\"y\":[538363.303,538363.875],\"type\":\"scatter\"},{\"fill\":\"toself\",\"line\":{\"color\":\"red\"},\"marker\":{\"color\":\"yellow\",\"line\":{\"color\":\"black\",\"width\":2},\"size\":5},\"mode\":\"lines+markers\",\"x\":[171402.867,171378.378],\"y\":[538404.051,538403.279],\"type\":\"scatter\"},{\"fill\":\"toself\",\"line\":{\"color\":\"red\"},\"marker\":{\"color\":\"yellow\",\"line\":{\"color\":\"black\",\"width\":2},\"size\":5},\"mode\":\"lines+markers\",\"x\":[171404.252,171402.867],\"y\":[538363.875,538404.051],\"type\":\"scatter\"},{\"fill\":\"toself\",\"line\":{\"color\":\"red\"},\"marker\":{\"color\":\"yellow\",\"line\":{\"color\":\"black\",\"width\":2},\"size\":5},\"mode\":\"lines+markers\",\"x\":[171419.677,171418.293],\"y\":[538364.236,538404.412],\"type\":\"scatter\"},{\"fill\":\"toself\",\"line\":{\"color\":\"red\"},\"marker\":{\"color\":\"yellow\",\"line\":{\"color\":\"black\",\"width\":2},\"size\":5},\"mode\":\"lines+markers\",\"x\":[171378.378,171379.758],\"y\":[538403.279,538363.303],\"type\":\"scatter\"},{\"fill\":\"toself\",\"line\":{\"color\":\"red\"},\"marker\":{\"color\":\"yellow\",\"line\":{\"color\":\"black\",\"width\":2},\"size\":5},\"mode\":\"lines+markers\",\"x\":[171402.867,171418.293],\"y\":[538404.051,538404.412],\"type\":\"scatter\"},{\"fill\":\"toself\",\"line\":{\"color\":\"red\"},\"marker\":{\"color\":\"yellow\",\"line\":{\"color\":\"black\",\"width\":2},\"size\":5},\"mode\":\"lines+markers\",\"x\":[171419.677,171430.911],\"y\":[538364.236,538364.826],\"type\":\"scatter\"},{\"fill\":\"toself\",\"line\":{\"color\":\"red\"},\"marker\":{\"color\":\"yellow\",\"line\":{\"color\":\"black\",\"width\":2},\"size\":5},\"mode\":\"lines+markers\",\"x\":[171430.911,171464.24],\"y\":[538364.826,538366.025],\"type\":\"scatter\"},{\"fill\":\"toself\",\"line\":{\"color\":\"red\"},\"marker\":{\"color\":\"yellow\",\"line\":{\"color\":\"black\",\"width\":2},\"size\":5},\"mode\":\"lines+markers\",\"x\":[171464.24,171465.634],\"y\":[538366.025,538385.575],\"type\":\"scatter\"},{\"fill\":\"toself\",\"line\":{\"color\":\"red\"},\"marker\":{\"color\":\"yellow\",\"line\":{\"color\":\"black\",\"width\":2},\"size\":5},\"mode\":\"lines+markers\",\"x\":[171465.634,171465.793],\"y\":[538385.575,538400.075],\"type\":\"scatter\"},{\"fill\":\"toself\",\"line\":{\"color\":\"red\"},\"marker\":{\"color\":\"yellow\",\"line\":{\"color\":\"black\",\"width\":2},\"size\":5},\"mode\":\"lines+markers\",\"x\":[171465.793,171465.249],\"y\":[538400.075,538406.401],\"type\":\"scatter\"},{\"fill\":\"toself\",\"line\":{\"color\":\"red\"},\"marker\":{\"color\":\"yellow\",\"line\":{\"color\":\"black\",\"width\":2},\"size\":5},\"mode\":\"lines+markers\",\"x\":[171465.249,171452.0886432255],\"y\":[538406.401,538405.8858586279],\"type\":\"scatter\"},{\"fill\":\"toself\",\"line\":{\"color\":\"red\"},\"marker\":{\"color\":\"yellow\",\"line\":{\"color\":\"black\",\"width\":2},\"size\":5},\"mode\":\"lines+markers\",\"x\":[171442.9272856592,171429.527],\"y\":[538405.526685462,538405.001],\"type\":\"scatter\"},{\"fill\":\"toself\",\"line\":{\"color\":\"red\"},\"marker\":{\"color\":\"yellow\",\"line\":{\"color\":\"black\",\"width\":2},\"size\":5},\"mode\":\"lines+markers\",\"x\":[171429.527,171419.041],\"y\":[538405.001,538404.451],\"type\":\"scatter\"},{\"fill\":\"toself\",\"line\":{\"color\":\"red\"},\"marker\":{\"color\":\"yellow\",\"line\":{\"color\":\"black\",\"width\":2},\"size\":5},\"mode\":\"lines+markers\",\"x\":[171419.041,171418.293],\"y\":[538404.451,538404.412],\"type\":\"scatter\"},{\"fill\":\"toself\",\"line\":{\"color\":\"red\"},\"marker\":{\"color\":\"yellow\",\"line\":{\"color\":\"black\",\"width\":2},\"size\":5},\"mode\":\"lines+markers\",\"x\":[171378.378,171350.883],\"y\":[538403.279,538402.741],\"type\":\"scatter\"},{\"fill\":\"toself\",\"line\":{\"color\":\"red\"},\"marker\":{\"color\":\"yellow\",\"line\":{\"color\":\"black\",\"width\":2},\"size\":5},\"mode\":\"lines+markers\",\"x\":[171350.883,171352.263],\"y\":[538402.741,538362.764],\"type\":\"scatter\"},{\"fill\":\"toself\",\"line\":{\"color\":\"red\"},\"marker\":{\"color\":\"yellow\",\"line\":{\"color\":\"black\",\"width\":2},\"size\":5},\"mode\":\"lines+markers\",\"x\":[171352.263,171379.758],\"y\":[538362.764,538363.303],\"type\":\"scatter\"},{\"fill\":\"toself\",\"line\":{\"color\":\"red\"},\"marker\":{\"color\":\"yellow\",\"line\":{\"color\":\"black\",\"width\":2},\"size\":5},\"mode\":\"lines+markers\",\"x\":[171674.1970542085,171614.8389004402,171611.7604072756,171674.1970542085],\"y\":[537153.7682694179,537130.8309384444,537116.4334211097,537153.7682694179],\"type\":\"scatter\"},{\"fill\":\"toself\",\"line\":{\"color\":\"red\"},\"marker\":{\"color\":\"yellow\",\"line\":{\"color\":\"black\",\"width\":2},\"size\":5},\"mode\":\"lines+markers\",\"x\":[171830.6869280816,171837.1328957806,171832.5683185397,171826.2762989003,171830.6869280816],\"y\":[538170.0928600614,538169.2052281937,538145.8356922154,538146.9328604464,538170.0928600614],\"type\":\"scatter\"},{\"fill\":\"toself\",\"line\":{\"color\":\"red\"},\"marker\":{\"color\":\"yellow\",\"line\":{\"color\":\"black\",\"width\":2},\"size\":5},\"mode\":\"lines+markers\",\"x\":[171786.6404289049,171790.4521599475,171797.6507365225,171793.6068661197,171786.6404289049],\"y\":[538154.0334195037,538174.6190514498,538173.8978172943,538152.7695449592,538154.0334195037],\"type\":\"scatter\"},{\"fill\":\"toself\",\"line\":{\"color\":\"red\"},\"marker\":{\"color\":\"yellow\",\"line\":{\"color\":\"black\",\"width\":2},\"size\":5},\"mode\":\"lines+markers\",\"x\":[171804.691558477,171811.5317900711],\"y\":[538172.983035241,538172.0768168684],\"type\":\"scatter\"},{\"fill\":\"toself\",\"line\":{\"color\":\"red\"},\"marker\":{\"color\":\"yellow\",\"line\":{\"color\":\"black\",\"width\":2},\"size\":5},\"mode\":\"lines+markers\",\"x\":[171804.691558477,171800.4165042634],\"y\":[538172.983035241,538151.5087470469],\"type\":\"scatter\"},{\"fill\":\"toself\",\"line\":{\"color\":\"red\"},\"marker\":{\"color\":\"yellow\",\"line\":{\"color\":\"black\",\"width\":2},\"size\":5},\"mode\":\"lines+markers\",\"x\":[171800.4165042634,171807.2420911946],\"y\":[538151.5087470469,538150.1814914612],\"type\":\"scatter\"},{\"fill\":\"toself\",\"line\":{\"color\":\"red\"},\"marker\":{\"color\":\"yellow\",\"line\":{\"color\":\"black\",\"width\":2},\"size\":5},\"mode\":\"lines+markers\",\"x\":[171732.0235514469,171740.1747233899,171744.6766969538,171736.448467997,171732.0235514469],\"y\":[538163.852699972,538162.307249347,538180.6632356737,538181.7523859089,538163.852699972],\"type\":\"scatter\"},{\"fill\":\"toself\",\"line\":{\"color\":\"red\"},\"marker\":{\"color\":\"yellow\",\"line\":{\"color\":\"black\",\"width\":2},\"size\":5},\"mode\":\"lines+markers\",\"x\":[171723.7054708845,171732.0235514469,171736.448467997,171728.3193743289,171723.7054708845],\"y\":[538165.4297962345,538163.852699972,538181.7523859089,538182.828413852,538165.4297962345],\"type\":\"scatter\"},{\"fill\":\"toself\",\"line\":{\"color\":\"red\"},\"marker\":{\"color\":\"yellow\",\"line\":{\"color\":\"black\",\"width\":2},\"size\":5},\"mode\":\"lines+markers\",\"x\":[171744.6766969538,171736.448467997],\"y\":[538180.6632356737,538181.7523859089],\"type\":\"scatter\"},{\"fill\":\"toself\",\"line\":{\"color\":\"red\"},\"marker\":{\"color\":\"yellow\",\"line\":{\"color\":\"black\",\"width\":2},\"size\":5},\"mode\":\"lines+markers\",\"x\":[171740.1747233899,171744.6766969538],\"y\":[538162.307249347,538180.6632356737],\"type\":\"scatter\"},{\"fill\":\"toself\",\"line\":{\"color\":\"red\"},\"marker\":{\"color\":\"yellow\",\"line\":{\"color\":\"black\",\"width\":2},\"size\":5},\"mode\":\"lines+markers\",\"x\":[171736.448467997,171732.0235514469],\"y\":[538181.7523859089,538163.852699972],\"type\":\"scatter\"},{\"fill\":\"toself\",\"line\":{\"color\":\"red\"},\"marker\":{\"color\":\"yellow\",\"line\":{\"color\":\"black\",\"width\":2},\"size\":5},\"mode\":\"lines+markers\",\"x\":[171736.448467997,171728.3193743289,171723.7054708845,171732.0235514469],\"y\":[538181.7523859089,538182.828413852,538165.4297962345,538163.852699972],\"type\":\"scatter\"},{\"fill\":\"toself\",\"line\":{\"color\":\"red\"},\"marker\":{\"color\":\"yellow\",\"line\":{\"color\":\"black\",\"width\":2},\"size\":5},\"mode\":\"lines+markers\",\"x\":[171732.0235514469,171740.1747233899],\"y\":[538163.852699972,538162.307249347],\"type\":\"scatter\"},{\"fill\":\"toself\",\"line\":{\"color\":\"red\"},\"marker\":{\"color\":\"yellow\",\"line\":{\"color\":\"black\",\"width\":2},\"size\":5},\"mode\":\"lines+markers\",\"x\":[171824.1833431855,171830.6869280816,171826.2762989003,171819.9048525677],\"y\":[538170.9142027542,538170.0928600614,538146.9328604464,538148.0590633786],\"type\":\"scatter\"},{\"fill\":\"toself\",\"line\":{\"color\":\"red\"},\"marker\":{\"color\":\"yellow\",\"line\":{\"color\":\"black\",\"width\":2},\"size\":5},\"mode\":\"lines+markers\",\"x\":[171824.1833431855,171817.9412504859,171813.7227297362,171819.9048525677],\"y\":[538170.9142027542,538171.4878196856,538149.0952600439,538148.0590633786],\"type\":\"scatter\"},{\"fill\":\"toself\",\"line\":{\"color\":\"red\"},\"marker\":{\"color\":\"yellow\",\"line\":{\"color\":\"black\",\"width\":2},\"size\":5},\"mode\":\"lines+markers\",\"x\":[171819.9048525677,171824.1833431855],\"y\":[538148.0590633786,538170.9142027542],\"type\":\"scatter\"},{\"fill\":\"toself\",\"line\":{\"color\":\"red\"},\"marker\":{\"color\":\"yellow\",\"line\":{\"color\":\"black\",\"width\":2},\"size\":5},\"mode\":\"lines+markers\",\"x\":[171764.4548423216,171768.0717184139,171775.9165549461,171772.1116071601,171764.4548423216],\"y\":[538158.0987621396,538177.147407645,538176.4238595614,538156.6973582999,538158.0987621396],\"type\":\"scatter\"},{\"fill\":\"toself\",\"line\":{\"color\":\"red\"},\"marker\":{\"color\":\"yellow\",\"line\":{\"color\":\"black\",\"width\":2},\"size\":5},\"mode\":\"lines+markers\",\"x\":[171636.0663166203,171625.9813166203,171629.832303967,171639.9197967193,171636.0663166203],\"y\":[537793.2269040109,537795.766904011,537809.6839258368,537807.1536118462,537793.2269040109],\"type\":\"scatter\"},{\"fill\":\"toself\",\"line\":{\"color\":\"red\"},\"marker\":{\"color\":\"yellow\",\"line\":{\"color\":\"black\",\"width\":2},\"size\":5},\"mode\":\"lines+markers\",\"x\":[171616.0069131397,171619.732743627],\"y\":[537813.1331847236,537797.5572491026],\"type\":\"scatter\"},{\"fill\":\"toself\",\"line\":{\"color\":\"red\"},\"marker\":{\"color\":\"yellow\",\"line\":{\"color\":\"black\",\"width\":2},\"size\":5},\"mode\":\"lines+markers\",\"x\":[171625.9813166203,171629.832303913,171639.9197967158,171636.0663166203,171625.9813166203],\"y\":[537795.766904011,537809.6839258502,537807.1536118472,537793.226904011,537795.766904011],\"type\":\"scatter\"},{\"fill\":\"toself\",\"line\":{\"color\":\"red\"},\"marker\":{\"color\":\"yellow\",\"line\":{\"color\":\"black\",\"width\":2},\"size\":5},\"mode\":\"lines+markers\",\"x\":[171625.9813166203,171619.732743627],\"y\":[537795.766904011,537797.5572491026],\"type\":\"scatter\"},{\"fill\":\"toself\",\"line\":{\"color\":\"red\"},\"marker\":{\"color\":\"yellow\",\"line\":{\"color\":\"black\",\"width\":2},\"size\":5},\"mode\":\"lines+markers\",\"x\":[171616.0069131397,171629.8323039132],\"y\":[537813.1331847236,537809.6839258501],\"type\":\"scatter\"},{\"fill\":\"toself\",\"line\":{\"color\":\"red\"},\"marker\":{\"color\":\"yellow\",\"line\":{\"color\":\"black\",\"width\":2},\"size\":5},\"mode\":\"lines+markers\",\"x\":[171622.8244493251,171623.0874765059],\"y\":[537784.7759493692,537780.1975362493],\"type\":\"scatter\"},{\"fill\":\"toself\",\"line\":{\"color\":\"red\"},\"marker\":{\"color\":\"yellow\",\"line\":{\"color\":\"black\",\"width\":2},\"size\":5},\"mode\":\"lines+markers\",\"x\":[171654.9137230888,171648.4525168699],\"y\":[537775.4684841994,537777.3438835872],\"type\":\"scatter\"},{\"fill\":\"toself\",\"line\":{\"color\":\"red\"},\"marker\":{\"color\":\"yellow\",\"line\":{\"color\":\"black\",\"width\":2},\"size\":5},\"mode\":\"lines+markers\",\"x\":[171672.5518691675,171667.7488976363],\"y\":[537770.5902193694,537771.9830438636],\"type\":\"scatter\"},{\"fill\":\"toself\",\"line\":{\"color\":\"red\"},\"marker\":{\"color\":\"yellow\",\"line\":{\"color\":\"black\",\"width\":2},\"size\":5},\"mode\":\"lines+markers\",\"x\":[171657.4802679473,171670.6576402478,171667.7488976363,171654.9137230888,171657.4802679473],\"y\":[537786.4731580924,537783.1091041015,537771.9830438636,537775.4684841994,537786.4731580924],\"type\":\"scatter\"},{\"fill\":\"toself\",\"line\":{\"color\":\"red\"},\"marker\":{\"color\":\"yellow\",\"line\":{\"color\":\"black\",\"width\":2},\"size\":5},\"mode\":\"lines+markers\",\"x\":[171667.7488983388,171654.9137237913,171657.4802686498,171670.6576409503,171667.7488983388],\"y\":[537771.9830437265,537775.4684840626,537786.4731579555,537783.1091039646,537771.9830437265],\"type\":\"scatter\"},{\"fill\":\"toself\",\"line\":{\"color\":\"red\"},\"marker\":{\"color\":\"yellow\",\"line\":{\"color\":\"black\",\"width\":2},\"size\":5},\"mode\":\"lines+markers\",\"x\":[171636.0663168228,171639.9524819978,171650.025948832,171646.4475883339,171636.0663168228],\"y\":[537793.2269039599,537807.0010292773,537804.2498377508,537790.6059407358,537793.2269039599],\"type\":\"scatter\"},{\"fill\":\"toself\",\"line\":{\"color\":\"red\"},\"marker\":{\"color\":\"yellow\",\"line\":{\"color\":\"black\",\"width\":2},\"size\":5},\"mode\":\"lines+markers\",\"x\":[171636.3490056544,171646.0761079421,171649.6681978519,171639.6310496241,171636.3490056544],\"y\":[537812.5524481952,537809.9486293156,537825.2967084281,537827.4449730889,537812.5524481952],\"type\":\"scatter\"},{\"fill\":\"toself\",\"line\":{\"color\":\"red\"},\"marker\":{\"color\":\"yellow\",\"line\":{\"color\":\"black\",\"width\":2},\"size\":5},\"mode\":\"lines+markers\",\"x\":[171616.0069131397,171629.832303913,171625.9813166203,171619.732743627,171616.0069131397],\"y\":[537813.1331847236,537809.6839258503,537795.766904011,537797.5572491026,537813.1331847236],\"type\":\"scatter\"},{\"fill\":\"toself\",\"line\":{\"color\":\"red\"},\"marker\":{\"color\":\"yellow\",\"line\":{\"color\":\"black\",\"width\":2},\"size\":5},\"mode\":\"lines+markers\",\"x\":[171692.611088193,171695.6154167234],\"y\":[537764.9254390999,537777.0148800266],\"type\":\"scatter\"},{\"fill\":\"toself\",\"line\":{\"color\":\"red\"},\"marker\":{\"color\":\"yellow\",\"line\":{\"color\":\"black\",\"width\":2},\"size\":5},\"mode\":\"lines+markers\",\"x\":[171667.7489007401,171670.6576433517],\"y\":[537771.9830394837,537783.1090997218],\"type\":\"scatter\"},{\"fill\":\"toself\",\"line\":{\"color\":\"red\"},\"marker\":{\"color\":\"yellow\",\"line\":{\"color\":\"black\",\"width\":2},\"size\":5},\"mode\":\"lines+markers\",\"x\":[171670.6576433517,171683.5413594671],\"y\":[537783.1090997218,537779.9537759388],\"type\":\"scatter\"},{\"fill\":\"toself\",\"line\":{\"color\":\"red\"},\"marker\":{\"color\":\"yellow\",\"line\":{\"color\":\"black\",\"width\":2},\"size\":5},\"mode\":\"lines+markers\",\"x\":[171680.5138852718,171667.7489007401],\"y\":[537768.2812927923,537771.9830394837],\"type\":\"scatter\"},{\"fill\":\"toself\",\"line\":{\"color\":\"red\"},\"marker\":{\"color\":\"yellow\",\"line\":{\"color\":\"black\",\"width\":2},\"size\":5},\"mode\":\"lines+markers\",\"x\":[171683.5599415256,171695.5961985378,171692.6110881944,171680.4733743771,171683.5599415256],\"y\":[537780.0451332355,537777.063771611,537764.9254390963,537768.3071403382,537780.0451332355],\"type\":\"scatter\"},{\"fill\":\"toself\",\"line\":{\"color\":\"red\"},\"marker\":{\"color\":\"yellow\",\"line\":{\"color\":\"black\",\"width\":2},\"size\":5},\"mode\":\"lines+markers\",\"x\":[171260.8460877772,171273.3115538991,171273.7501937009,171261.1802326361,171260.8460877772],\"y\":[538421.601947107,538421.8539166178,538402.2148760522,538401.8444814726,538421.601947107],\"type\":\"scatter\"},{\"fill\":\"toself\",\"line\":{\"color\":\"red\"},\"marker\":{\"color\":\"yellow\",\"line\":{\"color\":\"black\",\"width\":2},\"size\":5},\"mode\":\"lines+markers\",\"x\":[171681.0565658203,171677.3593229495,171688.7686058327,171692.1665368243,171681.0565658203],\"y\":[537796.1786805523,537782.6894793512,537779.6993008093,537793.1590547233,537796.1786805523],\"type\":\"scatter\"},{\"fill\":\"toself\",\"line\":{\"color\":\"red\"},\"marker\":{\"color\":\"yellow\",\"line\":{\"color\":\"black\",\"width\":2},\"size\":5},\"mode\":\"lines+markers\",\"x\":[171806.185847698,171801.2014292479],\"y\":[537602.6340185279,537580.0880756199],\"type\":\"scatter\"},{\"fill\":\"toself\",\"line\":{\"color\":\"red\"},\"marker\":{\"color\":\"yellow\",\"line\":{\"color\":\"black\",\"width\":2},\"size\":5},\"mode\":\"lines+markers\",\"x\":[171806.185847698,171818.9203858627,171813.8961995332],\"y\":[537602.6340185279,537600.2815649722,537577.5296957806],\"type\":\"scatter\"},{\"fill\":\"toself\",\"line\":{\"color\":\"red\"},\"marker\":{\"color\":\"yellow\",\"line\":{\"color\":\"black\",\"width\":2},\"size\":5},\"mode\":\"lines+markers\",\"x\":[171801.2014292479,171813.8961995332],\"y\":[537580.0880756199,537577.5296957806],\"type\":\"scatter\"},{\"fill\":\"toself\",\"line\":{\"color\":\"red\"},\"marker\":{\"color\":\"yellow\",\"line\":{\"color\":\"black\",\"width\":2},\"size\":5},\"mode\":\"lines+markers\",\"x\":[171801.2014292479,171794.9765804982],\"y\":[537580.0880756199,537581.3425707544],\"type\":\"scatter\"},{\"fill\":\"toself\",\"line\":{\"color\":\"red\"},\"marker\":{\"color\":\"yellow\",\"line\":{\"color\":\"black\",\"width\":2},\"size\":5},\"mode\":\"lines+markers\",\"x\":[171794.9765804982,171800.2365074744,171806.185847698],\"y\":[537581.3425707544,537603.7330412319,537602.6340185279],\"type\":\"scatter\"},{\"fill\":\"toself\",\"line\":{\"color\":\"red\"},\"marker\":{\"color\":\"yellow\",\"line\":{\"color\":\"black\",\"width\":2},\"size\":5},\"mode\":\"lines+markers\",\"x\":[171744.6766969538,171752.6854502563,171748.1329466754,171740.1747233899,171744.6766969538],\"y\":[538180.6632356737,538179.4508534981,538160.7983815133,538162.307249347,538180.6632356737],\"type\":\"scatter\"},{\"fill\":\"toself\",\"line\":{\"color\":\"red\"},\"marker\":{\"color\":\"yellow\",\"line\":{\"color\":\"black\",\"width\":2},\"size\":5},\"mode\":\"lines+markers\",\"x\":[171775.9165549461,171783.2417093378,171779.5000577386,171772.1116071601,171775.9165549461],\"y\":[538176.4238595614,538175.4983275947,538155.3532697612,538156.6973582999,538176.4238595614],\"type\":\"scatter\"},{\"fill\":\"toself\",\"line\":{\"color\":\"red\"},\"marker\":{\"color\":\"yellow\",\"line\":{\"color\":\"black\",\"width\":2},\"size\":5},\"mode\":\"lines+markers\",\"x\":[171670.2073418357,171681.0565658203,171677.3593229495,171666.5069018378,171670.2073418357],\"y\":[537799.17659965,537796.1786805523,537782.6894793512,537785.5312060411,537799.17659965],\"type\":\"scatter\"},{\"fill\":\"toself\",\"line\":{\"color\":\"red\"},\"marker\":{\"color\":\"yellow\",\"line\":{\"color\":\"black\",\"width\":2},\"size\":5},\"mode\":\"lines+markers\",\"x\":[171659.7213086766,171669.1414791844,171665.2040039524,171655.7515916057,171659.7213086766],\"y\":[537823.4469195983,537820.9389752827,537804.8437289734,537807.575414803,537823.4469195983],\"type\":\"scatter\"},{\"fill\":\"toself\",\"line\":{\"color\":\"red\"},\"marker\":{\"color\":\"yellow\",\"line\":{\"color\":\"black\",\"width\":2},\"size\":5},\"mode\":\"lines+markers\",\"x\":[171050.9225908213,171050.0118538314],\"y\":[537514.5152778049,537515.0378274547],\"type\":\"scatter\"},{\"fill\":\"toself\",\"line\":{\"color\":\"red\"},\"marker\":{\"color\":\"yellow\",\"line\":{\"color\":\"black\",\"width\":2},\"size\":5},\"mode\":\"lines+markers\",\"x\":[171806.3454939584,171798.8589374855,171780.5887966455,171787.4560393429],\"y\":[537544.8328548751,537514.4928817014,537518.9248060787,537549.4109255059],\"type\":\"scatter\"},{\"fill\":\"toself\",\"line\":{\"color\":\"red\"},\"marker\":{\"color\":\"yellow\",\"line\":{\"color\":\"black\",\"width\":2},\"size\":5},\"mode\":\"lines+markers\",\"x\":[171806.3454939584,171809.4479229608,171790.3018247168,171787.4560393429],\"y\":[537544.8328548751,537557.4057397583,537562.0443733966,537549.4109255059],\"type\":\"scatter\"},{\"fill\":\"toself\",\"line\":{\"color\":\"red\"},\"marker\":{\"color\":\"yellow\",\"line\":{\"color\":\"black\",\"width\":2},\"size\":5},\"mode\":\"lines+markers\",\"x\":[171806.3454939584,171787.4560393429],\"y\":[537544.8328548751,537549.4109255059],\"type\":\"scatter\"},{\"fill\":\"toself\",\"line\":{\"color\":\"red\"},\"marker\":{\"color\":\"yellow\",\"line\":{\"color\":\"black\",\"width\":2},\"size\":5},\"mode\":\"lines+markers\",\"x\":[171780.5887966455,171777.9473484014,171795.9752440507,171798.8589374855,171780.5887966455],\"y\":[537518.9248060787,537503.0531068848,537499.371398252,537514.4928817014,537518.9248060787],\"type\":\"scatter\"},{\"fill\":\"toself\",\"line\":{\"color\":\"red\"},\"marker\":{\"color\":\"yellow\",\"line\":{\"color\":\"black\",\"width\":2},\"size\":5},\"mode\":\"lines+markers\",\"x\":[171281.8495126735,171273.7501937009,171273.3036224627,171281.4029302113],\"y\":[538402.3199102338,538402.2148760522,538422.2090275703,538422.3149237148],\"type\":\"scatter\"},{\"fill\":\"toself\",\"line\":{\"color\":\"red\"},\"marker\":{\"color\":\"yellow\",\"line\":{\"color\":\"black\",\"width\":2},\"size\":5},\"mode\":\"lines+markers\",\"x\":[171281.4029302113,171289.6022294136,171289.8488400539,171281.8495126735],\"y\":[538422.3149237148,538422.4221272191,538402.4236476971,538402.3199102338],\"type\":\"scatter\"},{\"fill\":\"toself\",\"line\":{\"color\":\"red\"},\"marker\":{\"color\":\"yellow\",\"line\":{\"color\":\"black\",\"width\":2},\"size\":5},\"mode\":\"lines+markers\",\"x\":[171281.8495126735,171281.4029302113],\"y\":[538402.3199102338,538422.3149237148],\"type\":\"scatter\"},{\"fill\":\"toself\",\"line\":{\"color\":\"red\"},\"marker\":{\"color\":\"yellow\",\"line\":{\"color\":\"black\",\"width\":2},\"size\":5},\"mode\":\"lines+markers\",\"x\":[171928.4949116991,171934.0221731918,171939.8215703511,171932.4411593148,171928.4949116991],\"y\":[537525.0625299317,537526.8201932643,537569.1245310156,537573.1058458304,537525.0625299317],\"type\":\"scatter\"},{\"fill\":\"toself\",\"line\":{\"color\":\"red\"},\"marker\":{\"color\":\"yellow\",\"line\":{\"color\":\"black\",\"width\":2},\"size\":5},\"mode\":\"lines+markers\",\"x\":[171928.4949116991,171920.299317072,171925.1450710049,171932.4411593146,171928.4949116991],\"y\":[537525.0625299314,537522.4563394726,537577.0416732979,537573.1058458304,537525.0625299314],\"type\":\"scatter\"},{\"fill\":\"toself\",\"line\":{\"color\":\"red\"},\"marker\":{\"color\":\"yellow\",\"line\":{\"color\":\"black\",\"width\":2},\"size\":5},\"mode\":\"lines+markers\",\"x\":[171889.0331184882,171890.5923848503,171879.3837517687,171877.595783258,171889.0331184882],\"y\":[537649.0431734168,537661.9914654781,537662.5895801836,537649.4533601358,537649.0431734168],\"type\":\"scatter\"},{\"fill\":\"toself\",\"line\":{\"color\":\"red\"},\"marker\":{\"color\":\"yellow\",\"line\":{\"color\":\"black\",\"width\":2},\"size\":5},\"mode\":\"lines+markers\",\"x\":[171874.7573575114,171877.595783258,171889.0331184882,171886.25575542,171874.7573575114],\"y\":[537628.6722236047,537649.4533601358,537649.0431734168,537626.6099789105,537628.6722236047],\"type\":\"scatter\"},{\"fill\":\"toself\",\"line\":{\"color\":\"red\"},\"marker\":{\"color\":\"yellow\",\"line\":{\"color\":\"black\",\"width\":2},\"size\":5},\"mode\":\"lines+markers\",\"x\":[171908.0135226939,171930.9483037853,171929.9056258504,171908.9241178432,171908.0135226939],\"y\":[537632.4080833888,537631.7483135245,537619.1430703513,537621.6981321173,537632.4080833888],\"type\":\"scatter\"},{\"fill\":\"toself\",\"line\":{\"color\":\"red\"},\"marker\":{\"color\":\"yellow\",\"line\":{\"color\":\"black\",\"width\":2},\"size\":5},\"mode\":\"lines+markers\",\"x\":[171858.6558073436,171884.8054185463,171891.5634124913,171867.999292395,171858.6558073436],\"y\":[537498.7151647785,537508.0121700134,537586.6869412513,537589.8141643361,537498.7151647785],\"type\":\"scatter\"},{\"fill\":\"toself\",\"line\":{\"color\":\"red\"},\"marker\":{\"color\":\"yellow\",\"line\":{\"color\":\"black\",\"width\":2},\"size\":5},\"mode\":\"lines+markers\",\"x\":[170135.0056067773,170087.5136292638],\"y\":[537756.2150649366,537745.0854979699],\"type\":\"scatter\"},{\"fill\":\"toself\",\"line\":{\"color\":\"red\"},\"marker\":{\"color\":\"yellow\",\"line\":{\"color\":\"black\",\"width\":2},\"size\":5},\"mode\":\"lines+markers\",\"x\":[171442.2309502612,171442.9272856592,171452.0886432255,171451.8051611615,171442.2309502612],\"y\":[538424.5895818865,538405.526685462,538405.8858586279,538424.7027561953,538424.5895818865],\"type\":\"scatter\"},{\"fill\":\"toself\",\"line\":{\"color\":\"red\"},\"marker\":{\"color\":\"yellow\",\"line\":{\"color\":\"black\",\"width\":2},\"size\":5},\"mode\":\"lines+markers\",\"x\":[170080.2618322026,170083.4362040065],\"y\":[538681.843258496,538677.6666086254],\"type\":\"scatter\"},{\"fill\":\"toself\",\"line\":{\"color\":\"red\"},\"marker\":{\"color\":\"yellow\",\"line\":{\"color\":\"black\",\"width\":2},\"size\":5},\"mode\":\"lines+markers\",\"x\":[169966.056082227,169986.1984049833],\"y\":[538009.6472239416,538006.9763075745],\"type\":\"scatter\"},{\"fill\":\"toself\",\"line\":{\"color\":\"red\"},\"marker\":{\"color\":\"yellow\",\"line\":{\"color\":\"black\",\"width\":2},\"size\":5},\"mode\":\"lines+markers\",\"x\":[170091.1729197728,170092.3401182484],\"y\":[538708.7302948066,538716.432356071],\"type\":\"scatter\"},{\"fill\":\"toself\",\"line\":{\"color\":\"red\"},\"marker\":{\"color\":\"yellow\",\"line\":{\"color\":\"black\",\"width\":2},\"size\":5},\"mode\":\"lines+markers\",\"x\":[170073.7275823184,170072.8612979623],\"y\":[538722.9845691855,538715.2428864606],\"type\":\"scatter\"},{\"fill\":\"toself\",\"line\":{\"color\":\"red\"},\"marker\":{\"color\":\"yellow\",\"line\":{\"color\":\"black\",\"width\":2},\"size\":5},\"mode\":\"lines+markers\",\"x\":[171817.9412504859,171811.5317900711,171807.2420911946,171813.7227297362,171817.9412504859],\"y\":[538171.4878196856,538172.0768168684,538150.1814914612,538149.0952600439,538171.4878196856],\"type\":\"scatter\"},{\"fill\":\"toself\",\"line\":{\"color\":\"red\"},\"marker\":{\"color\":\"yellow\",\"line\":{\"color\":\"black\",\"width\":2},\"size\":5},\"mode\":\"lines+markers\",\"x\":[171644.2698722725,171657.4802710512],\"y\":[537789.6939340461,537786.4731537126],\"type\":\"scatter\"},{\"fill\":\"toself\",\"line\":{\"color\":\"red\"},\"marker\":{\"color\":\"yellow\",\"line\":{\"color\":\"black\",\"width\":2},\"size\":5},\"mode\":\"lines+markers\",\"x\":[171657.4802710512,171654.9137261926],\"y\":[537786.4731537126,537775.4684798197],\"type\":\"scatter\"},{\"fill\":\"toself\",\"line\":{\"color\":\"red\"},\"marker\":{\"color\":\"yellow\",\"line\":{\"color\":\"black\",\"width\":2},\"size\":5},\"mode\":\"lines+markers\",\"x\":[171654.9137261926,171641.9913130524],\"y\":[537775.4684798197,537779.219278732],\"type\":\"scatter\"},{\"fill\":\"toself\",\"line\":{\"color\":\"red\"},\"marker\":{\"color\":\"yellow\",\"line\":{\"color\":\"black\",\"width\":2},\"size\":5},\"mode\":\"lines+markers\",\"x\":[171641.9913130524,171644.2698722725],\"y\":[537779.219278732,537789.6939340461],\"type\":\"scatter\"},{\"fill\":\"toself\",\"line\":{\"color\":\"red\"},\"marker\":{\"color\":\"yellow\",\"line\":{\"color\":\"black\",\"width\":2},\"size\":5},\"mode\":\"lines+markers\",\"x\":[171641.8757926999,171644.2698722725,171619.9110112647,171622.8244493251,171641.8757926999],\"y\":[537779.200061774,537789.6939340461,537796.310895311,537784.7759493692,537779.200061774],\"type\":\"scatter\"},{\"fill\":\"toself\",\"line\":{\"color\":\"red\"},\"marker\":{\"color\":\"yellow\",\"line\":{\"color\":\"black\",\"width\":2},\"size\":5},\"mode\":\"lines+markers\",\"x\":[171797.6507365225,171804.691558477,171800.4165042634,171793.6068661197,171797.6507365225],\"y\":[538173.8978172943,538172.983035241,538151.5087470469,538152.7695449592,538173.8978172943],\"type\":\"scatter\"},{\"fill\":\"toself\",\"line\":{\"color\":\"red\"},\"marker\":{\"color\":\"yellow\",\"line\":{\"color\":\"black\",\"width\":2},\"size\":5},\"mode\":\"lines+markers\",\"x\":[169999.6890906147,169999.2965330103,169924.0746642271,169918.6666731472,169999.6890906147],\"y\":[538743.5419723716,538708.7477719835,538711.8562012449,538738.6926228532,538743.5419723716],\"type\":\"scatter\"},{\"fill\":\"toself\",\"line\":{\"color\":\"red\"},\"marker\":{\"color\":\"yellow\",\"line\":{\"color\":\"black\",\"width\":2},\"size\":5},\"mode\":\"lines+markers\",\"x\":[171906.9122326343,171890.1350068713,171888.1726710169,171908.9241178432,171908.0135226939,171906.9122326343],\"y\":[537640.510019172,537640.2503836133,537624.3071416896,537621.6981321173,537632.4080833888,537640.510019172],\"type\":\"scatter\"},{\"fill\":\"toself\",\"line\":{\"color\":\"red\"},\"marker\":{\"color\":\"yellow\",\"line\":{\"color\":\"black\",\"width\":2},\"size\":5},\"mode\":\"lines+markers\",\"x\":[172709.4453244548,172692.8596565674,172693.1463427526,172712.3801402712,172711.0057671079,172710.3927541053,172709.4453244548],\"y\":[538110.1894872398,538107.3443964534,538096.0204492697,538099.1934729845,538104.538917628,538106.7469331918,538110.1894872398],\"type\":\"scatter\"},{\"fill\":\"toself\",\"line\":{\"color\":\"red\"},\"marker\":{\"color\":\"yellow\",\"line\":{\"color\":\"black\",\"width\":2},\"size\":5},\"mode\":\"lines+markers\",\"x\":[173244.2890332457,173243.9292520003],\"y\":[537973.912970332,537965.0783092369],\"type\":\"scatter\"},{\"fill\":\"toself\",\"line\":{\"color\":\"red\"},\"marker\":{\"color\":\"yellow\",\"line\":{\"color\":\"black\",\"width\":2},\"size\":5},\"mode\":\"lines+markers\",\"x\":[173243.9292520003,173265.8573007961],\"y\":[537965.0783092369,537962.513915837],\"type\":\"scatter\"},{\"fill\":\"toself\",\"line\":{\"color\":\"red\"},\"marker\":{\"color\":\"yellow\",\"line\":{\"color\":\"black\",\"width\":2},\"size\":5},\"mode\":\"lines+markers\",\"x\":[173265.8573007961,173266.2007303923],\"y\":[537962.513915837,537971.4412014049],\"type\":\"scatter\"},{\"fill\":\"toself\",\"line\":{\"color\":\"red\"},\"marker\":{\"color\":\"yellow\",\"line\":{\"color\":\"black\",\"width\":2},\"size\":5},\"mode\":\"lines+markers\",\"x\":[173266.2007303923,173244.2890332457],\"y\":[537971.4412014049,537973.912970332],\"type\":\"scatter\"},{\"fill\":\"toself\",\"line\":{\"color\":\"red\"},\"marker\":{\"color\":\"yellow\",\"line\":{\"color\":\"black\",\"width\":2},\"size\":5},\"mode\":\"lines+markers\",\"x\":[173265.529818152,173265.8573007961],\"y\":[537953.7848748409,537962.513915837],\"type\":\"scatter\"},{\"fill\":\"toself\",\"line\":{\"color\":\"red\"},\"marker\":{\"color\":\"yellow\",\"line\":{\"color\":\"black\",\"width\":2},\"size\":5},\"mode\":\"lines+markers\",\"x\":[173243.9292520003,173243.594363149],\"y\":[537965.0783092369,537956.2855203702],\"type\":\"scatter\"},{\"fill\":\"toself\",\"line\":{\"color\":\"red\"},\"marker\":{\"color\":\"yellow\",\"line\":{\"color\":\"black\",\"width\":2},\"size\":5},\"mode\":\"lines+markers\",\"x\":[173265.529818152,173265.1835795753,173265.1735225419],\"y\":[537953.7848748409,537944.8194233595,537944.8205350168],\"type\":\"scatter\"},{\"fill\":\"toself\",\"line\":{\"color\":\"red\"},\"marker\":{\"color\":\"yellow\",\"line\":{\"color\":\"black\",\"width\":2},\"size\":5},\"mode\":\"lines+markers\",\"x\":[173265.529818152,173243.594363149],\"y\":[537953.7848748409,537956.2855203702],\"type\":\"scatter\"},{\"fill\":\"toself\",\"line\":{\"color\":\"red\"},\"marker\":{\"color\":\"yellow\",\"line\":{\"color\":\"black\",\"width\":2},\"size\":5},\"mode\":\"lines+markers\",\"x\":[173243.594363149,173243.231188324],\"y\":[537956.2855203702,537947.2459540083],\"type\":\"scatter\"},{\"fill\":\"toself\",\"line\":{\"color\":\"red\"},\"marker\":{\"color\":\"yellow\",\"line\":{\"color\":\"black\",\"width\":2},\"size\":5},\"mode\":\"lines+markers\",\"x\":[173245.2051481942,173246.3597707754,173256.656865926],\"y\":[537992.3843348436,538011.9560092719,538010.2635567691],\"type\":\"scatter\"},{\"fill\":\"toself\",\"line\":{\"color\":\"red\"},\"marker\":{\"color\":\"yellow\",\"line\":{\"color\":\"black\",\"width\":2},\"size\":5},\"mode\":\"lines+markers\",\"x\":[173266.3564560109,173267.4292639475,173256.656865926],\"y\":[537990.2575040015,538008.4662449416,538010.2635567691],\"type\":\"scatter\"},{\"fill\":\"toself\",\"line\":{\"color\":\"red\"},\"marker\":{\"color\":\"yellow\",\"line\":{\"color\":\"black\",\"width\":2},\"size\":5},\"mode\":\"lines+markers\",\"x\":[173256.656865926,173255.3131087605],\"y\":[538010.2635567691,537991.2808785805],\"type\":\"scatter\"},{\"fill\":\"toself\",\"line\":{\"color\":\"red\"},\"marker\":{\"color\":\"yellow\",\"line\":{\"color\":\"black\",\"width\":2},\"size\":5},\"mode\":\"lines+markers\",\"x\":[169919.0923240238,169918.6666731337,169999.689090661,169999.2965330184,169924.0746641885],\"y\":[538736.5803881107,538738.6926228679,538743.5419723867,538708.7477719986,538711.8562014301],\"type\":\"scatter\"},{\"fill\":\"toself\",\"line\":{\"color\":\"red\"},\"marker\":{\"color\":\"yellow\",\"line\":{\"color\":\"black\",\"width\":2},\"size\":5},\"mode\":\"lines+markers\",\"x\":[173266.3564560109,173255.3131087605],\"y\":[537990.2575040015,537991.2808785805],\"type\":\"scatter\"},{\"fill\":\"toself\",\"line\":{\"color\":\"red\"},\"marker\":{\"color\":\"yellow\",\"line\":{\"color\":\"black\",\"width\":2},\"size\":5},\"mode\":\"lines+markers\",\"x\":[173255.3131087605,173245.2051481942],\"y\":[537991.2808785805,537992.3843348436],\"type\":\"scatter\"},{\"fill\":\"toself\",\"line\":{\"color\":\"red\"},\"marker\":{\"color\":\"yellow\",\"line\":{\"color\":\"black\",\"width\":2},\"size\":5},\"mode\":\"lines+markers\",\"x\":[173245.2051481942,173244.2890332457],\"y\":[537992.3843348436,537973.912970332],\"type\":\"scatter\"},{\"fill\":\"toself\",\"line\":{\"color\":\"red\"},\"marker\":{\"color\":\"yellow\",\"line\":{\"color\":\"black\",\"width\":2},\"size\":5},\"mode\":\"lines+markers\",\"x\":[173266.2007303923,173266.3564560109],\"y\":[537971.4412014049,537990.2575040015],\"type\":\"scatter\"},{\"fill\":\"toself\",\"line\":{\"color\":\"red\"},\"marker\":{\"color\":\"yellow\",\"line\":{\"color\":\"black\",\"width\":2},\"size\":5},\"mode\":\"lines+markers\",\"x\":[173240.9161653065,173240.4552933268,173263.335932116,173263.6225631855,173240.9161653065],\"y\":[537902.8890846324,537893.8863939444,537892.3599087563,537901.3084383336,537902.8890846324],\"type\":\"scatter\"},{\"fill\":\"toself\",\"line\":{\"color\":\"red\"},\"marker\":{\"color\":\"yellow\",\"line\":{\"color\":\"black\",\"width\":2},\"size\":5},\"mode\":\"lines+markers\",\"x\":[173242.2376983708,173264.6919105081],\"y\":[537929.1923075002,537927.2810814669],\"type\":\"scatter\"},{\"fill\":\"toself\",\"line\":{\"color\":\"red\"},\"marker\":{\"color\":\"yellow\",\"line\":{\"color\":\"black\",\"width\":2},\"size\":5},\"mode\":\"lines+markers\",\"x\":[173264.6919105081,173265.1735225419],\"y\":[537927.2810814669,537944.8205350168],\"type\":\"scatter\"},{\"fill\":\"toself\",\"line\":{\"color\":\"red\"},\"marker\":{\"color\":\"yellow\",\"line\":{\"color\":\"black\",\"width\":2},\"size\":5},\"mode\":\"lines+markers\",\"x\":[173265.1735225419,173243.231188324],\"y\":[537944.8205350168,537947.2459540083],\"type\":\"scatter\"},{\"fill\":\"toself\",\"line\":{\"color\":\"red\"},\"marker\":{\"color\":\"yellow\",\"line\":{\"color\":\"black\",\"width\":2},\"size\":5},\"mode\":\"lines+markers\",\"x\":[173243.231188324,173242.2376983708],\"y\":[537947.2459540083,537929.1923075002],\"type\":\"scatter\"},{\"fill\":\"toself\",\"line\":{\"color\":\"red\"},\"marker\":{\"color\":\"yellow\",\"line\":{\"color\":\"black\",\"width\":2},\"size\":5},\"mode\":\"lines+markers\",\"x\":[173242.2376983708,173241.7932231668,173264.4000499118,173264.6919105081],\"y\":[537929.1923075002,537920.471474415,537918.5721693196,537927.2810814669],\"type\":\"scatter\"},{\"fill\":\"toself\",\"line\":{\"color\":\"red\"},\"marker\":{\"color\":\"yellow\",\"line\":{\"color\":\"black\",\"width\":2},\"size\":5},\"mode\":\"lines+markers\",\"x\":[169211.4209471847,169179.7234336543,169184.4340328335,169212.4412240071,169211.4209471847],\"y\":[536992.5298001851,536991.7345931084,536890.7139726579,536893.0875631875,536992.5298001851],\"type\":\"scatter\"},{\"fill\":\"toself\",\"line\":{\"color\":\"red\"},\"marker\":{\"color\":\"yellow\",\"line\":{\"color\":\"black\",\"width\":2},\"size\":5},\"mode\":\"lines+markers\",\"x\":[171923.0252564719,171923.2241181291],\"y\":[537680.946895907,537697.6832650541],\"type\":\"scatter\"},{\"fill\":\"toself\",\"line\":{\"color\":\"red\"},\"marker\":{\"color\":\"yellow\",\"line\":{\"color\":\"black\",\"width\":2},\"size\":5},\"mode\":\"lines+markers\",\"x\":[171923.2241181291,171918.4023001574],\"y\":[537697.6832650541,537700.880829437],\"type\":\"scatter\"},{\"fill\":\"toself\",\"line\":{\"color\":\"red\"},\"marker\":{\"color\":\"yellow\",\"line\":{\"color\":\"black\",\"width\":2},\"size\":5},\"mode\":\"lines+markers\",\"x\":[171905.9418605348,171904.9290863874,171902.7051765551],\"y\":[537679.0810745013,537685.480252401,537699.5319484964],\"type\":\"scatter\"},{\"fill\":\"toself\",\"line\":{\"color\":\"red\"},\"marker\":{\"color\":\"yellow\",\"line\":{\"color\":\"black\",\"width\":2},\"size\":5},\"mode\":\"lines+markers\",\"x\":[171923.0252564719,171939.8828099224],\"y\":[537680.946895907,537681.9550368995],\"type\":\"scatter\"},{\"fill\":\"toself\",\"line\":{\"color\":\"red\"},\"marker\":{\"color\":\"yellow\",\"line\":{\"color\":\"black\",\"width\":2},\"size\":5},\"mode\":\"lines+markers\",\"x\":[171923.2241181291,171923.3941885087,171923.5645022729,171923.7349182406,171923.9052952335,171924.0754920817,171924.2453679372,171924.4147817448,171924.5835934374,171924.7516629537,171924.9188512232,171925.0850195058,171925.2500302821,171925.4137467968,171925.5760334032,171925.7367556695,171925.8957803678,171926.0529758208,171926.2082116728,171926.3613594461,171926.5122921918,171926.6608847382,171926.8070142205,171926.950559428,171927.091401353,171927.2294234121,171927.3645112217,171927.4965529318,171927.6254389005,171927.7510626744,171927.8733200026,171927.9921094977,171928.1073328542,171928.2188946352,171928.3267023709,171928.4306666756,171928.5307015757,171928.6267239633,171928.7186544672,171928.8064168056,171928.8899383271,171928.9691499007,171929.043985698,171929.114383856,171929.1802860355,171929.24163763,171929.2983877891,171929.3504896107,171929.3978997243,171929.4405789404,171938.0027126087,171939.8828099224],\"y\":[537697.6832650541,537697.6723058944,537697.6662707182,537697.6651645247,537697.6689882312,537697.6777386694,537697.6914085894,537697.7099866656,537697.7334575051,537697.7618016609,537697.7949956508,537697.833011973,537697.8758191259,537697.9233816476,537697.9756601276,537698.0326112537,537698.0941878392,537698.160338868,537698.2310095298,537698.3061412723,537698.3856718484,537698.4695353636,537698.5576623342,537698.6499797466,537698.7464111099,537698.8468765313,537698.9512927701,537699.0595733151,537699.1716284544,537699.287365345,537699.4066880959,537699.5294978466,537699.6556928433,537699.7851685325,537699.9178176372,537700.0535302572,537700.1921939465,537700.3336938223,537700.4779126463,537700.6247309293,537700.7740270281,537700.9256772461,537701.0795559377,537701.23553561,537701.3934870291,537701.5532793282,537701.7147801144,537701.8778555795,537702.0423706122,537702.208188905,537702.8764084987,537681.9550368995],\"type\":\"scatter\"},{\"fill\":\"toself\",\"line\":{\"color\":\"red\"},\"marker\":{\"color\":\"yellow\",\"line\":{\"color\":\"black\",\"width\":2},\"size\":5},\"mode\":\"lines+markers\",\"x\":[171920.9823814634,171921.0851377653,171921.1888637184,171921.2935205136,171921.3990688815,171921.5054693253,171921.6126820313,171921.7206668438,171921.8293833826,171921.9387908412,171922.0488482924,171922.1595145927,171922.2707482595,171922.3825074931,171922.4947507059,171922.6074357558,171922.720520399,171922.8339623829,171922.9477191296,171923.0617480576,171923.1760065879,171923.2904518049,171923.405041022,171923.5197311041,171923.6344792513,171923.7492425432,171923.8639779604,171923.9786423655,171924.0931930659,171924.207587144,171924.3217816822,171924.4357338767,171924.549401136,171924.6627409858,171924.7757108336,171924.8882684251,171925.0003716032,171925.1119784487,171925.2230472403,171925.3335361639,171925.4434040542,171925.5526096394,171925.661112089,171925.7688707908,171925.8758453502,171925.9819958089,171926.0872822221,171926.1916653949,171926.2951061513,171926.3975657379,171937.7763516318,171936.6592752252],\"y\":[537708.8815426605,537708.9329052733,537708.9822599753,537709.0295883007,537709.0748725263,537709.1180956964,537709.1592416256,537709.1982949094,537709.2352409253,537709.2700658373,537709.3027566059,537709.3333009933,537709.3616875581,537709.387905675,537709.4119455264,537709.4337981095,537709.4534552428,537709.4709095662,537709.4861545446,537709.4991844678,537709.5099944592,537709.5185804706,537709.5249392856,537709.5290685253,537709.5309666415,537709.5306329249,537709.5280675015,537709.5232713285,537709.5162462052,537709.5069947606,537709.4955204574,537709.4818275948,537709.4659212976,537709.4478075227,537709.4274930534,537709.4049854927,537709.3802932736,537709.3534256374,537709.3243926461,537709.29320517,537709.2598748875,537709.2244142777,537709.1868366188,537709.1471559814,537709.105387223,537709.0615459835,537709.0156486785,537708.9677124931,537708.9177553783,537708.8657960367,537709.844552055,537726.1774122174],\"type\":\"scatter\"},{\"fill\":\"toself\",\"line\":{\"color\":\"red\"},\"marker\":{\"color\":\"yellow\",\"line\":{\"color\":\"black\",\"width\":2},\"size\":5},\"mode\":\"lines+markers\",\"x\":[171920.9823814634,171918.0286733956,171918.4023001574],\"y\":[537708.8815426605,537705.4130301233,537700.880829437],\"type\":\"scatter\"},{\"fill\":\"toself\",\"line\":{\"color\":\"red\"},\"marker\":{\"color\":\"yellow\",\"line\":{\"color\":\"black\",\"width\":2},\"size\":5},\"mode\":\"lines+markers\",\"x\":[171920.9823814634,171919.3657175131],\"y\":[537708.8815426605,537725.7260169693],\"type\":\"scatter\"},{\"fill\":\"toself\",\"line\":{\"color\":\"red\"},\"marker\":{\"color\":\"yellow\",\"line\":{\"color\":\"black\",\"width\":2},\"size\":5},\"mode\":\"lines+markers\",\"x\":[171919.3657175131,171916.6910502873],\"y\":[537725.7260169693,537725.6562028737],\"type\":\"scatter\"},{\"fill\":\"toself\",\"line\":{\"color\":\"red\"},\"marker\":{\"color\":\"yellow\",\"line\":{\"color\":\"black\",\"width\":2},\"size\":5},\"mode\":\"lines+markers\",\"x\":[171916.6910502873,171899.6272828853],\"y\":[537725.6562028737,537725.2108054903],\"type\":\"scatter\"},{\"fill\":\"toself\",\"line\":{\"color\":\"red\"},\"marker\":{\"color\":\"yellow\",\"line\":{\"color\":\"black\",\"width\":2},\"size\":5},\"mode\":\"lines+markers\",\"x\":[171899.6272828853,171902.7051765551],\"y\":[537725.2108054903,537699.5319484964],\"type\":\"scatter\"},{\"fill\":\"toself\",\"line\":{\"color\":\"red\"},\"marker\":{\"color\":\"yellow\",\"line\":{\"color\":\"black\",\"width\":2},\"size\":5},\"mode\":\"lines+markers\",\"x\":[171902.7051765551,171918.4023001574],\"y\":[537699.5319484964,537700.880829437],\"type\":\"scatter\"},{\"fill\":\"toself\",\"line\":{\"color\":\"red\"},\"marker\":{\"color\":\"yellow\",\"line\":{\"color\":\"black\",\"width\":2},\"size\":5},\"mode\":\"lines+markers\",\"x\":[171919.3657175131,171936.6592752252],\"y\":[537725.7260169693,537726.1774122174],\"type\":\"scatter\"},{\"fill\":\"toself\",\"line\":{\"color\":\"red\"},\"marker\":{\"color\":\"yellow\",\"line\":{\"color\":\"black\",\"width\":2},\"size\":5},\"mode\":\"lines+markers\",\"x\":[171936.6592752252,171937.5873589172,171917.8171131079],\"y\":[537726.1774122174,537749.3812032233,537751.95822454],\"type\":\"scatter\"},{\"fill\":\"toself\",\"line\":{\"color\":\"red\"},\"marker\":{\"color\":\"yellow\",\"line\":{\"color\":\"black\",\"width\":2},\"size\":5},\"mode\":\"lines+markers\",\"x\":[171917.8171131079,171916.6910502873],\"y\":[537751.95822454,537725.6562028737],\"type\":\"scatter\"},{\"fill\":\"toself\",\"line\":{\"color\":\"red\"},\"marker\":{\"color\":\"yellow\",\"line\":{\"color\":\"black\",\"width\":2},\"size\":5},\"mode\":\"lines+markers\",\"x\":[171917.8171131079,171888.6808183295],\"y\":[537751.95822454,537755.096833429],\"type\":\"scatter\"},{\"fill\":\"toself\",\"line\":{\"color\":\"red\"},\"marker\":{\"color\":\"yellow\",\"line\":{\"color\":\"black\",\"width\":2},\"size\":5},\"mode\":\"lines+markers\",\"x\":[171885.456736657,171899.6272828853],\"y\":[537729.8003522218,537725.2108054903],\"type\":\"scatter\"},{\"fill\":\"toself\",\"line\":{\"color\":\"red\"},\"marker\":{\"color\":\"yellow\",\"line\":{\"color\":\"black\",\"width\":2},\"size\":5},\"mode\":\"lines+markers\",\"x\":[171888.6808183295,171872.7613792006],\"y\":[537755.096833429,537757.0598476754],\"type\":\"scatter\"},{\"fill\":\"toself\",\"line\":{\"color\":\"red\"},\"marker\":{\"color\":\"yellow\",\"line\":{\"color\":\"black\",\"width\":2},\"size\":5},\"mode\":\"lines+markers\",\"x\":[171872.7613792006,171868.7142282604],\"y\":[537757.0598476754,537731.984303875],\"type\":\"scatter\"},{\"fill\":\"toself\",\"line\":{\"color\":\"red\"},\"marker\":{\"color\":\"yellow\",\"line\":{\"color\":\"black\",\"width\":2},\"size\":5},\"mode\":\"lines+markers\",\"x\":[171868.7142282604,171885.456736657],\"y\":[537731.984303875,537729.8003522218],\"type\":\"scatter\"},{\"fill\":\"toself\",\"line\":{\"color\":\"red\"},\"marker\":{\"color\":\"yellow\",\"line\":{\"color\":\"black\",\"width\":2},\"size\":5},\"mode\":\"lines+markers\",\"x\":[171885.456736657,171888.6808183295],\"y\":[537729.8003522218,537755.096833429],\"type\":\"scatter\"},{\"fill\":\"toself\",\"line\":{\"color\":\"red\"},\"marker\":{\"color\":\"yellow\",\"line\":{\"color\":\"black\",\"width\":2},\"size\":5},\"mode\":\"lines+markers\",\"x\":[171868.6535585353,171868.7142282604],\"y\":[537731.6084033037,537731.984303875],\"type\":\"scatter\"},{\"fill\":\"toself\",\"line\":{\"color\":\"red\"},\"marker\":{\"color\":\"yellow\",\"line\":{\"color\":\"black\",\"width\":2},\"size\":5},\"mode\":\"lines+markers\",\"x\":[171868.6535585353,171849.8525175313,171853.9924036345,171858.0811786577,171872.7613792006],\"y\":[537731.6084033037,537735.2787890882,537761.7748979464,537760.0037845949,537757.0598476754],\"type\":\"scatter\"},{\"fill\":\"toself\",\"line\":{\"color\":\"red\"},\"marker\":{\"color\":\"yellow\",\"line\":{\"color\":\"black\",\"width\":2},\"size\":5},\"mode\":\"lines+markers\",\"x\":[171874.5737287885,171878.4964484985],\"y\":[537767.7133314695,537794.9369925766],\"type\":\"scatter\"},{\"fill\":\"toself\",\"line\":{\"color\":\"red\"},\"marker\":{\"color\":\"yellow\",\"line\":{\"color\":\"black\",\"width\":2},\"size\":5},\"mode\":\"lines+markers\",\"x\":[171878.4964484985,171879.0608094198,171879.5019762747,171840.0642936705,171836.5354699907,171834.1458782832,171848.7120518391,171848.5294201804,171848.3894557457,171848.2928451302,171848.2400623472,171848.2313661048,171848.2667990985,171848.3461875945,171848.4691422739,171848.6350597759,171848.8431264284,171849.0923216424,171849.3814229732,171849.7090123734,171850.0734829066,171850.4730468665,171850.9057442599,171851.3694526851,171851.8618975693,171852.3806633798,171852.9232053885,171853.4868624418,171854.0688696015,171854.6663721036,171855.2764390312,171855.8960780186,171856.5222494693,171857.1518819528,171857.7818870458,171858.4091744308,171859.0306670549,171859.6433166752,171860.2441178012,171860.8301235773,171861.3984595083,171861.9463377954,171862.4710709673,171862.9700852096,171863.440932687,171863.881303768,171864.2890384746,171864.662136723,171864.9987684612,171865.2972823537,171865.5562142823,171865.7742939459,171865.950451799,171866.0838236956,171866.1737554007,171866.2198057635,171874.5737287885],\"y\":[537794.9369925766,537798.8536553975,537801.7042038273,537807.2576599666,537784.7218146239,537769.9187422681,537767.2579358057,537767.864155026,537768.4817345492,537769.107645033,537769.7388162828,537770.3721522863,537771.0045464246,537771.6328966905,537772.2541209129,537772.8651718795,537773.4630522771,537774.0448293947,537774.6076495133,537775.1487519,537775.6654823521,537776.1553062119,537776.6158208092,537777.0447672383,537777.4400414347,537777.7997045136,537778.1219922617,537778.4053237996,537778.6483093353,537778.849756981,537779.0086786017,537779.1242946559,537779.1960380297,537779.2235568034,537779.2067159965,537779.1455982163,537779.0405032557,537778.8919466248,537778.7006570204,537778.4675727526,537778.1938371398,537777.8807929078,537777.5299755891,537777.1431060102,537776.722081835,537776.26896826,537775.7859878901,537775.2755098302,537774.7400380637,537774.1821991783,537773.6047294706,537773.0104615325,537772.4023103537,537771.7832590227,537771.1563440963,537769.2453223983,537767.7133314695],\"type\":\"scatter\"},{\"fill\":\"toself\",\"line\":{\"color\":\"red\"},\"marker\":{\"color\":\"yellow\",\"line\":{\"color\":\"black\",\"width\":2},\"size\":5},\"mode\":\"lines+markers\",\"x\":[171874.5737287885,171930.0790362192],\"y\":[537767.7133314695,537759.5302636164],\"type\":\"scatter\"},{\"fill\":\"toself\",\"line\":{\"color\":\"red\"},\"marker\":{\"color\":\"yellow\",\"line\":{\"color\":\"black\",\"width\":2},\"size\":5},\"mode\":\"lines+markers\",\"x\":[171930.0790362192,171931.7582349416],\"y\":[537759.5302636164,537790.6076206679],\"type\":\"scatter\"},{\"fill\":\"toself\",\"line\":{\"color\":\"red\"},\"marker\":{\"color\":\"yellow\",\"line\":{\"color\":\"black\",\"width\":2},\"size\":5},\"mode\":\"lines+markers\",\"x\":[171930.0790362192,171943.4828677361,171944.7736546026,171931.7582349416],\"y\":[537759.5302636164,537758.4678780218,537789.4729772711,537790.6076206679],\"type\":\"scatter\"},{\"fill\":\"toself\",\"line\":{\"color\":\"red\"},\"marker\":{\"color\":\"yellow\",\"line\":{\"color\":\"black\",\"width\":2},\"size\":5},\"mode\":\"lines+markers\",\"x\":[171928.7943909947,171928.8504169267,171950.7608231994,171950.6754956964,171932.1506393403,171932.0961315191,171932.0403104752,171931.9832032605,171931.9248374705,171931.8652415886,171931.804444208,171931.7424750169,171931.6793640399,171931.615141851,171931.5498394612,171931.4834886605,171931.4161214465,171931.3477707104,171931.2784694474,171931.2082512049,171931.1371500795,171931.0652005016,171930.992437445,171930.9188960047,171930.8446120432,171930.7696213033,171930.693960315,171930.6176658131,171930.5407745471,171930.4633239167,171930.3853515488,171930.3068950651,171930.2279926398,171930.1486824557,171930.0690029037,171929.9889926075,171929.9086905076,171929.8281353353,171929.7473661528,171929.6664222385,171929.5853427594,171929.5041670005,171929.422934354,171929.3416841006,171929.2604557427,171929.1792885652,171929.0982218531,171929.0172949988,171928.9365472859,171928.8560176739,171928.7757453384,171928.6957692371,171928.6161278833,171928.5368601297],\"y\":[537583.2527035887,537579.2351958201,537573.3467670388,537600.4725577425,537602.8712363696,537602.8106798346,537602.7513439882,537602.6932575898,537602.6364487933,537602.580945135,537602.526773517,537602.473960197,537602.4225307731,537602.3725101717,537602.3239226398,537602.2767917276,537602.2311402779,537602.1869904192,537602.1443635514,537602.1032803333,537602.0637606805,537602.025823747,537601.9894879218,537601.9547708145,537601.9216892554,537601.890259278,537601.8604961144,537601.8324141944,537601.806027126,537601.7813477013,537601.7583878812,537601.7371587952,537601.7176707324,537601.699933139,537601.6839546113,537601.6697428947,537601.6573048795,537601.6466465915,537601.6377731984,537601.6306890007,537601.625397432,537601.621901057,537601.6202015711,537601.6202997982,537601.6221956894,537601.6258883269,537601.6313759203,537601.6386558096,537601.6477244662,537601.6585774955,537601.6712096363,537601.6856147666,537601.7017859028,537601.7197152071],\"type\":\"scatter\"},{\"fill\":\"toself\",\"line\":{\"color\":\"red\"},\"marker\":{\"color\":\"yellow\",\"line\":{\"color\":\"black\",\"width\":2},\"size\":5},\"mode\":\"lines+markers\",\"x\":[171966.0181068728,171961.1388415328,171977.8896204889,171977.9567972228,171978.0244912785,171978.092685479,171978.1613619954,171978.2305033268,171978.3000914234,171978.3701085604,171978.4405364701,171978.5113572127,171978.5825522968,171978.6541035646,171978.7259924132,171978.7982003546,171978.8707087893,171978.9434990113,171979.0165523039,171979.0898496339,171979.1633722905,171979.2371012383,171979.3110174337,171979.3851019537,171979.4593355339,171979.5336990332,171979.6081734118,171979.6827394086,171979.7573776621,171979.832069133,171979.9067943424,171979.981534148,171980.056269399,171980.1309805136,171980.2056484508,171980.2802539569,171980.3547776692,171980.4292003317,171980.5035030159,171980.5776662508,171980.6516711057,171980.725498552,171980.7991293376,171980.8725445296,171980.9457253242,171981.0186526768,171981.0913078962,171981.1636722714,171981.2357271001,171981.3074536832,171981.3788337556,171981.4498486129,171985.3381335756],\"y\":[537596.9940190148,537614.6262638551,537616.000153444,537615.9672248083,537615.9353846001,537615.904641032,537615.8750020328,537615.846475244,537615.8190680242,537615.7927874407,537615.7676402726,537615.7436330025,537615.720771824,537615.6990626319,537615.678511025,537615.6591223036,537615.640901468,537615.6238532168,537615.6079819456,537615.5932917501,537615.5797864164,537615.5674694297,537615.5563439638,537615.546412889,537615.5376787682,537615.5301438505,537615.5238100818,537615.5186790952,537615.5147522129,537615.5120304486,537615.5105145031,537615.5102047675,537615.5111013228,537615.513203937,537615.5165120685,537615.521024863,537615.5267411581,537615.5336594781,537615.5417780393,537615.551094749,537615.5616072043,537615.5733126927,537615.5862081954,537615.6002903893,537615.6155556404,537615.6320000115,537615.6496192641,537615.6684088535,537615.6883639329,537615.7094793562,537615.7317496783,537615.755169155,537601.3341140111],\"type\":\"scatter\"},{\"fill\":\"toself\",\"line\":{\"color\":\"red\"},\"marker\":{\"color\":\"yellow\",\"line\":{\"color\":\"black\",\"width\":2},\"size\":5},\"mode\":\"lines+markers\",\"x\":[171999.8113461184,171999.7423352685,172000.5891513869,172001.591752405,172002.485970788,172003.7691133501,171996.9713960077],\"y\":[537603.9073029126,537605.9338482897,537608.1358476084,537609.2802462358,537609.5828668984,537609.6853894711,537624.8453498689],\"type\":\"scatter\"},{\"fill\":\"toself\",\"line\":{\"color\":\"red\"},\"marker\":{\"color\":\"yellow\",\"line\":{\"color\":\"black\",\"width\":2},\"size\":5},\"mode\":\"lines+markers\",\"x\":[171983.8315990038,171985.3381335756],\"y\":[537622.756450562,537601.3341140111],\"type\":\"scatter\"},{\"fill\":\"toself\",\"line\":{\"color\":\"red\"},\"marker\":{\"color\":\"yellow\",\"line\":{\"color\":\"black\",\"width\":2},\"size\":5},\"mode\":\"lines+markers\",\"x\":[171985.3381335756,171999.8113461184],\"y\":[537601.3341140111,537603.9073029126],\"type\":\"scatter\"},{\"fill\":\"toself\",\"line\":{\"color\":\"red\"},\"marker\":{\"color\":\"yellow\",\"line\":{\"color\":\"black\",\"width\":2},\"size\":5},\"mode\":\"lines+markers\",\"x\":[171977.7254961324,171983.8315990038],\"y\":[537624.2462055531,537622.756450562],\"type\":\"scatter\"},{\"fill\":\"toself\",\"line\":{\"color\":\"red\"},\"marker\":{\"color\":\"yellow\",\"line\":{\"color\":\"black\",\"width\":2},\"size\":5},\"mode\":\"lines+markers\",\"x\":[171983.8315990038,171996.9713960077],\"y\":[537622.756450562,537624.8453498689],\"type\":\"scatter\"},{\"fill\":\"toself\",\"line\":{\"color\":\"red\"},\"marker\":{\"color\":\"yellow\",\"line\":{\"color\":\"black\",\"width\":2},\"size\":5},\"mode\":\"lines+markers\",\"x\":[171996.9713960077,171990.5405799962],\"y\":[537624.8453498689,537643.4154668719],\"type\":\"scatter\"},{\"fill\":\"toself\",\"line\":{\"color\":\"red\"},\"marker\":{\"color\":\"yellow\",\"line\":{\"color\":\"black\",\"width\":2},\"size\":5},\"mode\":\"lines+markers\",\"x\":[171985.3381335756,171966.0181068728],\"y\":[537601.3341140111,537596.9940190148],\"type\":\"scatter\"},{\"fill\":\"toself\",\"line\":{\"color\":\"red\"},\"marker\":{\"color\":\"yellow\",\"line\":{\"color\":\"black\",\"width\":2},\"size\":5},\"mode\":\"lines+markers\",\"x\":[171999.8113461184,171997.9114129885,171990.8266980339,171981.0892401713,171977.2571134362,171972.6563863678,171970.5006522832,171966.0181068728],\"y\":[537603.9073029126,537598.2876535337,537576.3517481787,537574.092897322,537575.0968388044,537577.4427341857,537579.5958591552,537596.9940190148],\"type\":\"scatter\"},{\"fill\":\"toself\",\"line\":{\"color\":\"red\"},\"marker\":{\"color\":\"yellow\",\"line\":{\"color\":\"black\",\"width\":2},\"size\":5},\"mode\":\"lines+markers\",\"x\":[171977.7254961324,171974.1292687081],\"y\":[537624.2462055531,537641.7238599166],\"type\":\"scatter\"},{\"fill\":\"toself\",\"line\":{\"color\":\"red\"},\"marker\":{\"color\":\"yellow\",\"line\":{\"color\":\"black\",\"width\":2},\"size\":5},\"mode\":\"lines+markers\",\"x\":[171974.1292687081,171956.442668297],\"y\":[537641.7238599166,537640.3284645673],\"type\":\"scatter\"},{\"fill\":\"toself\",\"line\":{\"color\":\"red\"},\"marker\":{\"color\":\"yellow\",\"line\":{\"color\":\"black\",\"width\":2},\"size\":5},\"mode\":\"lines+markers\",\"x\":[171956.442668297,171959.8786584824,171975.3125525471,171975.3109412788,171975.3116569372,171975.314699118,171975.3200663137,171975.327755813,171975.3377637956,171975.3500852374,171975.364713899,171975.3816425555,171975.4008625454,171975.4223642244,171975.4461370634,171975.4721687692,171975.5004466115,171975.5309561017,171975.5636821993,171975.5986083208,171975.6357170065,171975.6749894687,171975.7164062648,171975.7599464117,171975.8055881561,171975.8533085264,171975.9030836801,171975.9548884498,171976.008697007,171976.0644823105,171976.1222163361,171976.1818701685,171976.2434138004,171976.3068163391,171976.3720460094,171976.4390700531,171976.5078548181,171976.578365787,171976.6505676631,171976.7244241555,171976.7998981021,171976.8769517799,171976.9555464828,171977.0356427316,171977.1172002732,171977.2001783056,171977.2845351469,171977.3702283473,171977.4572151148,171977.5454515734,171977.6348935018,171977.7254961324],\"y\":[537640.3284645673,537619.0163645184,537620.0317269136,537620.1361080855,537620.2404993249,537620.3448482413,537620.449102469,537620.5532096871,537620.6571176503,537620.760774212,537620.8641273525,537620.9671252043,537621.0697160783,537621.1718484885,537621.2734711824,537621.3745331573,537621.4749836972,537621.5747723914,537621.6738491594,537621.7721642817,537621.8696684191,537621.9663126381,537622.062048437,537622.156827772,537622.2506030805,537622.3433272982,537622.4349538933,537622.5254368816,537622.6147308549,537622.702791003,537622.7895731322,537622.875033689,537622.9591297865,537623.0418192218,537623.1230604966,537623.2028128403,537623.2810362285,537623.3576914064,537623.4327399035,537623.5061440585,537623.5778670311,537623.6478728291,537623.7161263193,537623.7825932489,537623.847240262,537623.9100349147,537623.9709456959,537624.0299420342,537624.0869943249,537624.1420739357,537624.1951532244,537624.2462055531],\"type\":\"scatter\"},{\"fill\":\"toself\",\"line\":{\"color\":\"red\"},\"marker\":{\"color\":\"yellow\",\"line\":{\"color\":\"black\",\"width\":2},\"size\":5},\"mode\":\"lines+markers\",\"x\":[171974.1292687081,171990.5405799962],\"y\":[537641.7238599166,537643.4154668719],\"type\":\"scatter\"},{\"fill\":\"toself\",\"line\":{\"color\":\"red\"},\"marker\":{\"color\":\"yellow\",\"line\":{\"color\":\"black\",\"width\":2},\"size\":5},\"mode\":\"lines+markers\",\"x\":[171990.5405799962,171983.1067325604],\"y\":[537643.4154668719,537664.8820143891],\"type\":\"scatter\"},{\"fill\":\"toself\",\"line\":{\"color\":\"red\"},\"marker\":{\"color\":\"yellow\",\"line\":{\"color\":\"black\",\"width\":2},\"size\":5},\"mode\":\"lines+markers\",\"x\":[171983.1067325604,171953.5930016251],\"y\":[537664.8820143891,537659.8454914696],\"type\":\"scatter\"},{\"fill\":\"toself\",\"line\":{\"color\":\"red\"},\"marker\":{\"color\":\"yellow\",\"line\":{\"color\":\"black\",\"width\":2},\"size\":5},\"mode\":\"lines+markers\",\"x\":[171953.5930016251,171953.8725739837,171956.442668297],\"y\":[537659.8454914696,537656.2697522237,537640.3284645673],\"type\":\"scatter\"},{\"fill\":\"toself\",\"line\":{\"color\":\"red\"},\"marker\":{\"color\":\"yellow\",\"line\":{\"color\":\"black\",\"width\":2},\"size\":5},\"mode\":\"lines+markers\",\"x\":[171983.1067325604,171978.7715954406],\"y\":[537664.8820143891,537682.8168297183],\"type\":\"scatter\"},{\"fill\":\"toself\",\"line\":{\"color\":\"red\"},\"marker\":{\"color\":\"yellow\",\"line\":{\"color\":\"black\",\"width\":2},\"size\":5},\"mode\":\"lines+markers\",\"x\":[171952.0152420281,171953.5930016251],\"y\":[537680.0250817441,537659.8454914696],\"type\":\"scatter\"},{\"fill\":\"toself\",\"line\":{\"color\":\"red\"},\"marker\":{\"color\":\"yellow\",\"line\":{\"color\":\"black\",\"width\":2},\"size\":5},\"mode\":\"lines+markers\",\"x\":[171973.8432893871,171974.4261837035,171978.7715954406],\"y\":[537703.8350075943,537700.7941521639,537682.8168297183],\"type\":\"scatter\"},{\"fill\":\"toself\",\"line\":{\"color\":\"red\"},\"marker\":{\"color\":\"yellow\",\"line\":{\"color\":\"black\",\"width\":2},\"size\":5},\"mode\":\"lines+markers\",\"x\":[171950.1007128911,171950.2136395229,171951.2986303864,171952.0152420281],\"y\":[537703.1022686545,537699.8482849279,537689.1905647118,537680.0250817441],\"type\":\"scatter\"},{\"fill\":\"toself\",\"line\":{\"color\":\"red\"},\"marker\":{\"color\":\"yellow\",\"line\":{\"color\":\"black\",\"width\":2},\"size\":5},\"mode\":\"lines+markers\",\"x\":[171952.0152420281,171978.7715954406],\"y\":[537680.0250817441,537682.8168297183],\"type\":\"scatter\"},{\"fill\":\"toself\",\"line\":{\"color\":\"red\"},\"marker\":{\"color\":\"yellow\",\"line\":{\"color\":\"black\",\"width\":2},\"size\":5},\"mode\":\"lines+markers\",\"x\":[171950.1007128911,171973.8432893871],\"y\":[537703.1022686545,537703.8350075943],\"type\":\"scatter\"},{\"fill\":\"toself\",\"line\":{\"color\":\"red\"},\"marker\":{\"color\":\"yellow\",\"line\":{\"color\":\"black\",\"width\":2},\"size\":5},\"mode\":\"lines+markers\",\"x\":[171973.8432893871,171973.5066056461,171972.5252889184,171989.8505942513,171988.8699152804,171971.7429617945],\"y\":[537703.8350075943,537705.5914263425,537717.6450772012,537717.6450772007,537723.8484782825,537723.848478283],\"type\":\"scatter\"},{\"fill\":\"toself\",\"line\":{\"color\":\"red\"},\"marker\":{\"color\":\"yellow\",\"line\":{\"color\":\"black\",\"width\":2},\"size\":5},\"mode\":\"lines+markers\",\"x\":[171950.1007128911,171949.7885616593,171948.9189573823],\"y\":[537703.1022686545,537712.0969185397,537724.5697662688],\"type\":\"scatter\"},{\"fill\":\"toself\",\"line\":{\"color\":\"red\"},\"marker\":{\"color\":\"yellow\",\"line\":{\"color\":\"black\",\"width\":2},\"size\":5},\"mode\":\"lines+markers\",\"x\":[171948.9189573823,171948.9189573439,171948.918957351,171948.9550602793,171968.7046850039,171971.7429617945],\"y\":[537724.5697662688,537732.0643208064,537735.9287760857,537745.1697346324,537745.0479682244,537723.848478283],\"type\":\"scatter\"},{\"fill\":\"toself\",\"line\":{\"color\":\"red\"},\"marker\":{\"color\":\"yellow\",\"line\":{\"color\":\"black\",\"width\":2},\"size\":5},\"mode\":\"lines+markers\",\"x\":[171971.7429617945,171970.9243805844,171948.9189573823],\"y\":[537723.848478283,537723.8484782825,537724.5697662688],\"type\":\"scatter\"},{\"fill\":\"toself\",\"line\":{\"color\":\"red\"},\"marker\":{\"color\":\"yellow\",\"line\":{\"color\":\"black\",\"width\":2},\"size\":5},\"mode\":\"lines+markers\",\"x\":[171928.7943909947,171917.2527077274,171902.782467202,171905.1123983267],\"y\":[537583.2527035887,537586.6342258668,537589.5043845366,537607.4617548948],\"type\":\"scatter\"},{\"fill\":\"toself\",\"line\":{\"color\":\"red\"},\"marker\":{\"color\":\"yellow\",\"line\":{\"color\":\"black\",\"width\":2},\"size\":5},\"mode\":\"lines+markers\",\"x\":[171928.7943909947,171928.5417992918,171928.5368601297],\"y\":[537583.2527035887,537601.3655386047,537601.7197152071],\"type\":\"scatter\"},{\"fill\":\"toself\",\"line\":{\"color\":\"red\"},\"marker\":{\"color\":\"yellow\",\"line\":{\"color\":\"black\",\"width\":2},\"size\":5},\"mode\":\"lines+markers\",\"x\":[171928.5368601297,171923.5315114729],\"y\":[537601.7197152071,537606.197500541],\"type\":\"scatter\"},{\"fill\":\"toself\",\"line\":{\"color\":\"red\"},\"marker\":{\"color\":\"yellow\",\"line\":{\"color\":\"black\",\"width\":2},\"size\":5},\"mode\":\"lines+markers\",\"x\":[171923.5315114729,171905.1123983267],\"y\":[537606.197500541,537607.4617548948],\"type\":\"scatter\"},{\"fill\":\"toself\",\"line\":{\"color\":\"red\"},\"marker\":{\"color\":\"yellow\",\"line\":{\"color\":\"black\",\"width\":2},\"size\":5},\"mode\":\"lines+markers\",\"x\":[171923.5315114729,171923.5279812014,171923.5318547133,171923.5431263666,171923.5617795211,171923.5877867456,171923.6211096105,171923.6616990092,171923.7094951611,171923.7644276052,171923.8264153262,171923.8953670647,171923.971181211,171924.0537458238,171924.1429393725,171924.2386303164,171924.3406777573,171924.4489311059,171924.5632309689,171924.6834087124,171924.8092873236,171924.9406813155,171925.0773968417,171925.2192325555,171925.3659793047,171925.5174208814,171925.673334028,171925.8334889963,171925.9976496431,171926.1655741017,171926.3370148854,171926.5117191115,171926.6894294808,171926.8698840788,171927.0528167931,171927.2379579876,171927.4250349336,171927.6137718158,171927.8038905128,171927.995110673,171928.1871506328,171928.3797271785,171928.5725565375,171928.7653545995,171928.9578370225,171929.149720124,171929.3407212048,171929.5305587626,171929.7189528303,171929.9056258583,171929.9056258295,171906.7399292125,171905.1123983267],\"y\":[537606.197500541,537606.3912893963,537606.5850715784,537606.77856147,537606.971473885,537607.1635244902,537607.3544302213,537607.543909702,537607.7316836569,537607.9174753255,537608.1010108683,537608.2820197735,537608.4602352494,537608.6353946237,537608.8072397277,537608.9755172799,537609.1399792559,537609.3003832517,537609.4564928489,537609.6080779566,537609.7549151538,537609.8967880163,537610.033487436,537610.1648119306,537610.2905679435,537610.4105701186,537610.5246415875,537610.6326142172,537610.7343288672,537610.8296356207,537610.9183940043,537611.000473196,537611.0757522195,537611.1441201208,537611.2054761321,537611.2597298207,537611.3068012199,537611.3466209547,537611.3791303313,537611.4042814357,537611.4220371973,537611.4323714445,537611.4352689486,537611.4307254356,537611.418747604,537611.3993531087,537611.3725705334,537611.3384393535,537611.2970098759,537611.2483431647,537619.1430703945,537621.9727428415,537607.4617548948],\"type\":\"scatter\"},{\"fill\":\"toself\",\"line\":{\"color\":\"red\"},\"marker\":{\"color\":\"yellow\",\"line\":{\"color\":\"black\",\"width\":2},\"size\":5},\"mode\":\"lines+markers\",\"x\":[171930.2808850449,171928.4851419539],\"y\":[537633.3317807778,537653.6805619264],\"type\":\"scatter\"},{\"fill\":\"toself\",\"line\":{\"color\":\"red\"},\"marker\":{\"color\":\"yellow\",\"line\":{\"color\":\"black\",\"width\":2},\"size\":5},\"mode\":\"lines+markers\",\"x\":[171928.4851419539,171924.9200657907],\"y\":[537653.6805619264,537659.1786774179],\"type\":\"scatter\"},{\"fill\":\"toself\",\"line\":{\"color\":\"red\"},\"marker\":{\"color\":\"yellow\",\"line\":{\"color\":\"black\",\"width\":2},\"size\":5},\"mode\":\"lines+markers\",\"x\":[171924.9200657907,171909.1345018912],\"y\":[537659.1786774179,537659.1786774184],\"type\":\"scatter\"},{\"fill\":\"toself\",\"line\":{\"color\":\"red\"},\"marker\":{\"color\":\"yellow\",\"line\":{\"color\":\"black\",\"width\":2},\"size\":5},\"mode\":\"lines+markers\",\"x\":[171930.2808850449,171913.0622038196,171909.1345018912],\"y\":[537633.3317807778,537632.2628469174,537659.1786774184],\"type\":\"scatter\"},{\"fill\":\"toself\",\"line\":{\"color\":\"red\"},\"marker\":{\"color\":\"yellow\",\"line\":{\"color\":\"black\",\"width\":2},\"size\":5},\"mode\":\"lines+markers\",\"x\":[171928.4851419539,171928.5572340248,171928.6291612966,171928.7008960339,171928.7724102944,171928.8436764642,171928.9146668116,171928.9853539501,171929.0557104738,171929.1257091115,171929.1953225672,171929.2645240046,171929.3332866882,171929.401583774,171929.4693888633,171929.5366757707,171929.6034183167,171929.6695906495,171929.7351671364,171929.8001222625,171929.8644310534,171929.9280684289,171929.9910097542,171930.0532307195,171930.114707122,171930.1754151004,171930.2353312252,171930.2944321792,171930.352695194,171930.4100975046,171930.4666170097,171930.5222317063,171930.5769200453,171930.6306610182,171930.6834335132,171930.7352172979,171930.7859921347,171930.835738458,171930.8844370162,171930.9320687931,171930.9786154279,171931.0240587728,171931.0683814642,171931.1115660184,171931.1535959429,171931.1944547512,171931.2341267241,171931.2725965793,171931.3098491497,171931.3458701443,171942.8322367953,171947.0833305572,171930.2808850449],\"y\":[537653.6805619264,537653.6882579644,537653.6973788632,537653.7079210847,537653.719880544,537653.7332526047,537653.7480320869,537653.7642132597,537653.7817898523,537653.8007550531,537653.821101511,537653.8428213396,537653.8659061218,537653.8903469101,537653.916134231,537653.943258091,537653.9717079763,537654.001472862,537654.0325412102,537654.0649009795,537654.0985396288,537654.13344412,537654.1696009248,537654.2069960298,537654.2456149416,537654.2854426916,537654.3264638437,537654.3686624995,537654.412022303,537654.4565264498,537654.5021576888,537654.5488983362,537654.5967302761,537654.6456349697,537654.6955934615,537654.7465863895,537654.7985939916,537654.851596107,537654.9055721952,537654.960501337,537655.0163622412,537655.0731332597,537655.1307923854,537655.189317275,537655.2486852426,537655.3088732798,537655.3698580582,537655.4316159412,537655.4941229942,537655.5573549891,537656.0226995872,537633.7746534639,537633.3317807778],\"type\":\"scatter\"},{\"fill\":\"toself\",\"line\":{\"color\":\"red\"},\"marker\":{\"color\":\"yellow\",\"line\":{\"color\":\"black\",\"width\":2},\"size\":5},\"mode\":\"lines+markers\",\"x\":[171939.8828099224,171941.4548055722,171940.7168999426,171931.2123400641,171931.1604241208,171931.1065778365,171931.0508355754,171930.9932327981,171930.9338060709,171930.8725933846,171930.8096336165,171930.7449669539,171930.6786344709,171930.6106784501,171930.5411421649,171930.4700698761,171930.3975068321,171930.3234992716,171930.2480942109,171930.1713398609,171930.0932848884,171930.0139790479,171929.9334729755,171929.8518177514,171929.7690653284,171929.6852686552,171929.6004808953,171929.5147560902,171929.4281487314,171929.3407141717,171929.2525078919,171929.1635860185,171929.0740054525,171928.98382287,171928.8930959486,171928.801882348,171928.7102402868,171928.6182278764,171928.5259038737,171928.4333270489,171928.3405562745,171928.2476506406,171928.1546693481,171928.0616715998,171927.9687165948,171927.8758634189,171927.7831713811,171927.6906994589,171927.5985064022,171927.5066509736,171927.415191697,171927.3241867815,171927.2336942029],\"y\":[537681.9550368995,537662.2617440539,537660.1273515242,537659.3655627972,537659.4431107951,537659.5193176168,537659.5941347425,537659.6675145313,537659.7394102623,537659.8097761584,537659.8785674146,537659.9457402297,537660.0112518342,537660.0750605147,537660.1371256439,537660.1974077016,537660.2558683064,537660.3124702334,537660.3671774447,537660.4199551059,537660.4707696115,537660.519588609,537660.5663810128,537660.6111170298,537660.6537681718,537660.6943072868,537660.7327085595,537660.7689475405,537660.8030011546,537660.8348477212,537660.86446696,537660.891840014,537660.9169494523,537660.9397792873,537660.9603149839,537660.9785434657,537660.9944531255,537661.0080338356,537661.0192769468,537661.0281752998,537661.034723232,537661.0389165712,537661.0407526486,537661.0402302954,537661.0373498425,537661.0321131254,537661.0245234789,537661.014585732,537661.002306218,537660.9876927529,537660.970754639,537660.9515026652,537660.9299490869],\"type\":\"scatter\"},{\"fill\":\"toself\",\"line\":{\"color\":\"red\"},\"marker\":{\"color\":\"yellow\",\"line\":{\"color\":\"black\",\"width\":2},\"size\":5},\"mode\":\"lines+markers\",\"x\":[171923.0252564719,171927.2336942029],\"y\":[537680.946895907,537660.9299490869],\"type\":\"scatter\"},{\"fill\":\"toself\",\"line\":{\"color\":\"red\"},\"marker\":{\"color\":\"yellow\",\"line\":{\"color\":\"black\",\"width\":2},\"size\":5},\"mode\":\"lines+markers\",\"x\":[171923.0252564719,171905.9418605348],\"y\":[537680.946895907,537679.0810745013],\"type\":\"scatter\"},{\"fill\":\"toself\",\"line\":{\"color\":\"red\"},\"marker\":{\"color\":\"yellow\",\"line\":{\"color\":\"black\",\"width\":2},\"size\":5},\"mode\":\"lines+markers\",\"x\":[171905.9418605348,171906.4997666844,171909.1345018912],\"y\":[537679.0810745013,537675.6031803801,537659.1786774184],\"type\":\"scatter\"},{\"fill\":\"toself\",\"line\":{\"color\":\"red\"},\"marker\":{\"color\":\"yellow\",\"line\":{\"color\":\"black\",\"width\":2},\"size\":5},\"mode\":\"lines+markers\",\"x\":[171924.9200657907,171927.2336942029],\"y\":[537659.1786774179,537660.9299490869],\"type\":\"scatter\"}],                        {\"template\":{\"data\":{\"histogram2dcontour\":[{\"type\":\"histogram2dcontour\",\"colorbar\":{\"outlinewidth\":0,\"ticks\":\"\"},\"colorscale\":[[0.0,\"#0d0887\"],[0.1111111111111111,\"#46039f\"],[0.2222222222222222,\"#7201a8\"],[0.3333333333333333,\"#9c179e\"],[0.4444444444444444,\"#bd3786\"],[0.5555555555555556,\"#d8576b\"],[0.6666666666666666,\"#ed7953\"],[0.7777777777777778,\"#fb9f3a\"],[0.8888888888888888,\"#fdca26\"],[1.0,\"#f0f921\"]]}],\"choropleth\":[{\"type\":\"choropleth\",\"colorbar\":{\"outlinewidth\":0,\"ticks\":\"\"}}],\"histogram2d\":[{\"type\":\"histogram2d\",\"colorbar\":{\"outlinewidth\":0,\"ticks\":\"\"},\"colorscale\":[[0.0,\"#0d0887\"],[0.1111111111111111,\"#46039f\"],[0.2222222222222222,\"#7201a8\"],[0.3333333333333333,\"#9c179e\"],[0.4444444444444444,\"#bd3786\"],[0.5555555555555556,\"#d8576b\"],[0.6666666666666666,\"#ed7953\"],[0.7777777777777778,\"#fb9f3a\"],[0.8888888888888888,\"#fdca26\"],[1.0,\"#f0f921\"]]}],\"heatmap\":[{\"type\":\"heatmap\",\"colorbar\":{\"outlinewidth\":0,\"ticks\":\"\"},\"colorscale\":[[0.0,\"#0d0887\"],[0.1111111111111111,\"#46039f\"],[0.2222222222222222,\"#7201a8\"],[0.3333333333333333,\"#9c179e\"],[0.4444444444444444,\"#bd3786\"],[0.5555555555555556,\"#d8576b\"],[0.6666666666666666,\"#ed7953\"],[0.7777777777777778,\"#fb9f3a\"],[0.8888888888888888,\"#fdca26\"],[1.0,\"#f0f921\"]]}],\"heatmapgl\":[{\"type\":\"heatmapgl\",\"colorbar\":{\"outlinewidth\":0,\"ticks\":\"\"},\"colorscale\":[[0.0,\"#0d0887\"],[0.1111111111111111,\"#46039f\"],[0.2222222222222222,\"#7201a8\"],[0.3333333333333333,\"#9c179e\"],[0.4444444444444444,\"#bd3786\"],[0.5555555555555556,\"#d8576b\"],[0.6666666666666666,\"#ed7953\"],[0.7777777777777778,\"#fb9f3a\"],[0.8888888888888888,\"#fdca26\"],[1.0,\"#f0f921\"]]}],\"contourcarpet\":[{\"type\":\"contourcarpet\",\"colorbar\":{\"outlinewidth\":0,\"ticks\":\"\"}}],\"contour\":[{\"type\":\"contour\",\"colorbar\":{\"outlinewidth\":0,\"ticks\":\"\"},\"colorscale\":[[0.0,\"#0d0887\"],[0.1111111111111111,\"#46039f\"],[0.2222222222222222,\"#7201a8\"],[0.3333333333333333,\"#9c179e\"],[0.4444444444444444,\"#bd3786\"],[0.5555555555555556,\"#d8576b\"],[0.6666666666666666,\"#ed7953\"],[0.7777777777777778,\"#fb9f3a\"],[0.8888888888888888,\"#fdca26\"],[1.0,\"#f0f921\"]]}],\"surface\":[{\"type\":\"surface\",\"colorbar\":{\"outlinewidth\":0,\"ticks\":\"\"},\"colorscale\":[[0.0,\"#0d0887\"],[0.1111111111111111,\"#46039f\"],[0.2222222222222222,\"#7201a8\"],[0.3333333333333333,\"#9c179e\"],[0.4444444444444444,\"#bd3786\"],[0.5555555555555556,\"#d8576b\"],[0.6666666666666666,\"#ed7953\"],[0.7777777777777778,\"#fb9f3a\"],[0.8888888888888888,\"#fdca26\"],[1.0,\"#f0f921\"]]}],\"mesh3d\":[{\"type\":\"mesh3d\",\"colorbar\":{\"outlinewidth\":0,\"ticks\":\"\"}}],\"scatter\":[{\"fillpattern\":{\"fillmode\":\"overlay\",\"size\":10,\"solidity\":0.2},\"type\":\"scatter\"}],\"parcoords\":[{\"type\":\"parcoords\",\"line\":{\"colorbar\":{\"outlinewidth\":0,\"ticks\":\"\"}}}],\"scatterpolargl\":[{\"type\":\"scatterpolargl\",\"marker\":{\"colorbar\":{\"outlinewidth\":0,\"ticks\":\"\"}}}],\"bar\":[{\"error_x\":{\"color\":\"#2a3f5f\"},\"error_y\":{\"color\":\"#2a3f5f\"},\"marker\":{\"line\":{\"color\":\"#E5ECF6\",\"width\":0.5},\"pattern\":{\"fillmode\":\"overlay\",\"size\":10,\"solidity\":0.2}},\"type\":\"bar\"}],\"scattergeo\":[{\"type\":\"scattergeo\",\"marker\":{\"colorbar\":{\"outlinewidth\":0,\"ticks\":\"\"}}}],\"scatterpolar\":[{\"type\":\"scatterpolar\",\"marker\":{\"colorbar\":{\"outlinewidth\":0,\"ticks\":\"\"}}}],\"histogram\":[{\"marker\":{\"pattern\":{\"fillmode\":\"overlay\",\"size\":10,\"solidity\":0.2}},\"type\":\"histogram\"}],\"scattergl\":[{\"type\":\"scattergl\",\"marker\":{\"colorbar\":{\"outlinewidth\":0,\"ticks\":\"\"}}}],\"scatter3d\":[{\"type\":\"scatter3d\",\"line\":{\"colorbar\":{\"outlinewidth\":0,\"ticks\":\"\"}},\"marker\":{\"colorbar\":{\"outlinewidth\":0,\"ticks\":\"\"}}}],\"scattermapbox\":[{\"type\":\"scattermapbox\",\"marker\":{\"colorbar\":{\"outlinewidth\":0,\"ticks\":\"\"}}}],\"scatterternary\":[{\"type\":\"scatterternary\",\"marker\":{\"colorbar\":{\"outlinewidth\":0,\"ticks\":\"\"}}}],\"scattercarpet\":[{\"type\":\"scattercarpet\",\"marker\":{\"colorbar\":{\"outlinewidth\":0,\"ticks\":\"\"}}}],\"carpet\":[{\"aaxis\":{\"endlinecolor\":\"#2a3f5f\",\"gridcolor\":\"white\",\"linecolor\":\"white\",\"minorgridcolor\":\"white\",\"startlinecolor\":\"#2a3f5f\"},\"baxis\":{\"endlinecolor\":\"#2a3f5f\",\"gridcolor\":\"white\",\"linecolor\":\"white\",\"minorgridcolor\":\"white\",\"startlinecolor\":\"#2a3f5f\"},\"type\":\"carpet\"}],\"table\":[{\"cells\":{\"fill\":{\"color\":\"#EBF0F8\"},\"line\":{\"color\":\"white\"}},\"header\":{\"fill\":{\"color\":\"#C8D4E3\"},\"line\":{\"color\":\"white\"}},\"type\":\"table\"}],\"barpolar\":[{\"marker\":{\"line\":{\"color\":\"#E5ECF6\",\"width\":0.5},\"pattern\":{\"fillmode\":\"overlay\",\"size\":10,\"solidity\":0.2}},\"type\":\"barpolar\"}],\"pie\":[{\"automargin\":true,\"type\":\"pie\"}]},\"layout\":{\"autotypenumbers\":\"strict\",\"colorway\":[\"#636efa\",\"#EF553B\",\"#00cc96\",\"#ab63fa\",\"#FFA15A\",\"#19d3f3\",\"#FF6692\",\"#B6E880\",\"#FF97FF\",\"#FECB52\"],\"font\":{\"color\":\"#2a3f5f\"},\"hovermode\":\"closest\",\"hoverlabel\":{\"align\":\"left\"},\"paper_bgcolor\":\"white\",\"plot_bgcolor\":\"#E5ECF6\",\"polar\":{\"bgcolor\":\"#E5ECF6\",\"angularaxis\":{\"gridcolor\":\"white\",\"linecolor\":\"white\",\"ticks\":\"\"},\"radialaxis\":{\"gridcolor\":\"white\",\"linecolor\":\"white\",\"ticks\":\"\"}},\"ternary\":{\"bgcolor\":\"#E5ECF6\",\"aaxis\":{\"gridcolor\":\"white\",\"linecolor\":\"white\",\"ticks\":\"\"},\"baxis\":{\"gridcolor\":\"white\",\"linecolor\":\"white\",\"ticks\":\"\"},\"caxis\":{\"gridcolor\":\"white\",\"linecolor\":\"white\",\"ticks\":\"\"}},\"coloraxis\":{\"colorbar\":{\"outlinewidth\":0,\"ticks\":\"\"}},\"colorscale\":{\"sequential\":[[0.0,\"#0d0887\"],[0.1111111111111111,\"#46039f\"],[0.2222222222222222,\"#7201a8\"],[0.3333333333333333,\"#9c179e\"],[0.4444444444444444,\"#bd3786\"],[0.5555555555555556,\"#d8576b\"],[0.6666666666666666,\"#ed7953\"],[0.7777777777777778,\"#fb9f3a\"],[0.8888888888888888,\"#fdca26\"],[1.0,\"#f0f921\"]],\"sequentialminus\":[[0.0,\"#0d0887\"],[0.1111111111111111,\"#46039f\"],[0.2222222222222222,\"#7201a8\"],[0.3333333333333333,\"#9c179e\"],[0.4444444444444444,\"#bd3786\"],[0.5555555555555556,\"#d8576b\"],[0.6666666666666666,\"#ed7953\"],[0.7777777777777778,\"#fb9f3a\"],[0.8888888888888888,\"#fdca26\"],[1.0,\"#f0f921\"]],\"diverging\":[[0,\"#8e0152\"],[0.1,\"#c51b7d\"],[0.2,\"#de77ae\"],[0.3,\"#f1b6da\"],[0.4,\"#fde0ef\"],[0.5,\"#f7f7f7\"],[0.6,\"#e6f5d0\"],[0.7,\"#b8e186\"],[0.8,\"#7fbc41\"],[0.9,\"#4d9221\"],[1,\"#276419\"]]},\"xaxis\":{\"gridcolor\":\"white\",\"linecolor\":\"white\",\"ticks\":\"\",\"title\":{\"standoff\":15},\"zerolinecolor\":\"white\",\"automargin\":true,\"zerolinewidth\":2},\"yaxis\":{\"gridcolor\":\"white\",\"linecolor\":\"white\",\"ticks\":\"\",\"title\":{\"standoff\":15},\"zerolinecolor\":\"white\",\"automargin\":true,\"zerolinewidth\":2},\"scene\":{\"xaxis\":{\"backgroundcolor\":\"#E5ECF6\",\"gridcolor\":\"white\",\"linecolor\":\"white\",\"showbackground\":true,\"ticks\":\"\",\"zerolinecolor\":\"white\",\"gridwidth\":2},\"yaxis\":{\"backgroundcolor\":\"#E5ECF6\",\"gridcolor\":\"white\",\"linecolor\":\"white\",\"showbackground\":true,\"ticks\":\"\",\"zerolinecolor\":\"white\",\"gridwidth\":2},\"zaxis\":{\"backgroundcolor\":\"#E5ECF6\",\"gridcolor\":\"white\",\"linecolor\":\"white\",\"showbackground\":true,\"ticks\":\"\",\"zerolinecolor\":\"white\",\"gridwidth\":2}},\"shapedefaults\":{\"line\":{\"color\":\"#2a3f5f\"}},\"annotationdefaults\":{\"arrowcolor\":\"#2a3f5f\",\"arrowhead\":0,\"arrowwidth\":1},\"geo\":{\"bgcolor\":\"white\",\"landcolor\":\"#E5ECF6\",\"subunitcolor\":\"white\",\"showland\":true,\"showlakes\":true,\"lakecolor\":\"white\"},\"title\":{\"x\":0.05},\"mapbox\":{\"style\":\"light\"}}},\"xaxis\":{\"title\":{\"text\":\"X\"},\"showline\":true,\"linewidth\":2,\"linecolor\":\"black\",\"mirror\":true},\"yaxis\":{\"title\":{\"text\":\"Y\"},\"showline\":true,\"linewidth\":2,\"linecolor\":\"black\",\"mirror\":true},\"title\":{\"text\":\"Parcels BEFORE cleaning\"},\"plot_bgcolor\":\"rgba(0,0,0,0)\",\"showlegend\":false},                        {\"responsive\": true}                    ).then(function(){\n",
       "                            \n",
       "var gd = document.getElementById('ed9cf819-f007-4c00-aba2-c3dcd08c1c7b');\n",
       "var x = new MutationObserver(function (mutations, observer) {{\n",
       "        var display = window.getComputedStyle(gd).display;\n",
       "        if (!display || display === 'none') {{\n",
       "            console.log([gd, 'removed!']);\n",
       "            Plotly.purge(gd);\n",
       "            observer.disconnect();\n",
       "        }}\n",
       "}});\n",
       "\n",
       "// Listen for the removal of the full notebook cells\n",
       "var notebookContainer = gd.closest('#notebook-container');\n",
       "if (notebookContainer) {{\n",
       "    x.observe(notebookContainer, {childList: true});\n",
       "}}\n",
       "\n",
       "// Listen for the clearing of the current output cell\n",
       "var outputEl = gd.closest('.output');\n",
       "if (outputEl) {{\n",
       "    x.observe(outputEl, {childList: true});\n",
       "}}\n",
       "\n",
       "                        })                };                });            </script>        </div>"
      ]
     },
     "metadata": {},
     "output_type": "display_data"
    }
   ],
   "source": [
    "# print(Example)\n",
    "plotBefore(Example)"
   ]
  },
  {
   "cell_type": "code",
   "execution_count": 22,
   "id": "081d00b4",
   "metadata": {},
   "outputs": [
    {
     "data": {
      "application/vnd.plotly.v1+json": {
       "config": {
        "plotlyServerURL": "https://plot.ly"
       },
       "data": [
        {
         "fill": "toself",
         "line": {
          "color": "red"
         },
         "marker": {
          "color": "yellow",
          "line": {
           "color": "black",
           "width": 2
          },
          "size": 5
         },
         "mode": "lines+markers",
         "type": "scatter",
         "x": [
          170046.65637,
          170066.587734,
          170070.83203,
          170050.449669,
          170046.65637
         ],
         "y": [
          538690.045987,
          538688.175476,
          538723.180446,
          538724.830588,
          538690.045987
         ]
        },
        {
         "fill": "toself",
         "line": {
          "color": "red"
         },
         "marker": {
          "color": "yellow",
          "line": {
           "color": "black",
           "width": 2
          },
          "size": 5
         },
         "mode": "lines+markers",
         "type": "scatter",
         "x": [
          171224.668458,
          171224.279405,
          171199.580555,
          171199.819632,
          171224.668458
         ],
         "y": [
          538406.148439,
          538420.893308,
          538420.654904,
          538405.906842,
          538406.148439
         ]
        },
        {
         "fill": "toself",
         "line": {
          "color": "red"
         },
         "marker": {
          "color": "yellow",
          "line": {
           "color": "black",
           "width": 2
          },
          "size": 5
         },
         "mode": "lines+markers",
         "type": "scatter",
         "x": [
          171199.819632,
          171200.062807,
          171225.061608,
          171224.668458,
          171199.819632
         ],
         "y": [
          538405.906842,
          538391.258861,
          538391.503716,
          538406.148439,
          538405.906842
         ]
        },
        {
         "fill": "toself",
         "line": {
          "color": "red"
         },
         "marker": {
          "color": "yellow",
          "line": {
           "color": "black",
           "width": 2
          },
          "size": 5
         },
         "mode": "lines+markers",
         "type": "scatter",
         "x": [
          170183.167126,
          170204.063814,
          170201.735737,
          170198.350324,
          170186.160369,
          170182.407537,
          170176.149767,
          170180.791655,
          170181.896448,
          170183.167126,
          170204.063814,
          170183.167126
         ],
         "y": [
          538714.070966,
          538712.399288,
          538683.793868,
          538649.912583,
          538651.228644,
          538652.132109,
          538656.625052,
          538691.387763,
          538700.70102,
          538714.070966,
          538712.399288,
          538714.070966
         ]
        },
        {
         "fill": "toself",
         "line": {
          "color": "red"
         },
         "marker": {
          "color": "yellow",
          "line": {
           "color": "black",
           "width": 2
          },
          "size": 5
         },
         "mode": "lines+markers",
         "type": "scatter",
         "x": [
          170293.56042,
          170309.159291,
          170309.201129,
          170293.709443,
          170293.56042
         ],
         "y": [
          538643.770641,
          538643.582948,
          538655.679345,
          538655.171734,
          538643.770641
         ]
        },
        {
         "fill": "toself",
         "line": {
          "color": "red"
         },
         "marker": {
          "color": "yellow",
          "line": {
           "color": "black",
           "width": 2
          },
          "size": 5
         },
         "mode": "lines+markers",
         "type": "scatter",
         "x": [
          170071.340676,
          170070.830888,
          170051.394551,
          170051.904152,
          170071.340676
         ],
         "y": [
          538742.428337,
          538733.167357,
          538734.741778,
          538743.999367,
          538742.428337
         ]
        },
        {
         "fill": "toself",
         "line": {
          "color": "red"
         },
         "marker": {
          "color": "yellow",
          "line": {
           "color": "black",
           "width": 2
          },
          "size": 5
         },
         "mode": "lines+markers",
         "type": "scatter",
         "x": [
          170071.340676,
          170071.850464,
          170052.414127,
          170051.904152,
          170071.340676
         ],
         "y": [
          538742.428337,
          538751.689316,
          538753.263737,
          538743.999367,
          538742.428337
         ]
        },
        {
         "fill": "toself",
         "line": {
          "color": "red"
         },
         "marker": {
          "color": "yellow",
          "line": {
           "color": "black",
           "width": 2
          },
          "size": 5
         },
         "mode": "lines+markers",
         "type": "scatter",
         "x": [
          170051.65908,
          170037.646025,
          170031.06338,
          170031.142129,
          170050.813292,
          170051.65908
         ],
         "y": [
          538743.264492,
          538744.282718,
          538744.76103,
          538732.911292,
          538731.845774,
          538743.264492
         ]
        },
        {
         "fill": "toself",
         "line": {
          "color": "red"
         },
         "marker": {
          "color": "yellow",
          "line": {
           "color": "black",
           "width": 2
          },
          "size": 5
         },
         "mode": "lines+markers",
         "type": "scatter",
         "x": [
          170204.82632,
          170183.352758,
          170183.263711,
          170183.167126,
          170204.063814,
          170204.82632
         ],
         "y": [
          538721.768311,
          538723.526397,
          538715.066363,
          538714.070966,
          538712.399288,
          538721.768311
         ]
        },
        {
         "fill": "toself",
         "line": {
          "color": "red"
         },
         "marker": {
          "color": "yellow",
          "line": {
           "color": "black",
           "width": 2
          },
          "size": 5
         },
         "mode": "lines+markers",
         "type": "scatter",
         "x": [
          171674.197054,
          171614.8389,
          171611.760407,
          171674.197054
         ],
         "y": [
          537153.768269,
          537130.830938,
          537116.433421,
          537153.768269
         ]
        },
        {
         "fill": "toself",
         "line": {
          "color": "red"
         },
         "marker": {
          "color": "yellow",
          "line": {
           "color": "black",
           "width": 2
          },
          "size": 5
         },
         "mode": "lines+markers",
         "type": "scatter",
         "x": [
          171830.686928,
          171837.132896,
          171832.568319,
          171826.276299,
          171830.686928
         ],
         "y": [
          538170.09286,
          538169.205228,
          538145.835692,
          538146.93286,
          538170.09286
         ]
        },
        {
         "fill": "toself",
         "line": {
          "color": "red"
         },
         "marker": {
          "color": "yellow",
          "line": {
           "color": "black",
           "width": 2
          },
          "size": 5
         },
         "mode": "lines+markers",
         "type": "scatter",
         "x": [
          171786.640429,
          171790.45216,
          171797.650737,
          171793.606866,
          171786.640429
         ],
         "y": [
          538154.03342,
          538174.619051,
          538173.897817,
          538152.769545,
          538154.03342
         ]
        },
        {
         "fill": "toself",
         "line": {
          "color": "red"
         },
         "marker": {
          "color": "yellow",
          "line": {
           "color": "black",
           "width": 2
          },
          "size": 5
         },
         "mode": "lines+markers",
         "type": "scatter",
         "x": [
          171732.023551,
          171740.174723,
          171744.676697,
          171736.448468,
          171732.023551
         ],
         "y": [
          538163.8527,
          538162.307249,
          538180.663236,
          538181.752386,
          538163.8527
         ]
        },
        {
         "fill": "toself",
         "line": {
          "color": "red"
         },
         "marker": {
          "color": "yellow",
          "line": {
           "color": "black",
           "width": 2
          },
          "size": 5
         },
         "mode": "lines+markers",
         "type": "scatter",
         "x": [
          171723.705471,
          171732.023551,
          171736.448468,
          171728.319374,
          171723.705471
         ],
         "y": [
          538165.429796,
          538163.8527,
          538181.752386,
          538182.828414,
          538165.429796
         ]
        },
        {
         "fill": "toself",
         "line": {
          "color": "red"
         },
         "marker": {
          "color": "yellow",
          "line": {
           "color": "black",
           "width": 2
          },
          "size": 5
         },
         "mode": "lines+markers",
         "type": "scatter",
         "x": [
          171736.448468,
          171728.319374,
          171723.705471,
          171732.023551,
          171736.448468
         ],
         "y": [
          538181.752386,
          538182.828414,
          538165.429796,
          538163.8527,
          538181.752386
         ]
        },
        {
         "fill": "toself",
         "line": {
          "color": "red"
         },
         "marker": {
          "color": "yellow",
          "line": {
           "color": "black",
           "width": 2
          },
          "size": 5
         },
         "mode": "lines+markers",
         "type": "scatter",
         "x": [
          171824.183343,
          171830.686928,
          171826.276299,
          171819.904853,
          171824.183343
         ],
         "y": [
          538170.914203,
          538170.09286,
          538146.93286,
          538148.059063,
          538170.914203
         ]
        },
        {
         "fill": "toself",
         "line": {
          "color": "red"
         },
         "marker": {
          "color": "yellow",
          "line": {
           "color": "black",
           "width": 2
          },
          "size": 5
         },
         "mode": "lines+markers",
         "type": "scatter",
         "x": [
          171824.183343,
          171817.94125,
          171813.72273,
          171819.904853,
          171824.183343
         ],
         "y": [
          538170.914203,
          538171.48782,
          538149.09526,
          538148.059063,
          538170.914203
         ]
        },
        {
         "fill": "toself",
         "line": {
          "color": "red"
         },
         "marker": {
          "color": "yellow",
          "line": {
           "color": "black",
           "width": 2
          },
          "size": 5
         },
         "mode": "lines+markers",
         "type": "scatter",
         "x": [
          171764.454842,
          171768.071718,
          171775.916555,
          171772.111607,
          171764.454842
         ],
         "y": [
          538158.098762,
          538177.147408,
          538176.42386,
          538156.697358,
          538158.098762
         ]
        },
        {
         "fill": "toself",
         "line": {
          "color": "red"
         },
         "marker": {
          "color": "yellow",
          "line": {
           "color": "black",
           "width": 2
          },
          "size": 5
         },
         "mode": "lines+markers",
         "type": "scatter",
         "x": [
          171636.066317,
          171625.981317,
          171629.832304,
          171639.919797,
          171636.066317
         ],
         "y": [
          537793.226904,
          537795.766904,
          537809.683926,
          537807.153612,
          537793.226904
         ]
        },
        {
         "fill": "toself",
         "line": {
          "color": "red"
         },
         "marker": {
          "color": "yellow",
          "line": {
           "color": "black",
           "width": 2
          },
          "size": 5
         },
         "mode": "lines+markers",
         "type": "scatter",
         "x": [
          171625.981317,
          171629.832304,
          171639.919797,
          171636.066317,
          171625.981317
         ],
         "y": [
          537795.766904,
          537809.683926,
          537807.153612,
          537793.226904,
          537795.766904
         ]
        },
        {
         "fill": "toself",
         "line": {
          "color": "red"
         },
         "marker": {
          "color": "yellow",
          "line": {
           "color": "black",
           "width": 2
          },
          "size": 5
         },
         "mode": "lines+markers",
         "type": "scatter",
         "x": [
          171657.480268,
          171670.65764,
          171667.748898,
          171654.913723,
          171657.480268
         ],
         "y": [
          537786.473158,
          537783.109104,
          537771.983044,
          537775.468484,
          537786.473158
         ]
        },
        {
         "fill": "toself",
         "line": {
          "color": "red"
         },
         "marker": {
          "color": "yellow",
          "line": {
           "color": "black",
           "width": 2
          },
          "size": 5
         },
         "mode": "lines+markers",
         "type": "scatter",
         "x": [
          171667.748898,
          171654.913724,
          171657.480269,
          171670.657641,
          171667.748898
         ],
         "y": [
          537771.983044,
          537775.468484,
          537786.473158,
          537783.109104,
          537771.983044
         ]
        },
        {
         "fill": "toself",
         "line": {
          "color": "red"
         },
         "marker": {
          "color": "yellow",
          "line": {
           "color": "black",
           "width": 2
          },
          "size": 5
         },
         "mode": "lines+markers",
         "type": "scatter",
         "x": [
          171636.066317,
          171639.952482,
          171650.025949,
          171646.447588,
          171636.066317
         ],
         "y": [
          537793.226904,
          537807.001029,
          537804.249838,
          537790.605941,
          537793.226904
         ]
        },
        {
         "fill": "toself",
         "line": {
          "color": "red"
         },
         "marker": {
          "color": "yellow",
          "line": {
           "color": "black",
           "width": 2
          },
          "size": 5
         },
         "mode": "lines+markers",
         "type": "scatter",
         "x": [
          171636.349006,
          171646.076108,
          171649.668198,
          171639.63105,
          171636.349006
         ],
         "y": [
          537812.552448,
          537809.948629,
          537825.296708,
          537827.444973,
          537812.552448
         ]
        },
        {
         "fill": "toself",
         "line": {
          "color": "red"
         },
         "marker": {
          "color": "yellow",
          "line": {
           "color": "black",
           "width": 2
          },
          "size": 5
         },
         "mode": "lines+markers",
         "type": "scatter",
         "x": [
          171616.006913,
          171629.832304,
          171625.981317,
          171619.732744,
          171616.006913
         ],
         "y": [
          537813.133185,
          537809.683926,
          537795.766904,
          537797.557249,
          537813.133185
         ]
        },
        {
         "fill": "toself",
         "line": {
          "color": "red"
         },
         "marker": {
          "color": "yellow",
          "line": {
           "color": "black",
           "width": 2
          },
          "size": 5
         },
         "mode": "lines+markers",
         "type": "scatter",
         "x": [
          171683.559942,
          171695.596199,
          171692.611088,
          171680.473374,
          171683.559942
         ],
         "y": [
          537780.045133,
          537777.063772,
          537764.925439,
          537768.30714,
          537780.045133
         ]
        },
        {
         "fill": "toself",
         "line": {
          "color": "red"
         },
         "marker": {
          "color": "yellow",
          "line": {
           "color": "black",
           "width": 2
          },
          "size": 5
         },
         "mode": "lines+markers",
         "type": "scatter",
         "x": [
          171260.846088,
          171273.311554,
          171273.750194,
          171261.180233,
          171260.846088
         ],
         "y": [
          538421.601947,
          538421.853917,
          538402.214876,
          538401.844481,
          538421.601947
         ]
        },
        {
         "fill": "toself",
         "line": {
          "color": "red"
         },
         "marker": {
          "color": "yellow",
          "line": {
           "color": "black",
           "width": 2
          },
          "size": 5
         },
         "mode": "lines+markers",
         "type": "scatter",
         "x": [
          171681.056566,
          171677.359323,
          171688.768606,
          171692.166537,
          171681.056566
         ],
         "y": [
          537796.178681,
          537782.689479,
          537779.699301,
          537793.159055,
          537796.178681
         ]
        },
        {
         "fill": "toself",
         "line": {
          "color": "red"
         },
         "marker": {
          "color": "yellow",
          "line": {
           "color": "black",
           "width": 2
          },
          "size": 5
         },
         "mode": "lines+markers",
         "type": "scatter",
         "x": [
          171806.185848,
          171818.920386,
          171813.8962,
          171806.185848
         ],
         "y": [
          537602.634019,
          537600.281565,
          537577.529696,
          537602.634019
         ]
        },
        {
         "fill": "toself",
         "line": {
          "color": "red"
         },
         "marker": {
          "color": "yellow",
          "line": {
           "color": "black",
           "width": 2
          },
          "size": 5
         },
         "mode": "lines+markers",
         "type": "scatter",
         "x": [
          171794.97658,
          171800.236507,
          171806.185848,
          171794.97658
         ],
         "y": [
          537581.342571,
          537603.733041,
          537602.634019,
          537581.342571
         ]
        },
        {
         "fill": "toself",
         "line": {
          "color": "red"
         },
         "marker": {
          "color": "yellow",
          "line": {
           "color": "black",
           "width": 2
          },
          "size": 5
         },
         "mode": "lines+markers",
         "type": "scatter",
         "x": [
          171744.676697,
          171752.68545,
          171748.132947,
          171740.174723,
          171744.676697
         ],
         "y": [
          538180.663236,
          538179.450853,
          538160.798382,
          538162.307249,
          538180.663236
         ]
        },
        {
         "fill": "toself",
         "line": {
          "color": "red"
         },
         "marker": {
          "color": "yellow",
          "line": {
           "color": "black",
           "width": 2
          },
          "size": 5
         },
         "mode": "lines+markers",
         "type": "scatter",
         "x": [
          171775.916555,
          171783.241709,
          171779.500058,
          171772.111607,
          171775.916555
         ],
         "y": [
          538176.42386,
          538175.498328,
          538155.35327,
          538156.697358,
          538176.42386
         ]
        },
        {
         "fill": "toself",
         "line": {
          "color": "red"
         },
         "marker": {
          "color": "yellow",
          "line": {
           "color": "black",
           "width": 2
          },
          "size": 5
         },
         "mode": "lines+markers",
         "type": "scatter",
         "x": [
          171670.207342,
          171681.056566,
          171677.359323,
          171666.506902,
          171670.207342
         ],
         "y": [
          537799.1766,
          537796.178681,
          537782.689479,
          537785.531206,
          537799.1766
         ]
        },
        {
         "fill": "toself",
         "line": {
          "color": "red"
         },
         "marker": {
          "color": "yellow",
          "line": {
           "color": "black",
           "width": 2
          },
          "size": 5
         },
         "mode": "lines+markers",
         "type": "scatter",
         "x": [
          171659.721309,
          171669.141479,
          171665.204004,
          171655.751592,
          171659.721309
         ],
         "y": [
          537823.44692,
          537820.938975,
          537804.843729,
          537807.575415,
          537823.44692
         ]
        },
        {
         "fill": "toself",
         "line": {
          "color": "red"
         },
         "marker": {
          "color": "yellow",
          "line": {
           "color": "black",
           "width": 2
          },
          "size": 5
         },
         "mode": "lines+markers",
         "type": "scatter",
         "x": [
          171806.345494,
          171798.858937,
          171780.588797,
          171787.456039,
          171806.345494
         ],
         "y": [
          537544.832855,
          537514.492882,
          537518.924806,
          537549.410926,
          537544.832855
         ]
        },
        {
         "fill": "toself",
         "line": {
          "color": "red"
         },
         "marker": {
          "color": "yellow",
          "line": {
           "color": "black",
           "width": 2
          },
          "size": 5
         },
         "mode": "lines+markers",
         "type": "scatter",
         "x": [
          171806.345494,
          171809.447923,
          171790.301825,
          171787.456039,
          171806.345494
         ],
         "y": [
          537544.832855,
          537557.40574,
          537562.044373,
          537549.410926,
          537544.832855
         ]
        },
        {
         "fill": "toself",
         "line": {
          "color": "red"
         },
         "marker": {
          "color": "yellow",
          "line": {
           "color": "black",
           "width": 2
          },
          "size": 5
         },
         "mode": "lines+markers",
         "type": "scatter",
         "x": [
          171780.588797,
          171777.947348,
          171795.975244,
          171798.858937,
          171780.588797
         ],
         "y": [
          537518.924806,
          537503.053107,
          537499.371398,
          537514.492882,
          537518.924806
         ]
        },
        {
         "fill": "toself",
         "line": {
          "color": "red"
         },
         "marker": {
          "color": "yellow",
          "line": {
           "color": "black",
           "width": 2
          },
          "size": 5
         },
         "mode": "lines+markers",
         "type": "scatter",
         "x": [
          171281.849513,
          171273.750194,
          171273.303622,
          171281.40293,
          171281.849513
         ],
         "y": [
          538402.31991,
          538402.214876,
          538422.209028,
          538422.314924,
          538402.31991
         ]
        },
        {
         "fill": "toself",
         "line": {
          "color": "red"
         },
         "marker": {
          "color": "yellow",
          "line": {
           "color": "black",
           "width": 2
          },
          "size": 5
         },
         "mode": "lines+markers",
         "type": "scatter",
         "x": [
          171281.40293,
          171289.602229,
          171289.84884,
          171281.849513,
          171281.40293
         ],
         "y": [
          538422.314924,
          538422.422127,
          538402.423648,
          538402.31991,
          538422.314924
         ]
        },
        {
         "fill": "toself",
         "line": {
          "color": "red"
         },
         "marker": {
          "color": "yellow",
          "line": {
           "color": "black",
           "width": 2
          },
          "size": 5
         },
         "mode": "lines+markers",
         "type": "scatter",
         "x": [
          171928.494912,
          171934.022173,
          171939.82157,
          171932.441159,
          171928.494912
         ],
         "y": [
          537525.06253,
          537526.820193,
          537569.124531,
          537573.105846,
          537525.06253
         ]
        },
        {
         "fill": "toself",
         "line": {
          "color": "red"
         },
         "marker": {
          "color": "yellow",
          "line": {
           "color": "black",
           "width": 2
          },
          "size": 5
         },
         "mode": "lines+markers",
         "type": "scatter",
         "x": [
          171928.494912,
          171920.299317,
          171925.145071,
          171932.441159,
          171928.494912
         ],
         "y": [
          537525.06253,
          537522.456339,
          537577.041673,
          537573.105846,
          537525.06253
         ]
        },
        {
         "fill": "toself",
         "line": {
          "color": "red"
         },
         "marker": {
          "color": "yellow",
          "line": {
           "color": "black",
           "width": 2
          },
          "size": 5
         },
         "mode": "lines+markers",
         "type": "scatter",
         "x": [
          171889.033118,
          171890.592385,
          171879.383752,
          171877.595783,
          171889.033118
         ],
         "y": [
          537649.043173,
          537661.991465,
          537662.58958,
          537649.45336,
          537649.043173
         ]
        },
        {
         "fill": "toself",
         "line": {
          "color": "red"
         },
         "marker": {
          "color": "yellow",
          "line": {
           "color": "black",
           "width": 2
          },
          "size": 5
         },
         "mode": "lines+markers",
         "type": "scatter",
         "x": [
          171874.757358,
          171877.595783,
          171889.033118,
          171886.255755,
          171874.757358
         ],
         "y": [
          537628.672224,
          537649.45336,
          537649.043173,
          537626.609979,
          537628.672224
         ]
        },
        {
         "fill": "toself",
         "line": {
          "color": "red"
         },
         "marker": {
          "color": "yellow",
          "line": {
           "color": "black",
           "width": 2
          },
          "size": 5
         },
         "mode": "lines+markers",
         "type": "scatter",
         "x": [
          171908.013523,
          171930.948304,
          171929.905626,
          171908.924118,
          171908.013523
         ],
         "y": [
          537632.408083,
          537631.748314,
          537619.14307,
          537621.698132,
          537632.408083
         ]
        },
        {
         "fill": "toself",
         "line": {
          "color": "red"
         },
         "marker": {
          "color": "yellow",
          "line": {
           "color": "black",
           "width": 2
          },
          "size": 5
         },
         "mode": "lines+markers",
         "type": "scatter",
         "x": [
          171858.655807,
          171884.805419,
          171891.563412,
          171867.999292,
          171858.655807
         ],
         "y": [
          537498.715165,
          537508.01217,
          537586.686941,
          537589.814164,
          537498.715165
         ]
        },
        {
         "fill": "toself",
         "line": {
          "color": "red"
         },
         "marker": {
          "color": "yellow",
          "line": {
           "color": "black",
           "width": 2
          },
          "size": 5
         },
         "mode": "lines+markers",
         "type": "scatter",
         "x": [
          171442.23095,
          171442.927286,
          171452.088643,
          171451.805161,
          171442.23095
         ],
         "y": [
          538424.589582,
          538405.526685,
          538405.885859,
          538424.702756,
          538424.589582
         ]
        },
        {
         "fill": "toself",
         "line": {
          "color": "red"
         },
         "marker": {
          "color": "yellow",
          "line": {
           "color": "black",
           "width": 2
          },
          "size": 5
         },
         "mode": "lines+markers",
         "type": "scatter",
         "x": [
          171817.94125,
          171811.53179,
          171807.242091,
          171813.72273,
          171817.94125
         ],
         "y": [
          538171.48782,
          538172.076817,
          538150.181491,
          538149.09526,
          538171.48782
         ]
        },
        {
         "fill": "toself",
         "line": {
          "color": "red"
         },
         "marker": {
          "color": "yellow",
          "line": {
           "color": "black",
           "width": 2
          },
          "size": 5
         },
         "mode": "lines+markers",
         "type": "scatter",
         "x": [
          171641.875793,
          171644.269872,
          171619.911011,
          171622.824449,
          171641.875793
         ],
         "y": [
          537779.200062,
          537789.693934,
          537796.310895,
          537784.775949,
          537779.200062
         ]
        },
        {
         "fill": "toself",
         "line": {
          "color": "red"
         },
         "marker": {
          "color": "yellow",
          "line": {
           "color": "black",
           "width": 2
          },
          "size": 5
         },
         "mode": "lines+markers",
         "type": "scatter",
         "x": [
          171797.650737,
          171804.691558,
          171800.416504,
          171793.606866,
          171797.650737
         ],
         "y": [
          538173.897817,
          538172.983035,
          538151.508747,
          538152.769545,
          538173.897817
         ]
        },
        {
         "fill": "toself",
         "line": {
          "color": "red"
         },
         "marker": {
          "color": "yellow",
          "line": {
           "color": "black",
           "width": 2
          },
          "size": 5
         },
         "mode": "lines+markers",
         "type": "scatter",
         "x": [
          169999.689091,
          169999.296533,
          169924.074664,
          169918.666673,
          169999.689091
         ],
         "y": [
          538743.541972,
          538708.747772,
          538711.856201,
          538738.692623,
          538743.541972
         ]
        },
        {
         "fill": "toself",
         "line": {
          "color": "red"
         },
         "marker": {
          "color": "yellow",
          "line": {
           "color": "black",
           "width": 2
          },
          "size": 5
         },
         "mode": "lines+markers",
         "type": "scatter",
         "x": [
          171906.912233,
          171890.135007,
          171888.172671,
          171908.924118,
          171908.013523,
          171906.912233
         ],
         "y": [
          537640.510019,
          537640.250384,
          537624.307142,
          537621.698132,
          537632.408083,
          537640.510019
         ]
        },
        {
         "fill": "toself",
         "line": {
          "color": "red"
         },
         "marker": {
          "color": "yellow",
          "line": {
           "color": "black",
           "width": 2
          },
          "size": 5
         },
         "mode": "lines+markers",
         "type": "scatter",
         "x": [
          172709.445324,
          172692.859657,
          172693.146343,
          172712.38014,
          172711.005767,
          172710.392754,
          172709.445324
         ],
         "y": [
          538110.189487,
          538107.344396,
          538096.020449,
          538099.193473,
          538104.538918,
          538106.746933,
          538110.189487
         ]
        },
        {
         "fill": "toself",
         "line": {
          "color": "red"
         },
         "marker": {
          "color": "yellow",
          "line": {
           "color": "black",
           "width": 2
          },
          "size": 5
         },
         "mode": "lines+markers",
         "type": "scatter",
         "x": [
          173265.529818,
          173265.18358,
          173265.173523,
          173265.529818
         ],
         "y": [
          537953.784875,
          537944.819423,
          537944.820535,
          537953.784875
         ]
        },
        {
         "fill": "toself",
         "line": {
          "color": "red"
         },
         "marker": {
          "color": "yellow",
          "line": {
           "color": "black",
           "width": 2
          },
          "size": 5
         },
         "mode": "lines+markers",
         "type": "scatter",
         "x": [
          173245.205148,
          173246.359771,
          173256.656866,
          173245.205148
         ],
         "y": [
          537992.384335,
          538011.956009,
          538010.263557,
          537992.384335
         ]
        },
        {
         "fill": "toself",
         "line": {
          "color": "red"
         },
         "marker": {
          "color": "yellow",
          "line": {
           "color": "black",
           "width": 2
          },
          "size": 5
         },
         "mode": "lines+markers",
         "type": "scatter",
         "x": [
          173266.356456,
          173267.429264,
          173256.656866,
          173266.356456
         ],
         "y": [
          537990.257504,
          538008.466245,
          538010.263557,
          537990.257504
         ]
        },
        {
         "fill": "toself",
         "line": {
          "color": "red"
         },
         "marker": {
          "color": "yellow",
          "line": {
           "color": "black",
           "width": 2
          },
          "size": 5
         },
         "mode": "lines+markers",
         "type": "scatter",
         "x": [
          169919.092324,
          169918.666673,
          169999.689091,
          169999.296533,
          169924.074664,
          169919.092324
         ],
         "y": [
          538736.580388,
          538738.692623,
          538743.541972,
          538708.747772,
          538711.856201,
          538736.580388
         ]
        },
        {
         "fill": "toself",
         "line": {
          "color": "red"
         },
         "marker": {
          "color": "yellow",
          "line": {
           "color": "black",
           "width": 2
          },
          "size": 5
         },
         "mode": "lines+markers",
         "type": "scatter",
         "x": [
          173240.916165,
          173240.455293,
          173263.335932,
          173263.622563,
          173240.916165
         ],
         "y": [
          537902.889085,
          537893.886394,
          537892.359909,
          537901.308438,
          537902.889085
         ]
        },
        {
         "fill": "toself",
         "line": {
          "color": "red"
         },
         "marker": {
          "color": "yellow",
          "line": {
           "color": "black",
           "width": 2
          },
          "size": 5
         },
         "mode": "lines+markers",
         "type": "scatter",
         "x": [
          173242.237698,
          173241.793223,
          173264.40005,
          173264.691911,
          173242.237698
         ],
         "y": [
          537929.192308,
          537920.471474,
          537918.572169,
          537927.281081,
          537929.192308
         ]
        },
        {
         "fill": "toself",
         "line": {
          "color": "red"
         },
         "marker": {
          "color": "yellow",
          "line": {
           "color": "black",
           "width": 2
          },
          "size": 5
         },
         "mode": "lines+markers",
         "type": "scatter",
         "x": [
          169211.420947,
          169179.723434,
          169184.434033,
          169212.441224,
          169211.420947
         ],
         "y": [
          536992.5298,
          536991.734593,
          536890.713973,
          536893.087563,
          536992.5298
         ]
        },
        {
         "fill": "toself",
         "line": {
          "color": "red"
         },
         "marker": {
          "color": "yellow",
          "line": {
           "color": "black",
           "width": 2
          },
          "size": 5
         },
         "mode": "lines+markers",
         "type": "scatter",
         "x": [
          171905.941861,
          171904.929086,
          171902.705177,
          171905.941861
         ],
         "y": [
          537679.081075,
          537685.480252,
          537699.531948,
          537679.081075
         ]
        },
        {
         "fill": "toself",
         "line": {
          "color": "red"
         },
         "marker": {
          "color": "yellow",
          "line": {
           "color": "black",
           "width": 2
          },
          "size": 5
         },
         "mode": "lines+markers",
         "type": "scatter",
         "x": [
          171923.224118,
          171923.394189,
          171923.564502,
          171923.734918,
          171923.905295,
          171924.075492,
          171924.245368,
          171924.414782,
          171924.583593,
          171924.751663,
          171924.918851,
          171925.08502,
          171925.25003,
          171925.413747,
          171925.576033,
          171925.736756,
          171925.89578,
          171926.052976,
          171926.208212,
          171926.361359,
          171926.512292,
          171926.660885,
          171926.807014,
          171926.950559,
          171927.091401,
          171927.229423,
          171927.364511,
          171927.496553,
          171927.625439,
          171927.751063,
          171927.87332,
          171927.992109,
          171928.107333,
          171928.218895,
          171928.326702,
          171928.430667,
          171928.530702,
          171928.626724,
          171928.718654,
          171928.806417,
          171928.889938,
          171928.96915,
          171929.043986,
          171929.114384,
          171929.180286,
          171929.241638,
          171929.298388,
          171929.35049,
          171929.3979,
          171929.440579,
          171938.002713,
          171939.88281,
          171923.224118
         ],
         "y": [
          537697.683265,
          537697.672306,
          537697.666271,
          537697.665165,
          537697.668988,
          537697.677739,
          537697.691409,
          537697.709987,
          537697.733458,
          537697.761802,
          537697.794996,
          537697.833012,
          537697.875819,
          537697.923382,
          537697.97566,
          537698.032611,
          537698.094188,
          537698.160339,
          537698.23101,
          537698.306141,
          537698.385672,
          537698.469535,
          537698.557662,
          537698.64998,
          537698.746411,
          537698.846877,
          537698.951293,
          537699.059573,
          537699.171628,
          537699.287365,
          537699.406688,
          537699.529498,
          537699.655693,
          537699.785169,
          537699.917818,
          537700.05353,
          537700.192194,
          537700.333694,
          537700.477913,
          537700.624731,
          537700.774027,
          537700.925677,
          537701.079556,
          537701.235536,
          537701.393487,
          537701.553279,
          537701.71478,
          537701.877856,
          537702.042371,
          537702.208189,
          537702.876408,
          537681.955037,
          537697.683265
         ]
        },
        {
         "fill": "toself",
         "line": {
          "color": "red"
         },
         "marker": {
          "color": "yellow",
          "line": {
           "color": "black",
           "width": 2
          },
          "size": 5
         },
         "mode": "lines+markers",
         "type": "scatter",
         "x": [
          171920.982381,
          171921.085138,
          171921.188864,
          171921.293521,
          171921.399069,
          171921.505469,
          171921.612682,
          171921.720667,
          171921.829383,
          171921.938791,
          171922.048848,
          171922.159515,
          171922.270748,
          171922.382507,
          171922.494751,
          171922.607436,
          171922.72052,
          171922.833962,
          171922.947719,
          171923.061748,
          171923.176007,
          171923.290452,
          171923.405041,
          171923.519731,
          171923.634479,
          171923.749243,
          171923.863978,
          171923.978642,
          171924.093193,
          171924.207587,
          171924.321782,
          171924.435734,
          171924.549401,
          171924.662741,
          171924.775711,
          171924.888268,
          171925.000372,
          171925.111978,
          171925.223047,
          171925.333536,
          171925.443404,
          171925.55261,
          171925.661112,
          171925.768871,
          171925.875845,
          171925.981996,
          171926.087282,
          171926.191665,
          171926.295106,
          171926.397566,
          171937.776352,
          171936.659275,
          171920.982381
         ],
         "y": [
          537708.881543,
          537708.932905,
          537708.98226,
          537709.029588,
          537709.074873,
          537709.118096,
          537709.159242,
          537709.198295,
          537709.235241,
          537709.270066,
          537709.302757,
          537709.333301,
          537709.361688,
          537709.387906,
          537709.411946,
          537709.433798,
          537709.453455,
          537709.47091,
          537709.486155,
          537709.499184,
          537709.509994,
          537709.51858,
          537709.524939,
          537709.529069,
          537709.530967,
          537709.530633,
          537709.528068,
          537709.523271,
          537709.516246,
          537709.506995,
          537709.49552,
          537709.481828,
          537709.465921,
          537709.447808,
          537709.427493,
          537709.404985,
          537709.380293,
          537709.353426,
          537709.324393,
          537709.293205,
          537709.259875,
          537709.224414,
          537709.186837,
          537709.147156,
          537709.105387,
          537709.061546,
          537709.015649,
          537708.967712,
          537708.917755,
          537708.865796,
          537709.844552,
          537726.177412,
          537708.881543
         ]
        },
        {
         "fill": "toself",
         "line": {
          "color": "red"
         },
         "marker": {
          "color": "yellow",
          "line": {
           "color": "black",
           "width": 2
          },
          "size": 5
         },
         "mode": "lines+markers",
         "type": "scatter",
         "x": [
          171920.982381,
          171918.028673,
          171918.4023,
          171920.982381
         ],
         "y": [
          537708.881543,
          537705.41303,
          537700.880829,
          537708.881543
         ]
        },
        {
         "fill": "toself",
         "line": {
          "color": "red"
         },
         "marker": {
          "color": "yellow",
          "line": {
           "color": "black",
           "width": 2
          },
          "size": 5
         },
         "mode": "lines+markers",
         "type": "scatter",
         "x": [
          171936.659275,
          171937.587359,
          171917.817113,
          171936.659275
         ],
         "y": [
          537726.177412,
          537749.381203,
          537751.958225,
          537726.177412
         ]
        },
        {
         "fill": "toself",
         "line": {
          "color": "red"
         },
         "marker": {
          "color": "yellow",
          "line": {
           "color": "black",
           "width": 2
          },
          "size": 5
         },
         "mode": "lines+markers",
         "type": "scatter",
         "x": [
          171868.653559,
          171849.852518,
          171853.992404,
          171858.081179,
          171872.761379,
          171868.653559
         ],
         "y": [
          537731.608403,
          537735.278789,
          537761.774898,
          537760.003785,
          537757.059848,
          537731.608403
         ]
        },
        {
         "fill": "toself",
         "line": {
          "color": "red"
         },
         "marker": {
          "color": "yellow",
          "line": {
           "color": "black",
           "width": 2
          },
          "size": 5
         },
         "mode": "lines+markers",
         "type": "scatter",
         "x": [
          171878.496448,
          171879.060809,
          171879.501976,
          171840.064294,
          171836.53547,
          171834.145878,
          171848.712052,
          171848.52942,
          171848.389456,
          171848.292845,
          171848.240062,
          171848.231366,
          171848.266799,
          171848.346188,
          171848.469142,
          171848.63506,
          171848.843126,
          171849.092322,
          171849.381423,
          171849.709012,
          171850.073483,
          171850.473047,
          171850.905744,
          171851.369453,
          171851.861898,
          171852.380663,
          171852.923205,
          171853.486862,
          171854.06887,
          171854.666372,
          171855.276439,
          171855.896078,
          171856.522249,
          171857.151882,
          171857.781887,
          171858.409174,
          171859.030667,
          171859.643317,
          171860.244118,
          171860.830124,
          171861.39846,
          171861.946338,
          171862.471071,
          171862.970085,
          171863.440933,
          171863.881304,
          171864.289038,
          171864.662137,
          171864.998768,
          171865.297282,
          171865.556214,
          171865.774294,
          171865.950452,
          171866.083824,
          171866.173755,
          171866.219806,
          171874.573729,
          171878.496448
         ],
         "y": [
          537794.936993,
          537798.853655,
          537801.704204,
          537807.25766,
          537784.721815,
          537769.918742,
          537767.257936,
          537767.864155,
          537768.481735,
          537769.107645,
          537769.738816,
          537770.372152,
          537771.004546,
          537771.632897,
          537772.254121,
          537772.865172,
          537773.463052,
          537774.044829,
          537774.60765,
          537775.148752,
          537775.665482,
          537776.155306,
          537776.615821,
          537777.044767,
          537777.440041,
          537777.799705,
          537778.121992,
          537778.405324,
          537778.648309,
          537778.849757,
          537779.008679,
          537779.124295,
          537779.196038,
          537779.223557,
          537779.206716,
          537779.145598,
          537779.040503,
          537778.891947,
          537778.700657,
          537778.467573,
          537778.193837,
          537777.880793,
          537777.529976,
          537777.143106,
          537776.722082,
          537776.268968,
          537775.785988,
          537775.27551,
          537774.740038,
          537774.182199,
          537773.604729,
          537773.010462,
          537772.40231,
          537771.783259,
          537771.156344,
          537769.245322,
          537767.713331,
          537794.936993
         ]
        },
        {
         "fill": "toself",
         "line": {
          "color": "red"
         },
         "marker": {
          "color": "yellow",
          "line": {
           "color": "black",
           "width": 2
          },
          "size": 5
         },
         "mode": "lines+markers",
         "type": "scatter",
         "x": [
          171930.079036,
          171943.482868,
          171944.773655,
          171931.758235,
          171930.079036
         ],
         "y": [
          537759.530264,
          537758.467878,
          537789.472977,
          537790.607621,
          537759.530264
         ]
        },
        {
         "fill": "toself",
         "line": {
          "color": "red"
         },
         "marker": {
          "color": "yellow",
          "line": {
           "color": "black",
           "width": 2
          },
          "size": 5
         },
         "mode": "lines+markers",
         "type": "scatter",
         "x": [
          171928.794391,
          171928.850417,
          171950.760823,
          171950.675496,
          171932.150639,
          171932.096132,
          171932.04031,
          171931.983203,
          171931.924837,
          171931.865242,
          171931.804444,
          171931.742475,
          171931.679364,
          171931.615142,
          171931.549839,
          171931.483489,
          171931.416121,
          171931.347771,
          171931.278469,
          171931.208251,
          171931.13715,
          171931.065201,
          171930.992437,
          171930.918896,
          171930.844612,
          171930.769621,
          171930.69396,
          171930.617666,
          171930.540775,
          171930.463324,
          171930.385352,
          171930.306895,
          171930.227993,
          171930.148682,
          171930.069003,
          171929.988993,
          171929.908691,
          171929.828135,
          171929.747366,
          171929.666422,
          171929.585343,
          171929.504167,
          171929.422934,
          171929.341684,
          171929.260456,
          171929.179289,
          171929.098222,
          171929.017295,
          171928.936547,
          171928.856018,
          171928.775745,
          171928.695769,
          171928.616128,
          171928.53686,
          171928.794391
         ],
         "y": [
          537583.252704,
          537579.235196,
          537573.346767,
          537600.472558,
          537602.871236,
          537602.81068,
          537602.751344,
          537602.693258,
          537602.636449,
          537602.580945,
          537602.526774,
          537602.47396,
          537602.422531,
          537602.37251,
          537602.323923,
          537602.276792,
          537602.23114,
          537602.18699,
          537602.144364,
          537602.10328,
          537602.063761,
          537602.025824,
          537601.989488,
          537601.954771,
          537601.921689,
          537601.890259,
          537601.860496,
          537601.832414,
          537601.806027,
          537601.781348,
          537601.758388,
          537601.737159,
          537601.717671,
          537601.699933,
          537601.683955,
          537601.669743,
          537601.657305,
          537601.646647,
          537601.637773,
          537601.630689,
          537601.625397,
          537601.621901,
          537601.620202,
          537601.6203,
          537601.622196,
          537601.625888,
          537601.631376,
          537601.638656,
          537601.647724,
          537601.658577,
          537601.67121,
          537601.685615,
          537601.701786,
          537601.719715,
          537583.252704
         ]
        },
        {
         "fill": "toself",
         "line": {
          "color": "red"
         },
         "marker": {
          "color": "yellow",
          "line": {
           "color": "black",
           "width": 2
          },
          "size": 5
         },
         "mode": "lines+markers",
         "type": "scatter",
         "x": [
          171966.018107,
          171961.138842,
          171977.88962,
          171977.956797,
          171978.024491,
          171978.092685,
          171978.161362,
          171978.230503,
          171978.300091,
          171978.370109,
          171978.440536,
          171978.511357,
          171978.582552,
          171978.654104,
          171978.725992,
          171978.7982,
          171978.870709,
          171978.943499,
          171979.016552,
          171979.08985,
          171979.163372,
          171979.237101,
          171979.311017,
          171979.385102,
          171979.459336,
          171979.533699,
          171979.608173,
          171979.682739,
          171979.757378,
          171979.832069,
          171979.906794,
          171979.981534,
          171980.056269,
          171980.130981,
          171980.205648,
          171980.280254,
          171980.354778,
          171980.4292,
          171980.503503,
          171980.577666,
          171980.651671,
          171980.725499,
          171980.799129,
          171980.872545,
          171980.945725,
          171981.018653,
          171981.091308,
          171981.163672,
          171981.235727,
          171981.307454,
          171981.378834,
          171981.449849,
          171985.338134,
          171966.018107
         ],
         "y": [
          537596.994019,
          537614.626264,
          537616.000153,
          537615.967225,
          537615.935385,
          537615.904641,
          537615.875002,
          537615.846475,
          537615.819068,
          537615.792787,
          537615.76764,
          537615.743633,
          537615.720772,
          537615.699063,
          537615.678511,
          537615.659122,
          537615.640901,
          537615.623853,
          537615.607982,
          537615.593292,
          537615.579786,
          537615.567469,
          537615.556344,
          537615.546413,
          537615.537679,
          537615.530144,
          537615.52381,
          537615.518679,
          537615.514752,
          537615.51203,
          537615.510515,
          537615.510205,
          537615.511101,
          537615.513204,
          537615.516512,
          537615.521025,
          537615.526741,
          537615.533659,
          537615.541778,
          537615.551095,
          537615.561607,
          537615.573313,
          537615.586208,
          537615.60029,
          537615.615556,
          537615.632,
          537615.649619,
          537615.668409,
          537615.688364,
          537615.709479,
          537615.73175,
          537615.755169,
          537601.334114,
          537596.994019
         ]
        },
        {
         "fill": "toself",
         "line": {
          "color": "red"
         },
         "marker": {
          "color": "yellow",
          "line": {
           "color": "black",
           "width": 2
          },
          "size": 5
         },
         "mode": "lines+markers",
         "type": "scatter",
         "x": [
          171999.811346,
          171999.742335,
          172000.589151,
          172001.591752,
          172002.485971,
          172003.769113,
          171996.971396,
          171999.811346
         ],
         "y": [
          537603.907303,
          537605.933848,
          537608.135848,
          537609.280246,
          537609.582867,
          537609.685389,
          537624.84535,
          537603.907303
         ]
        },
        {
         "fill": "toself",
         "line": {
          "color": "red"
         },
         "marker": {
          "color": "yellow",
          "line": {
           "color": "black",
           "width": 2
          },
          "size": 5
         },
         "mode": "lines+markers",
         "type": "scatter",
         "x": [
          171999.811346,
          171997.911413,
          171990.826698,
          171981.08924,
          171977.257113,
          171972.656386,
          171970.500652,
          171966.018107,
          171999.811346
         ],
         "y": [
          537603.907303,
          537598.287654,
          537576.351748,
          537574.092897,
          537575.096839,
          537577.442734,
          537579.595859,
          537596.994019,
          537603.907303
         ]
        },
        {
         "fill": "toself",
         "line": {
          "color": "red"
         },
         "marker": {
          "color": "yellow",
          "line": {
           "color": "black",
           "width": 2
          },
          "size": 5
         },
         "mode": "lines+markers",
         "type": "scatter",
         "x": [
          171956.442668,
          171959.878658,
          171975.312553,
          171975.310941,
          171975.311657,
          171975.314699,
          171975.320066,
          171975.327756,
          171975.337764,
          171975.350085,
          171975.364714,
          171975.381643,
          171975.400863,
          171975.422364,
          171975.446137,
          171975.472169,
          171975.500447,
          171975.530956,
          171975.563682,
          171975.598608,
          171975.635717,
          171975.674989,
          171975.716406,
          171975.759946,
          171975.805588,
          171975.853309,
          171975.903084,
          171975.954888,
          171976.008697,
          171976.064482,
          171976.122216,
          171976.18187,
          171976.243414,
          171976.306816,
          171976.372046,
          171976.43907,
          171976.507855,
          171976.578366,
          171976.650568,
          171976.724424,
          171976.799898,
          171976.876952,
          171976.955546,
          171977.035643,
          171977.1172,
          171977.200178,
          171977.284535,
          171977.370228,
          171977.457215,
          171977.545452,
          171977.634894,
          171977.725496,
          171956.442668
         ],
         "y": [
          537640.328465,
          537619.016365,
          537620.031727,
          537620.136108,
          537620.240499,
          537620.344848,
          537620.449102,
          537620.55321,
          537620.657118,
          537620.760774,
          537620.864127,
          537620.967125,
          537621.069716,
          537621.171848,
          537621.273471,
          537621.374533,
          537621.474984,
          537621.574772,
          537621.673849,
          537621.772164,
          537621.869668,
          537621.966313,
          537622.062048,
          537622.156828,
          537622.250603,
          537622.343327,
          537622.434954,
          537622.525437,
          537622.614731,
          537622.702791,
          537622.789573,
          537622.875034,
          537622.95913,
          537623.041819,
          537623.12306,
          537623.202813,
          537623.281036,
          537623.357691,
          537623.43274,
          537623.506144,
          537623.577867,
          537623.647873,
          537623.716126,
          537623.782593,
          537623.84724,
          537623.910035,
          537623.970946,
          537624.029942,
          537624.086994,
          537624.142074,
          537624.195153,
          537624.246206,
          537640.328465
         ]
        },
        {
         "fill": "toself",
         "line": {
          "color": "red"
         },
         "marker": {
          "color": "yellow",
          "line": {
           "color": "black",
           "width": 2
          },
          "size": 5
         },
         "mode": "lines+markers",
         "type": "scatter",
         "x": [
          171953.593002,
          171953.872574,
          171956.442668,
          171953.593002
         ],
         "y": [
          537659.845491,
          537656.269752,
          537640.328465,
          537659.845491
         ]
        },
        {
         "fill": "toself",
         "line": {
          "color": "red"
         },
         "marker": {
          "color": "yellow",
          "line": {
           "color": "black",
           "width": 2
          },
          "size": 5
         },
         "mode": "lines+markers",
         "type": "scatter",
         "x": [
          171973.843289,
          171974.426184,
          171978.771595,
          171973.843289
         ],
         "y": [
          537703.835008,
          537700.794152,
          537682.81683,
          537703.835008
         ]
        },
        {
         "fill": "toself",
         "line": {
          "color": "red"
         },
         "marker": {
          "color": "yellow",
          "line": {
           "color": "black",
           "width": 2
          },
          "size": 5
         },
         "mode": "lines+markers",
         "type": "scatter",
         "x": [
          171950.100713,
          171950.21364,
          171951.29863,
          171952.015242,
          171950.100713
         ],
         "y": [
          537703.102269,
          537699.848285,
          537689.190565,
          537680.025082,
          537703.102269
         ]
        },
        {
         "fill": "toself",
         "line": {
          "color": "red"
         },
         "marker": {
          "color": "yellow",
          "line": {
           "color": "black",
           "width": 2
          },
          "size": 5
         },
         "mode": "lines+markers",
         "type": "scatter",
         "x": [
          171973.843289,
          171973.506606,
          171972.525289,
          171989.850594,
          171988.869915,
          171971.742962,
          171973.843289
         ],
         "y": [
          537703.835008,
          537705.591426,
          537717.645077,
          537717.645077,
          537723.848478,
          537723.848478,
          537703.835008
         ]
        },
        {
         "fill": "toself",
         "line": {
          "color": "red"
         },
         "marker": {
          "color": "yellow",
          "line": {
           "color": "black",
           "width": 2
          },
          "size": 5
         },
         "mode": "lines+markers",
         "type": "scatter",
         "x": [
          171950.100713,
          171949.788562,
          171948.918957,
          171950.100713
         ],
         "y": [
          537703.102269,
          537712.096919,
          537724.569766,
          537703.102269
         ]
        },
        {
         "fill": "toself",
         "line": {
          "color": "red"
         },
         "marker": {
          "color": "yellow",
          "line": {
           "color": "black",
           "width": 2
          },
          "size": 5
         },
         "mode": "lines+markers",
         "type": "scatter",
         "x": [
          171948.918957,
          171948.918957,
          171948.918957,
          171948.95506,
          171968.704685,
          171971.742962,
          171948.918957
         ],
         "y": [
          537724.569766,
          537732.064321,
          537735.928776,
          537745.169735,
          537745.047968,
          537723.848478,
          537724.569766
         ]
        },
        {
         "fill": "toself",
         "line": {
          "color": "red"
         },
         "marker": {
          "color": "yellow",
          "line": {
           "color": "black",
           "width": 2
          },
          "size": 5
         },
         "mode": "lines+markers",
         "type": "scatter",
         "x": [
          171971.742962,
          171970.924381,
          171948.918957,
          171971.742962
         ],
         "y": [
          537723.848478,
          537723.848478,
          537724.569766,
          537723.848478
         ]
        },
        {
         "fill": "toself",
         "line": {
          "color": "red"
         },
         "marker": {
          "color": "yellow",
          "line": {
           "color": "black",
           "width": 2
          },
          "size": 5
         },
         "mode": "lines+markers",
         "type": "scatter",
         "x": [
          171928.794391,
          171917.252708,
          171902.782467,
          171905.112398,
          171928.794391
         ],
         "y": [
          537583.252704,
          537586.634226,
          537589.504385,
          537607.461755,
          537583.252704
         ]
        },
        {
         "fill": "toself",
         "line": {
          "color": "red"
         },
         "marker": {
          "color": "yellow",
          "line": {
           "color": "black",
           "width": 2
          },
          "size": 5
         },
         "mode": "lines+markers",
         "type": "scatter",
         "x": [
          171928.794391,
          171928.541799,
          171928.53686,
          171928.794391
         ],
         "y": [
          537583.252704,
          537601.365539,
          537601.719715,
          537583.252704
         ]
        },
        {
         "fill": "toself",
         "line": {
          "color": "red"
         },
         "marker": {
          "color": "yellow",
          "line": {
           "color": "black",
           "width": 2
          },
          "size": 5
         },
         "mode": "lines+markers",
         "type": "scatter",
         "x": [
          171923.531511,
          171923.527981,
          171923.531855,
          171923.543126,
          171923.56178,
          171923.587787,
          171923.62111,
          171923.661699,
          171923.709495,
          171923.764428,
          171923.826415,
          171923.895367,
          171923.971181,
          171924.053746,
          171924.142939,
          171924.23863,
          171924.340678,
          171924.448931,
          171924.563231,
          171924.683409,
          171924.809287,
          171924.940681,
          171925.077397,
          171925.219233,
          171925.365979,
          171925.517421,
          171925.673334,
          171925.833489,
          171925.99765,
          171926.165574,
          171926.337015,
          171926.511719,
          171926.689429,
          171926.869884,
          171927.052817,
          171927.237958,
          171927.425035,
          171927.613772,
          171927.803891,
          171927.995111,
          171928.187151,
          171928.379727,
          171928.572557,
          171928.765355,
          171928.957837,
          171929.14972,
          171929.340721,
          171929.530559,
          171929.718953,
          171929.905626,
          171929.905626,
          171906.739929,
          171905.112398,
          171923.531511
         ],
         "y": [
          537606.197501,
          537606.391289,
          537606.585072,
          537606.778561,
          537606.971474,
          537607.163524,
          537607.35443,
          537607.54391,
          537607.731684,
          537607.917475,
          537608.101011,
          537608.28202,
          537608.460235,
          537608.635395,
          537608.80724,
          537608.975517,
          537609.139979,
          537609.300383,
          537609.456493,
          537609.608078,
          537609.754915,
          537609.896788,
          537610.033487,
          537610.164812,
          537610.290568,
          537610.41057,
          537610.524642,
          537610.632614,
          537610.734329,
          537610.829636,
          537610.918394,
          537611.000473,
          537611.075752,
          537611.14412,
          537611.205476,
          537611.25973,
          537611.306801,
          537611.346621,
          537611.37913,
          537611.404281,
          537611.422037,
          537611.432371,
          537611.435269,
          537611.430725,
          537611.418748,
          537611.399353,
          537611.372571,
          537611.338439,
          537611.29701,
          537611.248343,
          537619.14307,
          537621.972743,
          537607.461755,
          537606.197501
         ]
        },
        {
         "fill": "toself",
         "line": {
          "color": "red"
         },
         "marker": {
          "color": "yellow",
          "line": {
           "color": "black",
           "width": 2
          },
          "size": 5
         },
         "mode": "lines+markers",
         "type": "scatter",
         "x": [
          171930.280885,
          171913.062204,
          171909.134502,
          171930.280885
         ],
         "y": [
          537633.331781,
          537632.262847,
          537659.178677,
          537633.331781
         ]
        },
        {
         "fill": "toself",
         "line": {
          "color": "red"
         },
         "marker": {
          "color": "yellow",
          "line": {
           "color": "black",
           "width": 2
          },
          "size": 5
         },
         "mode": "lines+markers",
         "type": "scatter",
         "x": [
          171928.485142,
          171928.557234,
          171928.629161,
          171928.700896,
          171928.77241,
          171928.843676,
          171928.914667,
          171928.985354,
          171929.05571,
          171929.125709,
          171929.195323,
          171929.264524,
          171929.333287,
          171929.401584,
          171929.469389,
          171929.536676,
          171929.603418,
          171929.669591,
          171929.735167,
          171929.800122,
          171929.864431,
          171929.928068,
          171929.99101,
          171930.053231,
          171930.114707,
          171930.175415,
          171930.235331,
          171930.294432,
          171930.352695,
          171930.410098,
          171930.466617,
          171930.522232,
          171930.57692,
          171930.630661,
          171930.683434,
          171930.735217,
          171930.785992,
          171930.835738,
          171930.884437,
          171930.932069,
          171930.978615,
          171931.024059,
          171931.068381,
          171931.111566,
          171931.153596,
          171931.194455,
          171931.234127,
          171931.272597,
          171931.309849,
          171931.34587,
          171942.832237,
          171947.083331,
          171930.280885,
          171928.485142
         ],
         "y": [
          537653.680562,
          537653.688258,
          537653.697379,
          537653.707921,
          537653.719881,
          537653.733253,
          537653.748032,
          537653.764213,
          537653.78179,
          537653.800755,
          537653.821102,
          537653.842821,
          537653.865906,
          537653.890347,
          537653.916134,
          537653.943258,
          537653.971708,
          537654.001473,
          537654.032541,
          537654.064901,
          537654.09854,
          537654.133444,
          537654.169601,
          537654.206996,
          537654.245615,
          537654.285443,
          537654.326464,
          537654.368662,
          537654.412022,
          537654.456526,
          537654.502158,
          537654.548898,
          537654.59673,
          537654.645635,
          537654.695593,
          537654.746586,
          537654.798594,
          537654.851596,
          537654.905572,
          537654.960501,
          537655.016362,
          537655.073133,
          537655.130792,
          537655.189317,
          537655.248685,
          537655.308873,
          537655.369858,
          537655.431616,
          537655.494123,
          537655.557355,
          537656.0227,
          537633.774653,
          537633.331781,
          537653.680562
         ]
        },
        {
         "fill": "toself",
         "line": {
          "color": "red"
         },
         "marker": {
          "color": "yellow",
          "line": {
           "color": "black",
           "width": 2
          },
          "size": 5
         },
         "mode": "lines+markers",
         "type": "scatter",
         "x": [
          171939.88281,
          171941.454806,
          171940.7169,
          171931.21234,
          171931.160424,
          171931.106578,
          171931.050836,
          171930.993233,
          171930.933806,
          171930.872593,
          171930.809634,
          171930.744967,
          171930.678634,
          171930.610678,
          171930.541142,
          171930.47007,
          171930.397507,
          171930.323499,
          171930.248094,
          171930.17134,
          171930.093285,
          171930.013979,
          171929.933473,
          171929.851818,
          171929.769065,
          171929.685269,
          171929.600481,
          171929.514756,
          171929.428149,
          171929.340714,
          171929.252508,
          171929.163586,
          171929.074005,
          171928.983823,
          171928.893096,
          171928.801882,
          171928.71024,
          171928.618228,
          171928.525904,
          171928.433327,
          171928.340556,
          171928.247651,
          171928.154669,
          171928.061672,
          171927.968717,
          171927.875863,
          171927.783171,
          171927.690699,
          171927.598506,
          171927.506651,
          171927.415192,
          171927.324187,
          171927.233694,
          171939.88281
         ],
         "y": [
          537681.955037,
          537662.261744,
          537660.127352,
          537659.365563,
          537659.443111,
          537659.519318,
          537659.594135,
          537659.667515,
          537659.73941,
          537659.809776,
          537659.878567,
          537659.94574,
          537660.011252,
          537660.075061,
          537660.137126,
          537660.197408,
          537660.255868,
          537660.31247,
          537660.367177,
          537660.419955,
          537660.47077,
          537660.519589,
          537660.566381,
          537660.611117,
          537660.653768,
          537660.694307,
          537660.732709,
          537660.768948,
          537660.803001,
          537660.834848,
          537660.864467,
          537660.89184,
          537660.916949,
          537660.939779,
          537660.960315,
          537660.978543,
          537660.994453,
          537661.008034,
          537661.019277,
          537661.028175,
          537661.034723,
          537661.038917,
          537661.040753,
          537661.04023,
          537661.03735,
          537661.032113,
          537661.024523,
          537661.014586,
          537661.002306,
          537660.987693,
          537660.970755,
          537660.951503,
          537660.929949,
          537681.955037
         ]
        },
        {
         "fill": "toself",
         "line": {
          "color": "red"
         },
         "marker": {
          "color": "yellow",
          "line": {
           "color": "black",
           "width": 2
          },
          "size": 5
         },
         "mode": "lines+markers",
         "type": "scatter",
         "x": [
          171905.941861,
          171906.499767,
          171909.134502,
          171905.941861
         ],
         "y": [
          537679.081075,
          537675.60318,
          537659.178677,
          537679.081075
         ]
        }
       ],
       "layout": {
        "plot_bgcolor": "rgba(0,0,0,0)",
        "showlegend": false,
        "template": {
         "data": {
          "bar": [
           {
            "error_x": {
             "color": "#2a3f5f"
            },
            "error_y": {
             "color": "#2a3f5f"
            },
            "marker": {
             "line": {
              "color": "#E5ECF6",
              "width": 0.5
             },
             "pattern": {
              "fillmode": "overlay",
              "size": 10,
              "solidity": 0.2
             }
            },
            "type": "bar"
           }
          ],
          "barpolar": [
           {
            "marker": {
             "line": {
              "color": "#E5ECF6",
              "width": 0.5
             },
             "pattern": {
              "fillmode": "overlay",
              "size": 10,
              "solidity": 0.2
             }
            },
            "type": "barpolar"
           }
          ],
          "carpet": [
           {
            "aaxis": {
             "endlinecolor": "#2a3f5f",
             "gridcolor": "white",
             "linecolor": "white",
             "minorgridcolor": "white",
             "startlinecolor": "#2a3f5f"
            },
            "baxis": {
             "endlinecolor": "#2a3f5f",
             "gridcolor": "white",
             "linecolor": "white",
             "minorgridcolor": "white",
             "startlinecolor": "#2a3f5f"
            },
            "type": "carpet"
           }
          ],
          "choropleth": [
           {
            "colorbar": {
             "outlinewidth": 0,
             "ticks": ""
            },
            "type": "choropleth"
           }
          ],
          "contour": [
           {
            "colorbar": {
             "outlinewidth": 0,
             "ticks": ""
            },
            "colorscale": [
             [
              0,
              "#0d0887"
             ],
             [
              0.1111111111111111,
              "#46039f"
             ],
             [
              0.2222222222222222,
              "#7201a8"
             ],
             [
              0.3333333333333333,
              "#9c179e"
             ],
             [
              0.4444444444444444,
              "#bd3786"
             ],
             [
              0.5555555555555556,
              "#d8576b"
             ],
             [
              0.6666666666666666,
              "#ed7953"
             ],
             [
              0.7777777777777778,
              "#fb9f3a"
             ],
             [
              0.8888888888888888,
              "#fdca26"
             ],
             [
              1,
              "#f0f921"
             ]
            ],
            "type": "contour"
           }
          ],
          "contourcarpet": [
           {
            "colorbar": {
             "outlinewidth": 0,
             "ticks": ""
            },
            "type": "contourcarpet"
           }
          ],
          "heatmap": [
           {
            "colorbar": {
             "outlinewidth": 0,
             "ticks": ""
            },
            "colorscale": [
             [
              0,
              "#0d0887"
             ],
             [
              0.1111111111111111,
              "#46039f"
             ],
             [
              0.2222222222222222,
              "#7201a8"
             ],
             [
              0.3333333333333333,
              "#9c179e"
             ],
             [
              0.4444444444444444,
              "#bd3786"
             ],
             [
              0.5555555555555556,
              "#d8576b"
             ],
             [
              0.6666666666666666,
              "#ed7953"
             ],
             [
              0.7777777777777778,
              "#fb9f3a"
             ],
             [
              0.8888888888888888,
              "#fdca26"
             ],
             [
              1,
              "#f0f921"
             ]
            ],
            "type": "heatmap"
           }
          ],
          "heatmapgl": [
           {
            "colorbar": {
             "outlinewidth": 0,
             "ticks": ""
            },
            "colorscale": [
             [
              0,
              "#0d0887"
             ],
             [
              0.1111111111111111,
              "#46039f"
             ],
             [
              0.2222222222222222,
              "#7201a8"
             ],
             [
              0.3333333333333333,
              "#9c179e"
             ],
             [
              0.4444444444444444,
              "#bd3786"
             ],
             [
              0.5555555555555556,
              "#d8576b"
             ],
             [
              0.6666666666666666,
              "#ed7953"
             ],
             [
              0.7777777777777778,
              "#fb9f3a"
             ],
             [
              0.8888888888888888,
              "#fdca26"
             ],
             [
              1,
              "#f0f921"
             ]
            ],
            "type": "heatmapgl"
           }
          ],
          "histogram": [
           {
            "marker": {
             "pattern": {
              "fillmode": "overlay",
              "size": 10,
              "solidity": 0.2
             }
            },
            "type": "histogram"
           }
          ],
          "histogram2d": [
           {
            "colorbar": {
             "outlinewidth": 0,
             "ticks": ""
            },
            "colorscale": [
             [
              0,
              "#0d0887"
             ],
             [
              0.1111111111111111,
              "#46039f"
             ],
             [
              0.2222222222222222,
              "#7201a8"
             ],
             [
              0.3333333333333333,
              "#9c179e"
             ],
             [
              0.4444444444444444,
              "#bd3786"
             ],
             [
              0.5555555555555556,
              "#d8576b"
             ],
             [
              0.6666666666666666,
              "#ed7953"
             ],
             [
              0.7777777777777778,
              "#fb9f3a"
             ],
             [
              0.8888888888888888,
              "#fdca26"
             ],
             [
              1,
              "#f0f921"
             ]
            ],
            "type": "histogram2d"
           }
          ],
          "histogram2dcontour": [
           {
            "colorbar": {
             "outlinewidth": 0,
             "ticks": ""
            },
            "colorscale": [
             [
              0,
              "#0d0887"
             ],
             [
              0.1111111111111111,
              "#46039f"
             ],
             [
              0.2222222222222222,
              "#7201a8"
             ],
             [
              0.3333333333333333,
              "#9c179e"
             ],
             [
              0.4444444444444444,
              "#bd3786"
             ],
             [
              0.5555555555555556,
              "#d8576b"
             ],
             [
              0.6666666666666666,
              "#ed7953"
             ],
             [
              0.7777777777777778,
              "#fb9f3a"
             ],
             [
              0.8888888888888888,
              "#fdca26"
             ],
             [
              1,
              "#f0f921"
             ]
            ],
            "type": "histogram2dcontour"
           }
          ],
          "mesh3d": [
           {
            "colorbar": {
             "outlinewidth": 0,
             "ticks": ""
            },
            "type": "mesh3d"
           }
          ],
          "parcoords": [
           {
            "line": {
             "colorbar": {
              "outlinewidth": 0,
              "ticks": ""
             }
            },
            "type": "parcoords"
           }
          ],
          "pie": [
           {
            "automargin": true,
            "type": "pie"
           }
          ],
          "scatter": [
           {
            "fillpattern": {
             "fillmode": "overlay",
             "size": 10,
             "solidity": 0.2
            },
            "type": "scatter"
           }
          ],
          "scatter3d": [
           {
            "line": {
             "colorbar": {
              "outlinewidth": 0,
              "ticks": ""
             }
            },
            "marker": {
             "colorbar": {
              "outlinewidth": 0,
              "ticks": ""
             }
            },
            "type": "scatter3d"
           }
          ],
          "scattercarpet": [
           {
            "marker": {
             "colorbar": {
              "outlinewidth": 0,
              "ticks": ""
             }
            },
            "type": "scattercarpet"
           }
          ],
          "scattergeo": [
           {
            "marker": {
             "colorbar": {
              "outlinewidth": 0,
              "ticks": ""
             }
            },
            "type": "scattergeo"
           }
          ],
          "scattergl": [
           {
            "marker": {
             "colorbar": {
              "outlinewidth": 0,
              "ticks": ""
             }
            },
            "type": "scattergl"
           }
          ],
          "scattermapbox": [
           {
            "marker": {
             "colorbar": {
              "outlinewidth": 0,
              "ticks": ""
             }
            },
            "type": "scattermapbox"
           }
          ],
          "scatterpolar": [
           {
            "marker": {
             "colorbar": {
              "outlinewidth": 0,
              "ticks": ""
             }
            },
            "type": "scatterpolar"
           }
          ],
          "scatterpolargl": [
           {
            "marker": {
             "colorbar": {
              "outlinewidth": 0,
              "ticks": ""
             }
            },
            "type": "scatterpolargl"
           }
          ],
          "scatterternary": [
           {
            "marker": {
             "colorbar": {
              "outlinewidth": 0,
              "ticks": ""
             }
            },
            "type": "scatterternary"
           }
          ],
          "surface": [
           {
            "colorbar": {
             "outlinewidth": 0,
             "ticks": ""
            },
            "colorscale": [
             [
              0,
              "#0d0887"
             ],
             [
              0.1111111111111111,
              "#46039f"
             ],
             [
              0.2222222222222222,
              "#7201a8"
             ],
             [
              0.3333333333333333,
              "#9c179e"
             ],
             [
              0.4444444444444444,
              "#bd3786"
             ],
             [
              0.5555555555555556,
              "#d8576b"
             ],
             [
              0.6666666666666666,
              "#ed7953"
             ],
             [
              0.7777777777777778,
              "#fb9f3a"
             ],
             [
              0.8888888888888888,
              "#fdca26"
             ],
             [
              1,
              "#f0f921"
             ]
            ],
            "type": "surface"
           }
          ],
          "table": [
           {
            "cells": {
             "fill": {
              "color": "#EBF0F8"
             },
             "line": {
              "color": "white"
             }
            },
            "header": {
             "fill": {
              "color": "#C8D4E3"
             },
             "line": {
              "color": "white"
             }
            },
            "type": "table"
           }
          ]
         },
         "layout": {
          "annotationdefaults": {
           "arrowcolor": "#2a3f5f",
           "arrowhead": 0,
           "arrowwidth": 1
          },
          "autotypenumbers": "strict",
          "coloraxis": {
           "colorbar": {
            "outlinewidth": 0,
            "ticks": ""
           }
          },
          "colorscale": {
           "diverging": [
            [
             0,
             "#8e0152"
            ],
            [
             0.1,
             "#c51b7d"
            ],
            [
             0.2,
             "#de77ae"
            ],
            [
             0.3,
             "#f1b6da"
            ],
            [
             0.4,
             "#fde0ef"
            ],
            [
             0.5,
             "#f7f7f7"
            ],
            [
             0.6,
             "#e6f5d0"
            ],
            [
             0.7,
             "#b8e186"
            ],
            [
             0.8,
             "#7fbc41"
            ],
            [
             0.9,
             "#4d9221"
            ],
            [
             1,
             "#276419"
            ]
           ],
           "sequential": [
            [
             0,
             "#0d0887"
            ],
            [
             0.1111111111111111,
             "#46039f"
            ],
            [
             0.2222222222222222,
             "#7201a8"
            ],
            [
             0.3333333333333333,
             "#9c179e"
            ],
            [
             0.4444444444444444,
             "#bd3786"
            ],
            [
             0.5555555555555556,
             "#d8576b"
            ],
            [
             0.6666666666666666,
             "#ed7953"
            ],
            [
             0.7777777777777778,
             "#fb9f3a"
            ],
            [
             0.8888888888888888,
             "#fdca26"
            ],
            [
             1,
             "#f0f921"
            ]
           ],
           "sequentialminus": [
            [
             0,
             "#0d0887"
            ],
            [
             0.1111111111111111,
             "#46039f"
            ],
            [
             0.2222222222222222,
             "#7201a8"
            ],
            [
             0.3333333333333333,
             "#9c179e"
            ],
            [
             0.4444444444444444,
             "#bd3786"
            ],
            [
             0.5555555555555556,
             "#d8576b"
            ],
            [
             0.6666666666666666,
             "#ed7953"
            ],
            [
             0.7777777777777778,
             "#fb9f3a"
            ],
            [
             0.8888888888888888,
             "#fdca26"
            ],
            [
             1,
             "#f0f921"
            ]
           ]
          },
          "colorway": [
           "#636efa",
           "#EF553B",
           "#00cc96",
           "#ab63fa",
           "#FFA15A",
           "#19d3f3",
           "#FF6692",
           "#B6E880",
           "#FF97FF",
           "#FECB52"
          ],
          "font": {
           "color": "#2a3f5f"
          },
          "geo": {
           "bgcolor": "white",
           "lakecolor": "white",
           "landcolor": "#E5ECF6",
           "showlakes": true,
           "showland": true,
           "subunitcolor": "white"
          },
          "hoverlabel": {
           "align": "left"
          },
          "hovermode": "closest",
          "mapbox": {
           "style": "light"
          },
          "paper_bgcolor": "white",
          "plot_bgcolor": "#E5ECF6",
          "polar": {
           "angularaxis": {
            "gridcolor": "white",
            "linecolor": "white",
            "ticks": ""
           },
           "bgcolor": "#E5ECF6",
           "radialaxis": {
            "gridcolor": "white",
            "linecolor": "white",
            "ticks": ""
           }
          },
          "scene": {
           "xaxis": {
            "backgroundcolor": "#E5ECF6",
            "gridcolor": "white",
            "gridwidth": 2,
            "linecolor": "white",
            "showbackground": true,
            "ticks": "",
            "zerolinecolor": "white"
           },
           "yaxis": {
            "backgroundcolor": "#E5ECF6",
            "gridcolor": "white",
            "gridwidth": 2,
            "linecolor": "white",
            "showbackground": true,
            "ticks": "",
            "zerolinecolor": "white"
           },
           "zaxis": {
            "backgroundcolor": "#E5ECF6",
            "gridcolor": "white",
            "gridwidth": 2,
            "linecolor": "white",
            "showbackground": true,
            "ticks": "",
            "zerolinecolor": "white"
           }
          },
          "shapedefaults": {
           "line": {
            "color": "#2a3f5f"
           }
          },
          "ternary": {
           "aaxis": {
            "gridcolor": "white",
            "linecolor": "white",
            "ticks": ""
           },
           "baxis": {
            "gridcolor": "white",
            "linecolor": "white",
            "ticks": ""
           },
           "bgcolor": "#E5ECF6",
           "caxis": {
            "gridcolor": "white",
            "linecolor": "white",
            "ticks": ""
           }
          },
          "title": {
           "x": 0.05
          },
          "xaxis": {
           "automargin": true,
           "gridcolor": "white",
           "linecolor": "white",
           "ticks": "",
           "title": {
            "standoff": 15
           },
           "zerolinecolor": "white",
           "zerolinewidth": 2
          },
          "yaxis": {
           "automargin": true,
           "gridcolor": "white",
           "linecolor": "white",
           "ticks": "",
           "title": {
            "standoff": 15
           },
           "zerolinecolor": "white",
           "zerolinewidth": 2
          }
         }
        },
        "title": {
         "text": "Parcels AFTER cleaning"
        },
        "xaxis": {
         "linecolor": "black",
         "linewidth": 2,
         "mirror": true,
         "showline": true,
         "title": {
          "text": "X"
         }
        },
        "yaxis": {
         "linecolor": "black",
         "linewidth": 2,
         "mirror": true,
         "showline": true,
         "title": {
          "text": "Y"
         }
        }
       }
      },
      "text/html": [
       "<div>                            <div id=\"8207038d-415a-456c-a2f4-e5cc57b031c8\" class=\"plotly-graph-div\" style=\"height:525px; width:100%;\"></div>            <script type=\"text/javascript\">                require([\"plotly\"], function(Plotly) {                    window.PLOTLYENV=window.PLOTLYENV || {};                                    if (document.getElementById(\"8207038d-415a-456c-a2f4-e5cc57b031c8\")) {                    Plotly.newPlot(                        \"8207038d-415a-456c-a2f4-e5cc57b031c8\",                        [{\"fill\":\"toself\",\"line\":{\"color\":\"red\"},\"marker\":{\"color\":\"yellow\",\"line\":{\"color\":\"black\",\"width\":2},\"size\":5},\"mode\":\"lines+markers\",\"x\":[170046.65637,170066.587734,170070.83203,170050.449669,170046.65637],\"y\":[538690.045987,538688.175476,538723.180446,538724.830588,538690.045987],\"type\":\"scatter\"},{\"fill\":\"toself\",\"line\":{\"color\":\"red\"},\"marker\":{\"color\":\"yellow\",\"line\":{\"color\":\"black\",\"width\":2},\"size\":5},\"mode\":\"lines+markers\",\"x\":[171224.668458,171224.279405,171199.580555,171199.819632,171224.668458],\"y\":[538406.148439,538420.893308,538420.654904,538405.906842,538406.148439],\"type\":\"scatter\"},{\"fill\":\"toself\",\"line\":{\"color\":\"red\"},\"marker\":{\"color\":\"yellow\",\"line\":{\"color\":\"black\",\"width\":2},\"size\":5},\"mode\":\"lines+markers\",\"x\":[171199.819632,171200.062807,171225.061608,171224.668458,171199.819632],\"y\":[538405.906842,538391.258861,538391.503716,538406.148439,538405.906842],\"type\":\"scatter\"},{\"fill\":\"toself\",\"line\":{\"color\":\"red\"},\"marker\":{\"color\":\"yellow\",\"line\":{\"color\":\"black\",\"width\":2},\"size\":5},\"mode\":\"lines+markers\",\"x\":[170183.167126,170204.063814,170201.735737,170198.350324,170186.160369,170182.407537,170176.149767,170180.791655,170181.896448,170183.167126,170204.063814,170183.167126],\"y\":[538714.070966,538712.399288,538683.793868,538649.912583,538651.228644,538652.132109,538656.625052,538691.387763,538700.70102,538714.070966,538712.399288,538714.070966],\"type\":\"scatter\"},{\"fill\":\"toself\",\"line\":{\"color\":\"red\"},\"marker\":{\"color\":\"yellow\",\"line\":{\"color\":\"black\",\"width\":2},\"size\":5},\"mode\":\"lines+markers\",\"x\":[170293.56042,170309.159291,170309.201129,170293.709443,170293.56042],\"y\":[538643.770641,538643.582948,538655.679345,538655.171734,538643.770641],\"type\":\"scatter\"},{\"fill\":\"toself\",\"line\":{\"color\":\"red\"},\"marker\":{\"color\":\"yellow\",\"line\":{\"color\":\"black\",\"width\":2},\"size\":5},\"mode\":\"lines+markers\",\"x\":[170071.340676,170070.830888,170051.394551,170051.904152,170071.340676],\"y\":[538742.428337,538733.167357,538734.741778,538743.999367,538742.428337],\"type\":\"scatter\"},{\"fill\":\"toself\",\"line\":{\"color\":\"red\"},\"marker\":{\"color\":\"yellow\",\"line\":{\"color\":\"black\",\"width\":2},\"size\":5},\"mode\":\"lines+markers\",\"x\":[170071.340676,170071.850464,170052.414127,170051.904152,170071.340676],\"y\":[538742.428337,538751.689316,538753.263737,538743.999367,538742.428337],\"type\":\"scatter\"},{\"fill\":\"toself\",\"line\":{\"color\":\"red\"},\"marker\":{\"color\":\"yellow\",\"line\":{\"color\":\"black\",\"width\":2},\"size\":5},\"mode\":\"lines+markers\",\"x\":[170051.65908,170037.646025,170031.06338,170031.142129,170050.813292,170051.65908],\"y\":[538743.264492,538744.282718,538744.76103,538732.911292,538731.845774,538743.264492],\"type\":\"scatter\"},{\"fill\":\"toself\",\"line\":{\"color\":\"red\"},\"marker\":{\"color\":\"yellow\",\"line\":{\"color\":\"black\",\"width\":2},\"size\":5},\"mode\":\"lines+markers\",\"x\":[170204.82632,170183.352758,170183.263711,170183.167126,170204.063814,170204.82632],\"y\":[538721.768311,538723.526397,538715.066363,538714.070966,538712.399288,538721.768311],\"type\":\"scatter\"},{\"fill\":\"toself\",\"line\":{\"color\":\"red\"},\"marker\":{\"color\":\"yellow\",\"line\":{\"color\":\"black\",\"width\":2},\"size\":5},\"mode\":\"lines+markers\",\"x\":[171674.197054,171614.8389,171611.760407,171674.197054],\"y\":[537153.768269,537130.830938,537116.433421,537153.768269],\"type\":\"scatter\"},{\"fill\":\"toself\",\"line\":{\"color\":\"red\"},\"marker\":{\"color\":\"yellow\",\"line\":{\"color\":\"black\",\"width\":2},\"size\":5},\"mode\":\"lines+markers\",\"x\":[171830.686928,171837.132896,171832.568319,171826.276299,171830.686928],\"y\":[538170.09286,538169.205228,538145.835692,538146.93286,538170.09286],\"type\":\"scatter\"},{\"fill\":\"toself\",\"line\":{\"color\":\"red\"},\"marker\":{\"color\":\"yellow\",\"line\":{\"color\":\"black\",\"width\":2},\"size\":5},\"mode\":\"lines+markers\",\"x\":[171786.640429,171790.45216,171797.650737,171793.606866,171786.640429],\"y\":[538154.03342,538174.619051,538173.897817,538152.769545,538154.03342],\"type\":\"scatter\"},{\"fill\":\"toself\",\"line\":{\"color\":\"red\"},\"marker\":{\"color\":\"yellow\",\"line\":{\"color\":\"black\",\"width\":2},\"size\":5},\"mode\":\"lines+markers\",\"x\":[171732.023551,171740.174723,171744.676697,171736.448468,171732.023551],\"y\":[538163.8527,538162.307249,538180.663236,538181.752386,538163.8527],\"type\":\"scatter\"},{\"fill\":\"toself\",\"line\":{\"color\":\"red\"},\"marker\":{\"color\":\"yellow\",\"line\":{\"color\":\"black\",\"width\":2},\"size\":5},\"mode\":\"lines+markers\",\"x\":[171723.705471,171732.023551,171736.448468,171728.319374,171723.705471],\"y\":[538165.429796,538163.8527,538181.752386,538182.828414,538165.429796],\"type\":\"scatter\"},{\"fill\":\"toself\",\"line\":{\"color\":\"red\"},\"marker\":{\"color\":\"yellow\",\"line\":{\"color\":\"black\",\"width\":2},\"size\":5},\"mode\":\"lines+markers\",\"x\":[171736.448468,171728.319374,171723.705471,171732.023551,171736.448468],\"y\":[538181.752386,538182.828414,538165.429796,538163.8527,538181.752386],\"type\":\"scatter\"},{\"fill\":\"toself\",\"line\":{\"color\":\"red\"},\"marker\":{\"color\":\"yellow\",\"line\":{\"color\":\"black\",\"width\":2},\"size\":5},\"mode\":\"lines+markers\",\"x\":[171824.183343,171830.686928,171826.276299,171819.904853,171824.183343],\"y\":[538170.914203,538170.09286,538146.93286,538148.059063,538170.914203],\"type\":\"scatter\"},{\"fill\":\"toself\",\"line\":{\"color\":\"red\"},\"marker\":{\"color\":\"yellow\",\"line\":{\"color\":\"black\",\"width\":2},\"size\":5},\"mode\":\"lines+markers\",\"x\":[171824.183343,171817.94125,171813.72273,171819.904853,171824.183343],\"y\":[538170.914203,538171.48782,538149.09526,538148.059063,538170.914203],\"type\":\"scatter\"},{\"fill\":\"toself\",\"line\":{\"color\":\"red\"},\"marker\":{\"color\":\"yellow\",\"line\":{\"color\":\"black\",\"width\":2},\"size\":5},\"mode\":\"lines+markers\",\"x\":[171764.454842,171768.071718,171775.916555,171772.111607,171764.454842],\"y\":[538158.098762,538177.147408,538176.42386,538156.697358,538158.098762],\"type\":\"scatter\"},{\"fill\":\"toself\",\"line\":{\"color\":\"red\"},\"marker\":{\"color\":\"yellow\",\"line\":{\"color\":\"black\",\"width\":2},\"size\":5},\"mode\":\"lines+markers\",\"x\":[171636.066317,171625.981317,171629.832304,171639.919797,171636.066317],\"y\":[537793.226904,537795.766904,537809.683926,537807.153612,537793.226904],\"type\":\"scatter\"},{\"fill\":\"toself\",\"line\":{\"color\":\"red\"},\"marker\":{\"color\":\"yellow\",\"line\":{\"color\":\"black\",\"width\":2},\"size\":5},\"mode\":\"lines+markers\",\"x\":[171625.981317,171629.832304,171639.919797,171636.066317,171625.981317],\"y\":[537795.766904,537809.683926,537807.153612,537793.226904,537795.766904],\"type\":\"scatter\"},{\"fill\":\"toself\",\"line\":{\"color\":\"red\"},\"marker\":{\"color\":\"yellow\",\"line\":{\"color\":\"black\",\"width\":2},\"size\":5},\"mode\":\"lines+markers\",\"x\":[171657.480268,171670.65764,171667.748898,171654.913723,171657.480268],\"y\":[537786.473158,537783.109104,537771.983044,537775.468484,537786.473158],\"type\":\"scatter\"},{\"fill\":\"toself\",\"line\":{\"color\":\"red\"},\"marker\":{\"color\":\"yellow\",\"line\":{\"color\":\"black\",\"width\":2},\"size\":5},\"mode\":\"lines+markers\",\"x\":[171667.748898,171654.913724,171657.480269,171670.657641,171667.748898],\"y\":[537771.983044,537775.468484,537786.473158,537783.109104,537771.983044],\"type\":\"scatter\"},{\"fill\":\"toself\",\"line\":{\"color\":\"red\"},\"marker\":{\"color\":\"yellow\",\"line\":{\"color\":\"black\",\"width\":2},\"size\":5},\"mode\":\"lines+markers\",\"x\":[171636.066317,171639.952482,171650.025949,171646.447588,171636.066317],\"y\":[537793.226904,537807.001029,537804.249838,537790.605941,537793.226904],\"type\":\"scatter\"},{\"fill\":\"toself\",\"line\":{\"color\":\"red\"},\"marker\":{\"color\":\"yellow\",\"line\":{\"color\":\"black\",\"width\":2},\"size\":5},\"mode\":\"lines+markers\",\"x\":[171636.349006,171646.076108,171649.668198,171639.63105,171636.349006],\"y\":[537812.552448,537809.948629,537825.296708,537827.444973,537812.552448],\"type\":\"scatter\"},{\"fill\":\"toself\",\"line\":{\"color\":\"red\"},\"marker\":{\"color\":\"yellow\",\"line\":{\"color\":\"black\",\"width\":2},\"size\":5},\"mode\":\"lines+markers\",\"x\":[171616.006913,171629.832304,171625.981317,171619.732744,171616.006913],\"y\":[537813.133185,537809.683926,537795.766904,537797.557249,537813.133185],\"type\":\"scatter\"},{\"fill\":\"toself\",\"line\":{\"color\":\"red\"},\"marker\":{\"color\":\"yellow\",\"line\":{\"color\":\"black\",\"width\":2},\"size\":5},\"mode\":\"lines+markers\",\"x\":[171683.559942,171695.596199,171692.611088,171680.473374,171683.559942],\"y\":[537780.045133,537777.063772,537764.925439,537768.30714,537780.045133],\"type\":\"scatter\"},{\"fill\":\"toself\",\"line\":{\"color\":\"red\"},\"marker\":{\"color\":\"yellow\",\"line\":{\"color\":\"black\",\"width\":2},\"size\":5},\"mode\":\"lines+markers\",\"x\":[171260.846088,171273.311554,171273.750194,171261.180233,171260.846088],\"y\":[538421.601947,538421.853917,538402.214876,538401.844481,538421.601947],\"type\":\"scatter\"},{\"fill\":\"toself\",\"line\":{\"color\":\"red\"},\"marker\":{\"color\":\"yellow\",\"line\":{\"color\":\"black\",\"width\":2},\"size\":5},\"mode\":\"lines+markers\",\"x\":[171681.056566,171677.359323,171688.768606,171692.166537,171681.056566],\"y\":[537796.178681,537782.689479,537779.699301,537793.159055,537796.178681],\"type\":\"scatter\"},{\"fill\":\"toself\",\"line\":{\"color\":\"red\"},\"marker\":{\"color\":\"yellow\",\"line\":{\"color\":\"black\",\"width\":2},\"size\":5},\"mode\":\"lines+markers\",\"x\":[171806.185848,171818.920386,171813.8962,171806.185848],\"y\":[537602.634019,537600.281565,537577.529696,537602.634019],\"type\":\"scatter\"},{\"fill\":\"toself\",\"line\":{\"color\":\"red\"},\"marker\":{\"color\":\"yellow\",\"line\":{\"color\":\"black\",\"width\":2},\"size\":5},\"mode\":\"lines+markers\",\"x\":[171794.97658,171800.236507,171806.185848,171794.97658],\"y\":[537581.342571,537603.733041,537602.634019,537581.342571],\"type\":\"scatter\"},{\"fill\":\"toself\",\"line\":{\"color\":\"red\"},\"marker\":{\"color\":\"yellow\",\"line\":{\"color\":\"black\",\"width\":2},\"size\":5},\"mode\":\"lines+markers\",\"x\":[171744.676697,171752.68545,171748.132947,171740.174723,171744.676697],\"y\":[538180.663236,538179.450853,538160.798382,538162.307249,538180.663236],\"type\":\"scatter\"},{\"fill\":\"toself\",\"line\":{\"color\":\"red\"},\"marker\":{\"color\":\"yellow\",\"line\":{\"color\":\"black\",\"width\":2},\"size\":5},\"mode\":\"lines+markers\",\"x\":[171775.916555,171783.241709,171779.500058,171772.111607,171775.916555],\"y\":[538176.42386,538175.498328,538155.35327,538156.697358,538176.42386],\"type\":\"scatter\"},{\"fill\":\"toself\",\"line\":{\"color\":\"red\"},\"marker\":{\"color\":\"yellow\",\"line\":{\"color\":\"black\",\"width\":2},\"size\":5},\"mode\":\"lines+markers\",\"x\":[171670.207342,171681.056566,171677.359323,171666.506902,171670.207342],\"y\":[537799.1766,537796.178681,537782.689479,537785.531206,537799.1766],\"type\":\"scatter\"},{\"fill\":\"toself\",\"line\":{\"color\":\"red\"},\"marker\":{\"color\":\"yellow\",\"line\":{\"color\":\"black\",\"width\":2},\"size\":5},\"mode\":\"lines+markers\",\"x\":[171659.721309,171669.141479,171665.204004,171655.751592,171659.721309],\"y\":[537823.44692,537820.938975,537804.843729,537807.575415,537823.44692],\"type\":\"scatter\"},{\"fill\":\"toself\",\"line\":{\"color\":\"red\"},\"marker\":{\"color\":\"yellow\",\"line\":{\"color\":\"black\",\"width\":2},\"size\":5},\"mode\":\"lines+markers\",\"x\":[171806.345494,171798.858937,171780.588797,171787.456039,171806.345494],\"y\":[537544.832855,537514.492882,537518.924806,537549.410926,537544.832855],\"type\":\"scatter\"},{\"fill\":\"toself\",\"line\":{\"color\":\"red\"},\"marker\":{\"color\":\"yellow\",\"line\":{\"color\":\"black\",\"width\":2},\"size\":5},\"mode\":\"lines+markers\",\"x\":[171806.345494,171809.447923,171790.301825,171787.456039,171806.345494],\"y\":[537544.832855,537557.40574,537562.044373,537549.410926,537544.832855],\"type\":\"scatter\"},{\"fill\":\"toself\",\"line\":{\"color\":\"red\"},\"marker\":{\"color\":\"yellow\",\"line\":{\"color\":\"black\",\"width\":2},\"size\":5},\"mode\":\"lines+markers\",\"x\":[171780.588797,171777.947348,171795.975244,171798.858937,171780.588797],\"y\":[537518.924806,537503.053107,537499.371398,537514.492882,537518.924806],\"type\":\"scatter\"},{\"fill\":\"toself\",\"line\":{\"color\":\"red\"},\"marker\":{\"color\":\"yellow\",\"line\":{\"color\":\"black\",\"width\":2},\"size\":5},\"mode\":\"lines+markers\",\"x\":[171281.849513,171273.750194,171273.303622,171281.40293,171281.849513],\"y\":[538402.31991,538402.214876,538422.209028,538422.314924,538402.31991],\"type\":\"scatter\"},{\"fill\":\"toself\",\"line\":{\"color\":\"red\"},\"marker\":{\"color\":\"yellow\",\"line\":{\"color\":\"black\",\"width\":2},\"size\":5},\"mode\":\"lines+markers\",\"x\":[171281.40293,171289.602229,171289.84884,171281.849513,171281.40293],\"y\":[538422.314924,538422.422127,538402.423648,538402.31991,538422.314924],\"type\":\"scatter\"},{\"fill\":\"toself\",\"line\":{\"color\":\"red\"},\"marker\":{\"color\":\"yellow\",\"line\":{\"color\":\"black\",\"width\":2},\"size\":5},\"mode\":\"lines+markers\",\"x\":[171928.494912,171934.022173,171939.82157,171932.441159,171928.494912],\"y\":[537525.06253,537526.820193,537569.124531,537573.105846,537525.06253],\"type\":\"scatter\"},{\"fill\":\"toself\",\"line\":{\"color\":\"red\"},\"marker\":{\"color\":\"yellow\",\"line\":{\"color\":\"black\",\"width\":2},\"size\":5},\"mode\":\"lines+markers\",\"x\":[171928.494912,171920.299317,171925.145071,171932.441159,171928.494912],\"y\":[537525.06253,537522.456339,537577.041673,537573.105846,537525.06253],\"type\":\"scatter\"},{\"fill\":\"toself\",\"line\":{\"color\":\"red\"},\"marker\":{\"color\":\"yellow\",\"line\":{\"color\":\"black\",\"width\":2},\"size\":5},\"mode\":\"lines+markers\",\"x\":[171889.033118,171890.592385,171879.383752,171877.595783,171889.033118],\"y\":[537649.043173,537661.991465,537662.58958,537649.45336,537649.043173],\"type\":\"scatter\"},{\"fill\":\"toself\",\"line\":{\"color\":\"red\"},\"marker\":{\"color\":\"yellow\",\"line\":{\"color\":\"black\",\"width\":2},\"size\":5},\"mode\":\"lines+markers\",\"x\":[171874.757358,171877.595783,171889.033118,171886.255755,171874.757358],\"y\":[537628.672224,537649.45336,537649.043173,537626.609979,537628.672224],\"type\":\"scatter\"},{\"fill\":\"toself\",\"line\":{\"color\":\"red\"},\"marker\":{\"color\":\"yellow\",\"line\":{\"color\":\"black\",\"width\":2},\"size\":5},\"mode\":\"lines+markers\",\"x\":[171908.013523,171930.948304,171929.905626,171908.924118,171908.013523],\"y\":[537632.408083,537631.748314,537619.14307,537621.698132,537632.408083],\"type\":\"scatter\"},{\"fill\":\"toself\",\"line\":{\"color\":\"red\"},\"marker\":{\"color\":\"yellow\",\"line\":{\"color\":\"black\",\"width\":2},\"size\":5},\"mode\":\"lines+markers\",\"x\":[171858.655807,171884.805419,171891.563412,171867.999292,171858.655807],\"y\":[537498.715165,537508.01217,537586.686941,537589.814164,537498.715165],\"type\":\"scatter\"},{\"fill\":\"toself\",\"line\":{\"color\":\"red\"},\"marker\":{\"color\":\"yellow\",\"line\":{\"color\":\"black\",\"width\":2},\"size\":5},\"mode\":\"lines+markers\",\"x\":[171442.23095,171442.927286,171452.088643,171451.805161,171442.23095],\"y\":[538424.589582,538405.526685,538405.885859,538424.702756,538424.589582],\"type\":\"scatter\"},{\"fill\":\"toself\",\"line\":{\"color\":\"red\"},\"marker\":{\"color\":\"yellow\",\"line\":{\"color\":\"black\",\"width\":2},\"size\":5},\"mode\":\"lines+markers\",\"x\":[171817.94125,171811.53179,171807.242091,171813.72273,171817.94125],\"y\":[538171.48782,538172.076817,538150.181491,538149.09526,538171.48782],\"type\":\"scatter\"},{\"fill\":\"toself\",\"line\":{\"color\":\"red\"},\"marker\":{\"color\":\"yellow\",\"line\":{\"color\":\"black\",\"width\":2},\"size\":5},\"mode\":\"lines+markers\",\"x\":[171641.875793,171644.269872,171619.911011,171622.824449,171641.875793],\"y\":[537779.200062,537789.693934,537796.310895,537784.775949,537779.200062],\"type\":\"scatter\"},{\"fill\":\"toself\",\"line\":{\"color\":\"red\"},\"marker\":{\"color\":\"yellow\",\"line\":{\"color\":\"black\",\"width\":2},\"size\":5},\"mode\":\"lines+markers\",\"x\":[171797.650737,171804.691558,171800.416504,171793.606866,171797.650737],\"y\":[538173.897817,538172.983035,538151.508747,538152.769545,538173.897817],\"type\":\"scatter\"},{\"fill\":\"toself\",\"line\":{\"color\":\"red\"},\"marker\":{\"color\":\"yellow\",\"line\":{\"color\":\"black\",\"width\":2},\"size\":5},\"mode\":\"lines+markers\",\"x\":[169999.689091,169999.296533,169924.074664,169918.666673,169999.689091],\"y\":[538743.541972,538708.747772,538711.856201,538738.692623,538743.541972],\"type\":\"scatter\"},{\"fill\":\"toself\",\"line\":{\"color\":\"red\"},\"marker\":{\"color\":\"yellow\",\"line\":{\"color\":\"black\",\"width\":2},\"size\":5},\"mode\":\"lines+markers\",\"x\":[171906.912233,171890.135007,171888.172671,171908.924118,171908.013523,171906.912233],\"y\":[537640.510019,537640.250384,537624.307142,537621.698132,537632.408083,537640.510019],\"type\":\"scatter\"},{\"fill\":\"toself\",\"line\":{\"color\":\"red\"},\"marker\":{\"color\":\"yellow\",\"line\":{\"color\":\"black\",\"width\":2},\"size\":5},\"mode\":\"lines+markers\",\"x\":[172709.445324,172692.859657,172693.146343,172712.38014,172711.005767,172710.392754,172709.445324],\"y\":[538110.189487,538107.344396,538096.020449,538099.193473,538104.538918,538106.746933,538110.189487],\"type\":\"scatter\"},{\"fill\":\"toself\",\"line\":{\"color\":\"red\"},\"marker\":{\"color\":\"yellow\",\"line\":{\"color\":\"black\",\"width\":2},\"size\":5},\"mode\":\"lines+markers\",\"x\":[173265.529818,173265.18358,173265.173523,173265.529818],\"y\":[537953.784875,537944.819423,537944.820535,537953.784875],\"type\":\"scatter\"},{\"fill\":\"toself\",\"line\":{\"color\":\"red\"},\"marker\":{\"color\":\"yellow\",\"line\":{\"color\":\"black\",\"width\":2},\"size\":5},\"mode\":\"lines+markers\",\"x\":[173245.205148,173246.359771,173256.656866,173245.205148],\"y\":[537992.384335,538011.956009,538010.263557,537992.384335],\"type\":\"scatter\"},{\"fill\":\"toself\",\"line\":{\"color\":\"red\"},\"marker\":{\"color\":\"yellow\",\"line\":{\"color\":\"black\",\"width\":2},\"size\":5},\"mode\":\"lines+markers\",\"x\":[173266.356456,173267.429264,173256.656866,173266.356456],\"y\":[537990.257504,538008.466245,538010.263557,537990.257504],\"type\":\"scatter\"},{\"fill\":\"toself\",\"line\":{\"color\":\"red\"},\"marker\":{\"color\":\"yellow\",\"line\":{\"color\":\"black\",\"width\":2},\"size\":5},\"mode\":\"lines+markers\",\"x\":[169919.092324,169918.666673,169999.689091,169999.296533,169924.074664,169919.092324],\"y\":[538736.580388,538738.692623,538743.541972,538708.747772,538711.856201,538736.580388],\"type\":\"scatter\"},{\"fill\":\"toself\",\"line\":{\"color\":\"red\"},\"marker\":{\"color\":\"yellow\",\"line\":{\"color\":\"black\",\"width\":2},\"size\":5},\"mode\":\"lines+markers\",\"x\":[173240.916165,173240.455293,173263.335932,173263.622563,173240.916165],\"y\":[537902.889085,537893.886394,537892.359909,537901.308438,537902.889085],\"type\":\"scatter\"},{\"fill\":\"toself\",\"line\":{\"color\":\"red\"},\"marker\":{\"color\":\"yellow\",\"line\":{\"color\":\"black\",\"width\":2},\"size\":5},\"mode\":\"lines+markers\",\"x\":[173242.237698,173241.793223,173264.40005,173264.691911,173242.237698],\"y\":[537929.192308,537920.471474,537918.572169,537927.281081,537929.192308],\"type\":\"scatter\"},{\"fill\":\"toself\",\"line\":{\"color\":\"red\"},\"marker\":{\"color\":\"yellow\",\"line\":{\"color\":\"black\",\"width\":2},\"size\":5},\"mode\":\"lines+markers\",\"x\":[169211.420947,169179.723434,169184.434033,169212.441224,169211.420947],\"y\":[536992.5298,536991.734593,536890.713973,536893.087563,536992.5298],\"type\":\"scatter\"},{\"fill\":\"toself\",\"line\":{\"color\":\"red\"},\"marker\":{\"color\":\"yellow\",\"line\":{\"color\":\"black\",\"width\":2},\"size\":5},\"mode\":\"lines+markers\",\"x\":[171905.941861,171904.929086,171902.705177,171905.941861],\"y\":[537679.081075,537685.480252,537699.531948,537679.081075],\"type\":\"scatter\"},{\"fill\":\"toself\",\"line\":{\"color\":\"red\"},\"marker\":{\"color\":\"yellow\",\"line\":{\"color\":\"black\",\"width\":2},\"size\":5},\"mode\":\"lines+markers\",\"x\":[171923.224118,171923.394189,171923.564502,171923.734918,171923.905295,171924.075492,171924.245368,171924.414782,171924.583593,171924.751663,171924.918851,171925.08502,171925.25003,171925.413747,171925.576033,171925.736756,171925.89578,171926.052976,171926.208212,171926.361359,171926.512292,171926.660885,171926.807014,171926.950559,171927.091401,171927.229423,171927.364511,171927.496553,171927.625439,171927.751063,171927.87332,171927.992109,171928.107333,171928.218895,171928.326702,171928.430667,171928.530702,171928.626724,171928.718654,171928.806417,171928.889938,171928.96915,171929.043986,171929.114384,171929.180286,171929.241638,171929.298388,171929.35049,171929.3979,171929.440579,171938.002713,171939.88281,171923.224118],\"y\":[537697.683265,537697.672306,537697.666271,537697.665165,537697.668988,537697.677739,537697.691409,537697.709987,537697.733458,537697.761802,537697.794996,537697.833012,537697.875819,537697.923382,537697.97566,537698.032611,537698.094188,537698.160339,537698.23101,537698.306141,537698.385672,537698.469535,537698.557662,537698.64998,537698.746411,537698.846877,537698.951293,537699.059573,537699.171628,537699.287365,537699.406688,537699.529498,537699.655693,537699.785169,537699.917818,537700.05353,537700.192194,537700.333694,537700.477913,537700.624731,537700.774027,537700.925677,537701.079556,537701.235536,537701.393487,537701.553279,537701.71478,537701.877856,537702.042371,537702.208189,537702.876408,537681.955037,537697.683265],\"type\":\"scatter\"},{\"fill\":\"toself\",\"line\":{\"color\":\"red\"},\"marker\":{\"color\":\"yellow\",\"line\":{\"color\":\"black\",\"width\":2},\"size\":5},\"mode\":\"lines+markers\",\"x\":[171920.982381,171921.085138,171921.188864,171921.293521,171921.399069,171921.505469,171921.612682,171921.720667,171921.829383,171921.938791,171922.048848,171922.159515,171922.270748,171922.382507,171922.494751,171922.607436,171922.72052,171922.833962,171922.947719,171923.061748,171923.176007,171923.290452,171923.405041,171923.519731,171923.634479,171923.749243,171923.863978,171923.978642,171924.093193,171924.207587,171924.321782,171924.435734,171924.549401,171924.662741,171924.775711,171924.888268,171925.000372,171925.111978,171925.223047,171925.333536,171925.443404,171925.55261,171925.661112,171925.768871,171925.875845,171925.981996,171926.087282,171926.191665,171926.295106,171926.397566,171937.776352,171936.659275,171920.982381],\"y\":[537708.881543,537708.932905,537708.98226,537709.029588,537709.074873,537709.118096,537709.159242,537709.198295,537709.235241,537709.270066,537709.302757,537709.333301,537709.361688,537709.387906,537709.411946,537709.433798,537709.453455,537709.47091,537709.486155,537709.499184,537709.509994,537709.51858,537709.524939,537709.529069,537709.530967,537709.530633,537709.528068,537709.523271,537709.516246,537709.506995,537709.49552,537709.481828,537709.465921,537709.447808,537709.427493,537709.404985,537709.380293,537709.353426,537709.324393,537709.293205,537709.259875,537709.224414,537709.186837,537709.147156,537709.105387,537709.061546,537709.015649,537708.967712,537708.917755,537708.865796,537709.844552,537726.177412,537708.881543],\"type\":\"scatter\"},{\"fill\":\"toself\",\"line\":{\"color\":\"red\"},\"marker\":{\"color\":\"yellow\",\"line\":{\"color\":\"black\",\"width\":2},\"size\":5},\"mode\":\"lines+markers\",\"x\":[171920.982381,171918.028673,171918.4023,171920.982381],\"y\":[537708.881543,537705.41303,537700.880829,537708.881543],\"type\":\"scatter\"},{\"fill\":\"toself\",\"line\":{\"color\":\"red\"},\"marker\":{\"color\":\"yellow\",\"line\":{\"color\":\"black\",\"width\":2},\"size\":5},\"mode\":\"lines+markers\",\"x\":[171936.659275,171937.587359,171917.817113,171936.659275],\"y\":[537726.177412,537749.381203,537751.958225,537726.177412],\"type\":\"scatter\"},{\"fill\":\"toself\",\"line\":{\"color\":\"red\"},\"marker\":{\"color\":\"yellow\",\"line\":{\"color\":\"black\",\"width\":2},\"size\":5},\"mode\":\"lines+markers\",\"x\":[171868.653559,171849.852518,171853.992404,171858.081179,171872.761379,171868.653559],\"y\":[537731.608403,537735.278789,537761.774898,537760.003785,537757.059848,537731.608403],\"type\":\"scatter\"},{\"fill\":\"toself\",\"line\":{\"color\":\"red\"},\"marker\":{\"color\":\"yellow\",\"line\":{\"color\":\"black\",\"width\":2},\"size\":5},\"mode\":\"lines+markers\",\"x\":[171878.496448,171879.060809,171879.501976,171840.064294,171836.53547,171834.145878,171848.712052,171848.52942,171848.389456,171848.292845,171848.240062,171848.231366,171848.266799,171848.346188,171848.469142,171848.63506,171848.843126,171849.092322,171849.381423,171849.709012,171850.073483,171850.473047,171850.905744,171851.369453,171851.861898,171852.380663,171852.923205,171853.486862,171854.06887,171854.666372,171855.276439,171855.896078,171856.522249,171857.151882,171857.781887,171858.409174,171859.030667,171859.643317,171860.244118,171860.830124,171861.39846,171861.946338,171862.471071,171862.970085,171863.440933,171863.881304,171864.289038,171864.662137,171864.998768,171865.297282,171865.556214,171865.774294,171865.950452,171866.083824,171866.173755,171866.219806,171874.573729,171878.496448],\"y\":[537794.936993,537798.853655,537801.704204,537807.25766,537784.721815,537769.918742,537767.257936,537767.864155,537768.481735,537769.107645,537769.738816,537770.372152,537771.004546,537771.632897,537772.254121,537772.865172,537773.463052,537774.044829,537774.60765,537775.148752,537775.665482,537776.155306,537776.615821,537777.044767,537777.440041,537777.799705,537778.121992,537778.405324,537778.648309,537778.849757,537779.008679,537779.124295,537779.196038,537779.223557,537779.206716,537779.145598,537779.040503,537778.891947,537778.700657,537778.467573,537778.193837,537777.880793,537777.529976,537777.143106,537776.722082,537776.268968,537775.785988,537775.27551,537774.740038,537774.182199,537773.604729,537773.010462,537772.40231,537771.783259,537771.156344,537769.245322,537767.713331,537794.936993],\"type\":\"scatter\"},{\"fill\":\"toself\",\"line\":{\"color\":\"red\"},\"marker\":{\"color\":\"yellow\",\"line\":{\"color\":\"black\",\"width\":2},\"size\":5},\"mode\":\"lines+markers\",\"x\":[171930.079036,171943.482868,171944.773655,171931.758235,171930.079036],\"y\":[537759.530264,537758.467878,537789.472977,537790.607621,537759.530264],\"type\":\"scatter\"},{\"fill\":\"toself\",\"line\":{\"color\":\"red\"},\"marker\":{\"color\":\"yellow\",\"line\":{\"color\":\"black\",\"width\":2},\"size\":5},\"mode\":\"lines+markers\",\"x\":[171928.794391,171928.850417,171950.760823,171950.675496,171932.150639,171932.096132,171932.04031,171931.983203,171931.924837,171931.865242,171931.804444,171931.742475,171931.679364,171931.615142,171931.549839,171931.483489,171931.416121,171931.347771,171931.278469,171931.208251,171931.13715,171931.065201,171930.992437,171930.918896,171930.844612,171930.769621,171930.69396,171930.617666,171930.540775,171930.463324,171930.385352,171930.306895,171930.227993,171930.148682,171930.069003,171929.988993,171929.908691,171929.828135,171929.747366,171929.666422,171929.585343,171929.504167,171929.422934,171929.341684,171929.260456,171929.179289,171929.098222,171929.017295,171928.936547,171928.856018,171928.775745,171928.695769,171928.616128,171928.53686,171928.794391],\"y\":[537583.252704,537579.235196,537573.346767,537600.472558,537602.871236,537602.81068,537602.751344,537602.693258,537602.636449,537602.580945,537602.526774,537602.47396,537602.422531,537602.37251,537602.323923,537602.276792,537602.23114,537602.18699,537602.144364,537602.10328,537602.063761,537602.025824,537601.989488,537601.954771,537601.921689,537601.890259,537601.860496,537601.832414,537601.806027,537601.781348,537601.758388,537601.737159,537601.717671,537601.699933,537601.683955,537601.669743,537601.657305,537601.646647,537601.637773,537601.630689,537601.625397,537601.621901,537601.620202,537601.6203,537601.622196,537601.625888,537601.631376,537601.638656,537601.647724,537601.658577,537601.67121,537601.685615,537601.701786,537601.719715,537583.252704],\"type\":\"scatter\"},{\"fill\":\"toself\",\"line\":{\"color\":\"red\"},\"marker\":{\"color\":\"yellow\",\"line\":{\"color\":\"black\",\"width\":2},\"size\":5},\"mode\":\"lines+markers\",\"x\":[171966.018107,171961.138842,171977.88962,171977.956797,171978.024491,171978.092685,171978.161362,171978.230503,171978.300091,171978.370109,171978.440536,171978.511357,171978.582552,171978.654104,171978.725992,171978.7982,171978.870709,171978.943499,171979.016552,171979.08985,171979.163372,171979.237101,171979.311017,171979.385102,171979.459336,171979.533699,171979.608173,171979.682739,171979.757378,171979.832069,171979.906794,171979.981534,171980.056269,171980.130981,171980.205648,171980.280254,171980.354778,171980.4292,171980.503503,171980.577666,171980.651671,171980.725499,171980.799129,171980.872545,171980.945725,171981.018653,171981.091308,171981.163672,171981.235727,171981.307454,171981.378834,171981.449849,171985.338134,171966.018107],\"y\":[537596.994019,537614.626264,537616.000153,537615.967225,537615.935385,537615.904641,537615.875002,537615.846475,537615.819068,537615.792787,537615.76764,537615.743633,537615.720772,537615.699063,537615.678511,537615.659122,537615.640901,537615.623853,537615.607982,537615.593292,537615.579786,537615.567469,537615.556344,537615.546413,537615.537679,537615.530144,537615.52381,537615.518679,537615.514752,537615.51203,537615.510515,537615.510205,537615.511101,537615.513204,537615.516512,537615.521025,537615.526741,537615.533659,537615.541778,537615.551095,537615.561607,537615.573313,537615.586208,537615.60029,537615.615556,537615.632,537615.649619,537615.668409,537615.688364,537615.709479,537615.73175,537615.755169,537601.334114,537596.994019],\"type\":\"scatter\"},{\"fill\":\"toself\",\"line\":{\"color\":\"red\"},\"marker\":{\"color\":\"yellow\",\"line\":{\"color\":\"black\",\"width\":2},\"size\":5},\"mode\":\"lines+markers\",\"x\":[171999.811346,171999.742335,172000.589151,172001.591752,172002.485971,172003.769113,171996.971396,171999.811346],\"y\":[537603.907303,537605.933848,537608.135848,537609.280246,537609.582867,537609.685389,537624.84535,537603.907303],\"type\":\"scatter\"},{\"fill\":\"toself\",\"line\":{\"color\":\"red\"},\"marker\":{\"color\":\"yellow\",\"line\":{\"color\":\"black\",\"width\":2},\"size\":5},\"mode\":\"lines+markers\",\"x\":[171999.811346,171997.911413,171990.826698,171981.08924,171977.257113,171972.656386,171970.500652,171966.018107,171999.811346],\"y\":[537603.907303,537598.287654,537576.351748,537574.092897,537575.096839,537577.442734,537579.595859,537596.994019,537603.907303],\"type\":\"scatter\"},{\"fill\":\"toself\",\"line\":{\"color\":\"red\"},\"marker\":{\"color\":\"yellow\",\"line\":{\"color\":\"black\",\"width\":2},\"size\":5},\"mode\":\"lines+markers\",\"x\":[171956.442668,171959.878658,171975.312553,171975.310941,171975.311657,171975.314699,171975.320066,171975.327756,171975.337764,171975.350085,171975.364714,171975.381643,171975.400863,171975.422364,171975.446137,171975.472169,171975.500447,171975.530956,171975.563682,171975.598608,171975.635717,171975.674989,171975.716406,171975.759946,171975.805588,171975.853309,171975.903084,171975.954888,171976.008697,171976.064482,171976.122216,171976.18187,171976.243414,171976.306816,171976.372046,171976.43907,171976.507855,171976.578366,171976.650568,171976.724424,171976.799898,171976.876952,171976.955546,171977.035643,171977.1172,171977.200178,171977.284535,171977.370228,171977.457215,171977.545452,171977.634894,171977.725496,171956.442668],\"y\":[537640.328465,537619.016365,537620.031727,537620.136108,537620.240499,537620.344848,537620.449102,537620.55321,537620.657118,537620.760774,537620.864127,537620.967125,537621.069716,537621.171848,537621.273471,537621.374533,537621.474984,537621.574772,537621.673849,537621.772164,537621.869668,537621.966313,537622.062048,537622.156828,537622.250603,537622.343327,537622.434954,537622.525437,537622.614731,537622.702791,537622.789573,537622.875034,537622.95913,537623.041819,537623.12306,537623.202813,537623.281036,537623.357691,537623.43274,537623.506144,537623.577867,537623.647873,537623.716126,537623.782593,537623.84724,537623.910035,537623.970946,537624.029942,537624.086994,537624.142074,537624.195153,537624.246206,537640.328465],\"type\":\"scatter\"},{\"fill\":\"toself\",\"line\":{\"color\":\"red\"},\"marker\":{\"color\":\"yellow\",\"line\":{\"color\":\"black\",\"width\":2},\"size\":5},\"mode\":\"lines+markers\",\"x\":[171953.593002,171953.872574,171956.442668,171953.593002],\"y\":[537659.845491,537656.269752,537640.328465,537659.845491],\"type\":\"scatter\"},{\"fill\":\"toself\",\"line\":{\"color\":\"red\"},\"marker\":{\"color\":\"yellow\",\"line\":{\"color\":\"black\",\"width\":2},\"size\":5},\"mode\":\"lines+markers\",\"x\":[171973.843289,171974.426184,171978.771595,171973.843289],\"y\":[537703.835008,537700.794152,537682.81683,537703.835008],\"type\":\"scatter\"},{\"fill\":\"toself\",\"line\":{\"color\":\"red\"},\"marker\":{\"color\":\"yellow\",\"line\":{\"color\":\"black\",\"width\":2},\"size\":5},\"mode\":\"lines+markers\",\"x\":[171950.100713,171950.21364,171951.29863,171952.015242,171950.100713],\"y\":[537703.102269,537699.848285,537689.190565,537680.025082,537703.102269],\"type\":\"scatter\"},{\"fill\":\"toself\",\"line\":{\"color\":\"red\"},\"marker\":{\"color\":\"yellow\",\"line\":{\"color\":\"black\",\"width\":2},\"size\":5},\"mode\":\"lines+markers\",\"x\":[171973.843289,171973.506606,171972.525289,171989.850594,171988.869915,171971.742962,171973.843289],\"y\":[537703.835008,537705.591426,537717.645077,537717.645077,537723.848478,537723.848478,537703.835008],\"type\":\"scatter\"},{\"fill\":\"toself\",\"line\":{\"color\":\"red\"},\"marker\":{\"color\":\"yellow\",\"line\":{\"color\":\"black\",\"width\":2},\"size\":5},\"mode\":\"lines+markers\",\"x\":[171950.100713,171949.788562,171948.918957,171950.100713],\"y\":[537703.102269,537712.096919,537724.569766,537703.102269],\"type\":\"scatter\"},{\"fill\":\"toself\",\"line\":{\"color\":\"red\"},\"marker\":{\"color\":\"yellow\",\"line\":{\"color\":\"black\",\"width\":2},\"size\":5},\"mode\":\"lines+markers\",\"x\":[171948.918957,171948.918957,171948.918957,171948.95506,171968.704685,171971.742962,171948.918957],\"y\":[537724.569766,537732.064321,537735.928776,537745.169735,537745.047968,537723.848478,537724.569766],\"type\":\"scatter\"},{\"fill\":\"toself\",\"line\":{\"color\":\"red\"},\"marker\":{\"color\":\"yellow\",\"line\":{\"color\":\"black\",\"width\":2},\"size\":5},\"mode\":\"lines+markers\",\"x\":[171971.742962,171970.924381,171948.918957,171971.742962],\"y\":[537723.848478,537723.848478,537724.569766,537723.848478],\"type\":\"scatter\"},{\"fill\":\"toself\",\"line\":{\"color\":\"red\"},\"marker\":{\"color\":\"yellow\",\"line\":{\"color\":\"black\",\"width\":2},\"size\":5},\"mode\":\"lines+markers\",\"x\":[171928.794391,171917.252708,171902.782467,171905.112398,171928.794391],\"y\":[537583.252704,537586.634226,537589.504385,537607.461755,537583.252704],\"type\":\"scatter\"},{\"fill\":\"toself\",\"line\":{\"color\":\"red\"},\"marker\":{\"color\":\"yellow\",\"line\":{\"color\":\"black\",\"width\":2},\"size\":5},\"mode\":\"lines+markers\",\"x\":[171928.794391,171928.541799,171928.53686,171928.794391],\"y\":[537583.252704,537601.365539,537601.719715,537583.252704],\"type\":\"scatter\"},{\"fill\":\"toself\",\"line\":{\"color\":\"red\"},\"marker\":{\"color\":\"yellow\",\"line\":{\"color\":\"black\",\"width\":2},\"size\":5},\"mode\":\"lines+markers\",\"x\":[171923.531511,171923.527981,171923.531855,171923.543126,171923.56178,171923.587787,171923.62111,171923.661699,171923.709495,171923.764428,171923.826415,171923.895367,171923.971181,171924.053746,171924.142939,171924.23863,171924.340678,171924.448931,171924.563231,171924.683409,171924.809287,171924.940681,171925.077397,171925.219233,171925.365979,171925.517421,171925.673334,171925.833489,171925.99765,171926.165574,171926.337015,171926.511719,171926.689429,171926.869884,171927.052817,171927.237958,171927.425035,171927.613772,171927.803891,171927.995111,171928.187151,171928.379727,171928.572557,171928.765355,171928.957837,171929.14972,171929.340721,171929.530559,171929.718953,171929.905626,171929.905626,171906.739929,171905.112398,171923.531511],\"y\":[537606.197501,537606.391289,537606.585072,537606.778561,537606.971474,537607.163524,537607.35443,537607.54391,537607.731684,537607.917475,537608.101011,537608.28202,537608.460235,537608.635395,537608.80724,537608.975517,537609.139979,537609.300383,537609.456493,537609.608078,537609.754915,537609.896788,537610.033487,537610.164812,537610.290568,537610.41057,537610.524642,537610.632614,537610.734329,537610.829636,537610.918394,537611.000473,537611.075752,537611.14412,537611.205476,537611.25973,537611.306801,537611.346621,537611.37913,537611.404281,537611.422037,537611.432371,537611.435269,537611.430725,537611.418748,537611.399353,537611.372571,537611.338439,537611.29701,537611.248343,537619.14307,537621.972743,537607.461755,537606.197501],\"type\":\"scatter\"},{\"fill\":\"toself\",\"line\":{\"color\":\"red\"},\"marker\":{\"color\":\"yellow\",\"line\":{\"color\":\"black\",\"width\":2},\"size\":5},\"mode\":\"lines+markers\",\"x\":[171930.280885,171913.062204,171909.134502,171930.280885],\"y\":[537633.331781,537632.262847,537659.178677,537633.331781],\"type\":\"scatter\"},{\"fill\":\"toself\",\"line\":{\"color\":\"red\"},\"marker\":{\"color\":\"yellow\",\"line\":{\"color\":\"black\",\"width\":2},\"size\":5},\"mode\":\"lines+markers\",\"x\":[171928.485142,171928.557234,171928.629161,171928.700896,171928.77241,171928.843676,171928.914667,171928.985354,171929.05571,171929.125709,171929.195323,171929.264524,171929.333287,171929.401584,171929.469389,171929.536676,171929.603418,171929.669591,171929.735167,171929.800122,171929.864431,171929.928068,171929.99101,171930.053231,171930.114707,171930.175415,171930.235331,171930.294432,171930.352695,171930.410098,171930.466617,171930.522232,171930.57692,171930.630661,171930.683434,171930.735217,171930.785992,171930.835738,171930.884437,171930.932069,171930.978615,171931.024059,171931.068381,171931.111566,171931.153596,171931.194455,171931.234127,171931.272597,171931.309849,171931.34587,171942.832237,171947.083331,171930.280885,171928.485142],\"y\":[537653.680562,537653.688258,537653.697379,537653.707921,537653.719881,537653.733253,537653.748032,537653.764213,537653.78179,537653.800755,537653.821102,537653.842821,537653.865906,537653.890347,537653.916134,537653.943258,537653.971708,537654.001473,537654.032541,537654.064901,537654.09854,537654.133444,537654.169601,537654.206996,537654.245615,537654.285443,537654.326464,537654.368662,537654.412022,537654.456526,537654.502158,537654.548898,537654.59673,537654.645635,537654.695593,537654.746586,537654.798594,537654.851596,537654.905572,537654.960501,537655.016362,537655.073133,537655.130792,537655.189317,537655.248685,537655.308873,537655.369858,537655.431616,537655.494123,537655.557355,537656.0227,537633.774653,537633.331781,537653.680562],\"type\":\"scatter\"},{\"fill\":\"toself\",\"line\":{\"color\":\"red\"},\"marker\":{\"color\":\"yellow\",\"line\":{\"color\":\"black\",\"width\":2},\"size\":5},\"mode\":\"lines+markers\",\"x\":[171939.88281,171941.454806,171940.7169,171931.21234,171931.160424,171931.106578,171931.050836,171930.993233,171930.933806,171930.872593,171930.809634,171930.744967,171930.678634,171930.610678,171930.541142,171930.47007,171930.397507,171930.323499,171930.248094,171930.17134,171930.093285,171930.013979,171929.933473,171929.851818,171929.769065,171929.685269,171929.600481,171929.514756,171929.428149,171929.340714,171929.252508,171929.163586,171929.074005,171928.983823,171928.893096,171928.801882,171928.71024,171928.618228,171928.525904,171928.433327,171928.340556,171928.247651,171928.154669,171928.061672,171927.968717,171927.875863,171927.783171,171927.690699,171927.598506,171927.506651,171927.415192,171927.324187,171927.233694,171939.88281],\"y\":[537681.955037,537662.261744,537660.127352,537659.365563,537659.443111,537659.519318,537659.594135,537659.667515,537659.73941,537659.809776,537659.878567,537659.94574,537660.011252,537660.075061,537660.137126,537660.197408,537660.255868,537660.31247,537660.367177,537660.419955,537660.47077,537660.519589,537660.566381,537660.611117,537660.653768,537660.694307,537660.732709,537660.768948,537660.803001,537660.834848,537660.864467,537660.89184,537660.916949,537660.939779,537660.960315,537660.978543,537660.994453,537661.008034,537661.019277,537661.028175,537661.034723,537661.038917,537661.040753,537661.04023,537661.03735,537661.032113,537661.024523,537661.014586,537661.002306,537660.987693,537660.970755,537660.951503,537660.929949,537681.955037],\"type\":\"scatter\"},{\"fill\":\"toself\",\"line\":{\"color\":\"red\"},\"marker\":{\"color\":\"yellow\",\"line\":{\"color\":\"black\",\"width\":2},\"size\":5},\"mode\":\"lines+markers\",\"x\":[171905.941861,171906.499767,171909.134502,171905.941861],\"y\":[537679.081075,537675.60318,537659.178677,537679.081075],\"type\":\"scatter\"}],                        {\"template\":{\"data\":{\"histogram2dcontour\":[{\"type\":\"histogram2dcontour\",\"colorbar\":{\"outlinewidth\":0,\"ticks\":\"\"},\"colorscale\":[[0.0,\"#0d0887\"],[0.1111111111111111,\"#46039f\"],[0.2222222222222222,\"#7201a8\"],[0.3333333333333333,\"#9c179e\"],[0.4444444444444444,\"#bd3786\"],[0.5555555555555556,\"#d8576b\"],[0.6666666666666666,\"#ed7953\"],[0.7777777777777778,\"#fb9f3a\"],[0.8888888888888888,\"#fdca26\"],[1.0,\"#f0f921\"]]}],\"choropleth\":[{\"type\":\"choropleth\",\"colorbar\":{\"outlinewidth\":0,\"ticks\":\"\"}}],\"histogram2d\":[{\"type\":\"histogram2d\",\"colorbar\":{\"outlinewidth\":0,\"ticks\":\"\"},\"colorscale\":[[0.0,\"#0d0887\"],[0.1111111111111111,\"#46039f\"],[0.2222222222222222,\"#7201a8\"],[0.3333333333333333,\"#9c179e\"],[0.4444444444444444,\"#bd3786\"],[0.5555555555555556,\"#d8576b\"],[0.6666666666666666,\"#ed7953\"],[0.7777777777777778,\"#fb9f3a\"],[0.8888888888888888,\"#fdca26\"],[1.0,\"#f0f921\"]]}],\"heatmap\":[{\"type\":\"heatmap\",\"colorbar\":{\"outlinewidth\":0,\"ticks\":\"\"},\"colorscale\":[[0.0,\"#0d0887\"],[0.1111111111111111,\"#46039f\"],[0.2222222222222222,\"#7201a8\"],[0.3333333333333333,\"#9c179e\"],[0.4444444444444444,\"#bd3786\"],[0.5555555555555556,\"#d8576b\"],[0.6666666666666666,\"#ed7953\"],[0.7777777777777778,\"#fb9f3a\"],[0.8888888888888888,\"#fdca26\"],[1.0,\"#f0f921\"]]}],\"heatmapgl\":[{\"type\":\"heatmapgl\",\"colorbar\":{\"outlinewidth\":0,\"ticks\":\"\"},\"colorscale\":[[0.0,\"#0d0887\"],[0.1111111111111111,\"#46039f\"],[0.2222222222222222,\"#7201a8\"],[0.3333333333333333,\"#9c179e\"],[0.4444444444444444,\"#bd3786\"],[0.5555555555555556,\"#d8576b\"],[0.6666666666666666,\"#ed7953\"],[0.7777777777777778,\"#fb9f3a\"],[0.8888888888888888,\"#fdca26\"],[1.0,\"#f0f921\"]]}],\"contourcarpet\":[{\"type\":\"contourcarpet\",\"colorbar\":{\"outlinewidth\":0,\"ticks\":\"\"}}],\"contour\":[{\"type\":\"contour\",\"colorbar\":{\"outlinewidth\":0,\"ticks\":\"\"},\"colorscale\":[[0.0,\"#0d0887\"],[0.1111111111111111,\"#46039f\"],[0.2222222222222222,\"#7201a8\"],[0.3333333333333333,\"#9c179e\"],[0.4444444444444444,\"#bd3786\"],[0.5555555555555556,\"#d8576b\"],[0.6666666666666666,\"#ed7953\"],[0.7777777777777778,\"#fb9f3a\"],[0.8888888888888888,\"#fdca26\"],[1.0,\"#f0f921\"]]}],\"surface\":[{\"type\":\"surface\",\"colorbar\":{\"outlinewidth\":0,\"ticks\":\"\"},\"colorscale\":[[0.0,\"#0d0887\"],[0.1111111111111111,\"#46039f\"],[0.2222222222222222,\"#7201a8\"],[0.3333333333333333,\"#9c179e\"],[0.4444444444444444,\"#bd3786\"],[0.5555555555555556,\"#d8576b\"],[0.6666666666666666,\"#ed7953\"],[0.7777777777777778,\"#fb9f3a\"],[0.8888888888888888,\"#fdca26\"],[1.0,\"#f0f921\"]]}],\"mesh3d\":[{\"type\":\"mesh3d\",\"colorbar\":{\"outlinewidth\":0,\"ticks\":\"\"}}],\"scatter\":[{\"fillpattern\":{\"fillmode\":\"overlay\",\"size\":10,\"solidity\":0.2},\"type\":\"scatter\"}],\"parcoords\":[{\"type\":\"parcoords\",\"line\":{\"colorbar\":{\"outlinewidth\":0,\"ticks\":\"\"}}}],\"scatterpolargl\":[{\"type\":\"scatterpolargl\",\"marker\":{\"colorbar\":{\"outlinewidth\":0,\"ticks\":\"\"}}}],\"bar\":[{\"error_x\":{\"color\":\"#2a3f5f\"},\"error_y\":{\"color\":\"#2a3f5f\"},\"marker\":{\"line\":{\"color\":\"#E5ECF6\",\"width\":0.5},\"pattern\":{\"fillmode\":\"overlay\",\"size\":10,\"solidity\":0.2}},\"type\":\"bar\"}],\"scattergeo\":[{\"type\":\"scattergeo\",\"marker\":{\"colorbar\":{\"outlinewidth\":0,\"ticks\":\"\"}}}],\"scatterpolar\":[{\"type\":\"scatterpolar\",\"marker\":{\"colorbar\":{\"outlinewidth\":0,\"ticks\":\"\"}}}],\"histogram\":[{\"marker\":{\"pattern\":{\"fillmode\":\"overlay\",\"size\":10,\"solidity\":0.2}},\"type\":\"histogram\"}],\"scattergl\":[{\"type\":\"scattergl\",\"marker\":{\"colorbar\":{\"outlinewidth\":0,\"ticks\":\"\"}}}],\"scatter3d\":[{\"type\":\"scatter3d\",\"line\":{\"colorbar\":{\"outlinewidth\":0,\"ticks\":\"\"}},\"marker\":{\"colorbar\":{\"outlinewidth\":0,\"ticks\":\"\"}}}],\"scattermapbox\":[{\"type\":\"scattermapbox\",\"marker\":{\"colorbar\":{\"outlinewidth\":0,\"ticks\":\"\"}}}],\"scatterternary\":[{\"type\":\"scatterternary\",\"marker\":{\"colorbar\":{\"outlinewidth\":0,\"ticks\":\"\"}}}],\"scattercarpet\":[{\"type\":\"scattercarpet\",\"marker\":{\"colorbar\":{\"outlinewidth\":0,\"ticks\":\"\"}}}],\"carpet\":[{\"aaxis\":{\"endlinecolor\":\"#2a3f5f\",\"gridcolor\":\"white\",\"linecolor\":\"white\",\"minorgridcolor\":\"white\",\"startlinecolor\":\"#2a3f5f\"},\"baxis\":{\"endlinecolor\":\"#2a3f5f\",\"gridcolor\":\"white\",\"linecolor\":\"white\",\"minorgridcolor\":\"white\",\"startlinecolor\":\"#2a3f5f\"},\"type\":\"carpet\"}],\"table\":[{\"cells\":{\"fill\":{\"color\":\"#EBF0F8\"},\"line\":{\"color\":\"white\"}},\"header\":{\"fill\":{\"color\":\"#C8D4E3\"},\"line\":{\"color\":\"white\"}},\"type\":\"table\"}],\"barpolar\":[{\"marker\":{\"line\":{\"color\":\"#E5ECF6\",\"width\":0.5},\"pattern\":{\"fillmode\":\"overlay\",\"size\":10,\"solidity\":0.2}},\"type\":\"barpolar\"}],\"pie\":[{\"automargin\":true,\"type\":\"pie\"}]},\"layout\":{\"autotypenumbers\":\"strict\",\"colorway\":[\"#636efa\",\"#EF553B\",\"#00cc96\",\"#ab63fa\",\"#FFA15A\",\"#19d3f3\",\"#FF6692\",\"#B6E880\",\"#FF97FF\",\"#FECB52\"],\"font\":{\"color\":\"#2a3f5f\"},\"hovermode\":\"closest\",\"hoverlabel\":{\"align\":\"left\"},\"paper_bgcolor\":\"white\",\"plot_bgcolor\":\"#E5ECF6\",\"polar\":{\"bgcolor\":\"#E5ECF6\",\"angularaxis\":{\"gridcolor\":\"white\",\"linecolor\":\"white\",\"ticks\":\"\"},\"radialaxis\":{\"gridcolor\":\"white\",\"linecolor\":\"white\",\"ticks\":\"\"}},\"ternary\":{\"bgcolor\":\"#E5ECF6\",\"aaxis\":{\"gridcolor\":\"white\",\"linecolor\":\"white\",\"ticks\":\"\"},\"baxis\":{\"gridcolor\":\"white\",\"linecolor\":\"white\",\"ticks\":\"\"},\"caxis\":{\"gridcolor\":\"white\",\"linecolor\":\"white\",\"ticks\":\"\"}},\"coloraxis\":{\"colorbar\":{\"outlinewidth\":0,\"ticks\":\"\"}},\"colorscale\":{\"sequential\":[[0.0,\"#0d0887\"],[0.1111111111111111,\"#46039f\"],[0.2222222222222222,\"#7201a8\"],[0.3333333333333333,\"#9c179e\"],[0.4444444444444444,\"#bd3786\"],[0.5555555555555556,\"#d8576b\"],[0.6666666666666666,\"#ed7953\"],[0.7777777777777778,\"#fb9f3a\"],[0.8888888888888888,\"#fdca26\"],[1.0,\"#f0f921\"]],\"sequentialminus\":[[0.0,\"#0d0887\"],[0.1111111111111111,\"#46039f\"],[0.2222222222222222,\"#7201a8\"],[0.3333333333333333,\"#9c179e\"],[0.4444444444444444,\"#bd3786\"],[0.5555555555555556,\"#d8576b\"],[0.6666666666666666,\"#ed7953\"],[0.7777777777777778,\"#fb9f3a\"],[0.8888888888888888,\"#fdca26\"],[1.0,\"#f0f921\"]],\"diverging\":[[0,\"#8e0152\"],[0.1,\"#c51b7d\"],[0.2,\"#de77ae\"],[0.3,\"#f1b6da\"],[0.4,\"#fde0ef\"],[0.5,\"#f7f7f7\"],[0.6,\"#e6f5d0\"],[0.7,\"#b8e186\"],[0.8,\"#7fbc41\"],[0.9,\"#4d9221\"],[1,\"#276419\"]]},\"xaxis\":{\"gridcolor\":\"white\",\"linecolor\":\"white\",\"ticks\":\"\",\"title\":{\"standoff\":15},\"zerolinecolor\":\"white\",\"automargin\":true,\"zerolinewidth\":2},\"yaxis\":{\"gridcolor\":\"white\",\"linecolor\":\"white\",\"ticks\":\"\",\"title\":{\"standoff\":15},\"zerolinecolor\":\"white\",\"automargin\":true,\"zerolinewidth\":2},\"scene\":{\"xaxis\":{\"backgroundcolor\":\"#E5ECF6\",\"gridcolor\":\"white\",\"linecolor\":\"white\",\"showbackground\":true,\"ticks\":\"\",\"zerolinecolor\":\"white\",\"gridwidth\":2},\"yaxis\":{\"backgroundcolor\":\"#E5ECF6\",\"gridcolor\":\"white\",\"linecolor\":\"white\",\"showbackground\":true,\"ticks\":\"\",\"zerolinecolor\":\"white\",\"gridwidth\":2},\"zaxis\":{\"backgroundcolor\":\"#E5ECF6\",\"gridcolor\":\"white\",\"linecolor\":\"white\",\"showbackground\":true,\"ticks\":\"\",\"zerolinecolor\":\"white\",\"gridwidth\":2}},\"shapedefaults\":{\"line\":{\"color\":\"#2a3f5f\"}},\"annotationdefaults\":{\"arrowcolor\":\"#2a3f5f\",\"arrowhead\":0,\"arrowwidth\":1},\"geo\":{\"bgcolor\":\"white\",\"landcolor\":\"#E5ECF6\",\"subunitcolor\":\"white\",\"showland\":true,\"showlakes\":true,\"lakecolor\":\"white\"},\"title\":{\"x\":0.05},\"mapbox\":{\"style\":\"light\"}}},\"xaxis\":{\"title\":{\"text\":\"X\"},\"showline\":true,\"linewidth\":2,\"linecolor\":\"black\",\"mirror\":true},\"yaxis\":{\"title\":{\"text\":\"Y\"},\"showline\":true,\"linewidth\":2,\"linecolor\":\"black\",\"mirror\":true},\"title\":{\"text\":\"Parcels AFTER cleaning\"},\"showlegend\":false,\"plot_bgcolor\":\"rgba(0,0,0,0)\"},                        {\"responsive\": true}                    ).then(function(){\n",
       "                            \n",
       "var gd = document.getElementById('8207038d-415a-456c-a2f4-e5cc57b031c8');\n",
       "var x = new MutationObserver(function (mutations, observer) {{\n",
       "        var display = window.getComputedStyle(gd).display;\n",
       "        if (!display || display === 'none') {{\n",
       "            console.log([gd, 'removed!']);\n",
       "            Plotly.purge(gd);\n",
       "            observer.disconnect();\n",
       "        }}\n",
       "}});\n",
       "\n",
       "// Listen for the removal of the full notebook cells\n",
       "var notebookContainer = gd.closest('#notebook-container');\n",
       "if (notebookContainer) {{\n",
       "    x.observe(notebookContainer, {childList: true});\n",
       "}}\n",
       "\n",
       "// Listen for the clearing of the current output cell\n",
       "var outputEl = gd.closest('.output');\n",
       "if (outputEl) {{\n",
       "    x.observe(outputEl, {childList: true});\n",
       "}}\n",
       "\n",
       "                        })                };                });            </script>        </div>"
      ]
     },
     "metadata": {},
     "output_type": "display_data"
    }
   ],
   "source": [
    "data5 = customFetchAll(\"SELECT id, geotypes, ST_AsText(geom) as geometry from BPN_Test\")\n",
    "# print(data5)\n",
    "plotAfter(data5)\n"
   ]
  },
  {
   "cell_type": "code",
   "execution_count": 123,
   "id": "b2b40f6e",
   "metadata": {},
   "outputs": [],
   "source": [
    "# instanciate the class and methods of geometry  Class\n",
    "\n",
    "### first instanciate the geometry class by filling up the constructor\n",
    "## the sequence is name of the table, coordinate, and the SRID \n",
    "# BPNGeom_line = Geometry(\"BPN\",EgLinestring,\"4326\")\n",
    "# BPNGeom_Poly = Geometry(\"BragaTest\",EgPolygon2,\"4326\")\n",
    "BPNGeom_Poly = Geometry(\"BPN_Test\",Example,\"32748\")\n",
    "\n",
    "\n",
    "## initiate the table \n",
    "# BPNGeom_line = BPNGeom_line.initTable()\n",
    "# BPNGeom_Poly = BPNGeom_Poly.initTable()\n",
    " \n",
    "## delete the current table \n",
    "# BPNGeom_line.deleteTable()\n",
    "# BPNGeom_Poly.deleteTable()\n",
    "\n",
    "## convert the coordinate into Point and insert the each line into the database\n",
    "# BPNPoint = BPNGeom_line.convertPoint()\n",
    "\n",
    "## convert the coordinate into linestring and insert the each line into the database\n",
    "# BPNLine = BPNGeom_line.convertLinestring()\n",
    "\n",
    "## convert the coordinate into Polygon and insert the each line into the database\n",
    "# it only applied when all the coordinate inside the list is morethan 4 \n",
    "# BPNPoly = BPNGeom_Poly.convertPolygon()\n",
    "\n",
    "### Analysis part \n",
    "\n",
    "## these analysis are merely for linestring\n",
    "## to check if there is any duplicate data point\n",
    "# BPNGeom_line.checkDuplicate()\n",
    "\n",
    "## to check the minimum length\n",
    "# BPNGeom_line.checkShortlength()\n",
    "## check if the linestring is not closed\n",
    "# BPNGeom_line.checkIsclosed()\n",
    "## to check if there is intersection between linestring \n",
    "# BPNGeom_line.checkCrosses(\"Linestring\")\n",
    "\n",
    "### these analysis are merely for Polygon\n",
    "## to check if there is any duplicate data point\n",
    "# BPNGeom_Poly.checkDuplicate()\n",
    "\n",
    "## to check the mininmum area\n",
    "# BPNGeom_Poly.checkShortArea()\n",
    "\n",
    "## to check whether the polygon close properly or not (if short degenerate or intersect or over degenerate) will return the last point \n",
    "# BPNGeom_Poly.checkIsValid(\"Polygon\")\n",
    "\n",
    "## to check if there is intersection between polygon \n",
    "# resultCrosses = BPNGeom_Poly.checkCrosses(\"Polygon\")\n",
    "# resultCrosses[1]\n",
    "\n",
    "## to check if there is pseudo node\n",
    "# BPNGeom_Poly.pseudo_node('Polygon')\n",
    "\n",
    "## to check if there is object in a cluster within 1 meter \n",
    "# BPNGeom_Poly.checkCluster()\n",
    "\n",
    "\n",
    "### these part are for analysis implementation(cleaning)\n",
    "## to split intersect polygon\n",
    "# BPNGeom_Poly.splitPolygons(resultCrosses[1])\n",
    "\n",
    "## to resolve short degenerate and self intersect \n",
    "# BPNGeom_Poly.selfIntersect()\n",
    "\n",
    "## to remove duplicate point \n",
    "# BPNGeom_Poly.repeatPoints()\n",
    "\n",
    "## to clean pseudonode\n",
    "# BPNGeom_Poly.cleanPseudoNode(\"Polygon\")\n",
    "\n",
    "## to clean the polygon that has area below 1sqm\n",
    "# BPNGeom_Poly.removeShortArea\n",
    "\n",
    "## to clean the LineString that has length below 1m\n",
    "# BPNGeom_line.removeShortLength\n",
    "\n",
    "\n",
    "# # inspect.table and visualization\n",
    "# BPNGeom_line.inspectTable(BPNGeom_line.customQuery(f\"SELECT * from BPN\"))\n",
    "\n",
    "\n",
    "# BPNGeom_Poly.inspectTable(BPNGeom_Poly.customQuery(f\"SELECT * from BPN\"))\n",
    "\n",
    "# data = BPNGeom_Poly.customFetchAll(\"select id, geotypes, ST_AsText(geom) as geometry from BPNUTM where geotypes='Polygon'\")\n",
    "# print(data)\n",
    "\n",
    "# data2 = BPNGeom_Poly.customFetchAll(\"select id, ST_Area(ST_Transform(geom, 32748),32748) as geometry from BPNUTM \")\n",
    "# print(data2)\n",
    "\n",
    "# data3 = BPNGeom_Poly.customFetchAll(\"SELECT ST_Area(ST_Transform(ST_GeomFromText(ST_AsText(geom), 32748), 32748)) as area from BPNUTM\")\n",
    "# print(data3)\n",
    "\n",
    "\n",
    "# BPNGeom_Poly.wkt2map(data)\n",
    "\n",
    "# data =[(1, 2), (1, 5)]\n",
    "# for r1_id, r2_id in data:\n",
    "#     print(r1_id, r2_id)\n",
    "\n",
    "# cursor.execute(\"INSERT INTO BPN (geotypes, geom) VALUES ('Polygon', ST_GeomFromText('POLYGON((0 10, 0 20, 10 20, 10 10, 0 10))', 4326));\")\n",
    "# conn.commit()\n",
    "\n",
    "# data = BPNGeom_Poly.customFetchAll(\"select id from BPN_Test\")\n",
    "# print(data)\n",
    "\n",
    "# print(\"\")\n",
    "\n",
    "# data4 = BPNGeom_Poly.customFetchAll(\"SELECT ST_Area(ST_Transform(geom, 32748)) as area from BPNUTM where id=1\")\n",
    "# print(data4)\n",
    "\n",
    "# print(\"\")\n",
    "\n",
    "# data5 = BPNGeom_Poly.customFetchAll(\"SELECT ST_Area(ST_Transform(geom, 4326)) as area from BPNUTM where id=3\")\n",
    "# print(data5)\n",
    "\n"
   ]
  }
 ],
 "metadata": {
  "kernelspec": {
   "display_name": "Python 3 (ipykernel)",
   "language": "python",
   "name": "python3"
  },
  "language_info": {
   "codemirror_mode": {
    "name": "ipython",
    "version": 3
   },
   "file_extension": ".py",
   "mimetype": "text/x-python",
   "name": "python",
   "nbconvert_exporter": "python",
   "pygments_lexer": "ipython3",
   "version": "3.9.2"
  }
 },
 "nbformat": 4,
 "nbformat_minor": 5
}
